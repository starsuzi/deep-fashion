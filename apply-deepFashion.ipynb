{
 "cells": [
  {
   "cell_type": "code",
   "execution_count": 1,
   "metadata": {},
   "outputs": [],
   "source": [
    "import numpy as np\n",
    "import pandas as pd\n",
    "import csv\n",
    "import matplotlib.pyplot as plt"
   ]
  },
  {
   "cell_type": "code",
   "execution_count": 2,
   "metadata": {},
   "outputs": [],
   "source": [
    "df_attr_combined = pd.read_csv('./Anno/changed/attr_combined.csv')"
   ]
  },
  {
   "cell_type": "code",
   "execution_count": 3,
   "metadata": {},
   "outputs": [],
   "source": [
    "df_category_combined = pd.read_csv('./Anno/changed/category_combined.csv')\n",
    "df_attr_cloth = pd.read_csv('./Anno/changed/list_attr_cloth.txt', sep = ',') "
   ]
  },
  {
   "cell_type": "code",
   "execution_count": 4,
   "metadata": {},
   "outputs": [
    {
     "name": "stdout",
     "output_type": "stream",
     "text": [
      "category_name\n",
      "Dress          72158\n",
      "Tee            36887\n",
      "Blouse         24557\n",
      "Shorts         19666\n",
      "Tank           15429\n",
      "Skirt          14773\n",
      "Cardigan       13311\n",
      "Sweater        13123\n",
      "Jacket         10467\n",
      "Top            10078\n",
      "Blazer          7495\n",
      "Romper          7408\n",
      "Jeans           7076\n",
      "Jumpsuit        6153\n",
      "Leggings        5013\n",
      "Joggers         4416\n",
      "Hoodie          4048\n",
      "Sweatpants      3048\n",
      "Kimono          2294\n",
      "Coat            2120\n",
      "Cutoffs         1669\n",
      "Sweatshorts     1106\n",
      "Poncho           791\n",
      "Jersey           748\n",
      "Henley           716\n",
      "Parka            676\n",
      "Jeggings         594\n",
      "Chinos           527\n",
      "Culottes         486\n",
      "Trunks           386\n",
      "Button-Down      330\n",
      "Flannel          324\n",
      "Bomber           309\n",
      "Anorak           160\n",
      "Robe             150\n",
      "Turtleneck       146\n",
      "Kaftan           126\n",
      "Peacoat           97\n",
      "Capris            77\n",
      "Onesie            70\n",
      "Caftan            54\n",
      "Gauchos           49\n",
      "Jodhpurs          45\n",
      "Sarong            32\n",
      "Coverup           17\n",
      "Halter            17\n",
      "Name: image_name, dtype: int64\n"
     ]
    }
   ],
   "source": [
    "category_frequency= df_category_combined.groupby(['category_name'])['image_name'].count()\n",
    "category_frequency_sort = category_frequency.sort_values(ascending=False)\n",
    "print(category_frequency_sort)"
   ]
  },
  {
   "cell_type": "code",
   "execution_count": null,
   "metadata": {},
   "outputs": [],
   "source": []
  },
  {
   "cell_type": "code",
   "execution_count": null,
   "metadata": {},
   "outputs": [],
   "source": []
  },
  {
   "cell_type": "code",
   "execution_count": null,
   "metadata": {},
   "outputs": [],
   "source": []
  },
  {
   "cell_type": "code",
   "execution_count": null,
   "metadata": {},
   "outputs": [],
   "source": []
  },
  {
   "cell_type": "code",
   "execution_count": null,
   "metadata": {},
   "outputs": [],
   "source": []
  }
 ],
 "metadata": {
  "kernelspec": {
   "display_name": "Python 3",
   "language": "python",
   "name": "python3"
  },
  "language_info": {
   "codemirror_mode": {
    "name": "ipython",
    "version": 3
   },
   "file_extension": ".py",
   "mimetype": "text/x-python",
   "name": "python",
   "nbconvert_exporter": "python",
   "pygments_lexer": "ipython3",
   "version": "3.7.1"
  }
 },
 "nbformat": 4,
 "nbformat_minor": 2
}
