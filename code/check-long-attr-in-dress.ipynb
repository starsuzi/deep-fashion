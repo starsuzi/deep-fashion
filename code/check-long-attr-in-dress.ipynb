{
 "cells": [
  {
   "cell_type": "code",
   "execution_count": 81,
   "metadata": {},
   "outputs": [],
   "source": [
    "import xml.etree.ElementTree as ET\n",
    "import os"
   ]
  },
  {
   "cell_type": "code",
   "execution_count": 82,
   "metadata": {},
   "outputs": [
    {
     "name": "stdout",
     "output_type": "stream",
     "text": [
      "2622 dress\n",
      "0 dress has long attribute\n"
     ]
    }
   ],
   "source": [
    "rootpath = 'C:\\\\Users\\\\goodman\\\\Desktop\\\\dataset'\n",
    "cnt = 0\n",
    "cnt_long = 0\n",
    "for folder, sub_folders, files in os.walk(rootpath):\n",
    "    for xml_file in files:\n",
    "        if xml_file.endswith('.xml'):\n",
    "            file_path = os.path.join(folder, xml_file)\n",
    "            tree = ET.parse(file_path)\n",
    "\n",
    "            root = tree.getroot()\n",
    "\n",
    "            for annotaion in root:\n",
    "                if annotaion.tag == \"object\":\n",
    "                    for obj in annotaion:\n",
    "                        if obj.tag == 'name' and obj.text == 'dress':\n",
    "                            #print(obj.text)\n",
    "                            #print(file_path)\n",
    "                            cnt = cnt +1\n",
    "                            if obj.tag == 'sleeves' and obj.text == 'long':\n",
    "                                print('long attribute in dress')\n",
    "                                print(file_path)\n",
    "                                cnt_long = cnt_long+1\n",
    "                               #print(obj.tag)\n",
    "                            \n",
    "print(str(cnt)+' dress')\n",
    "print(str(cnt_long)+' dress has long attribute')"
   ]
  },
  {
   "cell_type": "code",
   "execution_count": null,
   "metadata": {},
   "outputs": [],
   "source": []
  }
 ],
 "metadata": {
  "kernelspec": {
   "display_name": "Python 3",
   "language": "python",
   "name": "python3"
  },
  "language_info": {
   "codemirror_mode": {
    "name": "ipython",
    "version": 3
   },
   "file_extension": ".py",
   "mimetype": "text/x-python",
   "name": "python",
   "nbconvert_exporter": "python",
   "pygments_lexer": "ipython3",
   "version": "3.7.1"
  }
 },
 "nbformat": 4,
 "nbformat_minor": 2
}
