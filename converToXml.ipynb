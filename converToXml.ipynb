{
 "cells": [
  {
   "cell_type": "code",
   "execution_count": 1,
   "metadata": {},
   "outputs": [],
   "source": [
    "import pandas as pd\n",
    "import csv\n",
    "import numpy as np"
   ]
  },
  {
   "cell_type": "code",
   "execution_count": 2,
   "metadata": {},
   "outputs": [],
   "source": [
    "df_final= pd.read_csv('./final_attr.csv')"
   ]
  },
  {
   "cell_type": "code",
   "execution_count": 3,
   "metadata": {},
   "outputs": [],
   "source": [
    "df_bbox= pd.read_csv('./Anno/changed/etri/bbox.csv')"
   ]
  },
  {
   "cell_type": "code",
   "execution_count": 4,
   "metadata": {},
   "outputs": [
    {
     "data": {
      "text/html": [
       "<div>\n",
       "<style scoped>\n",
       "    .dataframe tbody tr th:only-of-type {\n",
       "        vertical-align: middle;\n",
       "    }\n",
       "\n",
       "    .dataframe tbody tr th {\n",
       "        vertical-align: top;\n",
       "    }\n",
       "\n",
       "    .dataframe thead th {\n",
       "        text-align: right;\n",
       "    }\n",
       "</style>\n",
       "<table border=\"1\" class=\"dataframe\">\n",
       "  <thead>\n",
       "    <tr style=\"text-align: right;\">\n",
       "      <th></th>\n",
       "      <th>image_name</th>\n",
       "      <th>x_1</th>\n",
       "      <th>y_1</th>\n",
       "      <th>x_2</th>\n",
       "      <th>y_2</th>\n",
       "    </tr>\n",
       "  </thead>\n",
       "  <tbody>\n",
       "    <tr>\n",
       "      <th>0</th>\n",
       "      <td>Sheer_Pleated-Front_Blouse_img_00000001</td>\n",
       "      <td>72</td>\n",
       "      <td>79</td>\n",
       "      <td>232</td>\n",
       "      <td>273</td>\n",
       "    </tr>\n",
       "    <tr>\n",
       "      <th>1</th>\n",
       "      <td>Sheer_Pleated-Front_Blouse_img_00000002</td>\n",
       "      <td>67</td>\n",
       "      <td>59</td>\n",
       "      <td>155</td>\n",
       "      <td>161</td>\n",
       "    </tr>\n",
       "    <tr>\n",
       "      <th>2</th>\n",
       "      <td>Sheer_Pleated-Front_Blouse_img_00000003</td>\n",
       "      <td>65</td>\n",
       "      <td>65</td>\n",
       "      <td>156</td>\n",
       "      <td>200</td>\n",
       "    </tr>\n",
       "    <tr>\n",
       "      <th>3</th>\n",
       "      <td>Sheer_Pleated-Front_Blouse_img_00000004</td>\n",
       "      <td>51</td>\n",
       "      <td>62</td>\n",
       "      <td>167</td>\n",
       "      <td>182</td>\n",
       "    </tr>\n",
       "    <tr>\n",
       "      <th>4</th>\n",
       "      <td>Sheer_Pleated-Front_Blouse_img_00000005</td>\n",
       "      <td>46</td>\n",
       "      <td>88</td>\n",
       "      <td>166</td>\n",
       "      <td>262</td>\n",
       "    </tr>\n",
       "  </tbody>\n",
       "</table>\n",
       "</div>"
      ],
      "text/plain": [
       "                                image_name  x_1  y_1  x_2  y_2\n",
       "0  Sheer_Pleated-Front_Blouse_img_00000001   72   79  232  273\n",
       "1  Sheer_Pleated-Front_Blouse_img_00000002   67   59  155  161\n",
       "2  Sheer_Pleated-Front_Blouse_img_00000003   65   65  156  200\n",
       "3  Sheer_Pleated-Front_Blouse_img_00000004   51   62  167  182\n",
       "4  Sheer_Pleated-Front_Blouse_img_00000005   46   88  166  262"
      ]
     },
     "execution_count": 4,
     "metadata": {},
     "output_type": "execute_result"
    }
   ],
   "source": [
    "df_bbox.head()"
   ]
  },
  {
   "cell_type": "code",
   "execution_count": 5,
   "metadata": {},
   "outputs": [
    {
     "data": {
      "text/html": [
       "<div>\n",
       "<style scoped>\n",
       "    .dataframe tbody tr th:only-of-type {\n",
       "        vertical-align: middle;\n",
       "    }\n",
       "\n",
       "    .dataframe tbody tr th {\n",
       "        vertical-align: top;\n",
       "    }\n",
       "\n",
       "    .dataframe thead th {\n",
       "        text-align: right;\n",
       "    }\n",
       "</style>\n",
       "<table border=\"1\" class=\"dataframe\">\n",
       "  <thead>\n",
       "    <tr style=\"text-align: right;\">\n",
       "      <th></th>\n",
       "      <th>image_name</th>\n",
       "      <th>category_name</th>\n",
       "      <th>pattern</th>\n",
       "      <th>colors</th>\n",
       "      <th>gender</th>\n",
       "      <th>season</th>\n",
       "      <th>sleeves</th>\n",
       "    </tr>\n",
       "  </thead>\n",
       "  <tbody>\n",
       "    <tr>\n",
       "      <th>0</th>\n",
       "      <td>1981_Graphic_Ringer_Tee_img_00000001</td>\n",
       "      <td>shirt</td>\n",
       "      <td>others</td>\n",
       "      <td>NaN</td>\n",
       "      <td>NaN</td>\n",
       "      <td>NaN</td>\n",
       "      <td>NaN</td>\n",
       "    </tr>\n",
       "    <tr>\n",
       "      <th>1</th>\n",
       "      <td>1981_Graphic_Ringer_Tee_img_00000002</td>\n",
       "      <td>shirt</td>\n",
       "      <td>others</td>\n",
       "      <td>NaN</td>\n",
       "      <td>NaN</td>\n",
       "      <td>NaN</td>\n",
       "      <td>NaN</td>\n",
       "    </tr>\n",
       "    <tr>\n",
       "      <th>2</th>\n",
       "      <td>1981_Graphic_Ringer_Tee_img_00000003</td>\n",
       "      <td>shirt</td>\n",
       "      <td>striped</td>\n",
       "      <td>NaN</td>\n",
       "      <td>NaN</td>\n",
       "      <td>NaN</td>\n",
       "      <td>NaN</td>\n",
       "    </tr>\n",
       "    <tr>\n",
       "      <th>3</th>\n",
       "      <td>1981_Graphic_Ringer_Tee_img_00000004</td>\n",
       "      <td>shirt</td>\n",
       "      <td>NaN</td>\n",
       "      <td>NaN</td>\n",
       "      <td>NaN</td>\n",
       "      <td>NaN</td>\n",
       "      <td>NaN</td>\n",
       "    </tr>\n",
       "    <tr>\n",
       "      <th>4</th>\n",
       "      <td>1981_Graphic_Ringer_Tee_img_00000005</td>\n",
       "      <td>shirt</td>\n",
       "      <td>others</td>\n",
       "      <td>NaN</td>\n",
       "      <td>NaN</td>\n",
       "      <td>NaN</td>\n",
       "      <td>NaN</td>\n",
       "    </tr>\n",
       "  </tbody>\n",
       "</table>\n",
       "</div>"
      ],
      "text/plain": [
       "                             image_name category_name  pattern colors gender  \\\n",
       "0  1981_Graphic_Ringer_Tee_img_00000001         shirt   others    NaN    NaN   \n",
       "1  1981_Graphic_Ringer_Tee_img_00000002         shirt   others    NaN    NaN   \n",
       "2  1981_Graphic_Ringer_Tee_img_00000003         shirt  striped    NaN    NaN   \n",
       "3  1981_Graphic_Ringer_Tee_img_00000004         shirt      NaN    NaN    NaN   \n",
       "4  1981_Graphic_Ringer_Tee_img_00000005         shirt   others    NaN    NaN   \n",
       "\n",
       "  season sleeves  \n",
       "0    NaN     NaN  \n",
       "1    NaN     NaN  \n",
       "2    NaN     NaN  \n",
       "3    NaN     NaN  \n",
       "4    NaN     NaN  "
      ]
     },
     "execution_count": 5,
     "metadata": {},
     "output_type": "execute_result"
    }
   ],
   "source": [
    "df_final.head()"
   ]
  },
  {
   "cell_type": "code",
   "execution_count": 6,
   "metadata": {},
   "outputs": [],
   "source": [
    "df_final = df_final.fillna('')"
   ]
  },
  {
   "cell_type": "code",
   "execution_count": 7,
   "metadata": {},
   "outputs": [],
   "source": [
    "df_final_bbox=pd.merge(df_final, df_bbox)"
   ]
  },
  {
   "cell_type": "code",
   "execution_count": 12,
   "metadata": {},
   "outputs": [],
   "source": [
    "lst_img = df_final['image_name'].tolist()"
   ]
  },
  {
   "cell_type": "code",
   "execution_count": 21,
   "metadata": {},
   "outputs": [
    {
     "data": {
      "text/plain": [
       "241442"
      ]
     },
     "execution_count": 21,
     "metadata": {},
     "output_type": "execute_result"
    }
   ],
   "source": [
    "len(lst_img)"
   ]
  },
  {
   "cell_type": "code",
   "execution_count": null,
   "metadata": {},
   "outputs": [],
   "source": [
    "for i,img in enumerate(lst_img):\n",
    "    if '&' in lst_img:\n",
    "        print(img[i])"
   ]
  },
  {
   "cell_type": "code",
   "execution_count": 8,
   "metadata": {},
   "outputs": [],
   "source": [
    "#final_with_bbox.csv\n",
    "file_name = \"final_with_bbox.csv\"\n",
    "df_final_bbox.to_csv(\"./\"+file_name, index=None)"
   ]
  },
  {
   "cell_type": "code",
   "execution_count": 9,
   "metadata": {},
   "outputs": [
    {
     "data": {
      "text/html": [
       "<div>\n",
       "<style scoped>\n",
       "    .dataframe tbody tr th:only-of-type {\n",
       "        vertical-align: middle;\n",
       "    }\n",
       "\n",
       "    .dataframe tbody tr th {\n",
       "        vertical-align: top;\n",
       "    }\n",
       "\n",
       "    .dataframe thead th {\n",
       "        text-align: right;\n",
       "    }\n",
       "</style>\n",
       "<table border=\"1\" class=\"dataframe\">\n",
       "  <thead>\n",
       "    <tr style=\"text-align: right;\">\n",
       "      <th></th>\n",
       "      <th>image_name</th>\n",
       "      <th>category_name</th>\n",
       "      <th>pattern</th>\n",
       "      <th>colors</th>\n",
       "      <th>gender</th>\n",
       "      <th>season</th>\n",
       "      <th>sleeves</th>\n",
       "      <th>x_1</th>\n",
       "      <th>y_1</th>\n",
       "      <th>x_2</th>\n",
       "      <th>y_2</th>\n",
       "    </tr>\n",
       "  </thead>\n",
       "  <tbody>\n",
       "    <tr>\n",
       "      <th>0</th>\n",
       "      <td>1981_Graphic_Ringer_Tee_img_00000001</td>\n",
       "      <td>shirt</td>\n",
       "      <td>others</td>\n",
       "      <td></td>\n",
       "      <td></td>\n",
       "      <td></td>\n",
       "      <td></td>\n",
       "      <td>40</td>\n",
       "      <td>63</td>\n",
       "      <td>167</td>\n",
       "      <td>246</td>\n",
       "    </tr>\n",
       "    <tr>\n",
       "      <th>1</th>\n",
       "      <td>1981_Graphic_Ringer_Tee_img_00000002</td>\n",
       "      <td>shirt</td>\n",
       "      <td>others</td>\n",
       "      <td></td>\n",
       "      <td></td>\n",
       "      <td></td>\n",
       "      <td></td>\n",
       "      <td>51</td>\n",
       "      <td>76</td>\n",
       "      <td>140</td>\n",
       "      <td>183</td>\n",
       "    </tr>\n",
       "    <tr>\n",
       "      <th>2</th>\n",
       "      <td>1981_Graphic_Ringer_Tee_img_00000003</td>\n",
       "      <td>shirt</td>\n",
       "      <td>striped</td>\n",
       "      <td></td>\n",
       "      <td></td>\n",
       "      <td></td>\n",
       "      <td></td>\n",
       "      <td>25</td>\n",
       "      <td>68</td>\n",
       "      <td>147</td>\n",
       "      <td>200</td>\n",
       "    </tr>\n",
       "    <tr>\n",
       "      <th>3</th>\n",
       "      <td>1981_Graphic_Ringer_Tee_img_00000004</td>\n",
       "      <td>shirt</td>\n",
       "      <td></td>\n",
       "      <td></td>\n",
       "      <td></td>\n",
       "      <td></td>\n",
       "      <td></td>\n",
       "      <td>47</td>\n",
       "      <td>91</td>\n",
       "      <td>185</td>\n",
       "      <td>285</td>\n",
       "    </tr>\n",
       "    <tr>\n",
       "      <th>4</th>\n",
       "      <td>1981_Graphic_Ringer_Tee_img_00000005</td>\n",
       "      <td>shirt</td>\n",
       "      <td>others</td>\n",
       "      <td></td>\n",
       "      <td></td>\n",
       "      <td></td>\n",
       "      <td></td>\n",
       "      <td>84</td>\n",
       "      <td>67</td>\n",
       "      <td>218</td>\n",
       "      <td>252</td>\n",
       "    </tr>\n",
       "  </tbody>\n",
       "</table>\n",
       "</div>"
      ],
      "text/plain": [
       "                             image_name category_name  pattern colors gender  \\\n",
       "0  1981_Graphic_Ringer_Tee_img_00000001         shirt   others                 \n",
       "1  1981_Graphic_Ringer_Tee_img_00000002         shirt   others                 \n",
       "2  1981_Graphic_Ringer_Tee_img_00000003         shirt  striped                 \n",
       "3  1981_Graphic_Ringer_Tee_img_00000004         shirt                          \n",
       "4  1981_Graphic_Ringer_Tee_img_00000005         shirt   others                 \n",
       "\n",
       "  season sleeves  x_1  y_1  x_2  y_2  \n",
       "0                  40   63  167  246  \n",
       "1                  51   76  140  183  \n",
       "2                  25   68  147  200  \n",
       "3                  47   91  185  285  \n",
       "4                  84   67  218  252  "
      ]
     },
     "execution_count": 9,
     "metadata": {},
     "output_type": "execute_result"
    }
   ],
   "source": [
    "df_final_bbox.head()"
   ]
  },
  {
   "cell_type": "code",
   "execution_count": 10,
   "metadata": {},
   "outputs": [],
   "source": [
    "df_shirt = df_final_bbox.groupby('category_name').get_group('shirt')"
   ]
  },
  {
   "cell_type": "code",
   "execution_count": 11,
   "metadata": {},
   "outputs": [],
   "source": [
    "df_coat = df_final_bbox.groupby('category_name').get_group('coat')"
   ]
  },
  {
   "cell_type": "code",
   "execution_count": 12,
   "metadata": {},
   "outputs": [],
   "source": [
    "df_dress = df_final_bbox.groupby('category_name').get_group('dress')"
   ]
  },
  {
   "cell_type": "code",
   "execution_count": 13,
   "metadata": {},
   "outputs": [],
   "source": [
    "df_jacket = df_final_bbox.groupby('category_name').get_group('jacket')"
   ]
  },
  {
   "cell_type": "code",
   "execution_count": 14,
   "metadata": {},
   "outputs": [],
   "source": [
    "df_jumper = df_final_bbox.groupby('category_name').get_group('jumper')"
   ]
  },
  {
   "cell_type": "code",
   "execution_count": 15,
   "metadata": {},
   "outputs": [],
   "source": [
    "df_pants = df_final_bbox.groupby('category_name').get_group('pants')"
   ]
  },
  {
   "cell_type": "code",
   "execution_count": 16,
   "metadata": {},
   "outputs": [],
   "source": [
    "df_skirt = df_final_bbox.groupby('category_name').get_group('skirt')"
   ]
  },
  {
   "cell_type": "code",
   "execution_count": 17,
   "metadata": {},
   "outputs": [],
   "source": [
    "df_winterJacket = df_final_bbox.groupby('category_name').get_group('winter jacket')"
   ]
  },
  {
   "cell_type": "code",
   "execution_count": null,
   "metadata": {},
   "outputs": [],
   "source": []
  },
  {
   "cell_type": "code",
   "execution_count": 18,
   "metadata": {},
   "outputs": [],
   "source": [
    "def convert_row(row):\n",
    "    return \"\"\"<?xml version=\"1.0\" encoding=\"utf-8\"?>\n",
    "<annotation>\n",
    "  <folder>{}</folder>\n",
    "  <filename>{}</filename>\n",
    "  <source>\n",
    "    <database></database>\n",
    "    <annotation></annotation>\n",
    "    <image></image>\n",
    "    <flickrid></flickrid> \n",
    "  </source>\n",
    "  <owner>\n",
    "    <flickrid></flickrid>\n",
    "    <name></name>\n",
    "  </owner>    \n",
    "  <size>\n",
    "    <width></width>\n",
    "    <height></height>\n",
    "    <depth>3</depth>\n",
    "  </size>\n",
    "  <segmented></segmented>\n",
    "  <object>\n",
    "    <name>{}</name>\n",
    "    <pose></pose>\n",
    "    <truncated></truncated>\n",
    "    <difficult></difficult>\n",
    "    <bndbox>\n",
    "      <xmin>{}</xmin>\n",
    "      <ymin>{}</ymin>\n",
    "      <xmax>{}</xmax>\n",
    "      <ymax>{}</ymax>\n",
    "    </bndbox>\n",
    "    <attributes>\n",
    "        <colors>{}</colors>\n",
    "        <gender>{}</gender>\n",
    "        <season>{}</season>\n",
    "        <sleeves>{}</sleeves>\n",
    "        <pattern>{}</pattern>\n",
    "        <leg_pose></leg_pose>\n",
    "        <glasses></glasses>\n",
    "    </attributes>\n",
    "  </object>\n",
    "</annotation>\"\"\".format(\n",
    "        row.category_name,\n",
    "        row.image_name,\n",
    "        row.category_name,\n",
    "        row.x_1,row.y_1,row.x_2,row.y_2,\n",
    "        row.colors, row.gender,row.season,row.sleeves, row.pattern  \n",
    "    )\n",
    "\n",
    "#print ('\\n\\n'.join(df_shirt.apply(convert_row, axis=1)))\n",
    "#shirt_final_xml = '\\n\\n'.join(df_shirt.apply(convert_row, axis=1))"
   ]
  },
  {
   "cell_type": "markdown",
   "metadata": {},
   "source": [
    "## shirt"
   ]
  },
  {
   "cell_type": "code",
   "execution_count": 20,
   "metadata": {},
   "outputs": [],
   "source": [
    "shirt_final_xml = '\\n\\n'.join(df_shirt.apply(convert_row, axis=1))\n",
    "lst_shirt_final = []\n",
    "lst_shirt_final = shirt_final_xml.split('\\n\\n')\n",
    "lst_shirt_img = df_shirt['image_name'].tolist()"
   ]
  },
  {
   "cell_type": "code",
   "execution_count": 21,
   "metadata": {},
   "outputs": [],
   "source": [
    "#shirt_final\n",
    "for i, xml_file in enumerate(lst_shirt_final):\n",
    "    with open(\"./shirt/\"+lst_shirt_img[i]+'.xml', 'w') as f:\n",
    "        f.write(xml_file)"
   ]
  },
  {
   "cell_type": "markdown",
   "metadata": {},
   "source": [
    "## skirt"
   ]
  },
  {
   "cell_type": "code",
   "execution_count": 84,
   "metadata": {},
   "outputs": [],
   "source": [
    "skirt_final_xml = '\\n\\n'.join(df_skirt.apply(convert_row, axis=1))\n",
    "lst_skirt_final = []\n",
    "lst_skirt_final = skirt_final_xml.split('\\n\\n')\n",
    "lst_skirt_img = df_skirt['image_name'].tolist()"
   ]
  },
  {
   "cell_type": "code",
   "execution_count": 85,
   "metadata": {},
   "outputs": [],
   "source": [
    "#skirt\n",
    "for i, xml_file in enumerate(lst_skirt_final):\n",
    "    with open(\"./xml/skirt/\"+lst_skirt_img[i]+'.xml', 'w') as f:\n",
    "        f.write(xml_file)"
   ]
  },
  {
   "cell_type": "markdown",
   "metadata": {},
   "source": [
    "## coat"
   ]
  },
  {
   "cell_type": "code",
   "execution_count": 80,
   "metadata": {},
   "outputs": [],
   "source": [
    "coat_final_xml = '\\n\\n'.join(df_coat.apply(convert_row, axis=1))\n",
    "lst_coat_final = []\n",
    "lst_coat_final = coat_final_xml.split('\\n\\n')\n",
    "lst_coat_img = df_coat['image_name'].tolist()"
   ]
  },
  {
   "cell_type": "code",
   "execution_count": 81,
   "metadata": {},
   "outputs": [],
   "source": [
    "#coat_final\n",
    "for i, xml_file in enumerate(lst_coat_final):\n",
    "    with open(\"./xml/coat/\"+lst_coat_img[i]+'.xml', 'w') as f:\n",
    "        f.write(xml_file)"
   ]
  },
  {
   "cell_type": "markdown",
   "metadata": {},
   "source": [
    "## dress"
   ]
  },
  {
   "cell_type": "code",
   "execution_count": 22,
   "metadata": {},
   "outputs": [],
   "source": [
    "dress_final_xml = '\\n\\n'.join(df_dress.apply(convert_row, axis=1))\n",
    "lst_dress_final = []\n",
    "lst_dress_final = dress_final_xml.split('\\n\\n')\n",
    "lst_dress_img = df_dress['image_name'].tolist()"
   ]
  },
  {
   "cell_type": "code",
   "execution_count": 23,
   "metadata": {},
   "outputs": [],
   "source": [
    "#dress_final\n",
    "for i, xml_file in enumerate(lst_dress_final):\n",
    "    with open(\"./dress/\"+lst_dress_img[i]+'.xml', 'w') as f:\n",
    "        f.write(xml_file)"
   ]
  },
  {
   "cell_type": "markdown",
   "metadata": {},
   "source": [
    "## winter jacket"
   ]
  },
  {
   "cell_type": "code",
   "execution_count": 88,
   "metadata": {},
   "outputs": [],
   "source": [
    "winterJacket_final_xml = '\\n\\n'.join(df_winterJacket.apply(convert_row, axis=1))\n",
    "lst_winterJacket_final = []\n",
    "lst_winterJacket_final = winterJacket_final_xml.split('\\n\\n')\n",
    "lst_winterJacket_img = df_winterJacket['image_name'].tolist()"
   ]
  },
  {
   "cell_type": "code",
   "execution_count": 89,
   "metadata": {},
   "outputs": [],
   "source": [
    "#winterJacket_final\n",
    "for i, xml_file in enumerate(lst_winterJacket_final):\n",
    "    with open(\"./xml/winter jacket/\"+lst_winterJacket_img[i]+'.xml', 'w') as f:\n",
    "        f.write(xml_file)"
   ]
  },
  {
   "cell_type": "markdown",
   "metadata": {},
   "source": [
    "## jacket"
   ]
  },
  {
   "cell_type": "code",
   "execution_count": 90,
   "metadata": {},
   "outputs": [],
   "source": [
    "jacket_final_xml = '\\n\\n'.join(df_jacket.apply(convert_row, axis=1))\n",
    "lst_jacket_final = []\n",
    "lst_jacket_final = jacket_final_xml.split('\\n\\n')\n",
    "lst_jacket_img = df_jacket['image_name'].tolist()"
   ]
  },
  {
   "cell_type": "code",
   "execution_count": 91,
   "metadata": {},
   "outputs": [],
   "source": [
    "#jacket_final\n",
    "for i, xml_file in enumerate(lst_jacket_final):\n",
    "    with open(\"./xml/jacket/\"+lst_jacket_img[i]+'.xml', 'w') as f:\n",
    "        f.write(xml_file)"
   ]
  },
  {
   "cell_type": "markdown",
   "metadata": {},
   "source": [
    "## jumper"
   ]
  },
  {
   "cell_type": "code",
   "execution_count": 92,
   "metadata": {},
   "outputs": [],
   "source": [
    "jumper_final_xml = '\\n\\n'.join(df_jumper.apply(convert_row, axis=1))\n",
    "lst_jumper_final = []\n",
    "lst_jumper_final = jumper_final_xml.split('\\n\\n')\n",
    "lst_jumper_img = df_jumper['image_name'].tolist()"
   ]
  },
  {
   "cell_type": "code",
   "execution_count": 93,
   "metadata": {},
   "outputs": [],
   "source": [
    "#jumper_final\n",
    "for i, xml_file in enumerate(lst_jumper_final):\n",
    "    with open(\"./xml/jumper/\"+lst_jumper_img[i]+'.xml', 'w') as f:\n",
    "        f.write(xml_file)"
   ]
  },
  {
   "cell_type": "markdown",
   "metadata": {},
   "source": [
    "## pants"
   ]
  },
  {
   "cell_type": "code",
   "execution_count": 94,
   "metadata": {},
   "outputs": [],
   "source": [
    "pants_final_xml = '\\n\\n'.join(df_pants.apply(convert_row, axis=1))\n",
    "lst_pants_final = []\n",
    "lst_pants_final = pants_final_xml.split('\\n\\n')\n",
    "lst_pants_img = df_pants['image_name'].tolist()"
   ]
  },
  {
   "cell_type": "code",
   "execution_count": 95,
   "metadata": {},
   "outputs": [],
   "source": [
    "#pants_final\n",
    "for i, xml_file in enumerate(lst_pants_final):\n",
    "    with open(\"./xml/pants/\"+lst_pants_img[i]+'.xml', 'w') as f:\n",
    "        f.write(xml_file)"
   ]
  },
  {
   "cell_type": "code",
   "execution_count": null,
   "metadata": {},
   "outputs": [],
   "source": []
  },
  {
   "cell_type": "code",
   "execution_count": 42,
   "metadata": {},
   "outputs": [
    {
     "data": {
      "text/plain": [
       "241442"
      ]
     },
     "execution_count": 42,
     "metadata": {},
     "output_type": "execute_result"
    }
   ],
   "source": [
    "len(df_final_bbox)"
   ]
  },
  {
   "cell_type": "code",
   "execution_count": 43,
   "metadata": {},
   "outputs": [
    {
     "data": {
      "text/plain": [
       "241442"
      ]
     },
     "execution_count": 43,
     "metadata": {},
     "output_type": "execute_result"
    }
   ],
   "source": [
    "len(df_final)"
   ]
  },
  {
   "cell_type": "code",
   "execution_count": null,
   "metadata": {},
   "outputs": [],
   "source": []
  }
 ],
 "metadata": {
  "kernelspec": {
   "display_name": "Python 3",
   "language": "python",
   "name": "python3"
  },
  "language_info": {
   "codemirror_mode": {
    "name": "ipython",
    "version": 3
   },
   "file_extension": ".py",
   "mimetype": "text/x-python",
   "name": "python",
   "nbconvert_exporter": "python",
   "pygments_lexer": "ipython3",
   "version": "3.7.1"
  }
 },
 "nbformat": 4,
 "nbformat_minor": 2
}
