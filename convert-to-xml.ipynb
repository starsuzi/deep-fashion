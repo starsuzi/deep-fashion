{
 "cells": [
  {
   "cell_type": "code",
   "execution_count": 8,
   "metadata": {},
   "outputs": [],
   "source": [
    "import lxml.etree\n",
    "import lxml.builder   "
   ]
  },
  {
   "cell_type": "code",
   "execution_count": 23,
   "metadata": {},
   "outputs": [
    {
     "name": "stdout",
     "output_type": "stream",
     "text": [
      "<annotation>\n",
      "  <object>\n",
      "    <attributes>some value1</attributes>\n",
      "    <field2 name=\"asdfasd\">some value2</field2>\n",
      "  </object>\n",
      "</annotation>\n",
      "\n"
     ]
    }
   ],
   "source": [
    "E = lxml.builder.ElementMaker()\n",
    "ANNOTATION = E.annotation\n",
    "OBJECT = E.object\n",
    "ATTRIBUTES = E.attributes\n",
    "FIELD2 = E.field2\n",
    "\n",
    "the_doc = ANNOTATION(\n",
    "        OBJECT(\n",
    "            ATTRIBUTES('some value1'),\n",
    "            FIELD2('some value2', name='asdfasd'),\n",
    "            )   \n",
    "        )   \n",
    "\n",
    "print (lxml.etree.tostring(the_doc, pretty_print=True,encoding='unicode'))"
   ]
  },
  {
   "cell_type": "code",
   "execution_count": null,
   "metadata": {},
   "outputs": [],
   "source": []
  },
  {
   "cell_type": "code",
   "execution_count": null,
   "metadata": {},
   "outputs": [],
   "source": []
  },
  {
   "cell_type": "code",
   "execution_count": null,
   "metadata": {},
   "outputs": [],
   "source": []
  },
  {
   "cell_type": "code",
   "execution_count": null,
   "metadata": {},
   "outputs": [],
   "source": []
  },
  {
   "cell_type": "code",
   "execution_count": null,
   "metadata": {},
   "outputs": [],
   "source": []
  }
 ],
 "metadata": {
  "kernelspec": {
   "display_name": "Python 3",
   "language": "python",
   "name": "python3"
  },
  "language_info": {
   "codemirror_mode": {
    "name": "ipython",
    "version": 3
   },
   "file_extension": ".py",
   "mimetype": "text/x-python",
   "name": "python",
   "nbconvert_exporter": "python",
   "pygments_lexer": "ipython3",
   "version": "3.7.1"
  }
 },
 "nbformat": 4,
 "nbformat_minor": 2
}
