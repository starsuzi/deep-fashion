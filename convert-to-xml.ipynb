{
 "cells": [
  {
   "cell_type": "code",
   "execution_count": 1,
   "metadata": {},
   "outputs": [],
   "source": [
    "import lxml.etree\n",
    "import lxml.builder\n",
    "import pandas as pd\n",
    "import csv"
   ]
  },
  {
   "cell_type": "code",
   "execution_count": 2,
   "metadata": {},
   "outputs": [],
   "source": [
    "df_final= pd.read_csv('./Anno/changed/etri/final.csv')"
   ]
  },
  {
   "cell_type": "code",
   "execution_count": 3,
   "metadata": {},
   "outputs": [],
   "source": [
    "df_ex = df_final.iloc[12:15, :]"
   ]
  },
  {
   "cell_type": "code",
   "execution_count": 4,
   "metadata": {},
   "outputs": [],
   "source": [
    "#ex.csv\n",
    "file_name = \"ex.csv\"\n",
    "df_ex.to_csv(\"./Anno/changed/etri/\"+file_name, index=None)"
   ]
  },
  {
   "cell_type": "code",
   "execution_count": 5,
   "metadata": {},
   "outputs": [
    {
     "data": {
      "text/plain": [
       "{'image_name': {12: '1981_Graphic_Ringer_Tee_img_00000014',\n",
       "  13: '1981_Graphic_Ringer_Tee_img_00000015',\n",
       "  14: '1981_Graphic_Ringer_Tee_img_00000016'},\n",
       " 'category_name': {12: 'shirt', 13: 'shirt', 14: 'shirt'},\n",
       " 'category_label': {12: 0, 13: 0, 14: 0},\n",
       " 'striped': {12: -1, 13: 1, 14: -1},\n",
       " 'floral': {12: -1, 13: -1, 14: -1},\n",
       " 'dotted': {12: -1, 13: -1, 14: -1},\n",
       " 'checker': {12: -1, 13: -1, 14: -1},\n",
       " 'summer': {12: -1, 13: -1, 14: -1},\n",
       " 'no sleeves': {12: -1, 13: -1, 14: -1},\n",
       " 'long sleeves': {12: -1, 13: -1, 14: -1}}"
      ]
     },
     "execution_count": 5,
     "metadata": {},
     "output_type": "execute_result"
    }
   ],
   "source": [
    "df_ex.to_dict()"
   ]
  },
  {
   "cell_type": "code",
   "execution_count": 41,
   "metadata": {},
   "outputs": [
    {
     "name": "stdout",
     "output_type": "stream",
     "text": [
      "<top><image_name>1981_Graphic_Ringer_Tee_img_00000014</image_name><category_name>shirt</category_name><category_label>0</category_label><striped>-1</striped><floral>-1</floral><dotted>-1</dotted><checker>-1</checker><summer>-1</summer><no sleeves>-1</no sleeves><long sleeves>-1</long sleeves><image_name>1981_Graphic_Ringer_Tee_img_00000015</image_name><category_name>shirt</category_name><category_label>0</category_label><striped>1</striped><floral>-1</floral><dotted>-1</dotted><checker>-1</checker><summer>-1</summer><no sleeves>-1</no sleeves><long sleeves>-1</long sleeves><image_name>1981_Graphic_Ringer_Tee_img_00000016</image_name><category_name>shirt</category_name><category_label>0</category_label><striped>-1</striped><floral>-1</floral><dotted>-1</dotted><checker>-1</checker><summer>-1</summer><no sleeves>-1</no sleeves><long sleeves>-1</long sleeves></top>\n"
     ]
    }
   ],
   "source": [
    "# Stuff from the XML module\n",
    "from xml.etree.ElementTree import Element, SubElement, tostring, ElementTree\n",
    "from lxml import etree\n",
    "\n",
    "# Topmost XML element\n",
    "top = Element('top')\n",
    "# Open a file\n",
    "with open('./Anno/changed/etri/ex.csv') as csvfile:\n",
    "    # And use a dictionary-reader\n",
    "    for d in csv.DictReader(csvfile):\n",
    "        # For each mapping in the dictionary\n",
    "        for (k, v) in d.items():\n",
    "            # Create an XML node\n",
    "            child = SubElement(top, k)\n",
    "            child.text = v\n",
    "        tree.write(open('./Anno/changed/etri/' + 'file.xml','w'), encoding='unicode')\n",
    "            \n",
    "print(tostring(top).decode())\n",
    "#string_xml=tostring(top).decode()\n",
    "#print(etree.tostring(string_xml, pretty_print=True).decode())"
   ]
  },
  {
   "cell_type": "code",
   "execution_count": 25,
   "metadata": {},
   "outputs": [
    {
     "ename": "SyntaxError",
     "evalue": "invalid syntax (<ipython-input-25-ab5249d97218>, line 7)",
     "output_type": "error",
     "traceback": [
      "\u001b[1;36m  File \u001b[1;32m\"<ipython-input-25-ab5249d97218>\"\u001b[1;36m, line \u001b[1;32m7\u001b[0m\n\u001b[1;33m    print tostring(top)\u001b[0m\n\u001b[1;37m                 ^\u001b[0m\n\u001b[1;31mSyntaxError\u001b[0m\u001b[1;31m:\u001b[0m invalid syntax\n"
     ]
    }
   ],
   "source": [
    "with open(csv_file) as f:\n",
    "    for row in csv.DictReader(f):\n",
    "        top = Element('event')\n",
    "        for k, v in row.items():\n",
    "            child = SubElement(top, k)\n",
    "            child.text = v\n",
    "        print tostring(top)"
   ]
  },
  {
   "cell_type": "code",
   "execution_count": 44,
   "metadata": {},
   "outputs": [
    {
     "name": "stdout",
     "output_type": "stream",
     "text": [
      "<annotation>\n",
      "  <object>\n",
      "    <attributes>some value1</attributes>\n",
      "  </object>\n",
      "</annotation>\n",
      "\n"
     ]
    }
   ],
   "source": [
    "E = lxml.builder.ElementMaker()\n",
    "ANNOTATION = E.annotation\n",
    "OBJECT = E.object\n",
    "ATTRIBUTES = E.attributes\n",
    "CATEGORY= E.category\n",
    "COLOR = E.colors\n",
    "'''\n",
    "GENDER = \n",
    "SLEEVES = \n",
    "SEASON = \n",
    "PATTERN = \n",
    "POSE = \n",
    "FIELD2 = E.field2\n",
    "'''\n",
    "the_doc = ANNOTATION(\n",
    "        OBJECT(\n",
    "            ATTRIBUTES('some value1'),\n",
    "            )   \n",
    "        )   \n",
    "\n",
    "print (lxml.etree.tostring(the_doc, pretty_print=True,encoding='unicode'))"
   ]
  },
  {
   "cell_type": "code",
   "execution_count": 32,
   "metadata": {},
   "outputs": [
    {
     "ename": "TypeError",
     "evalue": "'odict_items' object does not support indexing",
     "output_type": "error",
     "traceback": [
      "\u001b[1;31m---------------------------------------------------------------------------\u001b[0m",
      "\u001b[1;31mTypeError\u001b[0m                                 Traceback (most recent call last)",
      "\u001b[1;32m<ipython-input-32-0a0692883ce3>\u001b[0m in \u001b[0;36m<module>\u001b[1;34m\u001b[0m\n\u001b[0;32m      3\u001b[0m         \u001b[0mroot\u001b[0m \u001b[1;33m=\u001b[0m \u001b[0mElement\u001b[0m\u001b[1;33m(\u001b[0m\u001b[1;34m'gmd:MD_Metadata'\u001b[0m\u001b[1;33m)\u001b[0m\u001b[1;33m\u001b[0m\u001b[1;33m\u001b[0m\u001b[0m\n\u001b[0;32m      4\u001b[0m         \u001b[0mtree\u001b[0m \u001b[1;33m=\u001b[0m \u001b[0mElementTree\u001b[0m\u001b[1;33m(\u001b[0m\u001b[0mroot\u001b[0m\u001b[1;33m)\u001b[0m\u001b[1;33m\u001b[0m\u001b[1;33m\u001b[0m\u001b[0m\n\u001b[1;32m----> 5\u001b[1;33m         \u001b[0mfilename\u001b[0m \u001b[1;33m=\u001b[0m \u001b[0mrow\u001b[0m\u001b[1;33m.\u001b[0m\u001b[0mitems\u001b[0m\u001b[1;33m(\u001b[0m\u001b[1;33m)\u001b[0m\u001b[1;33m[\u001b[0m\u001b[1;36m10\u001b[0m\u001b[1;33m]\u001b[0m  \u001b[1;31m# where 7 is the column your interested in\u001b[0m\u001b[1;33m\u001b[0m\u001b[1;33m\u001b[0m\u001b[0m\n\u001b[0m\u001b[0;32m      6\u001b[0m         \u001b[1;32mfor\u001b[0m \u001b[0mk\u001b[0m\u001b[1;33m,\u001b[0m \u001b[0mv\u001b[0m \u001b[1;32min\u001b[0m \u001b[0mrow\u001b[0m\u001b[1;33m.\u001b[0m\u001b[0mitems\u001b[0m\u001b[1;33m(\u001b[0m\u001b[1;33m)\u001b[0m\u001b[1;33m:\u001b[0m\u001b[1;33m\u001b[0m\u001b[1;33m\u001b[0m\u001b[0m\n\u001b[0;32m      7\u001b[0m             \u001b[0mchild\u001b[0m \u001b[1;33m=\u001b[0m \u001b[0mSubElement\u001b[0m\u001b[1;33m(\u001b[0m\u001b[0mroot\u001b[0m\u001b[1;33m,\u001b[0m \u001b[0mk\u001b[0m\u001b[1;33m)\u001b[0m\u001b[1;33m\u001b[0m\u001b[1;33m\u001b[0m\u001b[0m\n",
      "\u001b[1;31mTypeError\u001b[0m: 'odict_items' object does not support indexing"
     ]
    }
   ],
   "source": [
    "with open('./Anno/changed/etri/ex.csv') as f:\n",
    "    for row in csv.DictReader(f):\n",
    "        root = Element('gmd:MD_Metadata')\n",
    "        tree = ElementTree(root)\n",
    "        filename = row.items()[10]  # where 7 is the column your interested in\n",
    "        for k, v in row.items():\n",
    "            child = SubElement(root, k)\n",
    "            child.text = v\n",
    "            reader = csv.DictReader(f)\n",
    "            tree.write(open(r'C:\\Users\\goodman\\Desktop\\deep_fashion_apply\\Anno\\changed\\etri/' + filename  + '.xml','w'))\n",
    "            #print tostring(root)"
   ]
  },
  {
   "cell_type": "code",
   "execution_count": null,
   "metadata": {},
   "outputs": [],
   "source": []
  },
  {
   "cell_type": "code",
   "execution_count": null,
   "metadata": {},
   "outputs": [],
   "source": []
  },
  {
   "cell_type": "code",
   "execution_count": null,
   "metadata": {},
   "outputs": [],
   "source": []
  },
  {
   "cell_type": "code",
   "execution_count": null,
   "metadata": {},
   "outputs": [],
   "source": []
  }
 ],
 "metadata": {
  "kernelspec": {
   "display_name": "Python 3",
   "language": "python",
   "name": "python3"
  },
  "language_info": {
   "codemirror_mode": {
    "name": "ipython",
    "version": 3
   },
   "file_extension": ".py",
   "mimetype": "text/x-python",
   "name": "python",
   "nbconvert_exporter": "python",
   "pygments_lexer": "ipython3",
   "version": "3.7.1"
  }
 },
 "nbformat": 4,
 "nbformat_minor": 2
}
