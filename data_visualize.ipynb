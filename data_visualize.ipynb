{
 "cells": [
  {
   "cell_type": "code",
   "execution_count": 1,
   "metadata": {},
   "outputs": [],
   "source": [
    "import numpy as np\n",
    "import pandas as pd\n",
    "import csv\n",
    "import matplotlib.pyplot as plt"
   ]
  },
  {
   "cell_type": "code",
   "execution_count": 3,
   "metadata": {},
   "outputs": [],
   "source": [
    "df_attr_combined = pd.read_csv('./Anno/changed/attr_combined.csv')\n",
    "\n",
    "attr_frequency = (df_attr_combined.iloc[:,1:] == 1).sum(axis=0)\n",
    "attr_frequency_sort=attr_frequency.sort_values(ascending = False)"
   ]
  },
  {
   "cell_type": "code",
   "execution_count": 4,
   "metadata": {},
   "outputs": [],
   "source": [
    "df_category_combined = pd.read_csv('./Anno/changed/category_combined.csv')\n",
    "df_attr_cloth = pd.read_csv('./Anno/changed/list_attr_cloth.txt', sep = ',') "
   ]
  },
  {
   "cell_type": "code",
   "execution_count": 5,
   "metadata": {},
   "outputs": [
    {
     "data": {
      "text/html": [
       "<div>\n",
       "<style scoped>\n",
       "    .dataframe tbody tr th:only-of-type {\n",
       "        vertical-align: middle;\n",
       "    }\n",
       "\n",
       "    .dataframe tbody tr th {\n",
       "        vertical-align: top;\n",
       "    }\n",
       "\n",
       "    .dataframe thead th {\n",
       "        text-align: right;\n",
       "    }\n",
       "</style>\n",
       "<table border=\"1\" class=\"dataframe\">\n",
       "  <thead>\n",
       "    <tr style=\"text-align: right;\">\n",
       "      <th></th>\n",
       "      <th>category_label</th>\n",
       "      <th>category_name</th>\n",
       "      <th>category_type</th>\n",
       "      <th>image_name</th>\n",
       "    </tr>\n",
       "  </thead>\n",
       "  <tbody>\n",
       "    <tr>\n",
       "      <th>0</th>\n",
       "      <td>1</td>\n",
       "      <td>Anorak</td>\n",
       "      <td>1</td>\n",
       "      <td>img/Hooded_Cotton_Canvas_Anorak/img_00000001.jpg</td>\n",
       "    </tr>\n",
       "    <tr>\n",
       "      <th>1</th>\n",
       "      <td>1</td>\n",
       "      <td>Anorak</td>\n",
       "      <td>1</td>\n",
       "      <td>img/Hooded_Cotton_Canvas_Anorak/img_00000002.jpg</td>\n",
       "    </tr>\n",
       "    <tr>\n",
       "      <th>2</th>\n",
       "      <td>1</td>\n",
       "      <td>Anorak</td>\n",
       "      <td>1</td>\n",
       "      <td>img/Hooded_Cotton_Canvas_Anorak/img_00000003.jpg</td>\n",
       "    </tr>\n",
       "    <tr>\n",
       "      <th>3</th>\n",
       "      <td>1</td>\n",
       "      <td>Anorak</td>\n",
       "      <td>1</td>\n",
       "      <td>img/Hooded_Cotton_Canvas_Anorak/img_00000004.jpg</td>\n",
       "    </tr>\n",
       "    <tr>\n",
       "      <th>4</th>\n",
       "      <td>1</td>\n",
       "      <td>Anorak</td>\n",
       "      <td>1</td>\n",
       "      <td>img/Hooded_Cotton_Canvas_Anorak/img_00000005.jpg</td>\n",
       "    </tr>\n",
       "  </tbody>\n",
       "</table>\n",
       "</div>"
      ],
      "text/plain": [
       "   category_label category_name  category_type  \\\n",
       "0               1        Anorak              1   \n",
       "1               1        Anorak              1   \n",
       "2               1        Anorak              1   \n",
       "3               1        Anorak              1   \n",
       "4               1        Anorak              1   \n",
       "\n",
       "                                         image_name  \n",
       "0  img/Hooded_Cotton_Canvas_Anorak/img_00000001.jpg  \n",
       "1  img/Hooded_Cotton_Canvas_Anorak/img_00000002.jpg  \n",
       "2  img/Hooded_Cotton_Canvas_Anorak/img_00000003.jpg  \n",
       "3  img/Hooded_Cotton_Canvas_Anorak/img_00000004.jpg  \n",
       "4  img/Hooded_Cotton_Canvas_Anorak/img_00000005.jpg  "
      ]
     },
     "execution_count": 5,
     "metadata": {},
     "output_type": "execute_result"
    }
   ],
   "source": [
    "df_category_combined.head()"
   ]
  },
  {
   "cell_type": "code",
   "execution_count": 6,
   "metadata": {},
   "outputs": [
    {
     "data": {
      "text/html": [
       "<div>\n",
       "<style scoped>\n",
       "    .dataframe tbody tr th:only-of-type {\n",
       "        vertical-align: middle;\n",
       "    }\n",
       "\n",
       "    .dataframe tbody tr th {\n",
       "        vertical-align: top;\n",
       "    }\n",
       "\n",
       "    .dataframe thead th {\n",
       "        text-align: right;\n",
       "    }\n",
       "</style>\n",
       "<table border=\"1\" class=\"dataframe\">\n",
       "  <thead>\n",
       "    <tr style=\"text-align: right;\">\n",
       "      <th></th>\n",
       "      <th>image_name</th>\n",
       "      <th>a-line</th>\n",
       "      <th>abstract</th>\n",
       "      <th>abstract chevron</th>\n",
       "      <th>abstract chevron print</th>\n",
       "      <th>abstract diamond</th>\n",
       "      <th>abstract floral</th>\n",
       "      <th>abstract floral print</th>\n",
       "      <th>abstract geo</th>\n",
       "      <th>abstract geo print</th>\n",
       "      <th>...</th>\n",
       "      <th>zeppelin</th>\n",
       "      <th>zig</th>\n",
       "      <th>zigzag</th>\n",
       "      <th>zip</th>\n",
       "      <th>zip-front</th>\n",
       "      <th>zip-pocket</th>\n",
       "      <th>zip-up</th>\n",
       "      <th>zipped</th>\n",
       "      <th>zipper</th>\n",
       "      <th>zippered</th>\n",
       "    </tr>\n",
       "  </thead>\n",
       "  <tbody>\n",
       "    <tr>\n",
       "      <th>0</th>\n",
       "      <td>img/Sheer_Pleated-Front_Blouse/img_00000001.jpg</td>\n",
       "      <td>-1</td>\n",
       "      <td>-1</td>\n",
       "      <td>-1</td>\n",
       "      <td>-1</td>\n",
       "      <td>-1</td>\n",
       "      <td>-1</td>\n",
       "      <td>-1</td>\n",
       "      <td>-1</td>\n",
       "      <td>-1</td>\n",
       "      <td>...</td>\n",
       "      <td>-1</td>\n",
       "      <td>-1</td>\n",
       "      <td>-1</td>\n",
       "      <td>-1</td>\n",
       "      <td>-1</td>\n",
       "      <td>-1</td>\n",
       "      <td>-1</td>\n",
       "      <td>-1</td>\n",
       "      <td>-1</td>\n",
       "      <td>-1</td>\n",
       "    </tr>\n",
       "    <tr>\n",
       "      <th>1</th>\n",
       "      <td>img/Sheer_Pleated-Front_Blouse/img_00000002.jpg</td>\n",
       "      <td>-1</td>\n",
       "      <td>-1</td>\n",
       "      <td>-1</td>\n",
       "      <td>-1</td>\n",
       "      <td>-1</td>\n",
       "      <td>-1</td>\n",
       "      <td>-1</td>\n",
       "      <td>-1</td>\n",
       "      <td>-1</td>\n",
       "      <td>...</td>\n",
       "      <td>-1</td>\n",
       "      <td>-1</td>\n",
       "      <td>-1</td>\n",
       "      <td>-1</td>\n",
       "      <td>-1</td>\n",
       "      <td>-1</td>\n",
       "      <td>-1</td>\n",
       "      <td>-1</td>\n",
       "      <td>-1</td>\n",
       "      <td>-1</td>\n",
       "    </tr>\n",
       "    <tr>\n",
       "      <th>2</th>\n",
       "      <td>img/Sheer_Pleated-Front_Blouse/img_00000003.jpg</td>\n",
       "      <td>-1</td>\n",
       "      <td>-1</td>\n",
       "      <td>-1</td>\n",
       "      <td>-1</td>\n",
       "      <td>-1</td>\n",
       "      <td>-1</td>\n",
       "      <td>-1</td>\n",
       "      <td>-1</td>\n",
       "      <td>-1</td>\n",
       "      <td>...</td>\n",
       "      <td>-1</td>\n",
       "      <td>-1</td>\n",
       "      <td>-1</td>\n",
       "      <td>-1</td>\n",
       "      <td>-1</td>\n",
       "      <td>-1</td>\n",
       "      <td>-1</td>\n",
       "      <td>-1</td>\n",
       "      <td>-1</td>\n",
       "      <td>-1</td>\n",
       "    </tr>\n",
       "    <tr>\n",
       "      <th>3</th>\n",
       "      <td>img/Sheer_Pleated-Front_Blouse/img_00000004.jpg</td>\n",
       "      <td>-1</td>\n",
       "      <td>-1</td>\n",
       "      <td>-1</td>\n",
       "      <td>-1</td>\n",
       "      <td>-1</td>\n",
       "      <td>-1</td>\n",
       "      <td>-1</td>\n",
       "      <td>-1</td>\n",
       "      <td>-1</td>\n",
       "      <td>...</td>\n",
       "      <td>-1</td>\n",
       "      <td>-1</td>\n",
       "      <td>-1</td>\n",
       "      <td>-1</td>\n",
       "      <td>-1</td>\n",
       "      <td>-1</td>\n",
       "      <td>-1</td>\n",
       "      <td>-1</td>\n",
       "      <td>-1</td>\n",
       "      <td>-1</td>\n",
       "    </tr>\n",
       "    <tr>\n",
       "      <th>4</th>\n",
       "      <td>img/Sheer_Pleated-Front_Blouse/img_00000005.jpg</td>\n",
       "      <td>-1</td>\n",
       "      <td>-1</td>\n",
       "      <td>-1</td>\n",
       "      <td>-1</td>\n",
       "      <td>-1</td>\n",
       "      <td>-1</td>\n",
       "      <td>-1</td>\n",
       "      <td>-1</td>\n",
       "      <td>-1</td>\n",
       "      <td>...</td>\n",
       "      <td>-1</td>\n",
       "      <td>-1</td>\n",
       "      <td>-1</td>\n",
       "      <td>-1</td>\n",
       "      <td>-1</td>\n",
       "      <td>-1</td>\n",
       "      <td>-1</td>\n",
       "      <td>-1</td>\n",
       "      <td>-1</td>\n",
       "      <td>-1</td>\n",
       "    </tr>\n",
       "  </tbody>\n",
       "</table>\n",
       "<p>5 rows × 1001 columns</p>\n",
       "</div>"
      ],
      "text/plain": [
       "                                        image_name  a-line   abstract   \\\n",
       "0  img/Sheer_Pleated-Front_Blouse/img_00000001.jpg       -1         -1   \n",
       "1  img/Sheer_Pleated-Front_Blouse/img_00000002.jpg       -1         -1   \n",
       "2  img/Sheer_Pleated-Front_Blouse/img_00000003.jpg       -1         -1   \n",
       "3  img/Sheer_Pleated-Front_Blouse/img_00000004.jpg       -1         -1   \n",
       "4  img/Sheer_Pleated-Front_Blouse/img_00000005.jpg       -1         -1   \n",
       "\n",
       "   abstract chevron   abstract chevron print   abstract diamond   \\\n",
       "0                 -1                       -1                 -1   \n",
       "1                 -1                       -1                 -1   \n",
       "2                 -1                       -1                 -1   \n",
       "3                 -1                       -1                 -1   \n",
       "4                 -1                       -1                 -1   \n",
       "\n",
       "   abstract floral   abstract floral print   abstract geo   \\\n",
       "0                -1                      -1             -1   \n",
       "1                -1                      -1             -1   \n",
       "2                -1                      -1             -1   \n",
       "3                -1                      -1             -1   \n",
       "4                -1                      -1             -1   \n",
       "\n",
       "   abstract geo print     ...      zeppelin   zig   zigzag   zip   zip-front   \\\n",
       "0                   -1    ...             -1    -1       -1    -1          -1   \n",
       "1                   -1    ...             -1    -1       -1    -1          -1   \n",
       "2                   -1    ...             -1    -1       -1    -1          -1   \n",
       "3                   -1    ...             -1    -1       -1    -1          -1   \n",
       "4                   -1    ...             -1    -1       -1    -1          -1   \n",
       "\n",
       "   zip-pocket   zip-up   zipped   zipper   zippered   \n",
       "0           -1       -1       -1       -1         -1  \n",
       "1           -1       -1       -1       -1         -1  \n",
       "2           -1       -1       -1       -1         -1  \n",
       "3           -1       -1       -1       -1         -1  \n",
       "4           -1       -1       -1       -1         -1  \n",
       "\n",
       "[5 rows x 1001 columns]"
      ]
     },
     "execution_count": 6,
     "metadata": {},
     "output_type": "execute_result"
    }
   ],
   "source": [
    "df_attr_combined.head()"
   ]
  },
  {
   "cell_type": "code",
   "execution_count": 7,
   "metadata": {},
   "outputs": [],
   "source": [
    "category_frequency= df_category_combined.groupby(['category_name'])['image_name'].count()"
   ]
  },
  {
   "cell_type": "code",
   "execution_count": 8,
   "metadata": {},
   "outputs": [],
   "source": [
    "category_frequency_sort = category_frequency.sort_values(ascending=False)"
   ]
  },
  {
   "cell_type": "code",
   "execution_count": 9,
   "metadata": {},
   "outputs": [
    {
     "data": {
      "text/plain": [
       "category_name\n",
       "Dress          72158\n",
       "Tee            36887\n",
       "Blouse         24557\n",
       "Shorts         19666\n",
       "Tank           15429\n",
       "Skirt          14773\n",
       "Cardigan       13311\n",
       "Sweater        13123\n",
       "Jacket         10467\n",
       "Top            10078\n",
       "Blazer          7495\n",
       "Romper          7408\n",
       "Jeans           7076\n",
       "Jumpsuit        6153\n",
       "Leggings        5013\n",
       "Joggers         4416\n",
       "Hoodie          4048\n",
       "Sweatpants      3048\n",
       "Kimono          2294\n",
       "Coat            2120\n",
       "Cutoffs         1669\n",
       "Sweatshorts     1106\n",
       "Poncho           791\n",
       "Jersey           748\n",
       "Henley           716\n",
       "Parka            676\n",
       "Jeggings         594\n",
       "Chinos           527\n",
       "Culottes         486\n",
       "Trunks           386\n",
       "Button-Down      330\n",
       "Flannel          324\n",
       "Bomber           309\n",
       "Anorak           160\n",
       "Robe             150\n",
       "Turtleneck       146\n",
       "Kaftan           126\n",
       "Peacoat           97\n",
       "Capris            77\n",
       "Onesie            70\n",
       "Caftan            54\n",
       "Gauchos           49\n",
       "Jodhpurs          45\n",
       "Sarong            32\n",
       "Coverup           17\n",
       "Halter            17\n",
       "Name: image_name, dtype: int64"
      ]
     },
     "execution_count": 9,
     "metadata": {},
     "output_type": "execute_result"
    }
   ],
   "source": [
    "category_frequency_sort"
   ]
  },
  {
   "cell_type": "code",
   "execution_count": 10,
   "metadata": {
    "scrolled": true
   },
   "outputs": [
    {
     "data": {
      "text/plain": [
       "print                      37367\n",
       "floral                     24188\n",
       "lace                       20434\n",
       "knit                       18498\n",
       "sleeve                     17828\n",
       "maxi                       15990\n",
       "shirt                      14920\n",
       "denim                      13178\n",
       "striped                    11771\n",
       "chiffon                    11735\n",
       "crochet                     8987\n",
       "stripe                      8591\n",
       "sleeveless                  7987\n",
       "summer                      7616\n",
       "floral print                7560\n",
       "fit                         7489\n",
       "cotton                      7370\n",
       "leather                     7334\n",
       "faux                        7243\n",
       "classic                     7184\n",
       "graphic                     6933\n",
       "pleated                     6755\n",
       "red                         6717\n",
       "long sleeve                 6656\n",
       "embroidered                 6621\n",
       "pink                        6569\n",
       "printed                     6568\n",
       "bodycon                     6419\n",
       "crop                        6221\n",
       "skater                      6205\n",
       "                           ...  \n",
       "cardio                        55\n",
       "lace pleated                  55\n",
       "illusion neckline             55\n",
       "sheer-paneled                 55\n",
       "contrast-trimmed              55\n",
       "back bow                      55\n",
       "loyal                         55\n",
       "heathered stripe              55\n",
       "palm springs                  54\n",
       "striped trapeze               54\n",
       "knit stripe                   54\n",
       "lightning                     54\n",
       "floral print strapless        54\n",
       "abstract diamond              53\n",
       "high-slit maxi                53\n",
       "ribbed stripe                 53\n",
       "faux leather-trimmed          53\n",
       "gaucho                        53\n",
       "ornate paisley                52\n",
       "print smock                   52\n",
       "high-rise skinny              52\n",
       "lace sheer                    52\n",
       "graphic racerback             52\n",
       "boxy lace                     52\n",
       "defyant                       52\n",
       "floral flutter                51\n",
       "floral textured               51\n",
       "deep-v                        51\n",
       "topstitched                   51\n",
       "raw-cut                       51\n",
       "Length: 1000, dtype: int64"
      ]
     },
     "execution_count": 10,
     "metadata": {},
     "output_type": "execute_result"
    }
   ],
   "source": [
    "attr_frequency_sort"
   ]
  },
  {
   "cell_type": "code",
   "execution_count": 11,
   "metadata": {},
   "outputs": [],
   "source": [
    "for i in range(0,999):\n",
    "    if attr_frequency[i] == 0:\n",
    "        attr_frequency.drop(attr_frequency.index[i])\n",
    "        print(i)\n",
    "#print(attr_frequency.sort_values(ascending = False))"
   ]
  },
  {
   "cell_type": "code",
   "execution_count": 12,
   "metadata": {
    "scrolled": true
   },
   "outputs": [
    {
     "data": {
      "text/plain": [
       "<matplotlib.axes._subplots.AxesSubplot at 0x2503d52c668>"
      ]
     },
     "execution_count": 12,
     "metadata": {},
     "output_type": "execute_result"
    },
    {
     "data": {
      "image/png": "[encoded data removed]",
      "text/plain": [
       "<Figure size 1080x360 with 1 Axes>"
      ]
     },
     "metadata": {
      "needs_background": "light"
     },
     "output_type": "display_data"
    }
   ],
   "source": [
    "attr_frequency_sort[:30].plot(kind = 'bar', figsize=(15,5), fontsize = 15)"
   ]
  },
  {
   "cell_type": "code",
   "execution_count": 13,
   "metadata": {},
   "outputs": [
    {
     "data": {
      "text/plain": [
       "<matplotlib.axes._subplots.AxesSubplot at 0x2503c26ef28>"
      ]
     },
     "execution_count": 13,
     "metadata": {},
     "output_type": "execute_result"
    },
    {
     "data": {
      "image/png": "[encoded data removed]",
      "text/plain": [
       "<Figure size 1080x360 with 1 Axes>"
      ]
     },
     "metadata": {
      "needs_background": "light"
     },
     "output_type": "display_data"
    }
   ],
   "source": [
    "category_frequency_sort[:20].plot(kind = 'bar', figsize=(15,5), fontsize = 15)"
   ]
  },
  {
   "cell_type": "code",
   "execution_count": null,
   "metadata": {},
   "outputs": [],
   "source": []
  }
 ],
 "metadata": {
  "kernelspec": {
   "display_name": "Python 3",
   "language": "python",
   "name": "python3"
  },
  "language_info": {
   "codemirror_mode": {
    "name": "ipython",
    "version": 3
   },
   "file_extension": ".py",
   "mimetype": "text/x-python",
   "name": "python",
   "nbconvert_exporter": "python",
   "pygments_lexer": "ipython3",
   "version": "3.7.1"
  }
 },
 "nbformat": 4,
 "nbformat_minor": 2
}
