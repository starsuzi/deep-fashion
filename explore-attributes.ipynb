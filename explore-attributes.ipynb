{
 "cells": [
  {
   "cell_type": "code",
   "execution_count": 1,
   "metadata": {},
   "outputs": [],
   "source": [
    "import numpy as np\n",
    "import pandas as pd\n",
    "import csv\n",
    "import matplotlib.pyplot as plt\n",
    "\n",
    "import os, glob"
   ]
  },
  {
   "cell_type": "code",
   "execution_count": 2,
   "metadata": {},
   "outputs": [],
   "source": [
    "df_category_combined = pd.read_csv('./Anno/changed/etri/category_combined.csv')"
   ]
  },
  {
   "cell_type": "code",
   "execution_count": 3,
   "metadata": {},
   "outputs": [],
   "source": [
    "df_attr_combined = pd.read_csv('./Anno/changed/etri/attr_combined.csv')"
   ]
  },
  {
   "cell_type": "code",
   "execution_count": 4,
   "metadata": {},
   "outputs": [
    {
     "data": {
      "text/html": [
       "<div>\n",
       "<style scoped>\n",
       "    .dataframe tbody tr th:only-of-type {\n",
       "        vertical-align: middle;\n",
       "    }\n",
       "\n",
       "    .dataframe tbody tr th {\n",
       "        vertical-align: top;\n",
       "    }\n",
       "\n",
       "    .dataframe thead th {\n",
       "        text-align: right;\n",
       "    }\n",
       "</style>\n",
       "<table border=\"1\" class=\"dataframe\">\n",
       "  <thead>\n",
       "    <tr style=\"text-align: right;\">\n",
       "      <th></th>\n",
       "      <th>image_name</th>\n",
       "      <th>a-line</th>\n",
       "      <th>abstract</th>\n",
       "      <th>abstract chevron</th>\n",
       "      <th>abstract chevron print</th>\n",
       "      <th>abstract diamond</th>\n",
       "      <th>abstract floral</th>\n",
       "      <th>abstract floral print</th>\n",
       "      <th>abstract geo</th>\n",
       "      <th>abstract geo print</th>\n",
       "      <th>...</th>\n",
       "      <th>zeppelin</th>\n",
       "      <th>zig</th>\n",
       "      <th>zigzag</th>\n",
       "      <th>zip</th>\n",
       "      <th>zip-front</th>\n",
       "      <th>zip-pocket</th>\n",
       "      <th>zip-up</th>\n",
       "      <th>zipped</th>\n",
       "      <th>zipper</th>\n",
       "      <th>zippered</th>\n",
       "    </tr>\n",
       "  </thead>\n",
       "  <tbody>\n",
       "    <tr>\n",
       "      <th>0</th>\n",
       "      <td>Sheer_Pleated-Front_Blouse_img_00000001</td>\n",
       "      <td>-1</td>\n",
       "      <td>-1</td>\n",
       "      <td>-1</td>\n",
       "      <td>-1</td>\n",
       "      <td>-1</td>\n",
       "      <td>-1</td>\n",
       "      <td>-1</td>\n",
       "      <td>-1</td>\n",
       "      <td>-1</td>\n",
       "      <td>...</td>\n",
       "      <td>-1</td>\n",
       "      <td>-1</td>\n",
       "      <td>-1</td>\n",
       "      <td>-1</td>\n",
       "      <td>-1</td>\n",
       "      <td>-1</td>\n",
       "      <td>-1</td>\n",
       "      <td>-1</td>\n",
       "      <td>-1</td>\n",
       "      <td>-1</td>\n",
       "    </tr>\n",
       "    <tr>\n",
       "      <th>1</th>\n",
       "      <td>Sheer_Pleated-Front_Blouse_img_00000002</td>\n",
       "      <td>-1</td>\n",
       "      <td>-1</td>\n",
       "      <td>-1</td>\n",
       "      <td>-1</td>\n",
       "      <td>-1</td>\n",
       "      <td>-1</td>\n",
       "      <td>-1</td>\n",
       "      <td>-1</td>\n",
       "      <td>-1</td>\n",
       "      <td>...</td>\n",
       "      <td>-1</td>\n",
       "      <td>-1</td>\n",
       "      <td>-1</td>\n",
       "      <td>-1</td>\n",
       "      <td>-1</td>\n",
       "      <td>-1</td>\n",
       "      <td>-1</td>\n",
       "      <td>-1</td>\n",
       "      <td>-1</td>\n",
       "      <td>-1</td>\n",
       "    </tr>\n",
       "    <tr>\n",
       "      <th>2</th>\n",
       "      <td>Sheer_Pleated-Front_Blouse_img_00000003</td>\n",
       "      <td>-1</td>\n",
       "      <td>-1</td>\n",
       "      <td>-1</td>\n",
       "      <td>-1</td>\n",
       "      <td>-1</td>\n",
       "      <td>-1</td>\n",
       "      <td>-1</td>\n",
       "      <td>-1</td>\n",
       "      <td>-1</td>\n",
       "      <td>...</td>\n",
       "      <td>-1</td>\n",
       "      <td>-1</td>\n",
       "      <td>-1</td>\n",
       "      <td>-1</td>\n",
       "      <td>-1</td>\n",
       "      <td>-1</td>\n",
       "      <td>-1</td>\n",
       "      <td>-1</td>\n",
       "      <td>-1</td>\n",
       "      <td>-1</td>\n",
       "    </tr>\n",
       "    <tr>\n",
       "      <th>3</th>\n",
       "      <td>Sheer_Pleated-Front_Blouse_img_00000004</td>\n",
       "      <td>-1</td>\n",
       "      <td>-1</td>\n",
       "      <td>-1</td>\n",
       "      <td>-1</td>\n",
       "      <td>-1</td>\n",
       "      <td>-1</td>\n",
       "      <td>-1</td>\n",
       "      <td>-1</td>\n",
       "      <td>-1</td>\n",
       "      <td>...</td>\n",
       "      <td>-1</td>\n",
       "      <td>-1</td>\n",
       "      <td>-1</td>\n",
       "      <td>-1</td>\n",
       "      <td>-1</td>\n",
       "      <td>-1</td>\n",
       "      <td>-1</td>\n",
       "      <td>-1</td>\n",
       "      <td>-1</td>\n",
       "      <td>-1</td>\n",
       "    </tr>\n",
       "    <tr>\n",
       "      <th>4</th>\n",
       "      <td>Sheer_Pleated-Front_Blouse_img_00000005</td>\n",
       "      <td>-1</td>\n",
       "      <td>-1</td>\n",
       "      <td>-1</td>\n",
       "      <td>-1</td>\n",
       "      <td>-1</td>\n",
       "      <td>-1</td>\n",
       "      <td>-1</td>\n",
       "      <td>-1</td>\n",
       "      <td>-1</td>\n",
       "      <td>...</td>\n",
       "      <td>-1</td>\n",
       "      <td>-1</td>\n",
       "      <td>-1</td>\n",
       "      <td>-1</td>\n",
       "      <td>-1</td>\n",
       "      <td>-1</td>\n",
       "      <td>-1</td>\n",
       "      <td>-1</td>\n",
       "      <td>-1</td>\n",
       "      <td>-1</td>\n",
       "    </tr>\n",
       "  </tbody>\n",
       "</table>\n",
       "<p>5 rows × 1001 columns</p>\n",
       "</div>"
      ],
      "text/plain": [
       "                                image_name  a-line   abstract   \\\n",
       "0  Sheer_Pleated-Front_Blouse_img_00000001       -1         -1   \n",
       "1  Sheer_Pleated-Front_Blouse_img_00000002       -1         -1   \n",
       "2  Sheer_Pleated-Front_Blouse_img_00000003       -1         -1   \n",
       "3  Sheer_Pleated-Front_Blouse_img_00000004       -1         -1   \n",
       "4  Sheer_Pleated-Front_Blouse_img_00000005       -1         -1   \n",
       "\n",
       "   abstract chevron   abstract chevron print   abstract diamond   \\\n",
       "0                 -1                       -1                 -1   \n",
       "1                 -1                       -1                 -1   \n",
       "2                 -1                       -1                 -1   \n",
       "3                 -1                       -1                 -1   \n",
       "4                 -1                       -1                 -1   \n",
       "\n",
       "   abstract floral   abstract floral print   abstract geo   \\\n",
       "0                -1                      -1             -1   \n",
       "1                -1                      -1             -1   \n",
       "2                -1                      -1             -1   \n",
       "3                -1                      -1             -1   \n",
       "4                -1                      -1             -1   \n",
       "\n",
       "   abstract geo print     ...      zeppelin   zig   zigzag   zip   zip-front   \\\n",
       "0                   -1    ...             -1    -1       -1    -1          -1   \n",
       "1                   -1    ...             -1    -1       -1    -1          -1   \n",
       "2                   -1    ...             -1    -1       -1    -1          -1   \n",
       "3                   -1    ...             -1    -1       -1    -1          -1   \n",
       "4                   -1    ...             -1    -1       -1    -1          -1   \n",
       "\n",
       "   zip-pocket   zip-up   zipped   zipper   zippered   \n",
       "0           -1       -1       -1       -1         -1  \n",
       "1           -1       -1       -1       -1         -1  \n",
       "2           -1       -1       -1       -1         -1  \n",
       "3           -1       -1       -1       -1         -1  \n",
       "4           -1       -1       -1       -1         -1  \n",
       "\n",
       "[5 rows x 1001 columns]"
      ]
     },
     "execution_count": 4,
     "metadata": {},
     "output_type": "execute_result"
    }
   ],
   "source": [
    "df_attr_combined.head()"
   ]
  },
  {
   "cell_type": "code",
   "execution_count": 5,
   "metadata": {
    "scrolled": true
   },
   "outputs": [
    {
     "data": {
      "text/html": [
       "<div>\n",
       "<style scoped>\n",
       "    .dataframe tbody tr th:only-of-type {\n",
       "        vertical-align: middle;\n",
       "    }\n",
       "\n",
       "    .dataframe tbody tr th {\n",
       "        vertical-align: top;\n",
       "    }\n",
       "\n",
       "    .dataframe thead th {\n",
       "        text-align: right;\n",
       "    }\n",
       "</style>\n",
       "<table border=\"1\" class=\"dataframe\">\n",
       "  <thead>\n",
       "    <tr style=\"text-align: right;\">\n",
       "      <th></th>\n",
       "      <th>category_label</th>\n",
       "      <th>category_name</th>\n",
       "      <th>category_type</th>\n",
       "      <th>image_name</th>\n",
       "    </tr>\n",
       "  </thead>\n",
       "  <tbody>\n",
       "    <tr>\n",
       "      <th>0</th>\n",
       "      <td>1</td>\n",
       "      <td>Anorak</td>\n",
       "      <td>1</td>\n",
       "      <td>Hooded_Cotton_Canvas_Anorak_img_00000001</td>\n",
       "    </tr>\n",
       "    <tr>\n",
       "      <th>1</th>\n",
       "      <td>1</td>\n",
       "      <td>Anorak</td>\n",
       "      <td>1</td>\n",
       "      <td>Hooded_Cotton_Canvas_Anorak_img_00000002</td>\n",
       "    </tr>\n",
       "    <tr>\n",
       "      <th>2</th>\n",
       "      <td>1</td>\n",
       "      <td>Anorak</td>\n",
       "      <td>1</td>\n",
       "      <td>Hooded_Cotton_Canvas_Anorak_img_00000003</td>\n",
       "    </tr>\n",
       "    <tr>\n",
       "      <th>3</th>\n",
       "      <td>1</td>\n",
       "      <td>Anorak</td>\n",
       "      <td>1</td>\n",
       "      <td>Hooded_Cotton_Canvas_Anorak_img_00000004</td>\n",
       "    </tr>\n",
       "    <tr>\n",
       "      <th>4</th>\n",
       "      <td>1</td>\n",
       "      <td>Anorak</td>\n",
       "      <td>1</td>\n",
       "      <td>Hooded_Cotton_Canvas_Anorak_img_00000005</td>\n",
       "    </tr>\n",
       "  </tbody>\n",
       "</table>\n",
       "</div>"
      ],
      "text/plain": [
       "   category_label category_name  category_type  \\\n",
       "0               1        Anorak              1   \n",
       "1               1        Anorak              1   \n",
       "2               1        Anorak              1   \n",
       "3               1        Anorak              1   \n",
       "4               1        Anorak              1   \n",
       "\n",
       "                                 image_name  \n",
       "0  Hooded_Cotton_Canvas_Anorak_img_00000001  \n",
       "1  Hooded_Cotton_Canvas_Anorak_img_00000002  \n",
       "2  Hooded_Cotton_Canvas_Anorak_img_00000003  \n",
       "3  Hooded_Cotton_Canvas_Anorak_img_00000004  \n",
       "4  Hooded_Cotton_Canvas_Anorak_img_00000005  "
      ]
     },
     "execution_count": 5,
     "metadata": {},
     "output_type": "execute_result"
    }
   ],
   "source": [
    "df_category_combined.head()"
   ]
  },
  {
   "cell_type": "code",
   "execution_count": 6,
   "metadata": {},
   "outputs": [],
   "source": [
    "lst_coat_fname = [f.name[:-4] for f in os.scandir('./coat') if f.is_file()]\n",
    "lst_dress_fname = [f.name[:-4] for f in os.scandir('./dress') if f.is_file()]\n",
    "lst_jacket_fname = [f.name[:-4] for f in os.scandir('./jacket') if f.is_file()]\n",
    "lst_jumper_fname = [f.name[:-4] for f in os.scandir('./jumper') if f.is_file()]\n",
    "lst_pants_fname = [f.name[:-4] for f in os.scandir('./pants') if f.is_file()]\n",
    "lst_shirt_fname = [f.name[:-4] for f in os.scandir('./shirt') if f.is_file()]\n",
    "lst_skirt_fname = [f.name[:-4] for f in os.scandir('./skirt') if f.is_file()]\n",
    "lst_winterJacket_fname = [f.name[:-4] for f in os.scandir('./winter jacket') if f.is_file()]"
   ]
  },
  {
   "cell_type": "code",
   "execution_count": 8,
   "metadata": {},
   "outputs": [],
   "source": [
    "def createCategoryDataFrame(lst_category_fname, category_label, category_name):\n",
    "    \n",
    "    df_category = pd.DataFrame(lst_category_fname, columns=['image_name'])\n",
    "    df_category.insert(1,'category_label', category_label)\n",
    "    df_category.insert(1,'category_name', category_name)\n",
    "\n",
    "    return df_category"
   ]
  },
  {
   "cell_type": "code",
   "execution_count": 9,
   "metadata": {},
   "outputs": [],
   "source": [
    "df_shirt = createCategoryDataFrame(lst_shirt_fname, 0, 'shirt')\n",
    "df_jumper = createCategoryDataFrame(lst_jumper_fname, 1, 'jumper')\n",
    "df_jacket = createCategoryDataFrame(lst_jacket_fname, 2, 'jacket')\n",
    "#df_vest = createCategoryDataFrame(lst_vest_fname, 3, 'Vest')\n",
    "df_winterJacket = createCategoryDataFrame(lst_winterJacket_fname, 4, 'winter jacket')\n",
    "df_coat = createCategoryDataFrame(lst_coat_fname, 5, 'coat')\n",
    "df_dress = createCategoryDataFrame(lst_dress_fname, 6, 'dress')\n",
    "df_pants = createCategoryDataFrame(lst_pants_fname, 7, 'pants')\n",
    "df_skirt = createCategoryDataFrame(lst_skirt_fname, 8, 'skirt')"
   ]
  },
  {
   "cell_type": "code",
   "execution_count": 10,
   "metadata": {},
   "outputs": [
    {
     "data": {
      "text/html": [
       "<div>\n",
       "<style scoped>\n",
       "    .dataframe tbody tr th:only-of-type {\n",
       "        vertical-align: middle;\n",
       "    }\n",
       "\n",
       "    .dataframe tbody tr th {\n",
       "        vertical-align: top;\n",
       "    }\n",
       "\n",
       "    .dataframe thead th {\n",
       "        text-align: right;\n",
       "    }\n",
       "</style>\n",
       "<table border=\"1\" class=\"dataframe\">\n",
       "  <thead>\n",
       "    <tr style=\"text-align: right;\">\n",
       "      <th></th>\n",
       "      <th>image_name</th>\n",
       "      <th>category_name</th>\n",
       "      <th>category_label</th>\n",
       "    </tr>\n",
       "  </thead>\n",
       "  <tbody>\n",
       "    <tr>\n",
       "      <th>0</th>\n",
       "      <td>1981_Graphic_Ringer_Tee_img_00000001</td>\n",
       "      <td>shirt</td>\n",
       "      <td>0</td>\n",
       "    </tr>\n",
       "    <tr>\n",
       "      <th>1</th>\n",
       "      <td>1981_Graphic_Ringer_Tee_img_00000002</td>\n",
       "      <td>shirt</td>\n",
       "      <td>0</td>\n",
       "    </tr>\n",
       "    <tr>\n",
       "      <th>2</th>\n",
       "      <td>1981_Graphic_Ringer_Tee_img_00000003</td>\n",
       "      <td>shirt</td>\n",
       "      <td>0</td>\n",
       "    </tr>\n",
       "    <tr>\n",
       "      <th>3</th>\n",
       "      <td>1981_Graphic_Ringer_Tee_img_00000004</td>\n",
       "      <td>shirt</td>\n",
       "      <td>0</td>\n",
       "    </tr>\n",
       "    <tr>\n",
       "      <th>4</th>\n",
       "      <td>1981_Graphic_Ringer_Tee_img_00000005</td>\n",
       "      <td>shirt</td>\n",
       "      <td>0</td>\n",
       "    </tr>\n",
       "  </tbody>\n",
       "</table>\n",
       "</div>"
      ],
      "text/plain": [
       "                             image_name category_name  category_label\n",
       "0  1981_Graphic_Ringer_Tee_img_00000001         shirt               0\n",
       "1  1981_Graphic_Ringer_Tee_img_00000002         shirt               0\n",
       "2  1981_Graphic_Ringer_Tee_img_00000003         shirt               0\n",
       "3  1981_Graphic_Ringer_Tee_img_00000004         shirt               0\n",
       "4  1981_Graphic_Ringer_Tee_img_00000005         shirt               0"
      ]
     },
     "execution_count": 10,
     "metadata": {},
     "output_type": "execute_result"
    }
   ],
   "source": [
    "df_shirt.head()"
   ]
  },
  {
   "cell_type": "code",
   "execution_count": 11,
   "metadata": {},
   "outputs": [
    {
     "data": {
      "text/html": [
       "<div>\n",
       "<style scoped>\n",
       "    .dataframe tbody tr th:only-of-type {\n",
       "        vertical-align: middle;\n",
       "    }\n",
       "\n",
       "    .dataframe tbody tr th {\n",
       "        vertical-align: top;\n",
       "    }\n",
       "\n",
       "    .dataframe thead th {\n",
       "        text-align: right;\n",
       "    }\n",
       "</style>\n",
       "<table border=\"1\" class=\"dataframe\">\n",
       "  <thead>\n",
       "    <tr style=\"text-align: right;\">\n",
       "      <th></th>\n",
       "      <th>image_name</th>\n",
       "      <th>category_name</th>\n",
       "      <th>category_label</th>\n",
       "    </tr>\n",
       "  </thead>\n",
       "  <tbody>\n",
       "    <tr>\n",
       "      <th>0</th>\n",
       "      <td>Hooded_Cotton_Canvas_Anorak_img_00000001</td>\n",
       "      <td>jumper</td>\n",
       "      <td>1</td>\n",
       "    </tr>\n",
       "    <tr>\n",
       "      <th>1</th>\n",
       "      <td>Hooded_Cotton_Canvas_Anorak_img_00000002</td>\n",
       "      <td>jumper</td>\n",
       "      <td>1</td>\n",
       "    </tr>\n",
       "    <tr>\n",
       "      <th>2</th>\n",
       "      <td>Hooded_Cotton_Canvas_Anorak_img_00000003</td>\n",
       "      <td>jumper</td>\n",
       "      <td>1</td>\n",
       "    </tr>\n",
       "    <tr>\n",
       "      <th>3</th>\n",
       "      <td>Hooded_Cotton_Canvas_Anorak_img_00000004</td>\n",
       "      <td>jumper</td>\n",
       "      <td>1</td>\n",
       "    </tr>\n",
       "    <tr>\n",
       "      <th>4</th>\n",
       "      <td>Hooded_Cotton_Canvas_Anorak_img_00000005</td>\n",
       "      <td>jumper</td>\n",
       "      <td>1</td>\n",
       "    </tr>\n",
       "  </tbody>\n",
       "</table>\n",
       "</div>"
      ],
      "text/plain": [
       "                                 image_name category_name  category_label\n",
       "0  Hooded_Cotton_Canvas_Anorak_img_00000001        jumper               1\n",
       "1  Hooded_Cotton_Canvas_Anorak_img_00000002        jumper               1\n",
       "2  Hooded_Cotton_Canvas_Anorak_img_00000003        jumper               1\n",
       "3  Hooded_Cotton_Canvas_Anorak_img_00000004        jumper               1\n",
       "4  Hooded_Cotton_Canvas_Anorak_img_00000005        jumper               1"
      ]
     },
     "execution_count": 11,
     "metadata": {},
     "output_type": "execute_result"
    }
   ],
   "source": [
    "df_jumper.head()"
   ]
  },
  {
   "cell_type": "code",
   "execution_count": 12,
   "metadata": {},
   "outputs": [],
   "source": [
    "df_shirt_attr_combined = pd.merge(df_shirt, df_attr_combined)\n",
    "df_jumper_attr_combined = pd.merge(df_jumper, df_attr_combined)\n",
    "df_jacket_attr_combined = pd.merge(df_jacket, df_attr_combined)\n",
    "df_winterJacket_attr_combined = pd.merge(df_winterJacket, df_attr_combined)\n",
    "df_coat_attr_combined = pd.merge(df_coat, df_attr_combined)\n",
    "df_dress_attr_combined = pd.merge(df_dress, df_attr_combined)\n",
    "df_pants_attr_combined = pd.merge(df_pants, df_attr_combined)\n",
    "df_skirt_attr_combined = pd.merge(df_skirt, df_attr_combined)"
   ]
  },
  {
   "cell_type": "code",
   "execution_count": 13,
   "metadata": {},
   "outputs": [
    {
     "data": {
      "text/html": [
       "<div>\n",
       "<style scoped>\n",
       "    .dataframe tbody tr th:only-of-type {\n",
       "        vertical-align: middle;\n",
       "    }\n",
       "\n",
       "    .dataframe tbody tr th {\n",
       "        vertical-align: top;\n",
       "    }\n",
       "\n",
       "    .dataframe thead th {\n",
       "        text-align: right;\n",
       "    }\n",
       "</style>\n",
       "<table border=\"1\" class=\"dataframe\">\n",
       "  <thead>\n",
       "    <tr style=\"text-align: right;\">\n",
       "      <th></th>\n",
       "      <th>image_name</th>\n",
       "      <th>category_name</th>\n",
       "      <th>category_label</th>\n",
       "      <th>a-line</th>\n",
       "      <th>abstract</th>\n",
       "      <th>abstract chevron</th>\n",
       "      <th>abstract chevron print</th>\n",
       "      <th>abstract diamond</th>\n",
       "      <th>abstract floral</th>\n",
       "      <th>abstract floral print</th>\n",
       "      <th>...</th>\n",
       "      <th>zeppelin</th>\n",
       "      <th>zig</th>\n",
       "      <th>zigzag</th>\n",
       "      <th>zip</th>\n",
       "      <th>zip-front</th>\n",
       "      <th>zip-pocket</th>\n",
       "      <th>zip-up</th>\n",
       "      <th>zipped</th>\n",
       "      <th>zipper</th>\n",
       "      <th>zippered</th>\n",
       "    </tr>\n",
       "  </thead>\n",
       "  <tbody>\n",
       "    <tr>\n",
       "      <th>0</th>\n",
       "      <td>Corduroy_Hooded_Parka_img_00000001</td>\n",
       "      <td>winter jacket</td>\n",
       "      <td>4</td>\n",
       "      <td>-1</td>\n",
       "      <td>-1</td>\n",
       "      <td>-1</td>\n",
       "      <td>-1</td>\n",
       "      <td>-1</td>\n",
       "      <td>-1</td>\n",
       "      <td>-1</td>\n",
       "      <td>...</td>\n",
       "      <td>-1</td>\n",
       "      <td>-1</td>\n",
       "      <td>-1</td>\n",
       "      <td>-1</td>\n",
       "      <td>-1</td>\n",
       "      <td>-1</td>\n",
       "      <td>-1</td>\n",
       "      <td>-1</td>\n",
       "      <td>-1</td>\n",
       "      <td>-1</td>\n",
       "    </tr>\n",
       "    <tr>\n",
       "      <th>1</th>\n",
       "      <td>Corduroy_Hooded_Parka_img_00000002</td>\n",
       "      <td>winter jacket</td>\n",
       "      <td>4</td>\n",
       "      <td>-1</td>\n",
       "      <td>-1</td>\n",
       "      <td>-1</td>\n",
       "      <td>-1</td>\n",
       "      <td>-1</td>\n",
       "      <td>-1</td>\n",
       "      <td>-1</td>\n",
       "      <td>...</td>\n",
       "      <td>-1</td>\n",
       "      <td>-1</td>\n",
       "      <td>-1</td>\n",
       "      <td>-1</td>\n",
       "      <td>-1</td>\n",
       "      <td>-1</td>\n",
       "      <td>-1</td>\n",
       "      <td>-1</td>\n",
       "      <td>-1</td>\n",
       "      <td>-1</td>\n",
       "    </tr>\n",
       "    <tr>\n",
       "      <th>2</th>\n",
       "      <td>Corduroy_Hooded_Parka_img_00000003</td>\n",
       "      <td>winter jacket</td>\n",
       "      <td>4</td>\n",
       "      <td>-1</td>\n",
       "      <td>-1</td>\n",
       "      <td>-1</td>\n",
       "      <td>-1</td>\n",
       "      <td>-1</td>\n",
       "      <td>-1</td>\n",
       "      <td>-1</td>\n",
       "      <td>...</td>\n",
       "      <td>-1</td>\n",
       "      <td>-1</td>\n",
       "      <td>-1</td>\n",
       "      <td>-1</td>\n",
       "      <td>-1</td>\n",
       "      <td>-1</td>\n",
       "      <td>-1</td>\n",
       "      <td>-1</td>\n",
       "      <td>-1</td>\n",
       "      <td>-1</td>\n",
       "    </tr>\n",
       "    <tr>\n",
       "      <th>3</th>\n",
       "      <td>Corduroy_Hooded_Parka_img_00000004</td>\n",
       "      <td>winter jacket</td>\n",
       "      <td>4</td>\n",
       "      <td>-1</td>\n",
       "      <td>-1</td>\n",
       "      <td>-1</td>\n",
       "      <td>-1</td>\n",
       "      <td>-1</td>\n",
       "      <td>-1</td>\n",
       "      <td>-1</td>\n",
       "      <td>...</td>\n",
       "      <td>-1</td>\n",
       "      <td>-1</td>\n",
       "      <td>-1</td>\n",
       "      <td>-1</td>\n",
       "      <td>-1</td>\n",
       "      <td>-1</td>\n",
       "      <td>-1</td>\n",
       "      <td>-1</td>\n",
       "      <td>-1</td>\n",
       "      <td>-1</td>\n",
       "    </tr>\n",
       "    <tr>\n",
       "      <th>4</th>\n",
       "      <td>Corduroy_Hooded_Parka_img_00000005</td>\n",
       "      <td>winter jacket</td>\n",
       "      <td>4</td>\n",
       "      <td>-1</td>\n",
       "      <td>-1</td>\n",
       "      <td>-1</td>\n",
       "      <td>-1</td>\n",
       "      <td>-1</td>\n",
       "      <td>-1</td>\n",
       "      <td>-1</td>\n",
       "      <td>...</td>\n",
       "      <td>-1</td>\n",
       "      <td>-1</td>\n",
       "      <td>-1</td>\n",
       "      <td>-1</td>\n",
       "      <td>-1</td>\n",
       "      <td>-1</td>\n",
       "      <td>-1</td>\n",
       "      <td>-1</td>\n",
       "      <td>-1</td>\n",
       "      <td>-1</td>\n",
       "    </tr>\n",
       "  </tbody>\n",
       "</table>\n",
       "<p>5 rows × 1003 columns</p>\n",
       "</div>"
      ],
      "text/plain": [
       "                           image_name  category_name  category_label  a-line   \\\n",
       "0  Corduroy_Hooded_Parka_img_00000001  winter jacket               4       -1   \n",
       "1  Corduroy_Hooded_Parka_img_00000002  winter jacket               4       -1   \n",
       "2  Corduroy_Hooded_Parka_img_00000003  winter jacket               4       -1   \n",
       "3  Corduroy_Hooded_Parka_img_00000004  winter jacket               4       -1   \n",
       "4  Corduroy_Hooded_Parka_img_00000005  winter jacket               4       -1   \n",
       "\n",
       "   abstract   abstract chevron   abstract chevron print   abstract diamond   \\\n",
       "0         -1                 -1                       -1                 -1   \n",
       "1         -1                 -1                       -1                 -1   \n",
       "2         -1                 -1                       -1                 -1   \n",
       "3         -1                 -1                       -1                 -1   \n",
       "4         -1                 -1                       -1                 -1   \n",
       "\n",
       "   abstract floral   abstract floral print     ...      zeppelin   zig   \\\n",
       "0                -1                      -1    ...             -1    -1   \n",
       "1                -1                      -1    ...             -1    -1   \n",
       "2                -1                      -1    ...             -1    -1   \n",
       "3                -1                      -1    ...             -1    -1   \n",
       "4                -1                      -1    ...             -1    -1   \n",
       "\n",
       "   zigzag   zip   zip-front   zip-pocket   zip-up   zipped   zipper   \\\n",
       "0       -1    -1          -1           -1       -1       -1       -1   \n",
       "1       -1    -1          -1           -1       -1       -1       -1   \n",
       "2       -1    -1          -1           -1       -1       -1       -1   \n",
       "3       -1    -1          -1           -1       -1       -1       -1   \n",
       "4       -1    -1          -1           -1       -1       -1       -1   \n",
       "\n",
       "   zippered   \n",
       "0         -1  \n",
       "1         -1  \n",
       "2         -1  \n",
       "3         -1  \n",
       "4         -1  \n",
       "\n",
       "[5 rows x 1003 columns]"
      ]
     },
     "execution_count": 13,
     "metadata": {},
     "output_type": "execute_result"
    }
   ],
   "source": [
    "df_winterJacket_attr_combined.head()"
   ]
  },
  {
   "cell_type": "code",
   "execution_count": 14,
   "metadata": {},
   "outputs": [],
   "source": [
    "dress_attr_frequency = (df_dress_attr_combined.iloc[:,3:] == 1).sum(axis=0)\n",
    "dress_attr_frequency_sort=dress_attr_frequency.sort_values(ascending = False)"
   ]
  },
  {
   "cell_type": "code",
   "execution_count": 15,
   "metadata": {},
   "outputs": [
    {
     "data": {
      "text/plain": [
       "maxi                  12600\n",
       "print                 12033\n",
       "lace                   9900\n",
       "floral                 9828\n",
       "bodycon                5761\n",
       "shift                  4805\n",
       "chiffon                4297\n",
       "sleeve                 4276\n",
       "fit                    4169\n",
       "flare                  4133\n",
       "sleeveless             3626\n",
       "sheath                 3078\n",
       "floral print           3027\n",
       "crochet                2959\n",
       "embroidered            2904\n",
       "strapless              2892\n",
       "midi                   2833\n",
       "knit                   2817\n",
       "summer                 2550\n",
       "pleated                2547\n",
       "striped                2495\n",
       "cami                   2347\n",
       "stripe                 2300\n",
       "a-line                 2155\n",
       "red                    2141\n",
       "mini                   2053\n",
       "cutout                 2043\n",
       "party                  2025\n",
       "pink                   1930\n",
       "shirt                  1889\n",
       "                      ...  \n",
       "high-rise skinny          0\n",
       "high-rise                 0\n",
       "cami crop                 0\n",
       "heathered v-neck          0\n",
       "classic cotton            0\n",
       "classic crew neck         0\n",
       "leather varsity           0\n",
       "classic pocket            0\n",
       "leather quilted           0\n",
       "fit skinny                0\n",
       "fitted v-neck             0\n",
       "leather paneled           0\n",
       "leather moto              0\n",
       "straight-leg              0\n",
       "cardio                    0\n",
       "purl                      0\n",
       "colorblock pocket         0\n",
       "bike                      0\n",
       "collarless faux           0\n",
       "fold-over                 0\n",
       "foulard                   0\n",
       "clean wash                0\n",
       "classic woven             0\n",
       "knit shawl                0\n",
       "two-button                0\n",
       "knit raglan               0\n",
       "fuzzy knit                0\n",
       "tupac                     0\n",
       "classic skinny            0\n",
       "flat front                0\n",
       "Length: 1000, dtype: int64"
      ]
     },
     "execution_count": 15,
     "metadata": {},
     "output_type": "execute_result"
    }
   ],
   "source": [
    "dress_attr_frequency_sort"
   ]
  },
  {
   "cell_type": "code",
   "execution_count": 16,
   "metadata": {},
   "outputs": [
    {
     "data": {
      "text/plain": [
       "Text(0, 0.5, 'count')"
      ]
     },
     "execution_count": 16,
     "metadata": {},
     "output_type": "execute_result"
    },
    {
     "data": {
      "image/png": "[encoded data removed]",
      "text/plain": [
       "<Figure size 432x288 with 1 Axes>"
      ]
     },
     "metadata": {
      "needs_background": "light"
     },
     "output_type": "display_data"
    }
   ],
   "source": [
    "plt.plot([x for x in range(len(dress_attr_frequency_sort))], [val for val in dress_attr_frequency_sort])\n",
    "plt.title(\"dress attributes distribution\")\n",
    "plt.xlabel(\"attributes\")\n",
    "plt.ylabel(\"count\")\n",
    "#plt.savefig('result/total_attr_distr.png')"
   ]
  },
  {
   "cell_type": "code",
   "execution_count": 20,
   "metadata": {},
   "outputs": [
    {
     "data": {
      "text/plain": [
       "[]"
      ]
     },
     "execution_count": 20,
     "metadata": {},
     "output_type": "execute_result"
    }
   ],
   "source": [
    "[col for col in df_attr_combined if 'white ' in col]"
   ]
  },
  {
   "cell_type": "code",
   "execution_count": 21,
   "metadata": {},
   "outputs": [
    {
     "data": {
      "text/plain": [
       "[]"
      ]
     },
     "execution_count": 21,
     "metadata": {},
     "output_type": "execute_result"
    }
   ],
   "source": [
    "[col for col in df_attr_combined if 'black ' in col]"
   ]
  },
  {
   "cell_type": "code",
   "execution_count": 22,
   "metadata": {},
   "outputs": [
    {
     "data": {
      "text/plain": [
       "[]"
      ]
     },
     "execution_count": 22,
     "metadata": {},
     "output_type": "execute_result"
    }
   ],
   "source": [
    "[col for col in df_attr_combined if 'gray ' in col]"
   ]
  },
  {
   "cell_type": "code",
   "execution_count": 23,
   "metadata": {},
   "outputs": [
    {
     "data": {
      "text/plain": [
       "['pink ']"
      ]
     },
     "execution_count": 23,
     "metadata": {},
     "output_type": "execute_result"
    }
   ],
   "source": [
    "[col for col in df_attr_combined if 'pink ' in col]"
   ]
  },
  {
   "cell_type": "code",
   "execution_count": 24,
   "metadata": {},
   "outputs": [
    {
     "data": {
      "text/plain": [
       "['blurred ',\n",
       " 'checkered ',\n",
       " 'chiffon layered ',\n",
       " 'collared ',\n",
       " 'crochet embroidered ',\n",
       " 'embroidered ',\n",
       " 'embroidered fit ',\n",
       " 'embroidered floral ',\n",
       " 'embroidered gauze ',\n",
       " 'embroidered gauze peasant ',\n",
       " 'embroidered lace ',\n",
       " 'embroidered maxi ',\n",
       " 'embroidered mesh ',\n",
       " 'embroidered peasant ',\n",
       " 'embroidered shift ',\n",
       " 'embroidered woven ',\n",
       " 'flared ',\n",
       " 'floral textured ',\n",
       " 'floral-embroidered ',\n",
       " 'gathered waistline ',\n",
       " 'heathered ',\n",
       " 'heathered knit ',\n",
       " 'heathered stripe ',\n",
       " 'heathered v-neck ',\n",
       " 'lace layered ',\n",
       " 'layered ',\n",
       " 'mirrored ',\n",
       " 'red ',\n",
       " 'shirred ',\n",
       " 'southwestern-inspired ',\n",
       " 'structured ',\n",
       " 'textured ',\n",
       " 'textured woven ',\n",
       " 'tiered ',\n",
       " 'tribal-inspired ',\n",
       " 'zippered ']"
      ]
     },
     "execution_count": 24,
     "metadata": {},
     "output_type": "execute_result"
    }
   ],
   "source": [
    "[col for col in df_attr_combined if 'red ' in col]"
   ]
  },
  {
   "cell_type": "code",
   "execution_count": 102,
   "metadata": {},
   "outputs": [
    {
     "data": {
      "text/plain": [
       "['bell-sleeve ',\n",
       " 'cap-sleeve ',\n",
       " 'cuffed-sleeve ',\n",
       " 'dolman sleeve ',\n",
       " 'dolman-sleeve ',\n",
       " 'drop-sleeve ',\n",
       " 'flutter sleeve ',\n",
       " 'flutter-sleeve ',\n",
       " 'lace sleeve ',\n",
       " 'long sleeve ',\n",
       " 'long-sleeve ',\n",
       " 'raglan sleeve ',\n",
       " 'sleeve ']"
      ]
     },
     "execution_count": 102,
     "metadata": {},
     "output_type": "execute_result"
    }
   ],
   "source": [
    "[col for col in df_attr_combined if 'sleeve ' in col]"
   ]
  },
  {
   "cell_type": "code",
   "execution_count": 103,
   "metadata": {},
   "outputs": [
    {
     "data": {
      "text/plain": [
       "['colorblock ', 'colorblock pocket ', 'colorblocked ', 'watercolor ']"
      ]
     },
     "execution_count": 103,
     "metadata": {},
     "output_type": "execute_result"
    }
   ],
   "source": [
    "[col for col in df_attr_combined if 'color' in col]"
   ]
  },
  {
   "cell_type": "code",
   "execution_count": 104,
   "metadata": {},
   "outputs": [
    {
     "data": {
      "text/plain": [
       "[]"
      ]
     },
     "execution_count": 104,
     "metadata": {},
     "output_type": "execute_result"
    }
   ],
   "source": [
    "[col for col in df_attr_combined if 'gender' in col]"
   ]
  },
  {
   "cell_type": "code",
   "execution_count": 106,
   "metadata": {},
   "outputs": [
    {
     "data": {
      "text/plain": [
       "['girl ', 'girls ']"
      ]
     },
     "execution_count": 106,
     "metadata": {},
     "output_type": "execute_result"
    }
   ],
   "source": [
    "[col for col in df_attr_combined if 'girl' in col]"
   ]
  },
  {
   "cell_type": "code",
   "execution_count": 107,
   "metadata": {},
   "outputs": [
    {
     "data": {
      "text/plain": [
       "['boyfriend ']"
      ]
     },
     "execution_count": 107,
     "metadata": {},
     "output_type": "execute_result"
    }
   ],
   "source": [
    "[col for col in df_attr_combined if 'boy' in col]"
   ]
  },
  {
   "cell_type": "code",
   "execution_count": null,
   "metadata": {},
   "outputs": [],
   "source": []
  },
  {
   "cell_type": "code",
   "execution_count": null,
   "metadata": {},
   "outputs": [],
   "source": []
  },
  {
   "cell_type": "code",
   "execution_count": null,
   "metadata": {},
   "outputs": [],
   "source": []
  },
  {
   "cell_type": "code",
   "execution_count": null,
   "metadata": {},
   "outputs": [],
   "source": []
  },
  {
   "cell_type": "code",
   "execution_count": null,
   "metadata": {},
   "outputs": [],
   "source": []
  },
  {
   "cell_type": "code",
   "execution_count": 85,
   "metadata": {},
   "outputs": [],
   "source": [
    "def isAttribute(lst_attribute):\n",
    "    for col in lst_attribute:\n",
    "        try:\n",
    "            df_attr_combined[col]\n",
    "            print(\"'\"+col+\"' exists\")\n",
    "        except :\n",
    "            print(\"'\"+col+\"' doesn't exist\")\n",
    "            pass"
   ]
  },
  {
   "cell_type": "code",
   "execution_count": 95,
   "metadata": {},
   "outputs": [],
   "source": [
    "lst_color = ['white ', 'black ', 'gray ', 'pink ', 'red ', 'green ', 'blue ', 'brown ', 'navy ', 'beige ', 'yellow ', 'purple ', 'orange ']\n",
    "lst_gender = ['man ', 'woman ']\n",
    "lst_sleeves = ['short sleeves ', 'long sleeves ', 'no sleeves ', 'short ', 'long ']\n",
    "lst_season = ['spring ', 'summer ', 'autumn ', 'winter ']\n",
    "lst_pattern = ['single ', 'checker ', 'dotted ', 'floral ', 'striped ']"
   ]
  },
  {
   "cell_type": "code",
   "execution_count": 97,
   "metadata": {},
   "outputs": [
    {
     "name": "stdout",
     "output_type": "stream",
     "text": [
      "'white ' doesn't exist\n",
      "'black ' doesn't exist\n",
      "'gray ' doesn't exist\n",
      "'pink ' exists\n",
      "'red ' exists\n",
      "'green ' doesn't exist\n",
      "'blue ' doesn't exist\n",
      "'brown ' doesn't exist\n",
      "'navy ' doesn't exist\n",
      "'beige ' doesn't exist\n",
      "'yellow ' doesn't exist\n",
      "'purple ' doesn't exist\n",
      "'orange ' doesn't exist\n"
     ]
    }
   ],
   "source": [
    "isAttribute(lst_color)"
   ]
  },
  {
   "cell_type": "code",
   "execution_count": 98,
   "metadata": {},
   "outputs": [
    {
     "name": "stdout",
     "output_type": "stream",
     "text": [
      "'man ' doesn't exist\n",
      "'woman ' doesn't exist\n"
     ]
    }
   ],
   "source": [
    "isAttribute(lst_gender)"
   ]
  },
  {
   "cell_type": "code",
   "execution_count": 99,
   "metadata": {},
   "outputs": [
    {
     "name": "stdout",
     "output_type": "stream",
     "text": [
      "'short sleeves ' doesn't exist\n",
      "'long sleeves ' doesn't exist\n",
      "'no sleeves ' doesn't exist\n",
      "'short ' doesn't exist\n",
      "'long ' doesn't exist\n"
     ]
    }
   ],
   "source": [
    "isAttribute(lst_sleeves)"
   ]
  },
  {
   "cell_type": "code",
   "execution_count": 100,
   "metadata": {},
   "outputs": [
    {
     "name": "stdout",
     "output_type": "stream",
     "text": [
      "'spring ' doesn't exist\n",
      "'summer ' exists\n",
      "'autumn ' doesn't exist\n",
      "'winter ' doesn't exist\n"
     ]
    }
   ],
   "source": [
    "isAttribute(lst_season)"
   ]
  },
  {
   "cell_type": "code",
   "execution_count": 101,
   "metadata": {},
   "outputs": [
    {
     "name": "stdout",
     "output_type": "stream",
     "text": [
      "'single ' doesn't exist\n",
      "'checker ' doesn't exist\n",
      "'dotted ' exists\n",
      "'floral ' exists\n",
      "'striped ' exists\n"
     ]
    }
   ],
   "source": [
    "isAttribute(lst_pattern)"
   ]
  },
  {
   "cell_type": "code",
   "execution_count": null,
   "metadata": {},
   "outputs": [],
   "source": []
  },
  {
   "cell_type": "code",
   "execution_count": null,
   "metadata": {},
   "outputs": [],
   "source": []
  },
  {
   "cell_type": "code",
   "execution_count": null,
   "metadata": {},
   "outputs": [],
   "source": []
  },
  {
   "cell_type": "code",
   "execution_count": null,
   "metadata": {},
   "outputs": [],
   "source": []
  },
  {
   "cell_type": "code",
   "execution_count": null,
   "metadata": {},
   "outputs": [],
   "source": []
  }
 ],
 "metadata": {
  "kernelspec": {
   "display_name": "Python 3",
   "language": "python",
   "name": "python3"
  },
  "language_info": {
   "codemirror_mode": {
    "name": "ipython",
    "version": 3
   },
   "file_extension": ".py",
   "mimetype": "text/x-python",
   "name": "python",
   "nbconvert_exporter": "python",
   "pygments_lexer": "ipython3",
   "version": "3.7.1"
  }
 },
 "nbformat": 4,
 "nbformat_minor": 2
}
