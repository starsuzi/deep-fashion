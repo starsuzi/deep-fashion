{
 "cells": [
  {
   "cell_type": "code",
   "execution_count": 1,
   "metadata": {},
   "outputs": [],
   "source": [
    "import numpy as np\n",
    "import pandas as pd\n",
    "import csv\n",
    "import matplotlib.pyplot as plt\n",
    "import matplotlib.image as mpimg\n",
    "import os, glob\n",
    "import random"
   ]
  },
  {
   "cell_type": "code",
   "execution_count": 2,
   "metadata": {},
   "outputs": [],
   "source": [
    "df_category_combined = pd.read_csv('./Anno/changed/etri/category_combined.csv')"
   ]
  },
  {
   "cell_type": "code",
   "execution_count": 3,
   "metadata": {},
   "outputs": [
    {
     "data": {
      "text/plain": [
       "289222"
      ]
     },
     "execution_count": 3,
     "metadata": {},
     "output_type": "execute_result"
    }
   ],
   "source": [
    "len(df_category_combined)"
   ]
  },
  {
   "cell_type": "code",
   "execution_count": 4,
   "metadata": {},
   "outputs": [],
   "source": [
    "#len(df_attr_combined)"
   ]
  },
  {
   "cell_type": "code",
   "execution_count": 5,
   "metadata": {},
   "outputs": [],
   "source": [
    "df_attr_combined = pd.read_csv('./Anno/changed/etri/attr_combined.csv')"
   ]
  },
  {
   "cell_type": "code",
   "execution_count": 6,
   "metadata": {},
   "outputs": [
    {
     "data": {
      "text/plain": [
       "\"for i, img in enumerate(df_attr_combined['image_name']):\\n    if '&' in img:\\n        df_attr_combined.loc[i, 'image_name'] = img.replace('&', 'and')\""
      ]
     },
     "execution_count": 6,
     "metadata": {},
     "output_type": "execute_result"
    }
   ],
   "source": [
    "'''for i, img in enumerate(df_attr_combined['image_name']):\n",
    "    if '&' in img:\n",
    "        df_attr_combined.loc[i, 'image_name'] = img.replace('&', 'and')'''"
   ]
  },
  {
   "cell_type": "code",
   "execution_count": 7,
   "metadata": {},
   "outputs": [
    {
     "data": {
      "text/plain": [
       "\"for i, img in enumerate(df_attr_combined['image_name']):\\n    if '_and_' in img:\\n        print(img)\""
      ]
     },
     "execution_count": 7,
     "metadata": {},
     "output_type": "execute_result"
    }
   ],
   "source": [
    "'''for i, img in enumerate(df_attr_combined['image_name']):\n",
    "    if '_and_' in img:\n",
    "        print(img)'''"
   ]
  },
  {
   "cell_type": "code",
   "execution_count": 8,
   "metadata": {},
   "outputs": [
    {
     "data": {
      "text/plain": [
       "\"for i, img in enumerate(df_category_combined['image_name']):\\n    if '&' in img:\\n        df_category_combined.loc[i, 'image_name'] = img.replace('&', 'and')\""
      ]
     },
     "execution_count": 8,
     "metadata": {},
     "output_type": "execute_result"
    }
   ],
   "source": [
    "'''for i, img in enumerate(df_category_combined['image_name']):\n",
    "    if '&' in img:\n",
    "        df_category_combined.loc[i, 'image_name'] = img.replace('&', 'and')'''"
   ]
  },
  {
   "cell_type": "code",
   "execution_count": 9,
   "metadata": {},
   "outputs": [
    {
     "data": {
      "text/plain": [
       "\"for i, img in enumerate(df_attr_combined['image_name']):\\n    if '_and_' in img:\\n        print(img)\""
      ]
     },
     "execution_count": 9,
     "metadata": {},
     "output_type": "execute_result"
    }
   ],
   "source": [
    "'''for i, img in enumerate(df_attr_combined['image_name']):\n",
    "    if '_and_' in img:\n",
    "        print(img)'''"
   ]
  },
  {
   "cell_type": "code",
   "execution_count": 10,
   "metadata": {},
   "outputs": [
    {
     "name": "stdout",
     "output_type": "stream",
     "text": [
      "Floral_Embroidered_Fit_and_Flare_Dress_img_00000021\n",
      "Embroidered_Fit_and_Flare_Dress_img_00000021\n"
     ]
    }
   ],
   "source": [
    "for i, img in enumerate(df_attr_combined['image_name']):\n",
    "    #if '_and_' in img:\n",
    "        #print(img)\n",
    "    if 'Embroidered_Fit_and_Flare_Dress_img_00000021' in img:\n",
    "        print(img)"
   ]
  },
  {
   "cell_type": "code",
   "execution_count": 11,
   "metadata": {},
   "outputs": [
    {
     "data": {
      "text/plain": [
       "289222"
      ]
     },
     "execution_count": 11,
     "metadata": {},
     "output_type": "execute_result"
    }
   ],
   "source": [
    "len(df_attr_combined)"
   ]
  },
  {
   "cell_type": "code",
   "execution_count": 12,
   "metadata": {
    "scrolled": true
   },
   "outputs": [
    {
     "data": {
      "text/html": [
       "<div>\n",
       "<style scoped>\n",
       "    .dataframe tbody tr th:only-of-type {\n",
       "        vertical-align: middle;\n",
       "    }\n",
       "\n",
       "    .dataframe tbody tr th {\n",
       "        vertical-align: top;\n",
       "    }\n",
       "\n",
       "    .dataframe thead th {\n",
       "        text-align: right;\n",
       "    }\n",
       "</style>\n",
       "<table border=\"1\" class=\"dataframe\">\n",
       "  <thead>\n",
       "    <tr style=\"text-align: right;\">\n",
       "      <th></th>\n",
       "      <th>image_name</th>\n",
       "      <th>a-line</th>\n",
       "      <th>abstract</th>\n",
       "      <th>abstract chevron</th>\n",
       "      <th>abstract chevron print</th>\n",
       "      <th>abstract diamond</th>\n",
       "      <th>abstract floral</th>\n",
       "      <th>abstract floral print</th>\n",
       "      <th>abstract geo</th>\n",
       "      <th>abstract geo print</th>\n",
       "      <th>...</th>\n",
       "      <th>zeppelin</th>\n",
       "      <th>zig</th>\n",
       "      <th>zigzag</th>\n",
       "      <th>zip</th>\n",
       "      <th>zip-front</th>\n",
       "      <th>zip-pocket</th>\n",
       "      <th>zip-up</th>\n",
       "      <th>zipped</th>\n",
       "      <th>zipper</th>\n",
       "      <th>zippered</th>\n",
       "    </tr>\n",
       "  </thead>\n",
       "  <tbody>\n",
       "    <tr>\n",
       "      <th>0</th>\n",
       "      <td>Sheer_Pleated-Front_Blouse_img_00000001</td>\n",
       "      <td>-1</td>\n",
       "      <td>-1</td>\n",
       "      <td>-1</td>\n",
       "      <td>-1</td>\n",
       "      <td>-1</td>\n",
       "      <td>-1</td>\n",
       "      <td>-1</td>\n",
       "      <td>-1</td>\n",
       "      <td>-1</td>\n",
       "      <td>...</td>\n",
       "      <td>-1</td>\n",
       "      <td>-1</td>\n",
       "      <td>-1</td>\n",
       "      <td>-1</td>\n",
       "      <td>-1</td>\n",
       "      <td>-1</td>\n",
       "      <td>-1</td>\n",
       "      <td>-1</td>\n",
       "      <td>-1</td>\n",
       "      <td>-1</td>\n",
       "    </tr>\n",
       "    <tr>\n",
       "      <th>1</th>\n",
       "      <td>Sheer_Pleated-Front_Blouse_img_00000002</td>\n",
       "      <td>-1</td>\n",
       "      <td>-1</td>\n",
       "      <td>-1</td>\n",
       "      <td>-1</td>\n",
       "      <td>-1</td>\n",
       "      <td>-1</td>\n",
       "      <td>-1</td>\n",
       "      <td>-1</td>\n",
       "      <td>-1</td>\n",
       "      <td>...</td>\n",
       "      <td>-1</td>\n",
       "      <td>-1</td>\n",
       "      <td>-1</td>\n",
       "      <td>-1</td>\n",
       "      <td>-1</td>\n",
       "      <td>-1</td>\n",
       "      <td>-1</td>\n",
       "      <td>-1</td>\n",
       "      <td>-1</td>\n",
       "      <td>-1</td>\n",
       "    </tr>\n",
       "    <tr>\n",
       "      <th>2</th>\n",
       "      <td>Sheer_Pleated-Front_Blouse_img_00000003</td>\n",
       "      <td>-1</td>\n",
       "      <td>-1</td>\n",
       "      <td>-1</td>\n",
       "      <td>-1</td>\n",
       "      <td>-1</td>\n",
       "      <td>-1</td>\n",
       "      <td>-1</td>\n",
       "      <td>-1</td>\n",
       "      <td>-1</td>\n",
       "      <td>...</td>\n",
       "      <td>-1</td>\n",
       "      <td>-1</td>\n",
       "      <td>-1</td>\n",
       "      <td>-1</td>\n",
       "      <td>-1</td>\n",
       "      <td>-1</td>\n",
       "      <td>-1</td>\n",
       "      <td>-1</td>\n",
       "      <td>-1</td>\n",
       "      <td>-1</td>\n",
       "    </tr>\n",
       "    <tr>\n",
       "      <th>3</th>\n",
       "      <td>Sheer_Pleated-Front_Blouse_img_00000004</td>\n",
       "      <td>-1</td>\n",
       "      <td>-1</td>\n",
       "      <td>-1</td>\n",
       "      <td>-1</td>\n",
       "      <td>-1</td>\n",
       "      <td>-1</td>\n",
       "      <td>-1</td>\n",
       "      <td>-1</td>\n",
       "      <td>-1</td>\n",
       "      <td>...</td>\n",
       "      <td>-1</td>\n",
       "      <td>-1</td>\n",
       "      <td>-1</td>\n",
       "      <td>-1</td>\n",
       "      <td>-1</td>\n",
       "      <td>-1</td>\n",
       "      <td>-1</td>\n",
       "      <td>-1</td>\n",
       "      <td>-1</td>\n",
       "      <td>-1</td>\n",
       "    </tr>\n",
       "    <tr>\n",
       "      <th>4</th>\n",
       "      <td>Sheer_Pleated-Front_Blouse_img_00000005</td>\n",
       "      <td>-1</td>\n",
       "      <td>-1</td>\n",
       "      <td>-1</td>\n",
       "      <td>-1</td>\n",
       "      <td>-1</td>\n",
       "      <td>-1</td>\n",
       "      <td>-1</td>\n",
       "      <td>-1</td>\n",
       "      <td>-1</td>\n",
       "      <td>...</td>\n",
       "      <td>-1</td>\n",
       "      <td>-1</td>\n",
       "      <td>-1</td>\n",
       "      <td>-1</td>\n",
       "      <td>-1</td>\n",
       "      <td>-1</td>\n",
       "      <td>-1</td>\n",
       "      <td>-1</td>\n",
       "      <td>-1</td>\n",
       "      <td>-1</td>\n",
       "    </tr>\n",
       "  </tbody>\n",
       "</table>\n",
       "<p>5 rows × 1001 columns</p>\n",
       "</div>"
      ],
      "text/plain": [
       "                                image_name  a-line   abstract   \\\n",
       "0  Sheer_Pleated-Front_Blouse_img_00000001       -1         -1   \n",
       "1  Sheer_Pleated-Front_Blouse_img_00000002       -1         -1   \n",
       "2  Sheer_Pleated-Front_Blouse_img_00000003       -1         -1   \n",
       "3  Sheer_Pleated-Front_Blouse_img_00000004       -1         -1   \n",
       "4  Sheer_Pleated-Front_Blouse_img_00000005       -1         -1   \n",
       "\n",
       "   abstract chevron   abstract chevron print   abstract diamond   \\\n",
       "0                 -1                       -1                 -1   \n",
       "1                 -1                       -1                 -1   \n",
       "2                 -1                       -1                 -1   \n",
       "3                 -1                       -1                 -1   \n",
       "4                 -1                       -1                 -1   \n",
       "\n",
       "   abstract floral   abstract floral print   abstract geo   \\\n",
       "0                -1                      -1             -1   \n",
       "1                -1                      -1             -1   \n",
       "2                -1                      -1             -1   \n",
       "3                -1                      -1             -1   \n",
       "4                -1                      -1             -1   \n",
       "\n",
       "   abstract geo print     ...      zeppelin   zig   zigzag   zip   zip-front   \\\n",
       "0                   -1    ...             -1    -1       -1    -1          -1   \n",
       "1                   -1    ...             -1    -1       -1    -1          -1   \n",
       "2                   -1    ...             -1    -1       -1    -1          -1   \n",
       "3                   -1    ...             -1    -1       -1    -1          -1   \n",
       "4                   -1    ...             -1    -1       -1    -1          -1   \n",
       "\n",
       "   zip-pocket   zip-up   zipped   zipper   zippered   \n",
       "0           -1       -1       -1       -1         -1  \n",
       "1           -1       -1       -1       -1         -1  \n",
       "2           -1       -1       -1       -1         -1  \n",
       "3           -1       -1       -1       -1         -1  \n",
       "4           -1       -1       -1       -1         -1  \n",
       "\n",
       "[5 rows x 1001 columns]"
      ]
     },
     "execution_count": 12,
     "metadata": {},
     "output_type": "execute_result"
    }
   ],
   "source": [
    "df_attr_combined.head()"
   ]
  },
  {
   "cell_type": "code",
   "execution_count": 13,
   "metadata": {
    "scrolled": true
   },
   "outputs": [
    {
     "data": {
      "text/html": [
       "<div>\n",
       "<style scoped>\n",
       "    .dataframe tbody tr th:only-of-type {\n",
       "        vertical-align: middle;\n",
       "    }\n",
       "\n",
       "    .dataframe tbody tr th {\n",
       "        vertical-align: top;\n",
       "    }\n",
       "\n",
       "    .dataframe thead th {\n",
       "        text-align: right;\n",
       "    }\n",
       "</style>\n",
       "<table border=\"1\" class=\"dataframe\">\n",
       "  <thead>\n",
       "    <tr style=\"text-align: right;\">\n",
       "      <th></th>\n",
       "      <th>category_label</th>\n",
       "      <th>category_name</th>\n",
       "      <th>category_type</th>\n",
       "      <th>image_name</th>\n",
       "    </tr>\n",
       "  </thead>\n",
       "  <tbody>\n",
       "    <tr>\n",
       "      <th>0</th>\n",
       "      <td>1</td>\n",
       "      <td>Anorak</td>\n",
       "      <td>1</td>\n",
       "      <td>Hooded_Cotton_Canvas_Anorak_img_00000001</td>\n",
       "    </tr>\n",
       "    <tr>\n",
       "      <th>1</th>\n",
       "      <td>1</td>\n",
       "      <td>Anorak</td>\n",
       "      <td>1</td>\n",
       "      <td>Hooded_Cotton_Canvas_Anorak_img_00000002</td>\n",
       "    </tr>\n",
       "    <tr>\n",
       "      <th>2</th>\n",
       "      <td>1</td>\n",
       "      <td>Anorak</td>\n",
       "      <td>1</td>\n",
       "      <td>Hooded_Cotton_Canvas_Anorak_img_00000003</td>\n",
       "    </tr>\n",
       "    <tr>\n",
       "      <th>3</th>\n",
       "      <td>1</td>\n",
       "      <td>Anorak</td>\n",
       "      <td>1</td>\n",
       "      <td>Hooded_Cotton_Canvas_Anorak_img_00000004</td>\n",
       "    </tr>\n",
       "    <tr>\n",
       "      <th>4</th>\n",
       "      <td>1</td>\n",
       "      <td>Anorak</td>\n",
       "      <td>1</td>\n",
       "      <td>Hooded_Cotton_Canvas_Anorak_img_00000005</td>\n",
       "    </tr>\n",
       "  </tbody>\n",
       "</table>\n",
       "</div>"
      ],
      "text/plain": [
       "   category_label category_name  category_type  \\\n",
       "0               1        Anorak              1   \n",
       "1               1        Anorak              1   \n",
       "2               1        Anorak              1   \n",
       "3               1        Anorak              1   \n",
       "4               1        Anorak              1   \n",
       "\n",
       "                                 image_name  \n",
       "0  Hooded_Cotton_Canvas_Anorak_img_00000001  \n",
       "1  Hooded_Cotton_Canvas_Anorak_img_00000002  \n",
       "2  Hooded_Cotton_Canvas_Anorak_img_00000003  \n",
       "3  Hooded_Cotton_Canvas_Anorak_img_00000004  \n",
       "4  Hooded_Cotton_Canvas_Anorak_img_00000005  "
      ]
     },
     "execution_count": 13,
     "metadata": {},
     "output_type": "execute_result"
    }
   ],
   "source": [
    "df_category_combined.head()"
   ]
  },
  {
   "cell_type": "code",
   "execution_count": 14,
   "metadata": {},
   "outputs": [],
   "source": [
    "lst_coat_fname = [f.name[:-4] for f in os.scandir('./coat') if f.is_file()]\n",
    "lst_dress_fname = [f.name[:-4] for f in os.scandir('./dress') if f.is_file()]\n",
    "lst_jacket_fname = [f.name[:-4] for f in os.scandir('./jacket') if f.is_file()]\n",
    "lst_jumper_fname = [f.name[:-4] for f in os.scandir('./jumper') if f.is_file()]\n",
    "lst_pants_fname = [f.name[:-4] for f in os.scandir('./pants') if f.is_file()]\n",
    "lst_shirt_fname = [f.name[:-4] for f in os.scandir('./shirt') if f.is_file()]\n",
    "lst_skirt_fname = [f.name[:-4] for f in os.scandir('./skirt') if f.is_file()]\n",
    "lst_winterJacket_fname = [f.name[:-4] for f in os.scandir('./winter jacket') if f.is_file()]"
   ]
  },
  {
   "cell_type": "code",
   "execution_count": 15,
   "metadata": {},
   "outputs": [],
   "source": [
    "def createCategoryDataFrame(lst_category_fname, category_label, category_name):\n",
    "    \n",
    "    df_category = pd.DataFrame(lst_category_fname, columns=['image_name'])\n",
    "    df_category.insert(1,'category_label', category_label)\n",
    "    df_category.insert(1,'category_name', category_name)\n",
    "\n",
    "    return df_category"
   ]
  },
  {
   "cell_type": "code",
   "execution_count": 16,
   "metadata": {},
   "outputs": [],
   "source": [
    "df_shirt = createCategoryDataFrame(lst_shirt_fname, 0, 'shirt')\n",
    "df_jumper = createCategoryDataFrame(lst_jumper_fname, 1, 'jumper')\n",
    "df_jacket = createCategoryDataFrame(lst_jacket_fname, 2, 'jacket')\n",
    "#df_vest = createCategoryDataFrame(lst_vest_fname, 3, 'Vest')\n",
    "df_winterJacket = createCategoryDataFrame(lst_winterJacket_fname, 4, 'winter jacket')\n",
    "df_coat = createCategoryDataFrame(lst_coat_fname, 5, 'coat')\n",
    "df_dress = createCategoryDataFrame(lst_dress_fname, 6, 'dress')\n",
    "df_pants = createCategoryDataFrame(lst_pants_fname, 7, 'pants')\n",
    "df_skirt = createCategoryDataFrame(lst_skirt_fname, 8, 'skirt')"
   ]
  },
  {
   "cell_type": "code",
   "execution_count": 17,
   "metadata": {},
   "outputs": [
    {
     "data": {
      "text/html": [
       "<div>\n",
       "<style scoped>\n",
       "    .dataframe tbody tr th:only-of-type {\n",
       "        vertical-align: middle;\n",
       "    }\n",
       "\n",
       "    .dataframe tbody tr th {\n",
       "        vertical-align: top;\n",
       "    }\n",
       "\n",
       "    .dataframe thead th {\n",
       "        text-align: right;\n",
       "    }\n",
       "</style>\n",
       "<table border=\"1\" class=\"dataframe\">\n",
       "  <thead>\n",
       "    <tr style=\"text-align: right;\">\n",
       "      <th></th>\n",
       "      <th>image_name</th>\n",
       "      <th>category_name</th>\n",
       "      <th>category_label</th>\n",
       "    </tr>\n",
       "  </thead>\n",
       "  <tbody>\n",
       "    <tr>\n",
       "      <th>0</th>\n",
       "      <td>1981_Graphic_Ringer_Tee_img_00000001</td>\n",
       "      <td>shirt</td>\n",
       "      <td>0</td>\n",
       "    </tr>\n",
       "    <tr>\n",
       "      <th>1</th>\n",
       "      <td>1981_Graphic_Ringer_Tee_img_00000002</td>\n",
       "      <td>shirt</td>\n",
       "      <td>0</td>\n",
       "    </tr>\n",
       "    <tr>\n",
       "      <th>2</th>\n",
       "      <td>1981_Graphic_Ringer_Tee_img_00000003</td>\n",
       "      <td>shirt</td>\n",
       "      <td>0</td>\n",
       "    </tr>\n",
       "    <tr>\n",
       "      <th>3</th>\n",
       "      <td>1981_Graphic_Ringer_Tee_img_00000004</td>\n",
       "      <td>shirt</td>\n",
       "      <td>0</td>\n",
       "    </tr>\n",
       "    <tr>\n",
       "      <th>4</th>\n",
       "      <td>1981_Graphic_Ringer_Tee_img_00000005</td>\n",
       "      <td>shirt</td>\n",
       "      <td>0</td>\n",
       "    </tr>\n",
       "  </tbody>\n",
       "</table>\n",
       "</div>"
      ],
      "text/plain": [
       "                             image_name category_name  category_label\n",
       "0  1981_Graphic_Ringer_Tee_img_00000001         shirt               0\n",
       "1  1981_Graphic_Ringer_Tee_img_00000002         shirt               0\n",
       "2  1981_Graphic_Ringer_Tee_img_00000003         shirt               0\n",
       "3  1981_Graphic_Ringer_Tee_img_00000004         shirt               0\n",
       "4  1981_Graphic_Ringer_Tee_img_00000005         shirt               0"
      ]
     },
     "execution_count": 17,
     "metadata": {},
     "output_type": "execute_result"
    }
   ],
   "source": [
    "df_shirt.head()"
   ]
  },
  {
   "cell_type": "code",
   "execution_count": 18,
   "metadata": {},
   "outputs": [
    {
     "data": {
      "text/html": [
       "<div>\n",
       "<style scoped>\n",
       "    .dataframe tbody tr th:only-of-type {\n",
       "        vertical-align: middle;\n",
       "    }\n",
       "\n",
       "    .dataframe tbody tr th {\n",
       "        vertical-align: top;\n",
       "    }\n",
       "\n",
       "    .dataframe thead th {\n",
       "        text-align: right;\n",
       "    }\n",
       "</style>\n",
       "<table border=\"1\" class=\"dataframe\">\n",
       "  <thead>\n",
       "    <tr style=\"text-align: right;\">\n",
       "      <th></th>\n",
       "      <th>image_name</th>\n",
       "      <th>category_name</th>\n",
       "      <th>category_label</th>\n",
       "    </tr>\n",
       "  </thead>\n",
       "  <tbody>\n",
       "    <tr>\n",
       "      <th>0</th>\n",
       "      <td>Hooded_Cotton_Canvas_Anorak_img_00000001</td>\n",
       "      <td>jumper</td>\n",
       "      <td>1</td>\n",
       "    </tr>\n",
       "    <tr>\n",
       "      <th>1</th>\n",
       "      <td>Hooded_Cotton_Canvas_Anorak_img_00000002</td>\n",
       "      <td>jumper</td>\n",
       "      <td>1</td>\n",
       "    </tr>\n",
       "    <tr>\n",
       "      <th>2</th>\n",
       "      <td>Hooded_Cotton_Canvas_Anorak_img_00000003</td>\n",
       "      <td>jumper</td>\n",
       "      <td>1</td>\n",
       "    </tr>\n",
       "    <tr>\n",
       "      <th>3</th>\n",
       "      <td>Hooded_Cotton_Canvas_Anorak_img_00000004</td>\n",
       "      <td>jumper</td>\n",
       "      <td>1</td>\n",
       "    </tr>\n",
       "    <tr>\n",
       "      <th>4</th>\n",
       "      <td>Hooded_Cotton_Canvas_Anorak_img_00000005</td>\n",
       "      <td>jumper</td>\n",
       "      <td>1</td>\n",
       "    </tr>\n",
       "  </tbody>\n",
       "</table>\n",
       "</div>"
      ],
      "text/plain": [
       "                                 image_name category_name  category_label\n",
       "0  Hooded_Cotton_Canvas_Anorak_img_00000001        jumper               1\n",
       "1  Hooded_Cotton_Canvas_Anorak_img_00000002        jumper               1\n",
       "2  Hooded_Cotton_Canvas_Anorak_img_00000003        jumper               1\n",
       "3  Hooded_Cotton_Canvas_Anorak_img_00000004        jumper               1\n",
       "4  Hooded_Cotton_Canvas_Anorak_img_00000005        jumper               1"
      ]
     },
     "execution_count": 18,
     "metadata": {},
     "output_type": "execute_result"
    }
   ],
   "source": [
    "df_jumper.head()"
   ]
  },
  {
   "cell_type": "code",
   "execution_count": 19,
   "metadata": {},
   "outputs": [],
   "source": [
    "df_shirt_attr_combined = pd.merge(df_shirt, df_attr_combined)\n",
    "df_jumper_attr_combined = pd.merge(df_jumper, df_attr_combined)\n",
    "df_jacket_attr_combined = pd.merge(df_jacket, df_attr_combined)\n",
    "df_winterJacket_attr_combined = pd.merge(df_winterJacket, df_attr_combined)\n",
    "df_coat_attr_combined = pd.merge(df_coat, df_attr_combined)\n",
    "df_dress_attr_combined = pd.merge(df_dress, df_attr_combined)\n",
    "df_pants_attr_combined = pd.merge(df_pants, df_attr_combined)\n",
    "df_skirt_attr_combined = pd.merge(df_skirt, df_attr_combined)"
   ]
  },
  {
   "cell_type": "code",
   "execution_count": 20,
   "metadata": {},
   "outputs": [
    {
     "data": {
      "text/plain": [
       "9805"
      ]
     },
     "execution_count": 20,
     "metadata": {},
     "output_type": "execute_result"
    }
   ],
   "source": [
    "len(df_skirt_attr_combined)"
   ]
  },
  {
   "cell_type": "code",
   "execution_count": 21,
   "metadata": {},
   "outputs": [
    {
     "data": {
      "text/html": [
       "<div>\n",
       "<style scoped>\n",
       "    .dataframe tbody tr th:only-of-type {\n",
       "        vertical-align: middle;\n",
       "    }\n",
       "\n",
       "    .dataframe tbody tr th {\n",
       "        vertical-align: top;\n",
       "    }\n",
       "\n",
       "    .dataframe thead th {\n",
       "        text-align: right;\n",
       "    }\n",
       "</style>\n",
       "<table border=\"1\" class=\"dataframe\">\n",
       "  <thead>\n",
       "    <tr style=\"text-align: right;\">\n",
       "      <th></th>\n",
       "      <th>image_name</th>\n",
       "      <th>category_name</th>\n",
       "      <th>category_label</th>\n",
       "      <th>a-line</th>\n",
       "      <th>abstract</th>\n",
       "      <th>abstract chevron</th>\n",
       "      <th>abstract chevron print</th>\n",
       "      <th>abstract diamond</th>\n",
       "      <th>abstract floral</th>\n",
       "      <th>abstract floral print</th>\n",
       "      <th>...</th>\n",
       "      <th>zeppelin</th>\n",
       "      <th>zig</th>\n",
       "      <th>zigzag</th>\n",
       "      <th>zip</th>\n",
       "      <th>zip-front</th>\n",
       "      <th>zip-pocket</th>\n",
       "      <th>zip-up</th>\n",
       "      <th>zipped</th>\n",
       "      <th>zipper</th>\n",
       "      <th>zippered</th>\n",
       "    </tr>\n",
       "  </thead>\n",
       "  <tbody>\n",
       "    <tr>\n",
       "      <th>0</th>\n",
       "      <td>Boxy_Faux_Fur_Jacket_img_00000015</td>\n",
       "      <td>winter jacket</td>\n",
       "      <td>4</td>\n",
       "      <td>-1</td>\n",
       "      <td>-1</td>\n",
       "      <td>-1</td>\n",
       "      <td>-1</td>\n",
       "      <td>-1</td>\n",
       "      <td>-1</td>\n",
       "      <td>-1</td>\n",
       "      <td>...</td>\n",
       "      <td>-1</td>\n",
       "      <td>-1</td>\n",
       "      <td>-1</td>\n",
       "      <td>-1</td>\n",
       "      <td>-1</td>\n",
       "      <td>-1</td>\n",
       "      <td>-1</td>\n",
       "      <td>-1</td>\n",
       "      <td>-1</td>\n",
       "      <td>-1</td>\n",
       "    </tr>\n",
       "    <tr>\n",
       "      <th>1</th>\n",
       "      <td>Boxy_Faux_Fur_Jacket_img_00000017</td>\n",
       "      <td>winter jacket</td>\n",
       "      <td>4</td>\n",
       "      <td>-1</td>\n",
       "      <td>-1</td>\n",
       "      <td>-1</td>\n",
       "      <td>-1</td>\n",
       "      <td>-1</td>\n",
       "      <td>-1</td>\n",
       "      <td>-1</td>\n",
       "      <td>...</td>\n",
       "      <td>-1</td>\n",
       "      <td>-1</td>\n",
       "      <td>-1</td>\n",
       "      <td>-1</td>\n",
       "      <td>-1</td>\n",
       "      <td>-1</td>\n",
       "      <td>-1</td>\n",
       "      <td>-1</td>\n",
       "      <td>-1</td>\n",
       "      <td>-1</td>\n",
       "    </tr>\n",
       "    <tr>\n",
       "      <th>2</th>\n",
       "      <td>Boxy_Faux_Fur_Jacket_img_00000018</td>\n",
       "      <td>winter jacket</td>\n",
       "      <td>4</td>\n",
       "      <td>-1</td>\n",
       "      <td>-1</td>\n",
       "      <td>-1</td>\n",
       "      <td>-1</td>\n",
       "      <td>-1</td>\n",
       "      <td>-1</td>\n",
       "      <td>-1</td>\n",
       "      <td>...</td>\n",
       "      <td>-1</td>\n",
       "      <td>-1</td>\n",
       "      <td>-1</td>\n",
       "      <td>-1</td>\n",
       "      <td>-1</td>\n",
       "      <td>-1</td>\n",
       "      <td>-1</td>\n",
       "      <td>-1</td>\n",
       "      <td>-1</td>\n",
       "      <td>-1</td>\n",
       "    </tr>\n",
       "    <tr>\n",
       "      <th>3</th>\n",
       "      <td>Boxy_Faux_Fur_Jacket_img_00000019</td>\n",
       "      <td>winter jacket</td>\n",
       "      <td>4</td>\n",
       "      <td>-1</td>\n",
       "      <td>-1</td>\n",
       "      <td>-1</td>\n",
       "      <td>-1</td>\n",
       "      <td>-1</td>\n",
       "      <td>-1</td>\n",
       "      <td>-1</td>\n",
       "      <td>...</td>\n",
       "      <td>-1</td>\n",
       "      <td>-1</td>\n",
       "      <td>-1</td>\n",
       "      <td>-1</td>\n",
       "      <td>-1</td>\n",
       "      <td>-1</td>\n",
       "      <td>-1</td>\n",
       "      <td>-1</td>\n",
       "      <td>-1</td>\n",
       "      <td>-1</td>\n",
       "    </tr>\n",
       "    <tr>\n",
       "      <th>4</th>\n",
       "      <td>Boxy_Faux_Fur_Jacket_img_00000020</td>\n",
       "      <td>winter jacket</td>\n",
       "      <td>4</td>\n",
       "      <td>-1</td>\n",
       "      <td>-1</td>\n",
       "      <td>-1</td>\n",
       "      <td>-1</td>\n",
       "      <td>-1</td>\n",
       "      <td>-1</td>\n",
       "      <td>-1</td>\n",
       "      <td>...</td>\n",
       "      <td>-1</td>\n",
       "      <td>-1</td>\n",
       "      <td>-1</td>\n",
       "      <td>-1</td>\n",
       "      <td>-1</td>\n",
       "      <td>-1</td>\n",
       "      <td>-1</td>\n",
       "      <td>-1</td>\n",
       "      <td>-1</td>\n",
       "      <td>-1</td>\n",
       "    </tr>\n",
       "  </tbody>\n",
       "</table>\n",
       "<p>5 rows × 1003 columns</p>\n",
       "</div>"
      ],
      "text/plain": [
       "                          image_name  category_name  category_label  a-line   \\\n",
       "0  Boxy_Faux_Fur_Jacket_img_00000015  winter jacket               4       -1   \n",
       "1  Boxy_Faux_Fur_Jacket_img_00000017  winter jacket               4       -1   \n",
       "2  Boxy_Faux_Fur_Jacket_img_00000018  winter jacket               4       -1   \n",
       "3  Boxy_Faux_Fur_Jacket_img_00000019  winter jacket               4       -1   \n",
       "4  Boxy_Faux_Fur_Jacket_img_00000020  winter jacket               4       -1   \n",
       "\n",
       "   abstract   abstract chevron   abstract chevron print   abstract diamond   \\\n",
       "0         -1                 -1                       -1                 -1   \n",
       "1         -1                 -1                       -1                 -1   \n",
       "2         -1                 -1                       -1                 -1   \n",
       "3         -1                 -1                       -1                 -1   \n",
       "4         -1                 -1                       -1                 -1   \n",
       "\n",
       "   abstract floral   abstract floral print     ...      zeppelin   zig   \\\n",
       "0                -1                      -1    ...             -1    -1   \n",
       "1                -1                      -1    ...             -1    -1   \n",
       "2                -1                      -1    ...             -1    -1   \n",
       "3                -1                      -1    ...             -1    -1   \n",
       "4                -1                      -1    ...             -1    -1   \n",
       "\n",
       "   zigzag   zip   zip-front   zip-pocket   zip-up   zipped   zipper   \\\n",
       "0       -1    -1          -1           -1       -1       -1       -1   \n",
       "1       -1    -1          -1           -1       -1       -1       -1   \n",
       "2       -1    -1          -1           -1       -1       -1       -1   \n",
       "3       -1    -1          -1           -1       -1       -1       -1   \n",
       "4       -1    -1          -1           -1       -1       -1       -1   \n",
       "\n",
       "   zippered   \n",
       "0         -1  \n",
       "1         -1  \n",
       "2         -1  \n",
       "3         -1  \n",
       "4         -1  \n",
       "\n",
       "[5 rows x 1003 columns]"
      ]
     },
     "execution_count": 21,
     "metadata": {},
     "output_type": "execute_result"
    }
   ],
   "source": [
    "df_winterJacket_attr_combined.head()"
   ]
  },
  {
   "cell_type": "code",
   "execution_count": 22,
   "metadata": {},
   "outputs": [],
   "source": [
    "#dress_attr_combined.csv\n",
    "file_name = \"dress_attr_combined.csv\"\n",
    "df_dress_attr_combined.to_csv(\"./Anno/changed/etri/\"+file_name, index=None)"
   ]
  },
  {
   "cell_type": "code",
   "execution_count": 23,
   "metadata": {},
   "outputs": [],
   "source": [
    "#pants_attr_combined.csv\n",
    "file_name = \"pants_attr_combined.csv\"\n",
    "df_pants_attr_combined.to_csv(\"./Anno/changed/etri/\"+file_name, index=None)"
   ]
  },
  {
   "cell_type": "code",
   "execution_count": 24,
   "metadata": {},
   "outputs": [],
   "source": [
    "#skirt_attr_combined.csv\n",
    "file_name = \"skirt_attr_combined.csv\"\n",
    "df_skirt_attr_combined.to_csv(\"./Anno/changed/etri/\"+file_name, index=None)"
   ]
  },
  {
   "cell_type": "code",
   "execution_count": 25,
   "metadata": {},
   "outputs": [],
   "source": [
    "df_attr_category_combined = pd.concat([df_shirt_attr_combined, df_jumper_attr_combined, df_jacket_attr_combined, df_winterJacket_attr_combined, df_coat_attr_combined, df_dress_attr_combined, df_pants_attr_combined, df_skirt_attr_combined],\n",
    "                                      ignore_index=True)"
   ]
  },
  {
   "cell_type": "code",
   "execution_count": 26,
   "metadata": {},
   "outputs": [
    {
     "data": {
      "text/plain": [
       "207665"
      ]
     },
     "execution_count": 26,
     "metadata": {},
     "output_type": "execute_result"
    }
   ],
   "source": [
    "len(df_attr_category_combined)"
   ]
  },
  {
   "cell_type": "code",
   "execution_count": 27,
   "metadata": {
    "scrolled": true
   },
   "outputs": [
    {
     "data": {
      "text/html": [
       "<div>\n",
       "<style scoped>\n",
       "    .dataframe tbody tr th:only-of-type {\n",
       "        vertical-align: middle;\n",
       "    }\n",
       "\n",
       "    .dataframe tbody tr th {\n",
       "        vertical-align: top;\n",
       "    }\n",
       "\n",
       "    .dataframe thead th {\n",
       "        text-align: right;\n",
       "    }\n",
       "</style>\n",
       "<table border=\"1\" class=\"dataframe\">\n",
       "  <thead>\n",
       "    <tr style=\"text-align: right;\">\n",
       "      <th></th>\n",
       "      <th>image_name</th>\n",
       "      <th>category_name</th>\n",
       "      <th>category_label</th>\n",
       "      <th>a-line</th>\n",
       "      <th>abstract</th>\n",
       "      <th>abstract chevron</th>\n",
       "      <th>abstract chevron print</th>\n",
       "      <th>abstract diamond</th>\n",
       "      <th>abstract floral</th>\n",
       "      <th>abstract floral print</th>\n",
       "      <th>...</th>\n",
       "      <th>zeppelin</th>\n",
       "      <th>zig</th>\n",
       "      <th>zigzag</th>\n",
       "      <th>zip</th>\n",
       "      <th>zip-front</th>\n",
       "      <th>zip-pocket</th>\n",
       "      <th>zip-up</th>\n",
       "      <th>zipped</th>\n",
       "      <th>zipper</th>\n",
       "      <th>zippered</th>\n",
       "    </tr>\n",
       "  </thead>\n",
       "  <tbody>\n",
       "    <tr>\n",
       "      <th>0</th>\n",
       "      <td>1981_Graphic_Ringer_Tee_img_00000001</td>\n",
       "      <td>shirt</td>\n",
       "      <td>0</td>\n",
       "      <td>-1</td>\n",
       "      <td>-1</td>\n",
       "      <td>-1</td>\n",
       "      <td>-1</td>\n",
       "      <td>-1</td>\n",
       "      <td>-1</td>\n",
       "      <td>-1</td>\n",
       "      <td>...</td>\n",
       "      <td>-1</td>\n",
       "      <td>-1</td>\n",
       "      <td>-1</td>\n",
       "      <td>-1</td>\n",
       "      <td>-1</td>\n",
       "      <td>-1</td>\n",
       "      <td>-1</td>\n",
       "      <td>-1</td>\n",
       "      <td>-1</td>\n",
       "      <td>-1</td>\n",
       "    </tr>\n",
       "    <tr>\n",
       "      <th>1</th>\n",
       "      <td>1981_Graphic_Ringer_Tee_img_00000002</td>\n",
       "      <td>shirt</td>\n",
       "      <td>0</td>\n",
       "      <td>-1</td>\n",
       "      <td>-1</td>\n",
       "      <td>-1</td>\n",
       "      <td>-1</td>\n",
       "      <td>-1</td>\n",
       "      <td>-1</td>\n",
       "      <td>-1</td>\n",
       "      <td>...</td>\n",
       "      <td>-1</td>\n",
       "      <td>-1</td>\n",
       "      <td>-1</td>\n",
       "      <td>-1</td>\n",
       "      <td>-1</td>\n",
       "      <td>-1</td>\n",
       "      <td>-1</td>\n",
       "      <td>-1</td>\n",
       "      <td>-1</td>\n",
       "      <td>-1</td>\n",
       "    </tr>\n",
       "    <tr>\n",
       "      <th>2</th>\n",
       "      <td>1981_Graphic_Ringer_Tee_img_00000003</td>\n",
       "      <td>shirt</td>\n",
       "      <td>0</td>\n",
       "      <td>-1</td>\n",
       "      <td>-1</td>\n",
       "      <td>-1</td>\n",
       "      <td>-1</td>\n",
       "      <td>-1</td>\n",
       "      <td>-1</td>\n",
       "      <td>-1</td>\n",
       "      <td>...</td>\n",
       "      <td>-1</td>\n",
       "      <td>-1</td>\n",
       "      <td>-1</td>\n",
       "      <td>-1</td>\n",
       "      <td>-1</td>\n",
       "      <td>-1</td>\n",
       "      <td>-1</td>\n",
       "      <td>-1</td>\n",
       "      <td>-1</td>\n",
       "      <td>-1</td>\n",
       "    </tr>\n",
       "    <tr>\n",
       "      <th>3</th>\n",
       "      <td>1981_Graphic_Ringer_Tee_img_00000004</td>\n",
       "      <td>shirt</td>\n",
       "      <td>0</td>\n",
       "      <td>-1</td>\n",
       "      <td>-1</td>\n",
       "      <td>-1</td>\n",
       "      <td>-1</td>\n",
       "      <td>-1</td>\n",
       "      <td>-1</td>\n",
       "      <td>-1</td>\n",
       "      <td>...</td>\n",
       "      <td>-1</td>\n",
       "      <td>-1</td>\n",
       "      <td>-1</td>\n",
       "      <td>-1</td>\n",
       "      <td>-1</td>\n",
       "      <td>-1</td>\n",
       "      <td>-1</td>\n",
       "      <td>-1</td>\n",
       "      <td>-1</td>\n",
       "      <td>-1</td>\n",
       "    </tr>\n",
       "    <tr>\n",
       "      <th>4</th>\n",
       "      <td>1981_Graphic_Ringer_Tee_img_00000005</td>\n",
       "      <td>shirt</td>\n",
       "      <td>0</td>\n",
       "      <td>-1</td>\n",
       "      <td>-1</td>\n",
       "      <td>-1</td>\n",
       "      <td>-1</td>\n",
       "      <td>-1</td>\n",
       "      <td>-1</td>\n",
       "      <td>-1</td>\n",
       "      <td>...</td>\n",
       "      <td>-1</td>\n",
       "      <td>-1</td>\n",
       "      <td>-1</td>\n",
       "      <td>-1</td>\n",
       "      <td>-1</td>\n",
       "      <td>-1</td>\n",
       "      <td>-1</td>\n",
       "      <td>-1</td>\n",
       "      <td>-1</td>\n",
       "      <td>-1</td>\n",
       "    </tr>\n",
       "  </tbody>\n",
       "</table>\n",
       "<p>5 rows × 1003 columns</p>\n",
       "</div>"
      ],
      "text/plain": [
       "                             image_name category_name  category_label  \\\n",
       "0  1981_Graphic_Ringer_Tee_img_00000001         shirt               0   \n",
       "1  1981_Graphic_Ringer_Tee_img_00000002         shirt               0   \n",
       "2  1981_Graphic_Ringer_Tee_img_00000003         shirt               0   \n",
       "3  1981_Graphic_Ringer_Tee_img_00000004         shirt               0   \n",
       "4  1981_Graphic_Ringer_Tee_img_00000005         shirt               0   \n",
       "\n",
       "   a-line   abstract   abstract chevron   abstract chevron print   \\\n",
       "0       -1         -1                 -1                       -1   \n",
       "1       -1         -1                 -1                       -1   \n",
       "2       -1         -1                 -1                       -1   \n",
       "3       -1         -1                 -1                       -1   \n",
       "4       -1         -1                 -1                       -1   \n",
       "\n",
       "   abstract diamond   abstract floral   abstract floral print     ...      \\\n",
       "0                 -1                -1                      -1    ...       \n",
       "1                 -1                -1                      -1    ...       \n",
       "2                 -1                -1                      -1    ...       \n",
       "3                 -1                -1                      -1    ...       \n",
       "4                 -1                -1                      -1    ...       \n",
       "\n",
       "   zeppelin   zig   zigzag   zip   zip-front   zip-pocket   zip-up   zipped   \\\n",
       "0         -1    -1       -1    -1          -1           -1       -1       -1   \n",
       "1         -1    -1       -1    -1          -1           -1       -1       -1   \n",
       "2         -1    -1       -1    -1          -1           -1       -1       -1   \n",
       "3         -1    -1       -1    -1          -1           -1       -1       -1   \n",
       "4         -1    -1       -1    -1          -1           -1       -1       -1   \n",
       "\n",
       "   zipper   zippered   \n",
       "0       -1         -1  \n",
       "1       -1         -1  \n",
       "2       -1         -1  \n",
       "3       -1         -1  \n",
       "4       -1         -1  \n",
       "\n",
       "[5 rows x 1003 columns]"
      ]
     },
     "execution_count": 27,
     "metadata": {},
     "output_type": "execute_result"
    }
   ],
   "source": [
    "df_attr_category_combined.head()"
   ]
  },
  {
   "cell_type": "code",
   "execution_count": 28,
   "metadata": {},
   "outputs": [
    {
     "name": "stdout",
     "output_type": "stream",
     "text": [
      "print                   25405\n",
      "sleeve                  13776\n",
      "maxi                    13391\n",
      "lace                    13351\n",
      "floral                  12836\n",
      "shirt                   12788\n",
      "knit                    12767\n",
      "chiffon                  9525\n",
      "striped                  6974\n",
      "denim                    6846\n",
      "graphic                  6509\n",
      "fit                      6471\n",
      "sleeveless               6078\n",
      "classic                  5833\n",
      "cotton                   5745\n",
      "crochet                  5667\n",
      "bodycon                  5621\n",
      "leather                  5596\n",
      "faux                     5279\n",
      "muscle                   5252\n",
      "long sleeve              5139\n",
      "stripe                   5050\n",
      "pleated                  5019\n",
      "summer                   4923\n",
      "red                      4758\n",
      "skinny                   4749\n",
      "floral print             4646\n",
      "printed                  4620\n",
      "embroidered              4495\n",
      "pink                     4490\n",
      "                        ...  \n",
      "heathered stripe           30\n",
      "deep-v                     29\n",
      "voyager                    28\n",
      "chambray drawstring        26\n",
      "toggle                     26\n",
      "print tulip                26\n",
      "crochet overlay            26\n",
      "faux leather skater        25\n",
      "knit longline              24\n",
      "loyal                      24\n",
      "floral mini                24\n",
      "denim skater               23\n",
      "marled stripe              23\n",
      "abstract diamond           23\n",
      "neck skater                22\n",
      "cropped knit               20\n",
      "topstitched                20\n",
      "ribbed stripe              19\n",
      "floral textured            17\n",
      "knit mini                  17\n",
      "matelot                    16\n",
      "scuba skater               15\n",
      "gaucho                     12\n",
      "geo stripe                 12\n",
      "knit shawl                 11\n",
      "floral lace sheath          7\n",
      "cami crop                   6\n",
      "rose skater                 6\n",
      "floral lace mini            5\n",
      "floral lace skater          4\n",
      "Length: 1000, dtype: int64\n"
     ]
    }
   ],
   "source": [
    "attr_category_frequency = (df_attr_category_combined.iloc[:,3:] == 1).sum(axis=0)\n",
    "attr_category_frequency_sort=attr_category_frequency.sort_values(ascending = False)\n",
    "print(attr_category_frequency_sort)"
   ]
  },
  {
   "cell_type": "code",
   "execution_count": 29,
   "metadata": {},
   "outputs": [
    {
     "data": {
      "text/plain": [
       "207665"
      ]
     },
     "execution_count": 29,
     "metadata": {},
     "output_type": "execute_result"
    }
   ],
   "source": [
    "len(df_attr_category_combined)"
   ]
  },
  {
   "cell_type": "code",
   "execution_count": 30,
   "metadata": {},
   "outputs": [],
   "source": [
    "#attr_category_combined.csv\n",
    "file_name = \"attr_category_combined.csv\"\n",
    "df_attr_category_combined.to_csv(\"./Anno/changed/etri/\"+file_name, index=None)"
   ]
  },
  {
   "cell_type": "code",
   "execution_count": 31,
   "metadata": {},
   "outputs": [
    {
     "data": {
      "text/plain": [
       "'#category_combined.csv\\nfile_name = \"category_combined.csv\"\\ndf_category_combined.to_csv(\"./Anno/changed/etri/\"+file_name, index=None)'"
      ]
     },
     "execution_count": 31,
     "metadata": {},
     "output_type": "execute_result"
    }
   ],
   "source": [
    "'''#category_combined.csv\n",
    "file_name = \"category_combined.csv\"\n",
    "df_category_combined.to_csv(\"./Anno/changed/etri/\"+file_name, index=None)'''"
   ]
  },
  {
   "cell_type": "code",
   "execution_count": 32,
   "metadata": {},
   "outputs": [
    {
     "data": {
      "text/plain": [
       "'#attr_combined.csv\\nfile_name = \"attr_combined.csv\"\\ndf_attr_combined.to_csv(\"./Anno/changed/etri/\"+file_name, index=None)'"
      ]
     },
     "execution_count": 32,
     "metadata": {},
     "output_type": "execute_result"
    }
   ],
   "source": [
    "'''#attr_combined.csv\n",
    "file_name = \"attr_combined.csv\"\n",
    "df_attr_combined.to_csv(\"./Anno/changed/etri/\"+file_name, index=None)'''"
   ]
  },
  {
   "cell_type": "code",
   "execution_count": 33,
   "metadata": {},
   "outputs": [
    {
     "data": {
      "text/plain": [
       "Text(0, 0.5, 'count')"
      ]
     },
     "execution_count": 33,
     "metadata": {},
     "output_type": "execute_result"
    },
    {
     "data": {
      "image/png": "[encoded data removed]",
      "text/plain": [
       "<Figure size 1080x360 with 1 Axes>"
      ]
     },
     "metadata": {
      "needs_background": "light"
     },
     "output_type": "display_data"
    }
   ],
   "source": [
    "attr_category_frequency_sort[:20].plot(kind = 'bar', figsize=(15,5), fontsize = 15)\n",
    "plt.title(\"20 attributes histrogram\")\n",
    "plt.xlabel(\"attributes\")\n",
    "plt.ylabel(\"count\")"
   ]
  },
  {
   "cell_type": "code",
   "execution_count": 34,
   "metadata": {
    "scrolled": true
   },
   "outputs": [
    {
     "name": "stdout",
     "output_type": "stream",
     "text": [
      "shirt                   10512\n",
      "print                   10160\n",
      "sleeve                   8905\n",
      "knit                     7688\n",
      "graphic                  6148\n",
      "muscle                   5202\n",
      "chiffon                  5064\n",
      "lace                     4357\n",
      "striped                  4133\n",
      "floral                   3911\n",
      "long sleeve              3410\n",
      "pocket                   3175\n",
      "cotton                   3162\n",
      "v-neck                   2931\n",
      "boxy                     2804\n",
      "stripe                   2793\n",
      "classic                  2747\n",
      "crochet                  2741\n",
      "sleeveless               2654\n",
      "crop                     2291\n",
      "love                     2289\n",
      "sheer                    2096\n",
      "crew                     2040\n",
      "printed                  2010\n",
      "pink                     2000\n",
      "racerback                1998\n",
      "summer                   1982\n",
      "red                      1979\n",
      "raglan                   1822\n",
      "collar                   1782\n",
      "                        ...  \n",
      "distressed low-rise         0\n",
      "mid-rise skinny             0\n",
      "skinny stretch              0\n",
      "bodycon midi                0\n",
      "high-rise skinny            0\n",
      "gauze maxi                  0\n",
      "fit skinny                  0\n",
      "cutout maxi                 0\n",
      "distressed mid-rise         0\n",
      "embroidered shift           0\n",
      "matelot                     0\n",
      "floral lace sheath          0\n",
      "classic skinny              0\n",
      "flounce maxi                0\n",
      "eyelet fit                  0\n",
      "embroidered fit             0\n",
      "chiffon shift               0\n",
      "beaded shift                0\n",
      "rose skater                 0\n",
      "lace sheath                 0\n",
      "combo maxi                  0\n",
      "belted floral               0\n",
      "belted floral print         0\n",
      "belted maxi                 0\n",
      "m-slit                      0\n",
      "m-slit maxi                 0\n",
      "faux leather pencil         0\n",
      "overlay sheath              0\n",
      "crochet maxi                0\n",
      "floral shift                0\n",
      "Length: 1000, dtype: int64\n"
     ]
    }
   ],
   "source": [
    "shirt_attr_frequency = (df_shirt_attr_combined.iloc[:,3:] == 1).sum(axis=0)\n",
    "shirt_attr_frequency_sort=shirt_attr_frequency.sort_values(ascending = False)\n",
    "print(shirt_attr_frequency_sort)"
   ]
  },
  {
   "cell_type": "code",
   "execution_count": 35,
   "metadata": {},
   "outputs": [
    {
     "name": "stdout",
     "output_type": "stream",
     "text": [
      "leather             177\n",
      "hooded              171\n",
      "faux                136\n",
      "quilted             131\n",
      "faux leather        121\n",
      "zip                  94\n",
      "varsity              84\n",
      "collar               67\n",
      "cotton               64\n",
      "canvas               62\n",
      "baseball             20\n",
      "sleeve               20\n",
      "moto                 17\n",
      "fur                  16\n",
      "ribbed               16\n",
      "trim                 15\n",
      "red                  14\n",
      "hood                 13\n",
      "biker                12\n",
      "shearling            11\n",
      "york                 11\n",
      "leather quilted      11\n",
      "new york             11\n",
      "knit                 11\n",
      "classic              10\n",
      "polo                 10\n",
      "long sleeve          10\n",
      "faux fur              9\n",
      "leather moto          9\n",
      "snap                  8\n",
      "                   ... \n",
      "loyal                 0\n",
      "low-rise skinny       0\n",
      "mesh-paneled          0\n",
      "miami                 0\n",
      "morning               0\n",
      "mickey                0\n",
      "moon                  0\n",
      "monroe                0\n",
      "modernist             0\n",
      "mod                   0\n",
      "mock-neck             0\n",
      "mock neck             0\n",
      "mock                  0\n",
      "mob                   0\n",
      "mixed stripe          0\n",
      "mixed print           0\n",
      "mirrored              0\n",
      "minnie mouse          0\n",
      "minnie                0\n",
      "mini                  0\n",
      "mineral wash          0\n",
      "mineral               0\n",
      "mina                  0\n",
      "midi                  0\n",
      "mid-rise skinny       0\n",
      "mid-rise              0\n",
      "mid rise skinny       0\n",
      "mid rise              0\n",
      "mickey mouse          0\n",
      "a-line                0\n",
      "Length: 1000, dtype: int64\n"
     ]
    }
   ],
   "source": [
    "jumper_attr_frequency = (df_jumper_attr_combined.iloc[:,3:] == 1).sum(axis=0)\n",
    "jumper_attr_frequency_sort=jumper_attr_frequency.sort_values(ascending = False)\n",
    "print(jumper_attr_frequency_sort)"
   ]
  },
  {
   "cell_type": "code",
   "execution_count": 36,
   "metadata": {},
   "outputs": [
    {
     "name": "stdout",
     "output_type": "stream",
     "text": [
      "leather                       2140\n",
      "faux                          1641\n",
      "denim                         1374\n",
      "faux leather                  1212\n",
      "collar                        1197\n",
      "button                        1101\n",
      "hooded                        1098\n",
      "moto                           963\n",
      "sleeve                         932\n",
      "collarless                     923\n",
      "classic                        897\n",
      "print                          865\n",
      "floral                         799\n",
      "knit                           785\n",
      "quilted                        771\n",
      "zip                            628\n",
      "shawl                          599\n",
      "longline                       592\n",
      "boyfriend                      576\n",
      "utility                        570\n",
      "textured                       537\n",
      "woven                          465\n",
      "open-front                     449\n",
      "slim                           426\n",
      "tweed                          421\n",
      "cotton                         390\n",
      "cropped                        384\n",
      "floral print                   362\n",
      "fit                            354\n",
      "draped                         352\n",
      "                              ... \n",
      "floral peasant                   0\n",
      "floral print skater              0\n",
      "floral print strapless           0\n",
      "floral print surplice            0\n",
      "floral shift                     0\n",
      "floral skater                    0\n",
      "floral surplice                  0\n",
      "faux-wrap                        0\n",
      "ruffle trim                      0\n",
      "rugby stripe                     0\n",
      "embroidered maxi                 0\n",
      "drop waist                       0\n",
      "seaside                          0\n",
      "eiffel                           0\n",
      "elephant print                   0\n",
      "scuba skater                     0\n",
      "embroidered fit                  0\n",
      "embroidered gauze                0\n",
      "embroidered gauze peasant        0\n",
      "embroidered peasant              0\n",
      "faux leather skater              0\n",
      "embroidered shift                0\n",
      "enchanted                        0\n",
      "neck ribbed                      0\n",
      "eyelet fit                       0\n",
      "fair isle                        0\n",
      "faux leather mini                0\n",
      "rugby striped                    0\n",
      "faux leather pencil              0\n",
      "knit mini                        0\n",
      "Length: 1000, dtype: int64\n"
     ]
    }
   ],
   "source": [
    "jacket_attr_frequency = (df_jacket_attr_combined.iloc[:,3:] == 1).sum(axis=0)\n",
    "jacket_attr_frequency_sort=jacket_attr_frequency.sort_values(ascending = False)\n",
    "print(jacket_attr_frequency_sort)"
   ]
  },
  {
   "cell_type": "code",
   "execution_count": 37,
   "metadata": {},
   "outputs": [
    {
     "name": "stdout",
     "output_type": "stream",
     "text": [
      "faux                876\n",
      "fur                 851\n",
      "faux fur            755\n",
      "hooded              324\n",
      "puffer              233\n",
      "collar              114\n",
      "trim                110\n",
      "shearling           100\n",
      "hood                 83\n",
      "faux shearling       78\n",
      "cropped              77\n",
      "collarless           67\n",
      "quilted              63\n",
      "longline             53\n",
      "textured             45\n",
      "leather              44\n",
      "sleeve               35\n",
      "belted               32\n",
      "collarless faux      30\n",
      "pink                 28\n",
      "moto                 26\n",
      "corduroy             24\n",
      "long sleeve          23\n",
      "fox                  23\n",
      "trimmed              22\n",
      "oversized            19\n",
      "york                 17\n",
      "new york             17\n",
      "leopard              16\n",
      "cotton               16\n",
      "                   ... \n",
      "sporty                0\n",
      "knee-length           0\n",
      "kitty                 0\n",
      "kiss                  0\n",
      "killin                0\n",
      "kurt                  0\n",
      "split-neck            0\n",
      "lace-up               0\n",
      "lace print            0\n",
      "lace-trimmed          0\n",
      "lace-trim             0\n",
      "lace-paneled          0\n",
      "lace trim             0\n",
      "lace sleeve           0\n",
      "lace skater           0\n",
      "lace shift            0\n",
      "lace sheer            0\n",
      "lace sheath           0\n",
      "lace pleated          0\n",
      "lace layered          0\n",
      "lace peplum           0\n",
      "lace pencil           0\n",
      "lace paneled          0\n",
      "lace panel            0\n",
      "lace overlay          0\n",
      "lace mini             0\n",
      "lace midi             0\n",
      "lace mesh             0\n",
      "lace maxi             0\n",
      "knit mini             0\n",
      "Length: 1000, dtype: int64\n"
     ]
    }
   ],
   "source": [
    "winterJacket_attr_frequency = (df_winterJacket_attr_combined.iloc[:,3:] == 1).sum(axis=0)\n",
    "winterJacket_attr_frequency_sort=winterJacket_attr_frequency.sort_values(ascending = False)\n",
    "print(winterJacket_attr_frequency_sort)"
   ]
  },
  {
   "cell_type": "code",
   "execution_count": 38,
   "metadata": {},
   "outputs": [
    {
     "name": "stdout",
     "output_type": "stream",
     "text": [
      "765\n"
     ]
    }
   ],
   "source": [
    "count = 0\n",
    "for i,winterjacket in enumerate(winterJacket_attr_frequency_sort):\n",
    "    if winterJacket_attr_frequency_sort[i] == 0:\n",
    "        count = count + 1\n",
    "        #print(winterJacket_attr_frequency_sort[i])\n",
    "print(count)"
   ]
  },
  {
   "cell_type": "code",
   "execution_count": 39,
   "metadata": {},
   "outputs": [
    {
     "data": {
      "text/plain": [
       "876"
      ]
     },
     "execution_count": 39,
     "metadata": {},
     "output_type": "execute_result"
    }
   ],
   "source": [
    "winterJacket_attr_frequency_sort[0]"
   ]
  },
  {
   "cell_type": "code",
   "execution_count": 40,
   "metadata": {},
   "outputs": [
    {
     "name": "stdout",
     "output_type": "stream",
     "text": [
      "trench               67\n",
      "woven                51\n",
      "denim                23\n",
      "plaid                23\n",
      "button               21\n",
      "tweed                14\n",
      "sleeve               11\n",
      "long sleeve           9\n",
      "cotton                8\n",
      "washed                8\n",
      "wash                  7\n",
      "leather               7\n",
      "red                   6\n",
      "belted                6\n",
      "hooded                5\n",
      "oversized             5\n",
      "collar                4\n",
      "classic               4\n",
      "two-tone              4\n",
      "lace                  3\n",
      "light                 3\n",
      "acid                  3\n",
      "twill                 3\n",
      "love                  3\n",
      "colorblock            3\n",
      "quilted               3\n",
      "print                 3\n",
      "maxi                  2\n",
      "metallic              2\n",
      "leopard               2\n",
      "                     ..\n",
      "mock-neck             0\n",
      "monroe                0\n",
      "ombre                 0\n",
      "moon                  0\n",
      "oil                   0\n",
      "off-the-shoulder      0\n",
      "nylon                 0\n",
      "nyc                   0\n",
      "notorious             0\n",
      "notched collar        0\n",
      "night                 0\n",
      "netted                0\n",
      "nets                  0\n",
      "neoprene              0\n",
      "neon                  0\n",
      "neckline              0\n",
      "neck striped          0\n",
      "neck skater           0\n",
      "neck ribbed           0\n",
      "nautical striped      0\n",
      "nautical stripe       0\n",
      "nautical              0\n",
      "muse                  0\n",
      "muscle                0\n",
      "multi-stripe          0\n",
      "moto                  0\n",
      "mosaic print          0\n",
      "mosaic                0\n",
      "morning               0\n",
      "knit mini             0\n",
      "Length: 1000, dtype: int64\n"
     ]
    }
   ],
   "source": [
    "coat_attr_frequency = (df_coat_attr_combined.iloc[:,3:] == 1).sum(axis=0)\n",
    "coat_attr_frequency_sort= coat_attr_frequency.sort_values(ascending = False)\n",
    "print(coat_attr_frequency_sort)"
   ]
  },
  {
   "cell_type": "code",
   "execution_count": 41,
   "metadata": {},
   "outputs": [
    {
     "name": "stdout",
     "output_type": "stream",
     "text": [
      "maxi                  11326\n",
      "print                 10758\n",
      "lace                   7926\n",
      "floral                 6715\n",
      "bodycon                5300\n",
      "shift                  4313\n",
      "chiffon                3854\n",
      "sleeve                 3754\n",
      "fit                    3715\n",
      "flare                  3669\n",
      "sleeveless             3212\n",
      "sheath                 2820\n",
      "knit                   2657\n",
      "midi                   2635\n",
      "crochet                2569\n",
      "floral print           2553\n",
      "strapless              2477\n",
      "embroidered            2365\n",
      "pleated                2303\n",
      "summer                 2190\n",
      "cami                   2050\n",
      "cutout                 1929\n",
      "red                    1854\n",
      "striped                1781\n",
      "party                  1774\n",
      "a-line                 1773\n",
      "mini                   1768\n",
      "cut                    1744\n",
      "shirt                  1733\n",
      "pink                   1658\n",
      "                      ...  \n",
      "hooded utility            0\n",
      "cami crop                 0\n",
      "topstitched               0\n",
      "brooklyn nets             0\n",
      "notorious                 0\n",
      "graphic muscle            0\n",
      "civil                     0\n",
      "tasmanian                 0\n",
      "leather varsity           0\n",
      "purl                      0\n",
      "fold-over                 0\n",
      "foulard                   0\n",
      "leather quilted           0\n",
      "colorblock pocket         0\n",
      "fuzzy knit                0\n",
      "collarless faux           0\n",
      "leather paneled           0\n",
      "leather moto              0\n",
      "taco                      0\n",
      "gaucho                    0\n",
      "clean wash                0\n",
      "classic woven             0\n",
      "classic skinny            0\n",
      "bike                      0\n",
      "classic pocket            0\n",
      "classic knit              0\n",
      "classic crew neck         0\n",
      "classic crew              0\n",
      "classic cotton            0\n",
      "heathered v-neck          0\n",
      "Length: 1000, dtype: int64\n"
     ]
    }
   ],
   "source": [
    "dress_attr_frequency = (df_dress_attr_combined.iloc[:,3:] == 1).sum(axis=0)\n",
    "dress_attr_frequency_sort=dress_attr_frequency.sort_values(ascending = False)\n",
    "print(dress_attr_frequency_sort)"
   ]
  },
  {
   "cell_type": "code",
   "execution_count": 42,
   "metadata": {},
   "outputs": [
    {
     "name": "stdout",
     "output_type": "stream",
     "text": [
      "skinny                        4235\n",
      "wash                          2647\n",
      "denim                         2638\n",
      "print                         2239\n",
      "drawstring                    1785\n",
      "distressed                    1519\n",
      "classic                       1500\n",
      "capri                         1424\n",
      "slim                          1353\n",
      "fit                           1352\n",
      "acid                          1210\n",
      "cotton                        1024\n",
      "yoga                           982\n",
      "acid wash                      969\n",
      "rise                           936\n",
      "knit                           915\n",
      "stretch                        849\n",
      "ankle                          780\n",
      "leather                        760\n",
      "chino                          740\n",
      "light                          675\n",
      "ripped                         658\n",
      "boyfriend                      636\n",
      "dark                           615\n",
      "cargo                          608\n",
      "pocket                         588\n",
      "printed                        567\n",
      "floral                         538\n",
      "woven                          531\n",
      "terry                          513\n",
      "                              ... \n",
      "eiffel                           0\n",
      "m-slit maxi                      0\n",
      "m-slit                           0\n",
      "loyal                            0\n",
      "loose-knit                       0\n",
      "embroidered fit                  0\n",
      "embroidered gauze                0\n",
      "embroidered gauze peasant        0\n",
      "embroidered lace                 0\n",
      "draped open-front                0\n",
      "dolphin hem                      0\n",
      "dolman-sleeve                    0\n",
      "denim shift                      0\n",
      "notched collar                   0\n",
      "neckline                         0\n",
      "deep v-neck                      0\n",
      "deep-v                           0\n",
      "neck striped                     0\n",
      "neck skater                      0\n",
      "neck ribbed                      0\n",
      "nautical striped                 0\n",
      "minnie mouse                     0\n",
      "denim utility                    0\n",
      "nautical stripe                  0\n",
      "devil                            0\n",
      "mosaic print                     0\n",
      "dip-dye                          0\n",
      "mock neck                        0\n",
      "mixed stripe                     0\n",
      "knit mini                        0\n",
      "Length: 1000, dtype: int64\n"
     ]
    }
   ],
   "source": [
    "pants_attr_frequency = (df_pants_attr_combined.iloc[:,3:] == 1).sum(axis=0)\n",
    "pants_attr_frequency_sort=pants_attr_frequency.sort_values(ascending = False)\n",
    "print(pants_attr_frequency_sort)"
   ]
  },
  {
   "cell_type": "code",
   "execution_count": 43,
   "metadata": {},
   "outputs": [
    {
     "name": "stdout",
     "output_type": "stream",
     "text": [
      "pencil                   2497\n",
      "maxi                     1730\n",
      "print                    1365\n",
      "pleated                  1333\n",
      "midi                     1232\n",
      "floral                    871\n",
      "denim                     784\n",
      "leather                   766\n",
      "lace                      717\n",
      "knit                      708\n",
      "a-line                    671\n",
      "faux                      609\n",
      "mini                      605\n",
      "faux leather              569\n",
      "striped                   482\n",
      "slit                      394\n",
      "chiffon                   331\n",
      "skater                    324\n",
      "paisley                   289\n",
      "crochet                   282\n",
      "stripe                    278\n",
      "summer                    270\n",
      "floral print              257\n",
      "pink                      256\n",
      "stretch                   245\n",
      "bodycon                   244\n",
      "red                       238\n",
      "crepe                     237\n",
      "textured                  228\n",
      "love                      215\n",
      "                         ... \n",
      "t-back                      0\n",
      "faux leather varsity        0\n",
      "faux leather-paneled        0\n",
      "faux shearling              0\n",
      "scoop-neck                  0\n",
      "fit skinny                  0\n",
      "mina                        0\n",
      "embroidered peasant         0\n",
      "embroidered fit             0\n",
      "dolman-sleeve               0\n",
      "draped open-front           0\n",
      "dolphin                     0\n",
      "dolphin hem                 0\n",
      "doodle                      0\n",
      "topstitched                 0\n",
      "tonal                       0\n",
      "double-breasted             0\n",
      "drape-front                 0\n",
      "neck ribbed                 0\n",
      "draped shawl                0\n",
      "tie-back                    0\n",
      "draped surplice             0\n",
      "dreamcatcher                0\n",
      "dreamer                     0\n",
      "drop waist                  0\n",
      "drop-sleeve                 0\n",
      "nautical stripe             0\n",
      "dropped                     0\n",
      "toggle                      0\n",
      "floral peasant              0\n",
      "Length: 1000, dtype: int64\n"
     ]
    }
   ],
   "source": [
    "skirt_attr_frequency = (df_skirt_attr_combined.iloc[:,3:] == 1).sum(axis=0)\n",
    "skirt_attr_frequency_sort=skirt_attr_frequency.sort_values(ascending = False)\n",
    "print(skirt_attr_frequency_sort)"
   ]
  },
  {
   "cell_type": "code",
   "execution_count": null,
   "metadata": {},
   "outputs": [],
   "source": []
  },
  {
   "cell_type": "code",
   "execution_count": 44,
   "metadata": {},
   "outputs": [],
   "source": [
    "sleeve = set(df_attr_category_combined.loc[df_attr_category_combined['sleeve '] == 1]['image_name'])"
   ]
  },
  {
   "cell_type": "code",
   "execution_count": 45,
   "metadata": {},
   "outputs": [],
   "source": [
    "longsleeve = set(df_attr_category_combined.loc[df_attr_category_combined['long sleeve '] == 1]['image_name'])"
   ]
  },
  {
   "cell_type": "code",
   "execution_count": 46,
   "metadata": {},
   "outputs": [],
   "source": [
    "sleeveless = set(df_attr_category_combined.loc[df_attr_category_combined['sleeveless '] == 1]['image_name'])"
   ]
  },
  {
   "cell_type": "code",
   "execution_count": 47,
   "metadata": {},
   "outputs": [],
   "source": [
    "bellsleeve = set(df_attr_category_combined.loc[df_attr_category_combined['bell-sleeve '] == 1]['image_name'])"
   ]
  },
  {
   "cell_type": "code",
   "execution_count": 48,
   "metadata": {},
   "outputs": [
    {
     "data": {
      "text/plain": [
       "5134"
      ]
     },
     "execution_count": 48,
     "metadata": {},
     "output_type": "execute_result"
    }
   ],
   "source": [
    "len(sleeve & longsleeve)"
   ]
  },
  {
   "cell_type": "code",
   "execution_count": 49,
   "metadata": {},
   "outputs": [
    {
     "data": {
      "text/plain": [
       "5134"
      ]
     },
     "execution_count": 49,
     "metadata": {},
     "output_type": "execute_result"
    }
   ],
   "source": [
    "len(longsleeve)"
   ]
  },
  {
   "cell_type": "code",
   "execution_count": 50,
   "metadata": {},
   "outputs": [
    {
     "data": {
      "text/plain": [
       "121"
      ]
     },
     "execution_count": 50,
     "metadata": {},
     "output_type": "execute_result"
    }
   ],
   "source": [
    "len(sleeve & sleeveless)"
   ]
  },
  {
   "cell_type": "code",
   "execution_count": 51,
   "metadata": {},
   "outputs": [
    {
     "data": {
      "text/plain": [
       "6073"
      ]
     },
     "execution_count": 51,
     "metadata": {},
     "output_type": "execute_result"
    }
   ],
   "source": [
    "len(sleeveless)"
   ]
  },
  {
   "cell_type": "code",
   "execution_count": 52,
   "metadata": {},
   "outputs": [
    {
     "data": {
      "text/plain": [
       "13749"
      ]
     },
     "execution_count": 52,
     "metadata": {},
     "output_type": "execute_result"
    }
   ],
   "source": [
    "len(sleeve)"
   ]
  },
  {
   "cell_type": "code",
   "execution_count": 53,
   "metadata": {},
   "outputs": [
    {
     "data": {
      "text/plain": [
       "14"
      ]
     },
     "execution_count": 53,
     "metadata": {},
     "output_type": "execute_result"
    }
   ],
   "source": [
    "len(sleeve & bellsleeve)"
   ]
  },
  {
   "cell_type": "code",
   "execution_count": 54,
   "metadata": {},
   "outputs": [
    {
     "data": {
      "text/plain": [
       "29"
      ]
     },
     "execution_count": 54,
     "metadata": {},
     "output_type": "execute_result"
    }
   ],
   "source": [
    "len(sleeve & set(df_attr_category_combined.loc[df_attr_category_combined['cap-sleeve '] == 1]['image_name']))"
   ]
  },
  {
   "cell_type": "code",
   "execution_count": null,
   "metadata": {},
   "outputs": [],
   "source": []
  },
  {
   "cell_type": "code",
   "execution_count": null,
   "metadata": {},
   "outputs": [],
   "source": []
  }
 ],
 "metadata": {
  "kernelspec": {
   "display_name": "Python 3",
   "language": "python",
   "name": "python3"
  },
  "language_info": {
   "codemirror_mode": {
    "name": "ipython",
    "version": 3
   },
   "file_extension": ".py",
   "mimetype": "text/x-python",
   "name": "python",
   "nbconvert_exporter": "python",
   "pygments_lexer": "ipython3",
   "version": "3.7.1"
  }
 },
 "nbformat": 4,
 "nbformat_minor": 2
}
