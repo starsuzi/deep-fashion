{
 "cells": [
  {
   "cell_type": "code",
   "execution_count": 1,
   "metadata": {},
   "outputs": [],
   "source": [
    "import numpy as np\n",
    "import pandas as pd\n",
    "import csv\n",
    "import matplotlib.pyplot as plt\n",
    "\n",
    "import os, glob"
   ]
  },
  {
   "cell_type": "code",
   "execution_count": 2,
   "metadata": {},
   "outputs": [],
   "source": [
    "df_category_combined = pd.read_csv('./Anno/changed/etri/category_combined.csv')"
   ]
  },
  {
   "cell_type": "code",
   "execution_count": 3,
   "metadata": {},
   "outputs": [],
   "source": [
    "df_attr_combined = pd.read_csv('./Anno/changed/etri/attr_combined.csv')"
   ]
  },
  {
   "cell_type": "code",
   "execution_count": 4,
   "metadata": {},
   "outputs": [
    {
     "data": {
      "text/html": [
       "<div>\n",
       "<style scoped>\n",
       "    .dataframe tbody tr th:only-of-type {\n",
       "        vertical-align: middle;\n",
       "    }\n",
       "\n",
       "    .dataframe tbody tr th {\n",
       "        vertical-align: top;\n",
       "    }\n",
       "\n",
       "    .dataframe thead th {\n",
       "        text-align: right;\n",
       "    }\n",
       "</style>\n",
       "<table border=\"1\" class=\"dataframe\">\n",
       "  <thead>\n",
       "    <tr style=\"text-align: right;\">\n",
       "      <th></th>\n",
       "      <th>image_name</th>\n",
       "      <th>a-line</th>\n",
       "      <th>abstract</th>\n",
       "      <th>abstract chevron</th>\n",
       "      <th>abstract chevron print</th>\n",
       "      <th>abstract diamond</th>\n",
       "      <th>abstract floral</th>\n",
       "      <th>abstract floral print</th>\n",
       "      <th>abstract geo</th>\n",
       "      <th>abstract geo print</th>\n",
       "      <th>...</th>\n",
       "      <th>zeppelin</th>\n",
       "      <th>zig</th>\n",
       "      <th>zigzag</th>\n",
       "      <th>zip</th>\n",
       "      <th>zip-front</th>\n",
       "      <th>zip-pocket</th>\n",
       "      <th>zip-up</th>\n",
       "      <th>zipped</th>\n",
       "      <th>zipper</th>\n",
       "      <th>zippered</th>\n",
       "    </tr>\n",
       "  </thead>\n",
       "  <tbody>\n",
       "    <tr>\n",
       "      <th>0</th>\n",
       "      <td>Sheer_Pleated-Front_Blouse_img_00000001</td>\n",
       "      <td>-1</td>\n",
       "      <td>-1</td>\n",
       "      <td>-1</td>\n",
       "      <td>-1</td>\n",
       "      <td>-1</td>\n",
       "      <td>-1</td>\n",
       "      <td>-1</td>\n",
       "      <td>-1</td>\n",
       "      <td>-1</td>\n",
       "      <td>...</td>\n",
       "      <td>-1</td>\n",
       "      <td>-1</td>\n",
       "      <td>-1</td>\n",
       "      <td>-1</td>\n",
       "      <td>-1</td>\n",
       "      <td>-1</td>\n",
       "      <td>-1</td>\n",
       "      <td>-1</td>\n",
       "      <td>-1</td>\n",
       "      <td>-1</td>\n",
       "    </tr>\n",
       "    <tr>\n",
       "      <th>1</th>\n",
       "      <td>Sheer_Pleated-Front_Blouse_img_00000002</td>\n",
       "      <td>-1</td>\n",
       "      <td>-1</td>\n",
       "      <td>-1</td>\n",
       "      <td>-1</td>\n",
       "      <td>-1</td>\n",
       "      <td>-1</td>\n",
       "      <td>-1</td>\n",
       "      <td>-1</td>\n",
       "      <td>-1</td>\n",
       "      <td>...</td>\n",
       "      <td>-1</td>\n",
       "      <td>-1</td>\n",
       "      <td>-1</td>\n",
       "      <td>-1</td>\n",
       "      <td>-1</td>\n",
       "      <td>-1</td>\n",
       "      <td>-1</td>\n",
       "      <td>-1</td>\n",
       "      <td>-1</td>\n",
       "      <td>-1</td>\n",
       "    </tr>\n",
       "    <tr>\n",
       "      <th>2</th>\n",
       "      <td>Sheer_Pleated-Front_Blouse_img_00000003</td>\n",
       "      <td>-1</td>\n",
       "      <td>-1</td>\n",
       "      <td>-1</td>\n",
       "      <td>-1</td>\n",
       "      <td>-1</td>\n",
       "      <td>-1</td>\n",
       "      <td>-1</td>\n",
       "      <td>-1</td>\n",
       "      <td>-1</td>\n",
       "      <td>...</td>\n",
       "      <td>-1</td>\n",
       "      <td>-1</td>\n",
       "      <td>-1</td>\n",
       "      <td>-1</td>\n",
       "      <td>-1</td>\n",
       "      <td>-1</td>\n",
       "      <td>-1</td>\n",
       "      <td>-1</td>\n",
       "      <td>-1</td>\n",
       "      <td>-1</td>\n",
       "    </tr>\n",
       "    <tr>\n",
       "      <th>3</th>\n",
       "      <td>Sheer_Pleated-Front_Blouse_img_00000004</td>\n",
       "      <td>-1</td>\n",
       "      <td>-1</td>\n",
       "      <td>-1</td>\n",
       "      <td>-1</td>\n",
       "      <td>-1</td>\n",
       "      <td>-1</td>\n",
       "      <td>-1</td>\n",
       "      <td>-1</td>\n",
       "      <td>-1</td>\n",
       "      <td>...</td>\n",
       "      <td>-1</td>\n",
       "      <td>-1</td>\n",
       "      <td>-1</td>\n",
       "      <td>-1</td>\n",
       "      <td>-1</td>\n",
       "      <td>-1</td>\n",
       "      <td>-1</td>\n",
       "      <td>-1</td>\n",
       "      <td>-1</td>\n",
       "      <td>-1</td>\n",
       "    </tr>\n",
       "    <tr>\n",
       "      <th>4</th>\n",
       "      <td>Sheer_Pleated-Front_Blouse_img_00000005</td>\n",
       "      <td>-1</td>\n",
       "      <td>-1</td>\n",
       "      <td>-1</td>\n",
       "      <td>-1</td>\n",
       "      <td>-1</td>\n",
       "      <td>-1</td>\n",
       "      <td>-1</td>\n",
       "      <td>-1</td>\n",
       "      <td>-1</td>\n",
       "      <td>...</td>\n",
       "      <td>-1</td>\n",
       "      <td>-1</td>\n",
       "      <td>-1</td>\n",
       "      <td>-1</td>\n",
       "      <td>-1</td>\n",
       "      <td>-1</td>\n",
       "      <td>-1</td>\n",
       "      <td>-1</td>\n",
       "      <td>-1</td>\n",
       "      <td>-1</td>\n",
       "    </tr>\n",
       "  </tbody>\n",
       "</table>\n",
       "<p>5 rows × 1001 columns</p>\n",
       "</div>"
      ],
      "text/plain": [
       "                                image_name  a-line   abstract   \\\n",
       "0  Sheer_Pleated-Front_Blouse_img_00000001       -1         -1   \n",
       "1  Sheer_Pleated-Front_Blouse_img_00000002       -1         -1   \n",
       "2  Sheer_Pleated-Front_Blouse_img_00000003       -1         -1   \n",
       "3  Sheer_Pleated-Front_Blouse_img_00000004       -1         -1   \n",
       "4  Sheer_Pleated-Front_Blouse_img_00000005       -1         -1   \n",
       "\n",
       "   abstract chevron   abstract chevron print   abstract diamond   \\\n",
       "0                 -1                       -1                 -1   \n",
       "1                 -1                       -1                 -1   \n",
       "2                 -1                       -1                 -1   \n",
       "3                 -1                       -1                 -1   \n",
       "4                 -1                       -1                 -1   \n",
       "\n",
       "   abstract floral   abstract floral print   abstract geo   \\\n",
       "0                -1                      -1             -1   \n",
       "1                -1                      -1             -1   \n",
       "2                -1                      -1             -1   \n",
       "3                -1                      -1             -1   \n",
       "4                -1                      -1             -1   \n",
       "\n",
       "   abstract geo print     ...      zeppelin   zig   zigzag   zip   zip-front   \\\n",
       "0                   -1    ...             -1    -1       -1    -1          -1   \n",
       "1                   -1    ...             -1    -1       -1    -1          -1   \n",
       "2                   -1    ...             -1    -1       -1    -1          -1   \n",
       "3                   -1    ...             -1    -1       -1    -1          -1   \n",
       "4                   -1    ...             -1    -1       -1    -1          -1   \n",
       "\n",
       "   zip-pocket   zip-up   zipped   zipper   zippered   \n",
       "0           -1       -1       -1       -1         -1  \n",
       "1           -1       -1       -1       -1         -1  \n",
       "2           -1       -1       -1       -1         -1  \n",
       "3           -1       -1       -1       -1         -1  \n",
       "4           -1       -1       -1       -1         -1  \n",
       "\n",
       "[5 rows x 1001 columns]"
      ]
     },
     "execution_count": 4,
     "metadata": {},
     "output_type": "execute_result"
    }
   ],
   "source": [
    "df_attr_combined.head()"
   ]
  },
  {
   "cell_type": "code",
   "execution_count": 5,
   "metadata": {
    "scrolled": true
   },
   "outputs": [
    {
     "data": {
      "text/html": [
       "<div>\n",
       "<style scoped>\n",
       "    .dataframe tbody tr th:only-of-type {\n",
       "        vertical-align: middle;\n",
       "    }\n",
       "\n",
       "    .dataframe tbody tr th {\n",
       "        vertical-align: top;\n",
       "    }\n",
       "\n",
       "    .dataframe thead th {\n",
       "        text-align: right;\n",
       "    }\n",
       "</style>\n",
       "<table border=\"1\" class=\"dataframe\">\n",
       "  <thead>\n",
       "    <tr style=\"text-align: right;\">\n",
       "      <th></th>\n",
       "      <th>category_label</th>\n",
       "      <th>category_name</th>\n",
       "      <th>category_type</th>\n",
       "      <th>image_name</th>\n",
       "    </tr>\n",
       "  </thead>\n",
       "  <tbody>\n",
       "    <tr>\n",
       "      <th>0</th>\n",
       "      <td>1</td>\n",
       "      <td>Anorak</td>\n",
       "      <td>1</td>\n",
       "      <td>Hooded_Cotton_Canvas_Anorak_img_00000001</td>\n",
       "    </tr>\n",
       "    <tr>\n",
       "      <th>1</th>\n",
       "      <td>1</td>\n",
       "      <td>Anorak</td>\n",
       "      <td>1</td>\n",
       "      <td>Hooded_Cotton_Canvas_Anorak_img_00000002</td>\n",
       "    </tr>\n",
       "    <tr>\n",
       "      <th>2</th>\n",
       "      <td>1</td>\n",
       "      <td>Anorak</td>\n",
       "      <td>1</td>\n",
       "      <td>Hooded_Cotton_Canvas_Anorak_img_00000003</td>\n",
       "    </tr>\n",
       "    <tr>\n",
       "      <th>3</th>\n",
       "      <td>1</td>\n",
       "      <td>Anorak</td>\n",
       "      <td>1</td>\n",
       "      <td>Hooded_Cotton_Canvas_Anorak_img_00000004</td>\n",
       "    </tr>\n",
       "    <tr>\n",
       "      <th>4</th>\n",
       "      <td>1</td>\n",
       "      <td>Anorak</td>\n",
       "      <td>1</td>\n",
       "      <td>Hooded_Cotton_Canvas_Anorak_img_00000005</td>\n",
       "    </tr>\n",
       "  </tbody>\n",
       "</table>\n",
       "</div>"
      ],
      "text/plain": [
       "   category_label category_name  category_type  \\\n",
       "0               1        Anorak              1   \n",
       "1               1        Anorak              1   \n",
       "2               1        Anorak              1   \n",
       "3               1        Anorak              1   \n",
       "4               1        Anorak              1   \n",
       "\n",
       "                                 image_name  \n",
       "0  Hooded_Cotton_Canvas_Anorak_img_00000001  \n",
       "1  Hooded_Cotton_Canvas_Anorak_img_00000002  \n",
       "2  Hooded_Cotton_Canvas_Anorak_img_00000003  \n",
       "3  Hooded_Cotton_Canvas_Anorak_img_00000004  \n",
       "4  Hooded_Cotton_Canvas_Anorak_img_00000005  "
      ]
     },
     "execution_count": 5,
     "metadata": {},
     "output_type": "execute_result"
    }
   ],
   "source": [
    "df_category_combined.head()"
   ]
  },
  {
   "cell_type": "code",
   "execution_count": 6,
   "metadata": {},
   "outputs": [],
   "source": [
    "lst_coat_fname = [f.name[:-4] for f in os.scandir('./coat') if f.is_file()]\n",
    "lst_dress_fname = [f.name[:-4] for f in os.scandir('./dress') if f.is_file()]\n",
    "lst_jacket_fname = [f.name[:-4] for f in os.scandir('./jacket') if f.is_file()]\n",
    "lst_jumper_fname = [f.name[:-4] for f in os.scandir('./jumper') if f.is_file()]\n",
    "lst_pants_fname = [f.name[:-4] for f in os.scandir('./pants') if f.is_file()]\n",
    "lst_shirt_fname = [f.name[:-4] for f in os.scandir('./shirt') if f.is_file()]\n",
    "lst_skirt_fname = [f.name[:-4] for f in os.scandir('./skirt') if f.is_file()]\n",
    "lst_winterJacket_fname = [f.name[:-4] for f in os.scandir('./winter jacket') if f.is_file()]"
   ]
  },
  {
   "cell_type": "code",
   "execution_count": 8,
   "metadata": {},
   "outputs": [],
   "source": [
    "def createCategoryDataFrame(lst_category_fname, category_label, category_name):\n",
    "    \n",
    "    df_category = pd.DataFrame(lst_category_fname, columns=['image_name'])\n",
    "    df_category.insert(1,'category_label', category_label)\n",
    "    df_category.insert(1,'category_name', category_name)\n",
    "\n",
    "    return df_category"
   ]
  },
  {
   "cell_type": "code",
   "execution_count": 9,
   "metadata": {},
   "outputs": [],
   "source": [
    "df_shirt = createCategoryDataFrame(lst_shirt_fname, 0, 'shirt')\n",
    "df_jumper = createCategoryDataFrame(lst_jumper_fname, 1, 'jumper')\n",
    "df_jacket = createCategoryDataFrame(lst_jacket_fname, 2, 'jacket')\n",
    "#df_vest = createCategoryDataFrame(lst_vest_fname, 3, 'Vest')\n",
    "df_winterJacket = createCategoryDataFrame(lst_winterJacket_fname, 4, 'winter jacket')\n",
    "df_coat = createCategoryDataFrame(lst_coat_fname, 5, 'coat')\n",
    "df_dress = createCategoryDataFrame(lst_dress_fname, 6, 'dress')\n",
    "df_pants = createCategoryDataFrame(lst_pants_fname, 7, 'pants')\n",
    "df_skirt = createCategoryDataFrame(lst_skirt_fname, 8, 'skirt')"
   ]
  },
  {
   "cell_type": "code",
   "execution_count": 10,
   "metadata": {},
   "outputs": [
    {
     "data": {
      "text/html": [
       "<div>\n",
       "<style scoped>\n",
       "    .dataframe tbody tr th:only-of-type {\n",
       "        vertical-align: middle;\n",
       "    }\n",
       "\n",
       "    .dataframe tbody tr th {\n",
       "        vertical-align: top;\n",
       "    }\n",
       "\n",
       "    .dataframe thead th {\n",
       "        text-align: right;\n",
       "    }\n",
       "</style>\n",
       "<table border=\"1\" class=\"dataframe\">\n",
       "  <thead>\n",
       "    <tr style=\"text-align: right;\">\n",
       "      <th></th>\n",
       "      <th>image_name</th>\n",
       "      <th>category_name</th>\n",
       "      <th>category_label</th>\n",
       "    </tr>\n",
       "  </thead>\n",
       "  <tbody>\n",
       "    <tr>\n",
       "      <th>0</th>\n",
       "      <td>1981_Graphic_Ringer_Tee_img_00000001</td>\n",
       "      <td>shirt</td>\n",
       "      <td>0</td>\n",
       "    </tr>\n",
       "    <tr>\n",
       "      <th>1</th>\n",
       "      <td>1981_Graphic_Ringer_Tee_img_00000002</td>\n",
       "      <td>shirt</td>\n",
       "      <td>0</td>\n",
       "    </tr>\n",
       "    <tr>\n",
       "      <th>2</th>\n",
       "      <td>1981_Graphic_Ringer_Tee_img_00000003</td>\n",
       "      <td>shirt</td>\n",
       "      <td>0</td>\n",
       "    </tr>\n",
       "    <tr>\n",
       "      <th>3</th>\n",
       "      <td>1981_Graphic_Ringer_Tee_img_00000004</td>\n",
       "      <td>shirt</td>\n",
       "      <td>0</td>\n",
       "    </tr>\n",
       "    <tr>\n",
       "      <th>4</th>\n",
       "      <td>1981_Graphic_Ringer_Tee_img_00000005</td>\n",
       "      <td>shirt</td>\n",
       "      <td>0</td>\n",
       "    </tr>\n",
       "  </tbody>\n",
       "</table>\n",
       "</div>"
      ],
      "text/plain": [
       "                             image_name category_name  category_label\n",
       "0  1981_Graphic_Ringer_Tee_img_00000001         shirt               0\n",
       "1  1981_Graphic_Ringer_Tee_img_00000002         shirt               0\n",
       "2  1981_Graphic_Ringer_Tee_img_00000003         shirt               0\n",
       "3  1981_Graphic_Ringer_Tee_img_00000004         shirt               0\n",
       "4  1981_Graphic_Ringer_Tee_img_00000005         shirt               0"
      ]
     },
     "execution_count": 10,
     "metadata": {},
     "output_type": "execute_result"
    }
   ],
   "source": [
    "df_shirt.head()"
   ]
  },
  {
   "cell_type": "code",
   "execution_count": 11,
   "metadata": {},
   "outputs": [
    {
     "data": {
      "text/html": [
       "<div>\n",
       "<style scoped>\n",
       "    .dataframe tbody tr th:only-of-type {\n",
       "        vertical-align: middle;\n",
       "    }\n",
       "\n",
       "    .dataframe tbody tr th {\n",
       "        vertical-align: top;\n",
       "    }\n",
       "\n",
       "    .dataframe thead th {\n",
       "        text-align: right;\n",
       "    }\n",
       "</style>\n",
       "<table border=\"1\" class=\"dataframe\">\n",
       "  <thead>\n",
       "    <tr style=\"text-align: right;\">\n",
       "      <th></th>\n",
       "      <th>image_name</th>\n",
       "      <th>category_name</th>\n",
       "      <th>category_label</th>\n",
       "    </tr>\n",
       "  </thead>\n",
       "  <tbody>\n",
       "    <tr>\n",
       "      <th>0</th>\n",
       "      <td>Hooded_Cotton_Canvas_Anorak_img_00000001</td>\n",
       "      <td>jumper</td>\n",
       "      <td>1</td>\n",
       "    </tr>\n",
       "    <tr>\n",
       "      <th>1</th>\n",
       "      <td>Hooded_Cotton_Canvas_Anorak_img_00000002</td>\n",
       "      <td>jumper</td>\n",
       "      <td>1</td>\n",
       "    </tr>\n",
       "    <tr>\n",
       "      <th>2</th>\n",
       "      <td>Hooded_Cotton_Canvas_Anorak_img_00000003</td>\n",
       "      <td>jumper</td>\n",
       "      <td>1</td>\n",
       "    </tr>\n",
       "    <tr>\n",
       "      <th>3</th>\n",
       "      <td>Hooded_Cotton_Canvas_Anorak_img_00000004</td>\n",
       "      <td>jumper</td>\n",
       "      <td>1</td>\n",
       "    </tr>\n",
       "    <tr>\n",
       "      <th>4</th>\n",
       "      <td>Hooded_Cotton_Canvas_Anorak_img_00000005</td>\n",
       "      <td>jumper</td>\n",
       "      <td>1</td>\n",
       "    </tr>\n",
       "  </tbody>\n",
       "</table>\n",
       "</div>"
      ],
      "text/plain": [
       "                                 image_name category_name  category_label\n",
       "0  Hooded_Cotton_Canvas_Anorak_img_00000001        jumper               1\n",
       "1  Hooded_Cotton_Canvas_Anorak_img_00000002        jumper               1\n",
       "2  Hooded_Cotton_Canvas_Anorak_img_00000003        jumper               1\n",
       "3  Hooded_Cotton_Canvas_Anorak_img_00000004        jumper               1\n",
       "4  Hooded_Cotton_Canvas_Anorak_img_00000005        jumper               1"
      ]
     },
     "execution_count": 11,
     "metadata": {},
     "output_type": "execute_result"
    }
   ],
   "source": [
    "df_jumper.head()"
   ]
  },
  {
   "cell_type": "code",
   "execution_count": 12,
   "metadata": {},
   "outputs": [],
   "source": [
    "df_shirt_attr_combined = pd.merge(df_shirt, df_attr_combined)\n",
    "df_jumper_attr_combined = pd.merge(df_jumper, df_attr_combined)\n",
    "df_jacket_attr_combined = pd.merge(df_jacket, df_attr_combined)\n",
    "df_winterJacket_attr_combined = pd.merge(df_winterJacket, df_attr_combined)\n",
    "df_coat_attr_combined = pd.merge(df_coat, df_attr_combined)\n",
    "df_dress_attr_combined = pd.merge(df_dress, df_attr_combined)\n",
    "df_pants_attr_combined = pd.merge(df_pants, df_attr_combined)\n",
    "df_skirt_attr_combined = pd.merge(df_skirt, df_attr_combined)"
   ]
  },
  {
   "cell_type": "code",
   "execution_count": 13,
   "metadata": {},
   "outputs": [
    {
     "data": {
      "text/html": [
       "<div>\n",
       "<style scoped>\n",
       "    .dataframe tbody tr th:only-of-type {\n",
       "        vertical-align: middle;\n",
       "    }\n",
       "\n",
       "    .dataframe tbody tr th {\n",
       "        vertical-align: top;\n",
       "    }\n",
       "\n",
       "    .dataframe thead th {\n",
       "        text-align: right;\n",
       "    }\n",
       "</style>\n",
       "<table border=\"1\" class=\"dataframe\">\n",
       "  <thead>\n",
       "    <tr style=\"text-align: right;\">\n",
       "      <th></th>\n",
       "      <th>image_name</th>\n",
       "      <th>category_name</th>\n",
       "      <th>category_label</th>\n",
       "      <th>a-line</th>\n",
       "      <th>abstract</th>\n",
       "      <th>abstract chevron</th>\n",
       "      <th>abstract chevron print</th>\n",
       "      <th>abstract diamond</th>\n",
       "      <th>abstract floral</th>\n",
       "      <th>abstract floral print</th>\n",
       "      <th>...</th>\n",
       "      <th>zeppelin</th>\n",
       "      <th>zig</th>\n",
       "      <th>zigzag</th>\n",
       "      <th>zip</th>\n",
       "      <th>zip-front</th>\n",
       "      <th>zip-pocket</th>\n",
       "      <th>zip-up</th>\n",
       "      <th>zipped</th>\n",
       "      <th>zipper</th>\n",
       "      <th>zippered</th>\n",
       "    </tr>\n",
       "  </thead>\n",
       "  <tbody>\n",
       "    <tr>\n",
       "      <th>0</th>\n",
       "      <td>Corduroy_Hooded_Parka_img_00000001</td>\n",
       "      <td>winter jacket</td>\n",
       "      <td>4</td>\n",
       "      <td>-1</td>\n",
       "      <td>-1</td>\n",
       "      <td>-1</td>\n",
       "      <td>-1</td>\n",
       "      <td>-1</td>\n",
       "      <td>-1</td>\n",
       "      <td>-1</td>\n",
       "      <td>...</td>\n",
       "      <td>-1</td>\n",
       "      <td>-1</td>\n",
       "      <td>-1</td>\n",
       "      <td>-1</td>\n",
       "      <td>-1</td>\n",
       "      <td>-1</td>\n",
       "      <td>-1</td>\n",
       "      <td>-1</td>\n",
       "      <td>-1</td>\n",
       "      <td>-1</td>\n",
       "    </tr>\n",
       "    <tr>\n",
       "      <th>1</th>\n",
       "      <td>Corduroy_Hooded_Parka_img_00000002</td>\n",
       "      <td>winter jacket</td>\n",
       "      <td>4</td>\n",
       "      <td>-1</td>\n",
       "      <td>-1</td>\n",
       "      <td>-1</td>\n",
       "      <td>-1</td>\n",
       "      <td>-1</td>\n",
       "      <td>-1</td>\n",
       "      <td>-1</td>\n",
       "      <td>...</td>\n",
       "      <td>-1</td>\n",
       "      <td>-1</td>\n",
       "      <td>-1</td>\n",
       "      <td>-1</td>\n",
       "      <td>-1</td>\n",
       "      <td>-1</td>\n",
       "      <td>-1</td>\n",
       "      <td>-1</td>\n",
       "      <td>-1</td>\n",
       "      <td>-1</td>\n",
       "    </tr>\n",
       "    <tr>\n",
       "      <th>2</th>\n",
       "      <td>Corduroy_Hooded_Parka_img_00000003</td>\n",
       "      <td>winter jacket</td>\n",
       "      <td>4</td>\n",
       "      <td>-1</td>\n",
       "      <td>-1</td>\n",
       "      <td>-1</td>\n",
       "      <td>-1</td>\n",
       "      <td>-1</td>\n",
       "      <td>-1</td>\n",
       "      <td>-1</td>\n",
       "      <td>...</td>\n",
       "      <td>-1</td>\n",
       "      <td>-1</td>\n",
       "      <td>-1</td>\n",
       "      <td>-1</td>\n",
       "      <td>-1</td>\n",
       "      <td>-1</td>\n",
       "      <td>-1</td>\n",
       "      <td>-1</td>\n",
       "      <td>-1</td>\n",
       "      <td>-1</td>\n",
       "    </tr>\n",
       "    <tr>\n",
       "      <th>3</th>\n",
       "      <td>Corduroy_Hooded_Parka_img_00000004</td>\n",
       "      <td>winter jacket</td>\n",
       "      <td>4</td>\n",
       "      <td>-1</td>\n",
       "      <td>-1</td>\n",
       "      <td>-1</td>\n",
       "      <td>-1</td>\n",
       "      <td>-1</td>\n",
       "      <td>-1</td>\n",
       "      <td>-1</td>\n",
       "      <td>...</td>\n",
       "      <td>-1</td>\n",
       "      <td>-1</td>\n",
       "      <td>-1</td>\n",
       "      <td>-1</td>\n",
       "      <td>-1</td>\n",
       "      <td>-1</td>\n",
       "      <td>-1</td>\n",
       "      <td>-1</td>\n",
       "      <td>-1</td>\n",
       "      <td>-1</td>\n",
       "    </tr>\n",
       "    <tr>\n",
       "      <th>4</th>\n",
       "      <td>Corduroy_Hooded_Parka_img_00000005</td>\n",
       "      <td>winter jacket</td>\n",
       "      <td>4</td>\n",
       "      <td>-1</td>\n",
       "      <td>-1</td>\n",
       "      <td>-1</td>\n",
       "      <td>-1</td>\n",
       "      <td>-1</td>\n",
       "      <td>-1</td>\n",
       "      <td>-1</td>\n",
       "      <td>...</td>\n",
       "      <td>-1</td>\n",
       "      <td>-1</td>\n",
       "      <td>-1</td>\n",
       "      <td>-1</td>\n",
       "      <td>-1</td>\n",
       "      <td>-1</td>\n",
       "      <td>-1</td>\n",
       "      <td>-1</td>\n",
       "      <td>-1</td>\n",
       "      <td>-1</td>\n",
       "    </tr>\n",
       "  </tbody>\n",
       "</table>\n",
       "<p>5 rows × 1003 columns</p>\n",
       "</div>"
      ],
      "text/plain": [
       "                           image_name  category_name  category_label  a-line   \\\n",
       "0  Corduroy_Hooded_Parka_img_00000001  winter jacket               4       -1   \n",
       "1  Corduroy_Hooded_Parka_img_00000002  winter jacket               4       -1   \n",
       "2  Corduroy_Hooded_Parka_img_00000003  winter jacket               4       -1   \n",
       "3  Corduroy_Hooded_Parka_img_00000004  winter jacket               4       -1   \n",
       "4  Corduroy_Hooded_Parka_img_00000005  winter jacket               4       -1   \n",
       "\n",
       "   abstract   abstract chevron   abstract chevron print   abstract diamond   \\\n",
       "0         -1                 -1                       -1                 -1   \n",
       "1         -1                 -1                       -1                 -1   \n",
       "2         -1                 -1                       -1                 -1   \n",
       "3         -1                 -1                       -1                 -1   \n",
       "4         -1                 -1                       -1                 -1   \n",
       "\n",
       "   abstract floral   abstract floral print     ...      zeppelin   zig   \\\n",
       "0                -1                      -1    ...             -1    -1   \n",
       "1                -1                      -1    ...             -1    -1   \n",
       "2                -1                      -1    ...             -1    -1   \n",
       "3                -1                      -1    ...             -1    -1   \n",
       "4                -1                      -1    ...             -1    -1   \n",
       "\n",
       "   zigzag   zip   zip-front   zip-pocket   zip-up   zipped   zipper   \\\n",
       "0       -1    -1          -1           -1       -1       -1       -1   \n",
       "1       -1    -1          -1           -1       -1       -1       -1   \n",
       "2       -1    -1          -1           -1       -1       -1       -1   \n",
       "3       -1    -1          -1           -1       -1       -1       -1   \n",
       "4       -1    -1          -1           -1       -1       -1       -1   \n",
       "\n",
       "   zippered   \n",
       "0         -1  \n",
       "1         -1  \n",
       "2         -1  \n",
       "3         -1  \n",
       "4         -1  \n",
       "\n",
       "[5 rows x 1003 columns]"
      ]
     },
     "execution_count": 13,
     "metadata": {},
     "output_type": "execute_result"
    }
   ],
   "source": [
    "df_winterJacket_attr_combined.head()"
   ]
  },
  {
   "cell_type": "code",
   "execution_count": 131,
   "metadata": {
    "scrolled": true
   },
   "outputs": [
    {
     "name": "stdout",
     "output_type": "stream",
     "text": [
      "shirt                      11542\n",
      "print                      11291\n",
      "sleeve                      9825\n",
      "knit                        8264\n",
      "graphic                     6359\n",
      "striped                     5745\n",
      "floral                      5431\n",
      "muscle                      5403\n",
      "chiffon                     5358\n",
      "lace                        4960\n",
      "stripe                      4106\n",
      "long sleeve                 3702\n",
      "pocket                      3493\n",
      "cotton                      3460\n",
      "crochet                     3274\n",
      "v-neck                      3153\n",
      "boxy                        3136\n",
      "sleeveless                  2898\n",
      "classic                     2849\n",
      "crop                        2567\n",
      "love                        2448\n",
      "sheer                       2335\n",
      "pink                        2252\n",
      "summer                      2247\n",
      "printed                     2234\n",
      "red                         2197\n",
      "crew                        2156\n",
      "racerback                   2141\n",
      "collar                      1991\n",
      "abstract                    1962\n",
      "                           ...  \n",
      "lace sheath                    0\n",
      "floral print strapless         0\n",
      "strapless tribal               0\n",
      "beaded shift                   0\n",
      "combo maxi                     0\n",
      "overlay sheath                 0\n",
      "belted maxi                    0\n",
      "belted floral print            0\n",
      "floral shift                   0\n",
      "fit skinny                     0\n",
      "embroidered fit                0\n",
      "classic skinny                 0\n",
      "m-slit maxi                    0\n",
      "cutout maxi                    0\n",
      "lace pencil                    0\n",
      "floral lace sheath             0\n",
      "floral lace skater             0\n",
      "distressed low-rise            0\n",
      "rose skater                    0\n",
      "matelot                        0\n",
      "belted floral                  0\n",
      "distressed mid-rise            0\n",
      "eyelet fit                     0\n",
      "embroidered shift              0\n",
      "denim drawstring               0\n",
      "chiffon shift                  0\n",
      "m-slit                         0\n",
      "gauze maxi                     0\n",
      "mid-rise skinny                0\n",
      "faux leather pencil            0\n",
      "Length: 1000, dtype: int64\n"
     ]
    }
   ],
   "source": [
    "shirt_attr_frequency = (df_shirt_attr_combined.iloc[:,3:] == 1).sum(axis=0)\n",
    "shirt_attr_frequency_sort=shirt_attr_frequency.sort_values(ascending = False)\n",
    "print(shirt_attr_frequency_sort)"
   ]
  },
  {
   "cell_type": "code",
   "execution_count": 130,
   "metadata": {},
   "outputs": [
    {
     "name": "stdout",
     "output_type": "stream",
     "text": [
      "leather               175\n",
      "faux                  145\n",
      "quilted               138\n",
      "faux leather          123\n",
      "hooded                114\n",
      "zip                    96\n",
      "canvas                 77\n",
      "cotton                 71\n",
      "collar                 71\n",
      "fur                    26\n",
      "trim                   21\n",
      "sleeve                 20\n",
      "moto                   18\n",
      "ribbed                 16\n",
      "faux fur               14\n",
      "biker                  13\n",
      "knit                   12\n",
      "shearling              12\n",
      "red                    12\n",
      "long sleeve            11\n",
      "hood                   11\n",
      "leather quilted        11\n",
      "leather moto           10\n",
      "classic                 9\n",
      "new york                9\n",
      "pocket                  9\n",
      "york                    9\n",
      "polo                    9\n",
      "faux leather moto       8\n",
      "button                  8\n",
      "                     ... \n",
      "loyal                   0\n",
      "low-rise skinny         0\n",
      "mesh-trimmed            0\n",
      "miami                   0\n",
      "mickey                  0\n",
      "mickey mouse            0\n",
      "morning                 0\n",
      "moon                    0\n",
      "monroe                  0\n",
      "modernist               0\n",
      "mod                     0\n",
      "mock-neck               0\n",
      "mock neck               0\n",
      "mock                    0\n",
      "mob                     0\n",
      "mixed stripe            0\n",
      "mixed print             0\n",
      "mirrored                0\n",
      "minnie mouse            0\n",
      "minnie                  0\n",
      "mini                    0\n",
      "mineral wash            0\n",
      "mineral                 0\n",
      "mina                    0\n",
      "midi                    0\n",
      "mid-rise skinny         0\n",
      "mid-rise                0\n",
      "mid rise skinny         0\n",
      "mid rise                0\n",
      "a-line                  0\n",
      "Length: 1000, dtype: int64\n"
     ]
    }
   ],
   "source": [
    "jumper_attr_frequency = (df_jumper_attr_combined.iloc[:,3:] == 1).sum(axis=0)\n",
    "jumper_attr_frequency_sort=jumper_attr_frequency.sort_values(ascending = False)\n",
    "print(jumper_attr_frequency_sort)"
   ]
  },
  {
   "cell_type": "code",
   "execution_count": 132,
   "metadata": {},
   "outputs": [
    {
     "name": "stdout",
     "output_type": "stream",
     "text": [
      "knit                          3967\n",
      "faux                          2711\n",
      "leather                       2394\n",
      "collar                        2157\n",
      "hooded                        2128\n",
      "sleeve                        2064\n",
      "print                         1987\n",
      "shawl                         1647\n",
      "denim                         1574\n",
      "button                        1401\n",
      "longline                      1396\n",
      "floral                        1371\n",
      "faux leather                  1303\n",
      "classic                       1302\n",
      "fur                           1136\n",
      "moto                          1053\n",
      "collarless                    1038\n",
      "open-front                     973\n",
      "draped                         934\n",
      "faux fur                       926\n",
      "striped                        925\n",
      "lace                           904\n",
      "zip                            866\n",
      "long sleeve                    840\n",
      "textured                       832\n",
      "quilted                        825\n",
      "dolman                         700\n",
      "oversized                      696\n",
      "cotton                         692\n",
      "maxi                           691\n",
      "                              ... \n",
      "tower                            0\n",
      "springs                          0\n",
      "denim shift                      0\n",
      "denim skater                     0\n",
      "faux leather pencil              0\n",
      "floral shift                     0\n",
      "floral print surplice            0\n",
      "floral print strapless           0\n",
      "floral peasant                   0\n",
      "floral mini                      0\n",
      "floral lace skater               0\n",
      "floral lace sheath               0\n",
      "floral lace mini                 0\n",
      "floral flutter                   0\n",
      "seaside                          0\n",
      "faux leather skater              0\n",
      "faux leather mini                0\n",
      "spongebob                        0\n",
      "eyelet fit                       0\n",
      "embroidered shift                0\n",
      "embroidered gauze peasant        0\n",
      "embroidered gauze                0\n",
      "embroidered fit                  0\n",
      "eiffel                           0\n",
      "skinny stretch                   0\n",
      "draped surplice                  0\n",
      "doodle                           0\n",
      "dolphin hem                      0\n",
      "distressed mid-rise              0\n",
      "knit mini                        0\n",
      "Length: 1000, dtype: int64\n"
     ]
    }
   ],
   "source": [
    "jacket_attr_frequency = (df_jacket_attr_combined.iloc[:,3:] == 1).sum(axis=0)\n",
    "jacket_attr_frequency_sort=jacket_attr_frequency.sort_values(ascending = False)\n",
    "print(jacket_attr_frequency_sort)"
   ]
  },
  {
   "cell_type": "code",
   "execution_count": 133,
   "metadata": {},
   "outputs": [
    {
     "name": "stdout",
     "output_type": "stream",
     "text": [
      "faux                 300\n",
      "hooded               266\n",
      "fur                  254\n",
      "faux fur             206\n",
      "puffer               140\n",
      "shearling             81\n",
      "hood                  79\n",
      "trim                  67\n",
      "faux shearling        66\n",
      "corduroy              59\n",
      "quilted               42\n",
      "double-breasted       36\n",
      "trench                32\n",
      "belted                29\n",
      "collar                27\n",
      "leather               21\n",
      "cotton                16\n",
      "oversized             15\n",
      "shopping              14\n",
      "slim                  13\n",
      "drawstring            12\n",
      "zip                   10\n",
      "york                   9\n",
      "sleeve                 9\n",
      "new york               9\n",
      "fit                    8\n",
      "trimmed                8\n",
      "button                 7\n",
      "red                    6\n",
      "leopard                6\n",
      "                    ... \n",
      "mandala print          0\n",
      "mid-rise               0\n",
      "mina                   0\n",
      "neckline               0\n",
      "modernist              0\n",
      "neck striped           0\n",
      "neck skater            0\n",
      "neck ribbed            0\n",
      "nautical striped       0\n",
      "nautical stripe        0\n",
      "muscle                 0\n",
      "multi-stripe           0\n",
      "mosaic print           0\n",
      "mosaic                 0\n",
      "moon                   0\n",
      "monroe                 0\n",
      "mod                    0\n",
      "mineral                0\n",
      "mock-neck              0\n",
      "mock neck              0\n",
      "mock                   0\n",
      "mob                    0\n",
      "mixed stripe           0\n",
      "mixed print            0\n",
      "mirrored               0\n",
      "minnie mouse           0\n",
      "minnie                 0\n",
      "mini                   0\n",
      "mineral wash           0\n",
      "knit mini              0\n",
      "Length: 1000, dtype: int64\n"
     ]
    }
   ],
   "source": [
    "winterJacket_attr_frequency = (df_winterJacket_attr_combined.iloc[:,3:] == 1).sum(axis=0)\n",
    "winterJacket_attr_frequency_sort=winterJacket_attr_frequency.sort_values(ascending = False)\n",
    "print(winterJacket_attr_frequency_sort)"
   ]
  },
  {
   "cell_type": "code",
   "execution_count": 134,
   "metadata": {},
   "outputs": [
    {
     "name": "stdout",
     "output_type": "stream",
     "text": [
      "trench               110\n",
      "faux                  70\n",
      "fur                   67\n",
      "faux fur              65\n",
      "woven                 65\n",
      "textured              55\n",
      "denim                 51\n",
      "plaid                 29\n",
      "button                24\n",
      "wash                  22\n",
      "sleeve                19\n",
      "hooded                17\n",
      "washed                17\n",
      "collar                16\n",
      "tweed                 14\n",
      "long sleeve           14\n",
      "oversized             12\n",
      "acid                  11\n",
      "leather               11\n",
      "cotton                10\n",
      "acid wash             10\n",
      "belted                 9\n",
      "pink                   7\n",
      "red                    6\n",
      "classic                6\n",
      "print                  6\n",
      "two-tone               6\n",
      "love                   5\n",
      "island                 5\n",
      "new york               4\n",
      "                    ... \n",
      "mandala print          0\n",
      "mid-rise               0\n",
      "mina                   0\n",
      "neck striped           0\n",
      "morning                0\n",
      "neck skater            0\n",
      "neck ribbed            0\n",
      "nautical striped       0\n",
      "nautical stripe        0\n",
      "nautical               0\n",
      "muse                   0\n",
      "muscle                 0\n",
      "multi-stripe           0\n",
      "moto                   0\n",
      "mosaic print           0\n",
      "mosaic                 0\n",
      "moon                   0\n",
      "mineral                0\n",
      "monroe                 0\n",
      "modernist              0\n",
      "mock-neck              0\n",
      "mob                    0\n",
      "mixed stripe           0\n",
      "mixed print            0\n",
      "mirrored               0\n",
      "minnie mouse           0\n",
      "minnie                 0\n",
      "mini                   0\n",
      "mineral wash           0\n",
      "knit mini              0\n",
      "Length: 1000, dtype: int64\n"
     ]
    }
   ],
   "source": [
    "coat_attr_frequency = (df_coat_attr_combined.iloc[:,3:] == 1).sum(axis=0)\n",
    "coat_attr_frequency_sort= coat_attr_frequency.sort_values(ascending = False)\n",
    "print(coat_attr_frequency_sort)"
   ]
  },
  {
   "cell_type": "code",
   "execution_count": 137,
   "metadata": {},
   "outputs": [
    {
     "name": "stdout",
     "output_type": "stream",
     "text": [
      "maxi                  12600\n",
      "print                 12033\n",
      "lace                   9900\n",
      "floral                 9828\n",
      "bodycon                5761\n",
      "shift                  4805\n",
      "chiffon                4297\n",
      "sleeve                 4276\n",
      "fit                    4169\n",
      "flare                  4133\n",
      "sleeveless             3626\n",
      "sheath                 3078\n",
      "floral print           3027\n",
      "crochet                2959\n",
      "embroidered            2904\n",
      "strapless              2892\n",
      "midi                   2833\n",
      "knit                   2817\n",
      "summer                 2550\n",
      "pleated                2547\n",
      "striped                2495\n",
      "cami                   2347\n",
      "stripe                 2300\n",
      "a-line                 2155\n",
      "red                    2141\n",
      "mini                   2053\n",
      "cutout                 2043\n",
      "party                  2025\n",
      "pink                   1930\n",
      "shirt                  1889\n",
      "                      ...  \n",
      "high-rise skinny          0\n",
      "high-rise                 0\n",
      "cami crop                 0\n",
      "heathered v-neck          0\n",
      "classic cotton            0\n",
      "classic crew neck         0\n",
      "leather varsity           0\n",
      "classic pocket            0\n",
      "leather quilted           0\n",
      "fit skinny                0\n",
      "fitted v-neck             0\n",
      "leather paneled           0\n",
      "leather moto              0\n",
      "straight-leg              0\n",
      "cardio                    0\n",
      "purl                      0\n",
      "colorblock pocket         0\n",
      "bike                      0\n",
      "collarless faux           0\n",
      "fold-over                 0\n",
      "foulard                   0\n",
      "clean wash                0\n",
      "classic woven             0\n",
      "knit shawl                0\n",
      "two-button                0\n",
      "knit raglan               0\n",
      "fuzzy knit                0\n",
      "tupac                     0\n",
      "classic skinny            0\n",
      "flat front                0\n",
      "Length: 1000, dtype: int64\n"
     ]
    }
   ],
   "source": [
    "dress_attr_frequency = (df_dress_attr_combined.iloc[:,3:] == 1).sum(axis=0)\n",
    "dress_attr_frequency_sort=dress_attr_frequency.sort_values(ascending = False)\n",
    "print(dress_attr_frequency_sort)"
   ]
  },
  {
   "cell_type": "code",
   "execution_count": null,
   "metadata": {},
   "outputs": [],
   "source": [
    "pants_attr_frequency = (df_pants_attr_combined.iloc[:,3:] == 1).sum(axis=0)\n",
    "pants_attr_frequency_sort=pants_attr_frequency.sort_values(ascending = False)\n",
    "print(dress_attr_frequency_sort)"
   ]
  },
  {
   "cell_type": "code",
   "execution_count": null,
   "metadata": {},
   "outputs": [],
   "source": []
  },
  {
   "cell_type": "code",
   "execution_count": null,
   "metadata": {},
   "outputs": [],
   "source": []
  },
  {
   "cell_type": "code",
   "execution_count": null,
   "metadata": {},
   "outputs": [],
   "source": []
  },
  {
   "cell_type": "code",
   "execution_count": null,
   "metadata": {},
   "outputs": [],
   "source": []
  },
  {
   "cell_type": "code",
   "execution_count": null,
   "metadata": {},
   "outputs": [],
   "source": []
  },
  {
   "cell_type": "markdown",
   "metadata": {},
   "source": [
    "## Check if the given attribute is in column or not\n",
    "### basically given attributes"
   ]
  },
  {
   "cell_type": "code",
   "execution_count": 85,
   "metadata": {},
   "outputs": [],
   "source": [
    "def isAttribute(lst_attribute):\n",
    "    for col in lst_attribute:\n",
    "        try:\n",
    "            df_attr_combined[col]\n",
    "            print(\"'\"+col+\"' exists\")\n",
    "        except :\n",
    "            print(\"'\"+col+\"' doesn't exist\")\n",
    "            pass"
   ]
  },
  {
   "cell_type": "code",
   "execution_count": 95,
   "metadata": {},
   "outputs": [],
   "source": [
    "lst_color = ['white ', 'black ', 'gray ', 'pink ', 'red ', 'green ', 'blue ', 'brown ', 'navy ', 'beige ', 'yellow ', 'purple ', 'orange ']\n",
    "lst_gender = ['man ', 'woman ']\n",
    "lst_sleeves = ['short sleeves ', 'long sleeves ', 'no sleeves ', 'short ', 'long ']\n",
    "lst_season = ['spring ', 'summer ', 'autumn ', 'winter ']\n",
    "lst_pattern = ['single ', 'checker ', 'dotted ', 'floral ', 'striped ']"
   ]
  },
  {
   "cell_type": "code",
   "execution_count": 97,
   "metadata": {},
   "outputs": [
    {
     "name": "stdout",
     "output_type": "stream",
     "text": [
      "'white ' doesn't exist\n",
      "'black ' doesn't exist\n",
      "'gray ' doesn't exist\n",
      "'pink ' exists\n",
      "'red ' exists\n",
      "'green ' doesn't exist\n",
      "'blue ' doesn't exist\n",
      "'brown ' doesn't exist\n",
      "'navy ' doesn't exist\n",
      "'beige ' doesn't exist\n",
      "'yellow ' doesn't exist\n",
      "'purple ' doesn't exist\n",
      "'orange ' doesn't exist\n"
     ]
    }
   ],
   "source": [
    "isAttribute(lst_color)"
   ]
  },
  {
   "cell_type": "code",
   "execution_count": 98,
   "metadata": {},
   "outputs": [
    {
     "name": "stdout",
     "output_type": "stream",
     "text": [
      "'man ' doesn't exist\n",
      "'woman ' doesn't exist\n"
     ]
    }
   ],
   "source": [
    "isAttribute(lst_gender)"
   ]
  },
  {
   "cell_type": "code",
   "execution_count": 99,
   "metadata": {},
   "outputs": [
    {
     "name": "stdout",
     "output_type": "stream",
     "text": [
      "'short sleeves ' doesn't exist\n",
      "'long sleeves ' doesn't exist\n",
      "'no sleeves ' doesn't exist\n",
      "'short ' doesn't exist\n",
      "'long ' doesn't exist\n"
     ]
    }
   ],
   "source": [
    "isAttribute(lst_sleeves)"
   ]
  },
  {
   "cell_type": "code",
   "execution_count": 100,
   "metadata": {},
   "outputs": [
    {
     "name": "stdout",
     "output_type": "stream",
     "text": [
      "'spring ' doesn't exist\n",
      "'summer ' exists\n",
      "'autumn ' doesn't exist\n",
      "'winter ' doesn't exist\n"
     ]
    }
   ],
   "source": [
    "isAttribute(lst_season)"
   ]
  },
  {
   "cell_type": "code",
   "execution_count": 101,
   "metadata": {},
   "outputs": [
    {
     "name": "stdout",
     "output_type": "stream",
     "text": [
      "'single ' doesn't exist\n",
      "'checker ' doesn't exist\n",
      "'dotted ' exists\n",
      "'floral ' exists\n",
      "'striped ' exists\n"
     ]
    }
   ],
   "source": [
    "isAttribute(lst_pattern)"
   ]
  },
  {
   "cell_type": "markdown",
   "metadata": {},
   "source": [
    "### find if the synonym of the given attributes"
   ]
  },
  {
   "cell_type": "code",
   "execution_count": 109,
   "metadata": {},
   "outputs": [
    {
     "data": {
      "text/plain": [
       "['colorblock ', 'colorblock pocket ', 'colorblocked ', 'watercolor ']"
      ]
     },
     "execution_count": 109,
     "metadata": {},
     "output_type": "execute_result"
    }
   ],
   "source": [
    "[col for col in df_attr_combined if 'color' in col]"
   ]
  },
  {
   "cell_type": "code",
   "execution_count": 110,
   "metadata": {},
   "outputs": [
    {
     "data": {
      "text/plain": [
       "['bell-sleeve ',\n",
       " 'cap-sleeve ',\n",
       " 'cuffed-sleeve ',\n",
       " 'dolman sleeve ',\n",
       " 'dolman-sleeve ',\n",
       " 'drop-sleeve ',\n",
       " 'flutter sleeve ',\n",
       " 'flutter-sleeve ',\n",
       " 'lace sleeve ',\n",
       " 'long sleeve ',\n",
       " 'long-sleeve ',\n",
       " 'long-sleeved ',\n",
       " 'raglan sleeve ',\n",
       " 'sleeve ',\n",
       " 'sleeveless ']"
      ]
     },
     "execution_count": 110,
     "metadata": {},
     "output_type": "execute_result"
    }
   ],
   "source": [
    "[col for col in df_attr_combined if 'sleeve' in col]"
   ]
  },
  {
   "cell_type": "code",
   "execution_count": 111,
   "metadata": {},
   "outputs": [
    {
     "data": {
      "text/plain": [
       "['girl ', 'girls ']"
      ]
     },
     "execution_count": 111,
     "metadata": {},
     "output_type": "execute_result"
    }
   ],
   "source": [
    "[col for col in df_attr_combined if 'girl' in col]"
   ]
  },
  {
   "cell_type": "code",
   "execution_count": 112,
   "metadata": {},
   "outputs": [
    {
     "data": {
      "text/plain": [
       "['boyfriend ']"
      ]
     },
     "execution_count": 112,
     "metadata": {},
     "output_type": "execute_result"
    }
   ],
   "source": [
    "[col for col in df_attr_combined if 'boy' in col]"
   ]
  },
  {
   "cell_type": "code",
   "execution_count": 117,
   "metadata": {},
   "outputs": [
    {
     "data": {
      "text/plain": [
       "['abstract pattern ',\n",
       " 'floral pattern ',\n",
       " 'geo pattern ',\n",
       " 'pattern ',\n",
       " 'patterned ',\n",
       " 'southwestern-patterned ']"
      ]
     },
     "execution_count": 117,
     "metadata": {},
     "output_type": "execute_result"
    }
   ],
   "source": [
    "[col for col in df_attr_combined if 'pattern' in col]"
   ]
  },
  {
   "cell_type": "code",
   "execution_count": 118,
   "metadata": {},
   "outputs": [
    {
     "data": {
      "text/plain": [
       "['checked ', 'checkered ']"
      ]
     },
     "execution_count": 118,
     "metadata": {},
     "output_type": "execute_result"
    }
   ],
   "source": [
    "[col for col in df_attr_combined if 'check' in col]"
   ]
  },
  {
   "cell_type": "code",
   "execution_count": 119,
   "metadata": {},
   "outputs": [
    {
     "data": {
      "text/plain": [
       "['dot ', 'dots ', 'dotted ', 'polka dot ']"
      ]
     },
     "execution_count": 119,
     "metadata": {},
     "output_type": "execute_result"
    }
   ],
   "source": [
    "[col for col in df_attr_combined if 'dot' in col]"
   ]
  },
  {
   "cell_type": "code",
   "execution_count": 120,
   "metadata": {},
   "outputs": [
    {
     "data": {
      "text/plain": [
       "['abstract floral ',\n",
       " 'abstract floral print ',\n",
       " 'belted floral ',\n",
       " 'belted floral print ',\n",
       " 'chiffon floral ',\n",
       " 'crochet floral ',\n",
       " 'ditsy floral ',\n",
       " 'ditsy floral print ',\n",
       " 'embroidered floral ',\n",
       " 'floral ',\n",
       " 'floral flutter ',\n",
       " 'floral knit ',\n",
       " 'floral lace ',\n",
       " 'floral lace mini ',\n",
       " 'floral lace sheath ',\n",
       " 'floral lace skater ',\n",
       " 'floral maxi ',\n",
       " 'floral mesh ',\n",
       " 'floral midi ',\n",
       " 'floral mini ',\n",
       " 'floral paisley ',\n",
       " 'floral pattern ',\n",
       " 'floral peasant ',\n",
       " 'floral pleated ',\n",
       " 'floral print ',\n",
       " 'floral print skater ',\n",
       " 'floral print strapless ',\n",
       " 'floral print surplice ',\n",
       " 'floral shift ',\n",
       " 'floral skater ',\n",
       " 'floral surplice ',\n",
       " 'floral textured ',\n",
       " 'floral-embroidered ']"
      ]
     },
     "execution_count": 120,
     "metadata": {},
     "output_type": "execute_result"
    }
   ],
   "source": [
    "[col for col in df_attr_combined if 'floral' in col]"
   ]
  },
  {
   "cell_type": "code",
   "execution_count": 121,
   "metadata": {},
   "outputs": [
    {
     "data": {
      "text/plain": [
       "['abstract stripe ',\n",
       " 'back striped ',\n",
       " 'boxy striped ',\n",
       " 'breton stripe ',\n",
       " 'classic striped ',\n",
       " 'geo stripe ',\n",
       " 'heathered stripe ',\n",
       " 'knit stripe ',\n",
       " 'knit striped ',\n",
       " 'marled stripe ',\n",
       " 'mixed stripe ',\n",
       " 'multi-stripe ',\n",
       " 'nautical stripe ',\n",
       " 'nautical striped ',\n",
       " 'neck striped ',\n",
       " 'pinstripe ',\n",
       " 'pinstriped ',\n",
       " 'ribbed stripe ',\n",
       " 'rugby stripe ',\n",
       " 'rugby striped ',\n",
       " 'stripe ',\n",
       " 'striped ',\n",
       " 'striped trapeze ',\n",
       " 'striped v-neck ',\n",
       " 'stripes ',\n",
       " 'varsity-striped ']"
      ]
     },
     "execution_count": 121,
     "metadata": {},
     "output_type": "execute_result"
    }
   ],
   "source": [
    "[col for col in df_attr_combined if 'stripe' in col]"
   ]
  },
  {
   "cell_type": "code",
   "execution_count": null,
   "metadata": {},
   "outputs": [],
   "source": []
  }
 ],
 "metadata": {
  "kernelspec": {
   "display_name": "Python 3",
   "language": "python",
   "name": "python3"
  },
  "language_info": {
   "codemirror_mode": {
    "name": "ipython",
    "version": 3
   },
   "file_extension": ".py",
   "mimetype": "text/x-python",
   "name": "python",
   "nbconvert_exporter": "python",
   "pygments_lexer": "ipython3",
   "version": "3.7.1"
  }
 },
 "nbformat": 4,
 "nbformat_minor": 2
}
