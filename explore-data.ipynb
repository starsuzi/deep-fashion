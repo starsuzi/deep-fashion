{
 "cells": [
  {
   "cell_type": "code",
   "execution_count": 1,
   "metadata": {},
   "outputs": [],
   "source": [
    "import numpy as np\n",
    "import pandas as pd\n",
    "import csv\n",
    "import matplotlib.pyplot as plt"
   ]
  },
  {
   "cell_type": "code",
   "execution_count": 2,
   "metadata": {},
   "outputs": [],
   "source": [
    "#font = {'size'   : 12}\n",
    "#plt.rc('font', **font)"
   ]
  },
  {
   "cell_type": "markdown",
   "metadata": {},
   "source": [
    "## Import dataset\n",
    "dataset is originally prepared as text file, so following process is needed to convert txt file to csv file. The process includes collapsing blanks."
   ]
  },
  {
   "cell_type": "code",
   "execution_count": 3,
   "metadata": {},
   "outputs": [],
   "source": [
    "def collapseBlanks(original_path, saving_path):\n",
    "    \n",
    "    with open(original_path, 'r') as file :\n",
    "         lines = file.readlines()\n",
    "    \n",
    "    for i, line in enumerate(lines):\n",
    "        collapsed = ' '.join(line.split())\n",
    "        lines[i] = lines[i].replace(line, collapsed)\n",
    "        \n",
    "    with open(saving_path, 'w') as file :\n",
    "        for i in range(len(lines)-1):\n",
    "            file.write(lines[i+1]+'\\n')"
   ]
  },
  {
   "cell_type": "code",
   "execution_count": 4,
   "metadata": {},
   "outputs": [],
   "source": [
    "collapseBlanks(\"./Anno/original/list_attr_img.txt\", \"./Anno/changed/list_attr_img.txt\")\n",
    "collapseBlanks(\"./Anno/original/list_attr_cloth.txt\", \"./Anno/changed/list_attr_cloth.txt\")\n",
    "\n",
    "with open(\"./Anno/changed/list_attr_cloth.txt\", 'r') as file :\n",
    "    filedata = file.read()\n",
    "filedata = filedata.replace('attribute_type', ',attribute_type')\n",
    "for attribute_type in range(1,6):\n",
    "    filedata = filedata.replace(str(attribute_type), ','+str(attribute_type))\n",
    "\n",
    "with open(\"./Anno/changed/list_attr_cloth.txt\", 'w') as file :\n",
    "    file.write(filedata)"
   ]
  },
  {
   "cell_type": "code",
   "execution_count": 5,
   "metadata": {},
   "outputs": [],
   "source": [
    "collapseBlanks(\"./Anno/original/list_category_cloth.txt\", \"./Anno/changed/list_category_cloth.txt\")\n",
    "collapseBlanks(\"./Anno/original/list_category_img.txt\", \"./Anno/changed/list_category_img.txt\")"
   ]
  },
  {
   "cell_type": "markdown",
   "metadata": {},
   "source": [
    "# make dataframes and csv files"
   ]
  },
  {
   "cell_type": "markdown",
   "metadata": {},
   "source": [
    "### 4 dataframes according to the given text files"
   ]
  },
  {
   "cell_type": "code",
   "execution_count": 6,
   "metadata": {},
   "outputs": [],
   "source": [
    "df_attr_img = pd.read_csv('./Anno/changed/list_attr_img.txt', header = None, skiprows=1, sep = ' ')\n",
    "df_attr_cloth = pd.read_csv('./Anno/changed/list_attr_cloth.txt', sep = ',') \n",
    "df_category_cloth = pd.read_csv('./Anno/changed/list_category_cloth.txt', sep = ' ')\n",
    "df_category_img = pd.read_csv('./Anno/changed/list_category_img.txt',sep = ' ') #, index_col='image_name'"
   ]
  },
  {
   "cell_type": "code",
   "execution_count": 7,
   "metadata": {},
   "outputs": [],
   "source": [
    "#inserting category_label to category_cloth\n",
    "df_category_cloth.insert(0, 'category_label', range(1, len(df_category_cloth)+1))"
   ]
  },
  {
   "cell_type": "code",
   "execution_count": 8,
   "metadata": {},
   "outputs": [
    {
     "data": {
      "text/html": [
       "<div>\n",
       "<style scoped>\n",
       "    .dataframe tbody tr th:only-of-type {\n",
       "        vertical-align: middle;\n",
       "    }\n",
       "\n",
       "    .dataframe tbody tr th {\n",
       "        vertical-align: top;\n",
       "    }\n",
       "\n",
       "    .dataframe thead th {\n",
       "        text-align: right;\n",
       "    }\n",
       "</style>\n",
       "<table border=\"1\" class=\"dataframe\">\n",
       "  <thead>\n",
       "    <tr style=\"text-align: right;\">\n",
       "      <th></th>\n",
       "      <th>category_label</th>\n",
       "      <th>category_name</th>\n",
       "      <th>category_type</th>\n",
       "    </tr>\n",
       "  </thead>\n",
       "  <tbody>\n",
       "    <tr>\n",
       "      <th>0</th>\n",
       "      <td>1</td>\n",
       "      <td>Anorak</td>\n",
       "      <td>1</td>\n",
       "    </tr>\n",
       "    <tr>\n",
       "      <th>1</th>\n",
       "      <td>2</td>\n",
       "      <td>Blazer</td>\n",
       "      <td>1</td>\n",
       "    </tr>\n",
       "    <tr>\n",
       "      <th>2</th>\n",
       "      <td>3</td>\n",
       "      <td>Blouse</td>\n",
       "      <td>1</td>\n",
       "    </tr>\n",
       "    <tr>\n",
       "      <th>3</th>\n",
       "      <td>4</td>\n",
       "      <td>Bomber</td>\n",
       "      <td>1</td>\n",
       "    </tr>\n",
       "    <tr>\n",
       "      <th>4</th>\n",
       "      <td>5</td>\n",
       "      <td>Button-Down</td>\n",
       "      <td>1</td>\n",
       "    </tr>\n",
       "  </tbody>\n",
       "</table>\n",
       "</div>"
      ],
      "text/plain": [
       "   category_label category_name  category_type\n",
       "0               1        Anorak              1\n",
       "1               2        Blazer              1\n",
       "2               3        Blouse              1\n",
       "3               4        Bomber              1\n",
       "4               5   Button-Down              1"
      ]
     },
     "execution_count": 8,
     "metadata": {},
     "output_type": "execute_result"
    }
   ],
   "source": [
    "df_category_cloth.head()"
   ]
  },
  {
   "cell_type": "code",
   "execution_count": 9,
   "metadata": {},
   "outputs": [
    {
     "data": {
      "text/html": [
       "<div>\n",
       "<style scoped>\n",
       "    .dataframe tbody tr th:only-of-type {\n",
       "        vertical-align: middle;\n",
       "    }\n",
       "\n",
       "    .dataframe tbody tr th {\n",
       "        vertical-align: top;\n",
       "    }\n",
       "\n",
       "    .dataframe thead th {\n",
       "        text-align: right;\n",
       "    }\n",
       "</style>\n",
       "<table border=\"1\" class=\"dataframe\">\n",
       "  <thead>\n",
       "    <tr style=\"text-align: right;\">\n",
       "      <th></th>\n",
       "      <th>image_name</th>\n",
       "      <th>category_label</th>\n",
       "    </tr>\n",
       "  </thead>\n",
       "  <tbody>\n",
       "    <tr>\n",
       "      <th>0</th>\n",
       "      <td>img/Sheer_Pleated-Front_Blouse/img_00000001.jpg</td>\n",
       "      <td>3</td>\n",
       "    </tr>\n",
       "    <tr>\n",
       "      <th>1</th>\n",
       "      <td>img/Sheer_Pleated-Front_Blouse/img_00000002.jpg</td>\n",
       "      <td>3</td>\n",
       "    </tr>\n",
       "    <tr>\n",
       "      <th>2</th>\n",
       "      <td>img/Sheer_Pleated-Front_Blouse/img_00000003.jpg</td>\n",
       "      <td>3</td>\n",
       "    </tr>\n",
       "    <tr>\n",
       "      <th>3</th>\n",
       "      <td>img/Sheer_Pleated-Front_Blouse/img_00000004.jpg</td>\n",
       "      <td>3</td>\n",
       "    </tr>\n",
       "    <tr>\n",
       "      <th>4</th>\n",
       "      <td>img/Sheer_Pleated-Front_Blouse/img_00000005.jpg</td>\n",
       "      <td>3</td>\n",
       "    </tr>\n",
       "  </tbody>\n",
       "</table>\n",
       "</div>"
      ],
      "text/plain": [
       "                                        image_name  category_label\n",
       "0  img/Sheer_Pleated-Front_Blouse/img_00000001.jpg               3\n",
       "1  img/Sheer_Pleated-Front_Blouse/img_00000002.jpg               3\n",
       "2  img/Sheer_Pleated-Front_Blouse/img_00000003.jpg               3\n",
       "3  img/Sheer_Pleated-Front_Blouse/img_00000004.jpg               3\n",
       "4  img/Sheer_Pleated-Front_Blouse/img_00000005.jpg               3"
      ]
     },
     "execution_count": 9,
     "metadata": {},
     "output_type": "execute_result"
    }
   ],
   "source": [
    "df_category_img.head()"
   ]
  },
  {
   "cell_type": "code",
   "execution_count": 10,
   "metadata": {},
   "outputs": [
    {
     "data": {
      "text/html": [
       "<div>\n",
       "<style scoped>\n",
       "    .dataframe tbody tr th:only-of-type {\n",
       "        vertical-align: middle;\n",
       "    }\n",
       "\n",
       "    .dataframe tbody tr th {\n",
       "        vertical-align: top;\n",
       "    }\n",
       "\n",
       "    .dataframe thead th {\n",
       "        text-align: right;\n",
       "    }\n",
       "</style>\n",
       "<table border=\"1\" class=\"dataframe\">\n",
       "  <thead>\n",
       "    <tr style=\"text-align: right;\">\n",
       "      <th></th>\n",
       "      <th>attribute_name</th>\n",
       "      <th>attribute_type</th>\n",
       "    </tr>\n",
       "  </thead>\n",
       "  <tbody>\n",
       "    <tr>\n",
       "      <th>0</th>\n",
       "      <td>a-line</td>\n",
       "      <td>3</td>\n",
       "    </tr>\n",
       "    <tr>\n",
       "      <th>1</th>\n",
       "      <td>abstract</td>\n",
       "      <td>1</td>\n",
       "    </tr>\n",
       "    <tr>\n",
       "      <th>2</th>\n",
       "      <td>abstract chevron</td>\n",
       "      <td>1</td>\n",
       "    </tr>\n",
       "    <tr>\n",
       "      <th>3</th>\n",
       "      <td>abstract chevron print</td>\n",
       "      <td>1</td>\n",
       "    </tr>\n",
       "    <tr>\n",
       "      <th>4</th>\n",
       "      <td>abstract diamond</td>\n",
       "      <td>1</td>\n",
       "    </tr>\n",
       "  </tbody>\n",
       "</table>\n",
       "</div>"
      ],
      "text/plain": [
       "           attribute_name   attribute_type\n",
       "0                  a-line                3\n",
       "1                abstract                1\n",
       "2        abstract chevron                1\n",
       "3  abstract chevron print                1\n",
       "4        abstract diamond                1"
      ]
     },
     "execution_count": 10,
     "metadata": {},
     "output_type": "execute_result"
    }
   ],
   "source": [
    "df_attr_cloth.head()"
   ]
  },
  {
   "cell_type": "code",
   "execution_count": 11,
   "metadata": {},
   "outputs": [
    {
     "data": {
      "text/html": [
       "<div>\n",
       "<style scoped>\n",
       "    .dataframe tbody tr th:only-of-type {\n",
       "        vertical-align: middle;\n",
       "    }\n",
       "\n",
       "    .dataframe tbody tr th {\n",
       "        vertical-align: top;\n",
       "    }\n",
       "\n",
       "    .dataframe thead th {\n",
       "        text-align: right;\n",
       "    }\n",
       "</style>\n",
       "<table border=\"1\" class=\"dataframe\">\n",
       "  <thead>\n",
       "    <tr style=\"text-align: right;\">\n",
       "      <th></th>\n",
       "      <th>0</th>\n",
       "      <th>1</th>\n",
       "      <th>2</th>\n",
       "      <th>3</th>\n",
       "      <th>4</th>\n",
       "      <th>5</th>\n",
       "      <th>6</th>\n",
       "      <th>7</th>\n",
       "      <th>8</th>\n",
       "      <th>9</th>\n",
       "      <th>...</th>\n",
       "      <th>991</th>\n",
       "      <th>992</th>\n",
       "      <th>993</th>\n",
       "      <th>994</th>\n",
       "      <th>995</th>\n",
       "      <th>996</th>\n",
       "      <th>997</th>\n",
       "      <th>998</th>\n",
       "      <th>999</th>\n",
       "      <th>1000</th>\n",
       "    </tr>\n",
       "  </thead>\n",
       "  <tbody>\n",
       "    <tr>\n",
       "      <th>0</th>\n",
       "      <td>img/Sheer_Pleated-Front_Blouse/img_00000001.jpg</td>\n",
       "      <td>-1</td>\n",
       "      <td>-1</td>\n",
       "      <td>-1</td>\n",
       "      <td>-1</td>\n",
       "      <td>-1</td>\n",
       "      <td>-1</td>\n",
       "      <td>-1</td>\n",
       "      <td>-1</td>\n",
       "      <td>-1</td>\n",
       "      <td>...</td>\n",
       "      <td>-1</td>\n",
       "      <td>-1</td>\n",
       "      <td>-1</td>\n",
       "      <td>-1</td>\n",
       "      <td>-1</td>\n",
       "      <td>-1</td>\n",
       "      <td>-1</td>\n",
       "      <td>-1</td>\n",
       "      <td>-1</td>\n",
       "      <td>-1</td>\n",
       "    </tr>\n",
       "    <tr>\n",
       "      <th>1</th>\n",
       "      <td>img/Sheer_Pleated-Front_Blouse/img_00000002.jpg</td>\n",
       "      <td>-1</td>\n",
       "      <td>-1</td>\n",
       "      <td>-1</td>\n",
       "      <td>-1</td>\n",
       "      <td>-1</td>\n",
       "      <td>-1</td>\n",
       "      <td>-1</td>\n",
       "      <td>-1</td>\n",
       "      <td>-1</td>\n",
       "      <td>...</td>\n",
       "      <td>-1</td>\n",
       "      <td>-1</td>\n",
       "      <td>-1</td>\n",
       "      <td>-1</td>\n",
       "      <td>-1</td>\n",
       "      <td>-1</td>\n",
       "      <td>-1</td>\n",
       "      <td>-1</td>\n",
       "      <td>-1</td>\n",
       "      <td>-1</td>\n",
       "    </tr>\n",
       "    <tr>\n",
       "      <th>2</th>\n",
       "      <td>img/Sheer_Pleated-Front_Blouse/img_00000003.jpg</td>\n",
       "      <td>-1</td>\n",
       "      <td>-1</td>\n",
       "      <td>-1</td>\n",
       "      <td>-1</td>\n",
       "      <td>-1</td>\n",
       "      <td>-1</td>\n",
       "      <td>-1</td>\n",
       "      <td>-1</td>\n",
       "      <td>-1</td>\n",
       "      <td>...</td>\n",
       "      <td>-1</td>\n",
       "      <td>-1</td>\n",
       "      <td>-1</td>\n",
       "      <td>-1</td>\n",
       "      <td>-1</td>\n",
       "      <td>-1</td>\n",
       "      <td>-1</td>\n",
       "      <td>-1</td>\n",
       "      <td>-1</td>\n",
       "      <td>-1</td>\n",
       "    </tr>\n",
       "    <tr>\n",
       "      <th>3</th>\n",
       "      <td>img/Sheer_Pleated-Front_Blouse/img_00000004.jpg</td>\n",
       "      <td>-1</td>\n",
       "      <td>-1</td>\n",
       "      <td>-1</td>\n",
       "      <td>-1</td>\n",
       "      <td>-1</td>\n",
       "      <td>-1</td>\n",
       "      <td>-1</td>\n",
       "      <td>-1</td>\n",
       "      <td>-1</td>\n",
       "      <td>...</td>\n",
       "      <td>-1</td>\n",
       "      <td>-1</td>\n",
       "      <td>-1</td>\n",
       "      <td>-1</td>\n",
       "      <td>-1</td>\n",
       "      <td>-1</td>\n",
       "      <td>-1</td>\n",
       "      <td>-1</td>\n",
       "      <td>-1</td>\n",
       "      <td>-1</td>\n",
       "    </tr>\n",
       "    <tr>\n",
       "      <th>4</th>\n",
       "      <td>img/Sheer_Pleated-Front_Blouse/img_00000005.jpg</td>\n",
       "      <td>-1</td>\n",
       "      <td>-1</td>\n",
       "      <td>-1</td>\n",
       "      <td>-1</td>\n",
       "      <td>-1</td>\n",
       "      <td>-1</td>\n",
       "      <td>-1</td>\n",
       "      <td>-1</td>\n",
       "      <td>-1</td>\n",
       "      <td>...</td>\n",
       "      <td>-1</td>\n",
       "      <td>-1</td>\n",
       "      <td>-1</td>\n",
       "      <td>-1</td>\n",
       "      <td>-1</td>\n",
       "      <td>-1</td>\n",
       "      <td>-1</td>\n",
       "      <td>-1</td>\n",
       "      <td>-1</td>\n",
       "      <td>-1</td>\n",
       "    </tr>\n",
       "  </tbody>\n",
       "</table>\n",
       "<p>5 rows × 1001 columns</p>\n",
       "</div>"
      ],
      "text/plain": [
       "                                              0     1     2     3     4     \\\n",
       "0  img/Sheer_Pleated-Front_Blouse/img_00000001.jpg    -1    -1    -1    -1   \n",
       "1  img/Sheer_Pleated-Front_Blouse/img_00000002.jpg    -1    -1    -1    -1   \n",
       "2  img/Sheer_Pleated-Front_Blouse/img_00000003.jpg    -1    -1    -1    -1   \n",
       "3  img/Sheer_Pleated-Front_Blouse/img_00000004.jpg    -1    -1    -1    -1   \n",
       "4  img/Sheer_Pleated-Front_Blouse/img_00000005.jpg    -1    -1    -1    -1   \n",
       "\n",
       "   5     6     7     8     9     ...   991   992   993   994   995   996   \\\n",
       "0    -1    -1    -1    -1    -1  ...     -1    -1    -1    -1    -1    -1   \n",
       "1    -1    -1    -1    -1    -1  ...     -1    -1    -1    -1    -1    -1   \n",
       "2    -1    -1    -1    -1    -1  ...     -1    -1    -1    -1    -1    -1   \n",
       "3    -1    -1    -1    -1    -1  ...     -1    -1    -1    -1    -1    -1   \n",
       "4    -1    -1    -1    -1    -1  ...     -1    -1    -1    -1    -1    -1   \n",
       "\n",
       "   997   998   999   1000  \n",
       "0    -1    -1    -1    -1  \n",
       "1    -1    -1    -1    -1  \n",
       "2    -1    -1    -1    -1  \n",
       "3    -1    -1    -1    -1  \n",
       "4    -1    -1    -1    -1  \n",
       "\n",
       "[5 rows x 1001 columns]"
      ]
     },
     "execution_count": 11,
     "metadata": {},
     "output_type": "execute_result"
    }
   ],
   "source": [
    "df_attr_img.head()"
   ]
  },
  {
   "cell_type": "code",
   "execution_count": 12,
   "metadata": {},
   "outputs": [
    {
     "name": "stdout",
     "output_type": "stream",
     "text": [
      "<class 'pandas.core.frame.DataFrame'>\n",
      "RangeIndex: 289222 entries, 0 to 289221\n",
      "Data columns (total 1001 columns):\n",
      "0       object\n",
      "1       int64\n",
      "2       int64\n",
      "3       int64\n",
      "4       int64\n",
      "5       int64\n",
      "6       int64\n",
      "7       int64\n",
      "8       int64\n",
      "9       int64\n",
      "10      int64\n",
      "11      int64\n",
      "12      int64\n",
      "13      int64\n",
      "14      int64\n",
      "15      int64\n",
      "16      int64\n",
      "17      int64\n",
      "18      int64\n",
      "19      int64\n",
      "20      int64\n",
      "21      int64\n",
      "22      int64\n",
      "23      int64\n",
      "24      int64\n",
      "25      int64\n",
      "26      int64\n",
      "27      int64\n",
      "28      int64\n",
      "29      int64\n",
      "30      int64\n",
      "31      int64\n",
      "32      int64\n",
      "33      int64\n",
      "34      int64\n",
      "35      int64\n",
      "36      int64\n",
      "37      int64\n",
      "38      int64\n",
      "39      int64\n",
      "40      int64\n",
      "41      int64\n",
      "42      int64\n",
      "43      int64\n",
      "44      int64\n",
      "45      int64\n",
      "46      int64\n",
      "47      int64\n",
      "48      int64\n",
      "49      int64\n",
      "50      int64\n",
      "51      int64\n",
      "52      int64\n",
      "53      int64\n",
      "54      int64\n",
      "55      int64\n",
      "56      int64\n",
      "57      int64\n",
      "58      int64\n",
      "59      int64\n",
      "60      int64\n",
      "61      int64\n",
      "62      int64\n",
      "63      int64\n",
      "64      int64\n",
      "65      int64\n",
      "66      int64\n",
      "67      int64\n",
      "68      int64\n",
      "69      int64\n",
      "70      int64\n",
      "71      int64\n",
      "72      int64\n",
      "73      int64\n",
      "74      int64\n",
      "75      int64\n",
      "76      int64\n",
      "77      int64\n",
      "78      int64\n",
      "79      int64\n",
      "80      int64\n",
      "81      int64\n",
      "82      int64\n",
      "83      int64\n",
      "84      int64\n",
      "85      int64\n",
      "86      int64\n",
      "87      int64\n",
      "88      int64\n",
      "89      int64\n",
      "90      int64\n",
      "91      int64\n",
      "92      int64\n",
      "93      int64\n",
      "94      int64\n",
      "95      int64\n",
      "96      int64\n",
      "97      int64\n",
      "98      int64\n",
      "99      int64\n",
      "100     int64\n",
      "101     int64\n",
      "102     int64\n",
      "103     int64\n",
      "104     int64\n",
      "105     int64\n",
      "106     int64\n",
      "107     int64\n",
      "108     int64\n",
      "109     int64\n",
      "110     int64\n",
      "111     int64\n",
      "112     int64\n",
      "113     int64\n",
      "114     int64\n",
      "115     int64\n",
      "116     int64\n",
      "117     int64\n",
      "118     int64\n",
      "119     int64\n",
      "120     int64\n",
      "121     int64\n",
      "122     int64\n",
      "123     int64\n",
      "124     int64\n",
      "125     int64\n",
      "126     int64\n",
      "127     int64\n",
      "128     int64\n",
      "129     int64\n",
      "130     int64\n",
      "131     int64\n",
      "132     int64\n",
      "133     int64\n",
      "134     int64\n",
      "135     int64\n",
      "136     int64\n",
      "137     int64\n",
      "138     int64\n",
      "139     int64\n",
      "140     int64\n",
      "141     int64\n",
      "142     int64\n",
      "143     int64\n",
      "144     int64\n",
      "145     int64\n",
      "146     int64\n",
      "147     int64\n",
      "148     int64\n",
      "149     int64\n",
      "150     int64\n",
      "151     int64\n",
      "152     int64\n",
      "153     int64\n",
      "154     int64\n",
      "155     int64\n",
      "156     int64\n",
      "157     int64\n",
      "158     int64\n",
      "159     int64\n",
      "160     int64\n",
      "161     int64\n",
      "162     int64\n",
      "163     int64\n",
      "164     int64\n",
      "165     int64\n",
      "166     int64\n",
      "167     int64\n",
      "168     int64\n",
      "169     int64\n",
      "170     int64\n",
      "171     int64\n",
      "172     int64\n",
      "173     int64\n",
      "174     int64\n",
      "175     int64\n",
      "176     int64\n",
      "177     int64\n",
      "178     int64\n",
      "179     int64\n",
      "180     int64\n",
      "181     int64\n",
      "182     int64\n",
      "183     int64\n",
      "184     int64\n",
      "185     int64\n",
      "186     int64\n",
      "187     int64\n",
      "188     int64\n",
      "189     int64\n",
      "190     int64\n",
      "191     int64\n",
      "192     int64\n",
      "193     int64\n",
      "194     int64\n",
      "195     int64\n",
      "196     int64\n",
      "197     int64\n",
      "198     int64\n",
      "199     int64\n",
      "200     int64\n",
      "201     int64\n",
      "202     int64\n",
      "203     int64\n",
      "204     int64\n",
      "205     int64\n",
      "206     int64\n",
      "207     int64\n",
      "208     int64\n",
      "209     int64\n",
      "210     int64\n",
      "211     int64\n",
      "212     int64\n",
      "213     int64\n",
      "214     int64\n",
      "215     int64\n",
      "216     int64\n",
      "217     int64\n",
      "218     int64\n",
      "219     int64\n",
      "220     int64\n",
      "221     int64\n",
      "222     int64\n",
      "223     int64\n",
      "224     int64\n",
      "225     int64\n",
      "226     int64\n",
      "227     int64\n",
      "228     int64\n",
      "229     int64\n",
      "230     int64\n",
      "231     int64\n",
      "232     int64\n",
      "233     int64\n",
      "234     int64\n",
      "235     int64\n",
      "236     int64\n",
      "237     int64\n",
      "238     int64\n",
      "239     int64\n",
      "240     int64\n",
      "241     int64\n",
      "242     int64\n",
      "243     int64\n",
      "244     int64\n",
      "245     int64\n",
      "246     int64\n",
      "247     int64\n",
      "248     int64\n",
      "249     int64\n",
      "250     int64\n",
      "251     int64\n",
      "252     int64\n",
      "253     int64\n",
      "254     int64\n",
      "255     int64\n",
      "256     int64\n",
      "257     int64\n",
      "258     int64\n",
      "259     int64\n",
      "260     int64\n",
      "261     int64\n",
      "262     int64\n",
      "263     int64\n",
      "264     int64\n",
      "265     int64\n",
      "266     int64\n",
      "267     int64\n",
      "268     int64\n",
      "269     int64\n",
      "270     int64\n",
      "271     int64\n",
      "272     int64\n",
      "273     int64\n",
      "274     int64\n",
      "275     int64\n",
      "276     int64\n",
      "277     int64\n",
      "278     int64\n",
      "279     int64\n",
      "280     int64\n",
      "281     int64\n",
      "282     int64\n",
      "283     int64\n",
      "284     int64\n",
      "285     int64\n",
      "286     int64\n",
      "287     int64\n",
      "288     int64\n",
      "289     int64\n",
      "290     int64\n",
      "291     int64\n",
      "292     int64\n",
      "293     int64\n",
      "294     int64\n",
      "295     int64\n",
      "296     int64\n",
      "297     int64\n",
      "298     int64\n",
      "299     int64\n",
      "300     int64\n",
      "301     int64\n",
      "302     int64\n",
      "303     int64\n",
      "304     int64\n",
      "305     int64\n",
      "306     int64\n",
      "307     int64\n",
      "308     int64\n",
      "309     int64\n",
      "310     int64\n",
      "311     int64\n",
      "312     int64\n",
      "313     int64\n",
      "314     int64\n",
      "315     int64\n",
      "316     int64\n",
      "317     int64\n",
      "318     int64\n",
      "319     int64\n",
      "320     int64\n",
      "321     int64\n",
      "322     int64\n",
      "323     int64\n",
      "324     int64\n",
      "325     int64\n",
      "326     int64\n",
      "327     int64\n",
      "328     int64\n",
      "329     int64\n",
      "330     int64\n",
      "331     int64\n",
      "332     int64\n",
      "333     int64\n",
      "334     int64\n",
      "335     int64\n",
      "336     int64\n",
      "337     int64\n",
      "338     int64\n",
      "339     int64\n",
      "340     int64\n",
      "341     int64\n",
      "342     int64\n",
      "343     int64\n",
      "344     int64\n",
      "345     int64\n",
      "346     int64\n",
      "347     int64\n",
      "348     int64\n",
      "349     int64\n",
      "350     int64\n",
      "351     int64\n",
      "352     int64\n",
      "353     int64\n",
      "354     int64\n",
      "355     int64\n",
      "356     int64\n",
      "357     int64\n",
      "358     int64\n",
      "359     int64\n",
      "360     int64\n",
      "361     int64\n",
      "362     int64\n",
      "363     int64\n",
      "364     int64\n",
      "365     int64\n",
      "366     int64\n",
      "367     int64\n",
      "368     int64\n",
      "369     int64\n",
      "370     int64\n",
      "371     int64\n",
      "372     int64\n",
      "373     int64\n",
      "374     int64\n",
      "375     int64\n",
      "376     int64\n",
      "377     int64\n",
      "378     int64\n",
      "379     int64\n",
      "380     int64\n",
      "381     int64\n",
      "382     int64\n",
      "383     int64\n",
      "384     int64\n",
      "385     int64\n",
      "386     int64\n",
      "387     int64\n",
      "388     int64\n",
      "389     int64\n",
      "390     int64\n",
      "391     int64\n",
      "392     int64\n",
      "393     int64\n",
      "394     int64\n",
      "395     int64\n",
      "396     int64\n",
      "397     int64\n",
      "398     int64\n",
      "399     int64\n",
      "400     int64\n",
      "401     int64\n",
      "402     int64\n",
      "403     int64\n",
      "404     int64\n",
      "405     int64\n",
      "406     int64\n",
      "407     int64\n",
      "408     int64\n",
      "409     int64\n",
      "410     int64\n",
      "411     int64\n",
      "412     int64\n",
      "413     int64\n",
      "414     int64\n",
      "415     int64\n",
      "416     int64\n",
      "417     int64\n",
      "418     int64\n",
      "419     int64\n",
      "420     int64\n",
      "421     int64\n",
      "422     int64\n",
      "423     int64\n",
      "424     int64\n",
      "425     int64\n",
      "426     int64\n",
      "427     int64\n",
      "428     int64\n",
      "429     int64\n",
      "430     int64\n",
      "431     int64\n",
      "432     int64\n",
      "433     int64\n",
      "434     int64\n",
      "435     int64\n",
      "436     int64\n",
      "437     int64\n",
      "438     int64\n",
      "439     int64\n",
      "440     int64\n",
      "441     int64\n",
      "442     int64\n",
      "443     int64\n",
      "444     int64\n",
      "445     int64\n",
      "446     int64\n",
      "447     int64\n",
      "448     int64\n",
      "449     int64\n",
      "450     int64\n",
      "451     int64\n",
      "452     int64\n",
      "453     int64\n",
      "454     int64\n",
      "455     int64\n",
      "456     int64\n",
      "457     int64\n",
      "458     int64\n",
      "459     int64\n",
      "460     int64\n",
      "461     int64\n",
      "462     int64\n",
      "463     int64\n",
      "464     int64\n",
      "465     int64\n",
      "466     int64\n",
      "467     int64\n",
      "468     int64\n",
      "469     int64\n",
      "470     int64\n",
      "471     int64\n",
      "472     int64\n",
      "473     int64\n",
      "474     int64\n",
      "475     int64\n",
      "476     int64\n",
      "477     int64\n",
      "478     int64\n",
      "479     int64\n",
      "480     int64\n",
      "481     int64\n",
      "482     int64\n",
      "483     int64\n",
      "484     int64\n",
      "485     int64\n",
      "486     int64\n",
      "487     int64\n",
      "488     int64\n",
      "489     int64\n",
      "490     int64\n",
      "491     int64\n",
      "492     int64\n",
      "493     int64\n",
      "494     int64\n",
      "495     int64\n",
      "496     int64\n",
      "497     int64\n",
      "498     int64\n",
      "499     int64\n",
      "500     int64\n",
      "501     int64\n",
      "502     int64\n",
      "503     int64\n",
      "504     int64\n",
      "505     int64\n",
      "506     int64\n",
      "507     int64\n",
      "508     int64\n",
      "509     int64\n",
      "510     int64\n",
      "511     int64\n",
      "512     int64\n",
      "513     int64\n",
      "514     int64\n",
      "515     int64\n",
      "516     int64\n",
      "517     int64\n",
      "518     int64\n",
      "519     int64\n",
      "520     int64\n",
      "521     int64\n",
      "522     int64\n",
      "523     int64\n",
      "524     int64\n",
      "525     int64\n",
      "526     int64\n",
      "527     int64\n",
      "528     int64\n",
      "529     int64\n",
      "530     int64\n",
      "531     int64\n",
      "532     int64\n",
      "533     int64\n",
      "534     int64\n",
      "535     int64\n",
      "536     int64\n",
      "537     int64\n",
      "538     int64\n",
      "539     int64\n",
      "540     int64\n",
      "541     int64\n",
      "542     int64\n",
      "543     int64\n",
      "544     int64\n",
      "545     int64\n",
      "546     int64\n",
      "547     int64\n",
      "548     int64\n",
      "549     int64\n",
      "550     int64\n",
      "551     int64\n",
      "552     int64\n",
      "553     int64\n",
      "554     int64\n",
      "555     int64\n",
      "556     int64\n",
      "557     int64\n",
      "558     int64\n",
      "559     int64\n",
      "560     int64\n",
      "561     int64\n",
      "562     int64\n",
      "563     int64\n",
      "564     int64\n",
      "565     int64\n",
      "566     int64\n",
      "567     int64\n",
      "568     int64\n",
      "569     int64\n",
      "570     int64\n",
      "571     int64\n",
      "572     int64\n",
      "573     int64\n",
      "574     int64\n",
      "575     int64\n",
      "576     int64\n",
      "577     int64\n",
      "578     int64\n",
      "579     int64\n",
      "580     int64\n",
      "581     int64\n",
      "582     int64\n",
      "583     int64\n",
      "584     int64\n",
      "585     int64\n",
      "586     int64\n",
      "587     int64\n",
      "588     int64\n",
      "589     int64\n",
      "590     int64\n",
      "591     int64\n",
      "592     int64\n",
      "593     int64\n",
      "594     int64\n",
      "595     int64\n",
      "596     int64\n",
      "597     int64\n",
      "598     int64\n",
      "599     int64\n",
      "600     int64\n",
      "601     int64\n",
      "602     int64\n",
      "603     int64\n",
      "604     int64\n",
      "605     int64\n",
      "606     int64\n",
      "607     int64\n",
      "608     int64\n",
      "609     int64\n",
      "610     int64\n",
      "611     int64\n",
      "612     int64\n",
      "613     int64\n",
      "614     int64\n",
      "615     int64\n",
      "616     int64\n",
      "617     int64\n",
      "618     int64\n",
      "619     int64\n",
      "620     int64\n",
      "621     int64\n",
      "622     int64\n",
      "623     int64\n",
      "624     int64\n",
      "625     int64\n",
      "626     int64\n",
      "627     int64\n",
      "628     int64\n",
      "629     int64\n",
      "630     int64\n",
      "631     int64\n",
      "632     int64\n",
      "633     int64\n",
      "634     int64\n",
      "635     int64\n",
      "636     int64\n",
      "637     int64\n",
      "638     int64\n",
      "639     int64\n",
      "640     int64\n",
      "641     int64\n",
      "642     int64\n",
      "643     int64\n",
      "644     int64\n",
      "645     int64\n",
      "646     int64\n",
      "647     int64\n",
      "648     int64\n",
      "649     int64\n",
      "650     int64\n",
      "651     int64\n",
      "652     int64\n",
      "653     int64\n",
      "654     int64\n",
      "655     int64\n",
      "656     int64\n",
      "657     int64\n",
      "658     int64\n",
      "659     int64\n",
      "660     int64\n",
      "661     int64\n",
      "662     int64\n",
      "663     int64\n",
      "664     int64\n",
      "665     int64\n",
      "666     int64\n",
      "667     int64\n",
      "668     int64\n",
      "669     int64\n",
      "670     int64\n",
      "671     int64\n",
      "672     int64\n",
      "673     int64\n",
      "674     int64\n",
      "675     int64\n",
      "676     int64\n",
      "677     int64\n",
      "678     int64\n",
      "679     int64\n",
      "680     int64\n",
      "681     int64\n",
      "682     int64\n",
      "683     int64\n",
      "684     int64\n",
      "685     int64\n",
      "686     int64\n",
      "687     int64\n",
      "688     int64\n",
      "689     int64\n",
      "690     int64\n",
      "691     int64\n",
      "692     int64\n",
      "693     int64\n",
      "694     int64\n",
      "695     int64\n",
      "696     int64\n",
      "697     int64\n",
      "698     int64\n",
      "699     int64\n",
      "700     int64\n",
      "701     int64\n",
      "702     int64\n",
      "703     int64\n",
      "704     int64\n",
      "705     int64\n",
      "706     int64\n",
      "707     int64\n",
      "708     int64\n",
      "709     int64\n",
      "710     int64\n",
      "711     int64\n",
      "712     int64\n",
      "713     int64\n",
      "714     int64\n",
      "715     int64\n",
      "716     int64\n",
      "717     int64\n",
      "718     int64\n",
      "719     int64\n",
      "720     int64\n",
      "721     int64\n",
      "722     int64\n",
      "723     int64\n",
      "724     int64\n",
      "725     int64\n",
      "726     int64\n",
      "727     int64\n",
      "728     int64\n",
      "729     int64\n",
      "730     int64\n",
      "731     int64\n",
      "732     int64\n",
      "733     int64\n",
      "734     int64\n",
      "735     int64\n",
      "736     int64\n",
      "737     int64\n",
      "738     int64\n",
      "739     int64\n",
      "740     int64\n",
      "741     int64\n",
      "742     int64\n",
      "743     int64\n",
      "744     int64\n",
      "745     int64\n",
      "746     int64\n",
      "747     int64\n",
      "748     int64\n",
      "749     int64\n",
      "750     int64\n",
      "751     int64\n",
      "752     int64\n",
      "753     int64\n",
      "754     int64\n",
      "755     int64\n",
      "756     int64\n",
      "757     int64\n",
      "758     int64\n",
      "759     int64\n",
      "760     int64\n",
      "761     int64\n",
      "762     int64\n",
      "763     int64\n",
      "764     int64\n",
      "765     int64\n",
      "766     int64\n",
      "767     int64\n",
      "768     int64\n",
      "769     int64\n",
      "770     int64\n",
      "771     int64\n",
      "772     int64\n",
      "773     int64\n",
      "774     int64\n",
      "775     int64\n",
      "776     int64\n",
      "777     int64\n",
      "778     int64\n",
      "779     int64\n",
      "780     int64\n",
      "781     int64\n",
      "782     int64\n",
      "783     int64\n",
      "784     int64\n",
      "785     int64\n",
      "786     int64\n",
      "787     int64\n",
      "788     int64\n",
      "789     int64\n",
      "790     int64\n",
      "791     int64\n",
      "792     int64\n",
      "793     int64\n",
      "794     int64\n",
      "795     int64\n",
      "796     int64\n",
      "797     int64\n",
      "798     int64\n",
      "799     int64\n",
      "800     int64\n",
      "801     int64\n",
      "802     int64\n",
      "803     int64\n",
      "804     int64\n",
      "805     int64\n",
      "806     int64\n",
      "807     int64\n",
      "808     int64\n",
      "809     int64\n",
      "810     int64\n",
      "811     int64\n",
      "812     int64\n",
      "813     int64\n",
      "814     int64\n",
      "815     int64\n",
      "816     int64\n",
      "817     int64\n",
      "818     int64\n",
      "819     int64\n",
      "820     int64\n",
      "821     int64\n",
      "822     int64\n",
      "823     int64\n",
      "824     int64\n",
      "825     int64\n",
      "826     int64\n",
      "827     int64\n",
      "828     int64\n",
      "829     int64\n",
      "830     int64\n",
      "831     int64\n",
      "832     int64\n",
      "833     int64\n",
      "834     int64\n",
      "835     int64\n",
      "836     int64\n",
      "837     int64\n",
      "838     int64\n",
      "839     int64\n",
      "840     int64\n",
      "841     int64\n",
      "842     int64\n",
      "843     int64\n",
      "844     int64\n",
      "845     int64\n",
      "846     int64\n",
      "847     int64\n",
      "848     int64\n",
      "849     int64\n",
      "850     int64\n",
      "851     int64\n",
      "852     int64\n",
      "853     int64\n",
      "854     int64\n",
      "855     int64\n",
      "856     int64\n",
      "857     int64\n",
      "858     int64\n",
      "859     int64\n",
      "860     int64\n",
      "861     int64\n",
      "862     int64\n",
      "863     int64\n",
      "864     int64\n",
      "865     int64\n",
      "866     int64\n",
      "867     int64\n",
      "868     int64\n",
      "869     int64\n",
      "870     int64\n",
      "871     int64\n",
      "872     int64\n",
      "873     int64\n",
      "874     int64\n",
      "875     int64\n",
      "876     int64\n",
      "877     int64\n",
      "878     int64\n",
      "879     int64\n",
      "880     int64\n",
      "881     int64\n",
      "882     int64\n",
      "883     int64\n",
      "884     int64\n",
      "885     int64\n",
      "886     int64\n",
      "887     int64\n",
      "888     int64\n",
      "889     int64\n",
      "890     int64\n",
      "891     int64\n",
      "892     int64\n",
      "893     int64\n",
      "894     int64\n",
      "895     int64\n",
      "896     int64\n",
      "897     int64\n",
      "898     int64\n",
      "899     int64\n",
      "900     int64\n",
      "901     int64\n",
      "902     int64\n",
      "903     int64\n",
      "904     int64\n",
      "905     int64\n",
      "906     int64\n",
      "907     int64\n",
      "908     int64\n",
      "909     int64\n",
      "910     int64\n",
      "911     int64\n",
      "912     int64\n",
      "913     int64\n",
      "914     int64\n",
      "915     int64\n",
      "916     int64\n",
      "917     int64\n",
      "918     int64\n",
      "919     int64\n",
      "920     int64\n",
      "921     int64\n",
      "922     int64\n",
      "923     int64\n",
      "924     int64\n",
      "925     int64\n",
      "926     int64\n",
      "927     int64\n",
      "928     int64\n",
      "929     int64\n",
      "930     int64\n",
      "931     int64\n",
      "932     int64\n",
      "933     int64\n",
      "934     int64\n",
      "935     int64\n",
      "936     int64\n",
      "937     int64\n",
      "938     int64\n",
      "939     int64\n",
      "940     int64\n",
      "941     int64\n",
      "942     int64\n",
      "943     int64\n",
      "944     int64\n",
      "945     int64\n",
      "946     int64\n",
      "947     int64\n",
      "948     int64\n",
      "949     int64\n",
      "950     int64\n",
      "951     int64\n",
      "952     int64\n",
      "953     int64\n",
      "954     int64\n",
      "955     int64\n",
      "956     int64\n",
      "957     int64\n",
      "958     int64\n",
      "959     int64\n",
      "960     int64\n",
      "961     int64\n",
      "962     int64\n",
      "963     int64\n",
      "964     int64\n",
      "965     int64\n",
      "966     int64\n",
      "967     int64\n",
      "968     int64\n",
      "969     int64\n",
      "970     int64\n",
      "971     int64\n",
      "972     int64\n",
      "973     int64\n",
      "974     int64\n",
      "975     int64\n",
      "976     int64\n",
      "977     int64\n",
      "978     int64\n",
      "979     int64\n",
      "980     int64\n",
      "981     int64\n",
      "982     int64\n",
      "983     int64\n",
      "984     int64\n",
      "985     int64\n",
      "986     int64\n",
      "987     int64\n",
      "988     int64\n",
      "989     int64\n",
      "990     int64\n",
      "991     int64\n",
      "992     int64\n",
      "993     int64\n",
      "994     int64\n",
      "995     int64\n",
      "996     int64\n",
      "997     int64\n",
      "998     int64\n",
      "999     int64\n",
      "1000    int64\n",
      "dtypes: int64(1000), object(1)\n",
      "memory usage: 2.2+ GB\n"
     ]
    }
   ],
   "source": [
    "df_attr_img.info(verbose=True)"
   ]
  },
  {
   "cell_type": "code",
   "execution_count": 13,
   "metadata": {},
   "outputs": [
    {
     "name": "stdout",
     "output_type": "stream",
     "text": [
      "<class 'pandas.core.frame.DataFrame'>\n",
      "RangeIndex: 1000 entries, 0 to 999\n",
      "Data columns (total 2 columns):\n",
      "attribute_name     1000 non-null object\n",
      "attribute_type     1000 non-null int64\n",
      "dtypes: int64(1), object(1)\n",
      "memory usage: 15.7+ KB\n"
     ]
    }
   ],
   "source": [
    "df_attr_cloth.info(verbose=True)"
   ]
  },
  {
   "cell_type": "code",
   "execution_count": 14,
   "metadata": {},
   "outputs": [
    {
     "name": "stdout",
     "output_type": "stream",
     "text": [
      "<class 'pandas.core.frame.DataFrame'>\n",
      "RangeIndex: 50 entries, 0 to 49\n",
      "Data columns (total 3 columns):\n",
      "category_label    50 non-null int32\n",
      "category_name     50 non-null object\n",
      "category_type     50 non-null int64\n",
      "dtypes: int32(1), int64(1), object(1)\n",
      "memory usage: 1.1+ KB\n"
     ]
    }
   ],
   "source": [
    "df_category_cloth.info(verbose=True)"
   ]
  },
  {
   "cell_type": "code",
   "execution_count": 15,
   "metadata": {},
   "outputs": [
    {
     "name": "stdout",
     "output_type": "stream",
     "text": [
      "<class 'pandas.core.frame.DataFrame'>\n",
      "RangeIndex: 289222 entries, 0 to 289221\n",
      "Data columns (total 2 columns):\n",
      "image_name        289222 non-null object\n",
      "category_label    289222 non-null int64\n",
      "dtypes: int64(1), object(1)\n",
      "memory usage: 4.4+ MB\n"
     ]
    }
   ],
   "source": [
    "df_category_img.info(verbose=True)"
   ]
  },
  {
   "cell_type": "markdown",
   "metadata": {},
   "source": [
    "### combining dataframes\n",
    "+ Combining image and category name"
   ]
  },
  {
   "cell_type": "code",
   "execution_count": 16,
   "metadata": {},
   "outputs": [],
   "source": [
    "df_category_combined = pd.merge(df_category_cloth, df_category_img)"
   ]
  },
  {
   "cell_type": "code",
   "execution_count": 17,
   "metadata": {},
   "outputs": [
    {
     "data": {
      "text/html": [
       "<div>\n",
       "<style scoped>\n",
       "    .dataframe tbody tr th:only-of-type {\n",
       "        vertical-align: middle;\n",
       "    }\n",
       "\n",
       "    .dataframe tbody tr th {\n",
       "        vertical-align: top;\n",
       "    }\n",
       "\n",
       "    .dataframe thead th {\n",
       "        text-align: right;\n",
       "    }\n",
       "</style>\n",
       "<table border=\"1\" class=\"dataframe\">\n",
       "  <thead>\n",
       "    <tr style=\"text-align: right;\">\n",
       "      <th></th>\n",
       "      <th>category_label</th>\n",
       "      <th>category_name</th>\n",
       "      <th>category_type</th>\n",
       "      <th>image_name</th>\n",
       "    </tr>\n",
       "  </thead>\n",
       "  <tbody>\n",
       "    <tr>\n",
       "      <th>0</th>\n",
       "      <td>1</td>\n",
       "      <td>Anorak</td>\n",
       "      <td>1</td>\n",
       "      <td>img/Hooded_Cotton_Canvas_Anorak/img_00000001.jpg</td>\n",
       "    </tr>\n",
       "    <tr>\n",
       "      <th>1</th>\n",
       "      <td>1</td>\n",
       "      <td>Anorak</td>\n",
       "      <td>1</td>\n",
       "      <td>img/Hooded_Cotton_Canvas_Anorak/img_00000002.jpg</td>\n",
       "    </tr>\n",
       "    <tr>\n",
       "      <th>2</th>\n",
       "      <td>1</td>\n",
       "      <td>Anorak</td>\n",
       "      <td>1</td>\n",
       "      <td>img/Hooded_Cotton_Canvas_Anorak/img_00000003.jpg</td>\n",
       "    </tr>\n",
       "    <tr>\n",
       "      <th>3</th>\n",
       "      <td>1</td>\n",
       "      <td>Anorak</td>\n",
       "      <td>1</td>\n",
       "      <td>img/Hooded_Cotton_Canvas_Anorak/img_00000004.jpg</td>\n",
       "    </tr>\n",
       "    <tr>\n",
       "      <th>4</th>\n",
       "      <td>1</td>\n",
       "      <td>Anorak</td>\n",
       "      <td>1</td>\n",
       "      <td>img/Hooded_Cotton_Canvas_Anorak/img_00000005.jpg</td>\n",
       "    </tr>\n",
       "  </tbody>\n",
       "</table>\n",
       "</div>"
      ],
      "text/plain": [
       "   category_label category_name  category_type  \\\n",
       "0               1        Anorak              1   \n",
       "1               1        Anorak              1   \n",
       "2               1        Anorak              1   \n",
       "3               1        Anorak              1   \n",
       "4               1        Anorak              1   \n",
       "\n",
       "                                         image_name  \n",
       "0  img/Hooded_Cotton_Canvas_Anorak/img_00000001.jpg  \n",
       "1  img/Hooded_Cotton_Canvas_Anorak/img_00000002.jpg  \n",
       "2  img/Hooded_Cotton_Canvas_Anorak/img_00000003.jpg  \n",
       "3  img/Hooded_Cotton_Canvas_Anorak/img_00000004.jpg  \n",
       "4  img/Hooded_Cotton_Canvas_Anorak/img_00000005.jpg  "
      ]
     },
     "execution_count": 17,
     "metadata": {},
     "output_type": "execute_result"
    }
   ],
   "source": [
    "df_category_combined.head()"
   ]
  },
  {
   "cell_type": "markdown",
   "metadata": {},
   "source": [
    "+ Combining image and attribute name"
   ]
  },
  {
   "cell_type": "code",
   "execution_count": 18,
   "metadata": {},
   "outputs": [],
   "source": [
    "lst_attr = df_attr_cloth['attribute_name ']\n",
    "df_attr_img.columns = pd.Series(['image_name']).append(lst_attr,ignore_index=True)\n",
    "df_attr_combined= df_attr_img"
   ]
  },
  {
   "cell_type": "code",
   "execution_count": 19,
   "metadata": {},
   "outputs": [
    {
     "data": {
      "text/html": [
       "<div>\n",
       "<style scoped>\n",
       "    .dataframe tbody tr th:only-of-type {\n",
       "        vertical-align: middle;\n",
       "    }\n",
       "\n",
       "    .dataframe tbody tr th {\n",
       "        vertical-align: top;\n",
       "    }\n",
       "\n",
       "    .dataframe thead th {\n",
       "        text-align: right;\n",
       "    }\n",
       "</style>\n",
       "<table border=\"1\" class=\"dataframe\">\n",
       "  <thead>\n",
       "    <tr style=\"text-align: right;\">\n",
       "      <th></th>\n",
       "      <th>image_name</th>\n",
       "      <th>a-line</th>\n",
       "      <th>abstract</th>\n",
       "      <th>abstract chevron</th>\n",
       "      <th>abstract chevron print</th>\n",
       "      <th>abstract diamond</th>\n",
       "      <th>abstract floral</th>\n",
       "      <th>abstract floral print</th>\n",
       "      <th>abstract geo</th>\n",
       "      <th>abstract geo print</th>\n",
       "      <th>...</th>\n",
       "      <th>zeppelin</th>\n",
       "      <th>zig</th>\n",
       "      <th>zigzag</th>\n",
       "      <th>zip</th>\n",
       "      <th>zip-front</th>\n",
       "      <th>zip-pocket</th>\n",
       "      <th>zip-up</th>\n",
       "      <th>zipped</th>\n",
       "      <th>zipper</th>\n",
       "      <th>zippered</th>\n",
       "    </tr>\n",
       "  </thead>\n",
       "  <tbody>\n",
       "    <tr>\n",
       "      <th>0</th>\n",
       "      <td>img/Sheer_Pleated-Front_Blouse/img_00000001.jpg</td>\n",
       "      <td>-1</td>\n",
       "      <td>-1</td>\n",
       "      <td>-1</td>\n",
       "      <td>-1</td>\n",
       "      <td>-1</td>\n",
       "      <td>-1</td>\n",
       "      <td>-1</td>\n",
       "      <td>-1</td>\n",
       "      <td>-1</td>\n",
       "      <td>...</td>\n",
       "      <td>-1</td>\n",
       "      <td>-1</td>\n",
       "      <td>-1</td>\n",
       "      <td>-1</td>\n",
       "      <td>-1</td>\n",
       "      <td>-1</td>\n",
       "      <td>-1</td>\n",
       "      <td>-1</td>\n",
       "      <td>-1</td>\n",
       "      <td>-1</td>\n",
       "    </tr>\n",
       "    <tr>\n",
       "      <th>1</th>\n",
       "      <td>img/Sheer_Pleated-Front_Blouse/img_00000002.jpg</td>\n",
       "      <td>-1</td>\n",
       "      <td>-1</td>\n",
       "      <td>-1</td>\n",
       "      <td>-1</td>\n",
       "      <td>-1</td>\n",
       "      <td>-1</td>\n",
       "      <td>-1</td>\n",
       "      <td>-1</td>\n",
       "      <td>-1</td>\n",
       "      <td>...</td>\n",
       "      <td>-1</td>\n",
       "      <td>-1</td>\n",
       "      <td>-1</td>\n",
       "      <td>-1</td>\n",
       "      <td>-1</td>\n",
       "      <td>-1</td>\n",
       "      <td>-1</td>\n",
       "      <td>-1</td>\n",
       "      <td>-1</td>\n",
       "      <td>-1</td>\n",
       "    </tr>\n",
       "    <tr>\n",
       "      <th>2</th>\n",
       "      <td>img/Sheer_Pleated-Front_Blouse/img_00000003.jpg</td>\n",
       "      <td>-1</td>\n",
       "      <td>-1</td>\n",
       "      <td>-1</td>\n",
       "      <td>-1</td>\n",
       "      <td>-1</td>\n",
       "      <td>-1</td>\n",
       "      <td>-1</td>\n",
       "      <td>-1</td>\n",
       "      <td>-1</td>\n",
       "      <td>...</td>\n",
       "      <td>-1</td>\n",
       "      <td>-1</td>\n",
       "      <td>-1</td>\n",
       "      <td>-1</td>\n",
       "      <td>-1</td>\n",
       "      <td>-1</td>\n",
       "      <td>-1</td>\n",
       "      <td>-1</td>\n",
       "      <td>-1</td>\n",
       "      <td>-1</td>\n",
       "    </tr>\n",
       "    <tr>\n",
       "      <th>3</th>\n",
       "      <td>img/Sheer_Pleated-Front_Blouse/img_00000004.jpg</td>\n",
       "      <td>-1</td>\n",
       "      <td>-1</td>\n",
       "      <td>-1</td>\n",
       "      <td>-1</td>\n",
       "      <td>-1</td>\n",
       "      <td>-1</td>\n",
       "      <td>-1</td>\n",
       "      <td>-1</td>\n",
       "      <td>-1</td>\n",
       "      <td>...</td>\n",
       "      <td>-1</td>\n",
       "      <td>-1</td>\n",
       "      <td>-1</td>\n",
       "      <td>-1</td>\n",
       "      <td>-1</td>\n",
       "      <td>-1</td>\n",
       "      <td>-1</td>\n",
       "      <td>-1</td>\n",
       "      <td>-1</td>\n",
       "      <td>-1</td>\n",
       "    </tr>\n",
       "    <tr>\n",
       "      <th>4</th>\n",
       "      <td>img/Sheer_Pleated-Front_Blouse/img_00000005.jpg</td>\n",
       "      <td>-1</td>\n",
       "      <td>-1</td>\n",
       "      <td>-1</td>\n",
       "      <td>-1</td>\n",
       "      <td>-1</td>\n",
       "      <td>-1</td>\n",
       "      <td>-1</td>\n",
       "      <td>-1</td>\n",
       "      <td>-1</td>\n",
       "      <td>...</td>\n",
       "      <td>-1</td>\n",
       "      <td>-1</td>\n",
       "      <td>-1</td>\n",
       "      <td>-1</td>\n",
       "      <td>-1</td>\n",
       "      <td>-1</td>\n",
       "      <td>-1</td>\n",
       "      <td>-1</td>\n",
       "      <td>-1</td>\n",
       "      <td>-1</td>\n",
       "    </tr>\n",
       "  </tbody>\n",
       "</table>\n",
       "<p>5 rows × 1001 columns</p>\n",
       "</div>"
      ],
      "text/plain": [
       "                                        image_name  a-line   abstract   \\\n",
       "0  img/Sheer_Pleated-Front_Blouse/img_00000001.jpg       -1         -1   \n",
       "1  img/Sheer_Pleated-Front_Blouse/img_00000002.jpg       -1         -1   \n",
       "2  img/Sheer_Pleated-Front_Blouse/img_00000003.jpg       -1         -1   \n",
       "3  img/Sheer_Pleated-Front_Blouse/img_00000004.jpg       -1         -1   \n",
       "4  img/Sheer_Pleated-Front_Blouse/img_00000005.jpg       -1         -1   \n",
       "\n",
       "   abstract chevron   abstract chevron print   abstract diamond   \\\n",
       "0                 -1                       -1                 -1   \n",
       "1                 -1                       -1                 -1   \n",
       "2                 -1                       -1                 -1   \n",
       "3                 -1                       -1                 -1   \n",
       "4                 -1                       -1                 -1   \n",
       "\n",
       "   abstract floral   abstract floral print   abstract geo   \\\n",
       "0                -1                      -1             -1   \n",
       "1                -1                      -1             -1   \n",
       "2                -1                      -1             -1   \n",
       "3                -1                      -1             -1   \n",
       "4                -1                      -1             -1   \n",
       "\n",
       "   abstract geo print     ...      zeppelin   zig   zigzag   zip   zip-front   \\\n",
       "0                   -1    ...             -1    -1       -1    -1          -1   \n",
       "1                   -1    ...             -1    -1       -1    -1          -1   \n",
       "2                   -1    ...             -1    -1       -1    -1          -1   \n",
       "3                   -1    ...             -1    -1       -1    -1          -1   \n",
       "4                   -1    ...             -1    -1       -1    -1          -1   \n",
       "\n",
       "   zip-pocket   zip-up   zipped   zipper   zippered   \n",
       "0           -1       -1       -1       -1         -1  \n",
       "1           -1       -1       -1       -1         -1  \n",
       "2           -1       -1       -1       -1         -1  \n",
       "3           -1       -1       -1       -1         -1  \n",
       "4           -1       -1       -1       -1         -1  \n",
       "\n",
       "[5 rows x 1001 columns]"
      ]
     },
     "execution_count": 19,
     "metadata": {},
     "output_type": "execute_result"
    }
   ],
   "source": [
    "df_attr_combined.head()"
   ]
  },
  {
   "cell_type": "markdown",
   "metadata": {},
   "source": [
    "+ Combining attributes and category"
   ]
  },
  {
   "cell_type": "code",
   "execution_count": 20,
   "metadata": {},
   "outputs": [],
   "source": [
    "df_attr_category_combined = pd.merge(df_attr_combined, df_category_combined)"
   ]
  },
  {
   "cell_type": "code",
   "execution_count": 25,
   "metadata": {},
   "outputs": [
    {
     "data": {
      "text/html": [
       "<div>\n",
       "<style scoped>\n",
       "    .dataframe tbody tr th:only-of-type {\n",
       "        vertical-align: middle;\n",
       "    }\n",
       "\n",
       "    .dataframe tbody tr th {\n",
       "        vertical-align: top;\n",
       "    }\n",
       "\n",
       "    .dataframe thead th {\n",
       "        text-align: right;\n",
       "    }\n",
       "</style>\n",
       "<table border=\"1\" class=\"dataframe\">\n",
       "  <thead>\n",
       "    <tr style=\"text-align: right;\">\n",
       "      <th></th>\n",
       "      <th>image_name</th>\n",
       "      <th>a-line</th>\n",
       "      <th>abstract</th>\n",
       "      <th>abstract chevron</th>\n",
       "      <th>abstract chevron print</th>\n",
       "      <th>abstract diamond</th>\n",
       "      <th>abstract floral</th>\n",
       "      <th>abstract floral print</th>\n",
       "      <th>abstract geo</th>\n",
       "      <th>abstract geo print</th>\n",
       "      <th>...</th>\n",
       "      <th>zip</th>\n",
       "      <th>zip-front</th>\n",
       "      <th>zip-pocket</th>\n",
       "      <th>zip-up</th>\n",
       "      <th>zipped</th>\n",
       "      <th>zipper</th>\n",
       "      <th>zippered</th>\n",
       "      <th>category_label</th>\n",
       "      <th>category_name</th>\n",
       "      <th>category_type</th>\n",
       "    </tr>\n",
       "  </thead>\n",
       "  <tbody>\n",
       "    <tr>\n",
       "      <th>0</th>\n",
       "      <td>img/Sheer_Pleated-Front_Blouse/img_00000001.jpg</td>\n",
       "      <td>-1</td>\n",
       "      <td>-1</td>\n",
       "      <td>-1</td>\n",
       "      <td>-1</td>\n",
       "      <td>-1</td>\n",
       "      <td>-1</td>\n",
       "      <td>-1</td>\n",
       "      <td>-1</td>\n",
       "      <td>-1</td>\n",
       "      <td>...</td>\n",
       "      <td>-1</td>\n",
       "      <td>-1</td>\n",
       "      <td>-1</td>\n",
       "      <td>-1</td>\n",
       "      <td>-1</td>\n",
       "      <td>-1</td>\n",
       "      <td>-1</td>\n",
       "      <td>3</td>\n",
       "      <td>Blouse</td>\n",
       "      <td>1</td>\n",
       "    </tr>\n",
       "    <tr>\n",
       "      <th>1</th>\n",
       "      <td>img/Sheer_Pleated-Front_Blouse/img_00000002.jpg</td>\n",
       "      <td>-1</td>\n",
       "      <td>-1</td>\n",
       "      <td>-1</td>\n",
       "      <td>-1</td>\n",
       "      <td>-1</td>\n",
       "      <td>-1</td>\n",
       "      <td>-1</td>\n",
       "      <td>-1</td>\n",
       "      <td>-1</td>\n",
       "      <td>...</td>\n",
       "      <td>-1</td>\n",
       "      <td>-1</td>\n",
       "      <td>-1</td>\n",
       "      <td>-1</td>\n",
       "      <td>-1</td>\n",
       "      <td>-1</td>\n",
       "      <td>-1</td>\n",
       "      <td>3</td>\n",
       "      <td>Blouse</td>\n",
       "      <td>1</td>\n",
       "    </tr>\n",
       "    <tr>\n",
       "      <th>2</th>\n",
       "      <td>img/Sheer_Pleated-Front_Blouse/img_00000003.jpg</td>\n",
       "      <td>-1</td>\n",
       "      <td>-1</td>\n",
       "      <td>-1</td>\n",
       "      <td>-1</td>\n",
       "      <td>-1</td>\n",
       "      <td>-1</td>\n",
       "      <td>-1</td>\n",
       "      <td>-1</td>\n",
       "      <td>-1</td>\n",
       "      <td>...</td>\n",
       "      <td>-1</td>\n",
       "      <td>-1</td>\n",
       "      <td>-1</td>\n",
       "      <td>-1</td>\n",
       "      <td>-1</td>\n",
       "      <td>-1</td>\n",
       "      <td>-1</td>\n",
       "      <td>3</td>\n",
       "      <td>Blouse</td>\n",
       "      <td>1</td>\n",
       "    </tr>\n",
       "    <tr>\n",
       "      <th>3</th>\n",
       "      <td>img/Sheer_Pleated-Front_Blouse/img_00000004.jpg</td>\n",
       "      <td>-1</td>\n",
       "      <td>-1</td>\n",
       "      <td>-1</td>\n",
       "      <td>-1</td>\n",
       "      <td>-1</td>\n",
       "      <td>-1</td>\n",
       "      <td>-1</td>\n",
       "      <td>-1</td>\n",
       "      <td>-1</td>\n",
       "      <td>...</td>\n",
       "      <td>-1</td>\n",
       "      <td>-1</td>\n",
       "      <td>-1</td>\n",
       "      <td>-1</td>\n",
       "      <td>-1</td>\n",
       "      <td>-1</td>\n",
       "      <td>-1</td>\n",
       "      <td>3</td>\n",
       "      <td>Blouse</td>\n",
       "      <td>1</td>\n",
       "    </tr>\n",
       "    <tr>\n",
       "      <th>4</th>\n",
       "      <td>img/Sheer_Pleated-Front_Blouse/img_00000005.jpg</td>\n",
       "      <td>-1</td>\n",
       "      <td>-1</td>\n",
       "      <td>-1</td>\n",
       "      <td>-1</td>\n",
       "      <td>-1</td>\n",
       "      <td>-1</td>\n",
       "      <td>-1</td>\n",
       "      <td>-1</td>\n",
       "      <td>-1</td>\n",
       "      <td>...</td>\n",
       "      <td>-1</td>\n",
       "      <td>-1</td>\n",
       "      <td>-1</td>\n",
       "      <td>-1</td>\n",
       "      <td>-1</td>\n",
       "      <td>-1</td>\n",
       "      <td>-1</td>\n",
       "      <td>3</td>\n",
       "      <td>Blouse</td>\n",
       "      <td>1</td>\n",
       "    </tr>\n",
       "  </tbody>\n",
       "</table>\n",
       "<p>5 rows × 1004 columns</p>\n",
       "</div>"
      ],
      "text/plain": [
       "                                        image_name  a-line   abstract   \\\n",
       "0  img/Sheer_Pleated-Front_Blouse/img_00000001.jpg       -1         -1   \n",
       "1  img/Sheer_Pleated-Front_Blouse/img_00000002.jpg       -1         -1   \n",
       "2  img/Sheer_Pleated-Front_Blouse/img_00000003.jpg       -1         -1   \n",
       "3  img/Sheer_Pleated-Front_Blouse/img_00000004.jpg       -1         -1   \n",
       "4  img/Sheer_Pleated-Front_Blouse/img_00000005.jpg       -1         -1   \n",
       "\n",
       "   abstract chevron   abstract chevron print   abstract diamond   \\\n",
       "0                 -1                       -1                 -1   \n",
       "1                 -1                       -1                 -1   \n",
       "2                 -1                       -1                 -1   \n",
       "3                 -1                       -1                 -1   \n",
       "4                 -1                       -1                 -1   \n",
       "\n",
       "   abstract floral   abstract floral print   abstract geo   \\\n",
       "0                -1                      -1             -1   \n",
       "1                -1                      -1             -1   \n",
       "2                -1                      -1             -1   \n",
       "3                -1                      -1             -1   \n",
       "4                -1                      -1             -1   \n",
       "\n",
       "   abstract geo print       ...        zip   zip-front   zip-pocket   zip-up   \\\n",
       "0                   -1      ...          -1          -1           -1       -1   \n",
       "1                   -1      ...          -1          -1           -1       -1   \n",
       "2                   -1      ...          -1          -1           -1       -1   \n",
       "3                   -1      ...          -1          -1           -1       -1   \n",
       "4                   -1      ...          -1          -1           -1       -1   \n",
       "\n",
       "   zipped   zipper   zippered   category_label  category_name  category_type  \n",
       "0       -1       -1         -1               3         Blouse              1  \n",
       "1       -1       -1         -1               3         Blouse              1  \n",
       "2       -1       -1         -1               3         Blouse              1  \n",
       "3       -1       -1         -1               3         Blouse              1  \n",
       "4       -1       -1         -1               3         Blouse              1  \n",
       "\n",
       "[5 rows x 1004 columns]"
      ]
     },
     "execution_count": 25,
     "metadata": {},
     "output_type": "execute_result"
    }
   ],
   "source": [
    "df_attr_category_combined.head()"
   ]
  },
  {
   "cell_type": "markdown",
   "metadata": {},
   "source": [
    "+ export attr_combined.csv, category_combined.csv, attr_category_combined.csv"
   ]
  },
  {
   "cell_type": "code",
   "execution_count": 26,
   "metadata": {},
   "outputs": [],
   "source": [
    "#attr_combined.csv\n",
    "file_name = \"attr_combined.csv\"\n",
    "df_attr_combined.to_csv(\"./Anno/changed/\"+file_name, index=None)"
   ]
  },
  {
   "cell_type": "code",
   "execution_count": null,
   "metadata": {},
   "outputs": [],
   "source": [
    "#category_combined.csv\n",
    "file_name = \"category_combined.csv\"\n",
    "df_category_combined.to_csv(\"./Anno/changed/\"+file_name, index=None)"
   ]
  },
  {
   "cell_type": "code",
   "execution_count": null,
   "metadata": {},
   "outputs": [],
   "source": [
    "#attr_category_combined.csv\n",
    "file_name = \"attr_category_combined.csv\"\n",
    "df_attr_category_combined.to_csv(\"./Anno/changed/\"+file_name, index=None)"
   ]
  },
  {
   "cell_type": "markdown",
   "metadata": {},
   "source": [
    "## Visualize"
   ]
  },
  {
   "cell_type": "markdown",
   "metadata": {},
   "source": [
    "### attribute distribution(frequency)"
   ]
  },
  {
   "cell_type": "code",
   "execution_count": 27,
   "metadata": {},
   "outputs": [],
   "source": [
    "attr_frequency = (df_attr_combined.iloc[:,1:] == 1).sum(axis=0)\n",
    "attr_frequency_sort=attr_frequency.sort_values(ascending = False)"
   ]
  },
  {
   "cell_type": "code",
   "execution_count": 131,
   "metadata": {},
   "outputs": [
    {
     "data": {
      "text/plain": [
       "print            37367\n",
       "floral           24188\n",
       "lace             20434\n",
       "knit             18498\n",
       "sleeve           17828\n",
       "maxi             15990\n",
       "shirt            14920\n",
       "denim            13178\n",
       "striped          11771\n",
       "chiffon          11735\n",
       "crochet           8987\n",
       "stripe            8591\n",
       "sleeveless        7987\n",
       "summer            7616\n",
       "floral print      7560\n",
       "fit               7489\n",
       "cotton            7370\n",
       "leather           7334\n",
       "faux              7243\n",
       "classic           7184\n",
       "graphic           6933\n",
       "pleated           6755\n",
       "red               6717\n",
       "long sleeve       6656\n",
       "embroidered       6621\n",
       "pink              6569\n",
       "printed           6568\n",
       "bodycon           6419\n",
       "crop              6221\n",
       "skater            6205\n",
       "dtype: int64"
      ]
     },
     "execution_count": 131,
     "metadata": {},
     "output_type": "execute_result"
    }
   ],
   "source": [
    "attr_frequency_sort.head(30)"
   ]
  },
  {
   "cell_type": "markdown",
   "metadata": {},
   "source": [
    "### plot attribute count in descending order\n",
    "plot whole attributes to analyze distribution"
   ]
  },
  {
   "cell_type": "code",
   "execution_count": 111,
   "metadata": {
    "scrolled": true
   },
   "outputs": [
    {
     "data": {
      "image/png": "[encoded data removed]",
      "text/plain": [
       "<Figure size 432x288 with 1 Axes>"
      ]
     },
     "metadata": {
      "needs_background": "light"
     },
     "output_type": "display_data"
    }
   ],
   "source": [
    "plt.plot([x for x in range(len(attr_frequency_sort))], [val for val in attr_frequency_sort])\n",
    "plt.title(\"total attributes distribution\")\n",
    "plt.xlabel(\"attributes\")\n",
    "plt.ylabel(\"count\")\n",
    "plt.savefig('result/total_attr_distr.png')"
   ]
  },
  {
   "cell_type": "markdown",
   "metadata": {},
   "source": [
    "plot top 50 number of attributes to analyze distribution"
   ]
  },
  {
   "cell_type": "code",
   "execution_count": 112,
   "metadata": {
    "scrolled": false
   },
   "outputs": [
    {
     "data": {
      "image/png": "[encoded data removed]",
      "text/plain": [
       "<Figure size 432x288 with 1 Axes>"
      ]
     },
     "metadata": {
      "needs_background": "light"
     },
     "output_type": "display_data"
    }
   ],
   "source": [
    "plt.plot([x for x in range(200)], [val for val in attr_frequency_sort[:200]])\n",
    "plt.title(\"200 attributes distribution\")\n",
    "plt.xlabel(\"attributes\")\n",
    "plt.ylabel(\"count\")\n",
    "plt.savefig('result/200_attr_distr.png')"
   ]
  },
  {
   "cell_type": "markdown",
   "metadata": {},
   "source": [
    "plot top 50 attributes to analyze distribution"
   ]
  },
  {
   "cell_type": "code",
   "execution_count": 113,
   "metadata": {},
   "outputs": [
    {
     "data": {
      "image/png": "[encoded data removed]",
      "text/plain": [
       "<Figure size 432x288 with 1 Axes>"
      ]
     },
     "metadata": {
      "needs_background": "light"
     },
     "output_type": "display_data"
    }
   ],
   "source": [
    "plt.plot([x for x in range(50)], [val for val in attr_frequency_sort[:50]])\n",
    "plt.title(\"50 attributes distribution\")\n",
    "plt.xlabel(\"attributes\")\n",
    "plt.ylabel(\"count\")\n",
    "plt.savefig('result/50_attr_distr.png')"
   ]
  },
  {
   "cell_type": "markdown",
   "metadata": {},
   "source": [
    "plot top 20 attributes to analyze distribution"
   ]
  },
  {
   "cell_type": "code",
   "execution_count": 114,
   "metadata": {},
   "outputs": [
    {
     "data": {
      "image/png": "[encoded data removed]",
      "text/plain": [
       "<Figure size 432x288 with 1 Axes>"
      ]
     },
     "metadata": {
      "needs_background": "light"
     },
     "output_type": "display_data"
    }
   ],
   "source": [
    "plt.plot([x for x in range(20)], [val for val in attr_frequency_sort[:20]])\n",
    "plt.title(\"20 attributes distribution\")\n",
    "plt.xlabel(\"attributes\")\n",
    "plt.ylabel(\"count\")\n",
    "plt.savefig('result/20_attr_distr.png')"
   ]
  },
  {
   "cell_type": "markdown",
   "metadata": {},
   "source": [
    "plot histogram of top 20 attributes to analyze distribution"
   ]
  },
  {
   "cell_type": "code",
   "execution_count": 115,
   "metadata": {},
   "outputs": [
    {
     "data": {
      "image/png": "[encoded data removed]",
      "text/plain": [
       "<Figure size 1080x720 with 1 Axes>"
      ]
     },
     "metadata": {
      "needs_background": "light"
     },
     "output_type": "display_data"
    }
   ],
   "source": [
    "attr_frequency_sort[:20].plot(kind = 'bar', figsize=(15,10), fontsize = 10)\n",
    "plt.title(\"20 attributes histrogram\")\n",
    "plt.xlabel(\"attributes\")\n",
    "plt.ylabel(\"count\")\n",
    "plt.savefig('result/20_attr_hist.png')"
   ]
  },
  {
   "cell_type": "markdown",
   "metadata": {},
   "source": [
    "### category distribution(frequency)"
   ]
  },
  {
   "cell_type": "code",
   "execution_count": 34,
   "metadata": {},
   "outputs": [],
   "source": [
    "category_frequency= df_category_combined.groupby(['category_name'])['image_name'].count()\n",
    "category_frequency_sort = category_frequency.sort_values(ascending=False)"
   ]
  },
  {
   "cell_type": "code",
   "execution_count": 35,
   "metadata": {},
   "outputs": [
    {
     "data": {
      "text/plain": [
       "category_name\n",
       "Dress          72158\n",
       "Tee            36887\n",
       "Blouse         24557\n",
       "Shorts         19666\n",
       "Tank           15429\n",
       "Skirt          14773\n",
       "Cardigan       13311\n",
       "Sweater        13123\n",
       "Jacket         10467\n",
       "Top            10078\n",
       "Blazer          7495\n",
       "Romper          7408\n",
       "Jeans           7076\n",
       "Jumpsuit        6153\n",
       "Leggings        5013\n",
       "Joggers         4416\n",
       "Hoodie          4048\n",
       "Sweatpants      3048\n",
       "Kimono          2294\n",
       "Coat            2120\n",
       "Cutoffs         1669\n",
       "Sweatshorts     1106\n",
       "Poncho           791\n",
       "Jersey           748\n",
       "Henley           716\n",
       "Parka            676\n",
       "Jeggings         594\n",
       "Chinos           527\n",
       "Culottes         486\n",
       "Trunks           386\n",
       "Button-Down      330\n",
       "Flannel          324\n",
       "Bomber           309\n",
       "Anorak           160\n",
       "Robe             150\n",
       "Turtleneck       146\n",
       "Kaftan           126\n",
       "Peacoat           97\n",
       "Capris            77\n",
       "Onesie            70\n",
       "Caftan            54\n",
       "Gauchos           49\n",
       "Jodhpurs          45\n",
       "Sarong            32\n",
       "Coverup           17\n",
       "Halter            17\n",
       "Name: image_name, dtype: int64"
      ]
     },
     "execution_count": 35,
     "metadata": {},
     "output_type": "execute_result"
    }
   ],
   "source": [
    "category_frequency_sort"
   ]
  },
  {
   "cell_type": "markdown",
   "metadata": {},
   "source": [
    "### plot category count in descending order\n",
    "plot whole categories to analyze distribution"
   ]
  },
  {
   "cell_type": "code",
   "execution_count": 116,
   "metadata": {},
   "outputs": [
    {
     "data": {
      "image/png": "[encoded data removed]",
      "text/plain": [
       "<Figure size 432x288 with 1 Axes>"
      ]
     },
     "metadata": {
      "needs_background": "light"
     },
     "output_type": "display_data"
    }
   ],
   "source": [
    "plt.plot([x for x in range(len(category_frequency_sort))], [val for val in category_frequency_sort])\n",
    "plt.title(\"total category distribution\")\n",
    "plt.xlabel(\"category\")\n",
    "plt.ylabel(\"count\")\n",
    "plt.savefig('result/total_category_distr.png')"
   ]
  },
  {
   "cell_type": "markdown",
   "metadata": {},
   "source": [
    "plot top 20 categories to analyze distribution"
   ]
  },
  {
   "cell_type": "code",
   "execution_count": 117,
   "metadata": {},
   "outputs": [
    {
     "data": {
      "image/png": "[encoded data removed]",
      "text/plain": [
       "<Figure size 432x288 with 1 Axes>"
      ]
     },
     "metadata": {
      "needs_background": "light"
     },
     "output_type": "display_data"
    }
   ],
   "source": [
    "plt.plot([x for x in range(20)], [val for val in category_frequency_sort[:20]])\n",
    "plt.title(\"20 category distribution\")\n",
    "plt.xlabel(\"category\")\n",
    "plt.ylabel(\"count\")\n",
    "plt.savefig('result/20_category_distr.png')"
   ]
  },
  {
   "cell_type": "markdown",
   "metadata": {},
   "source": [
    "plot top 10 categories to analyze distribution"
   ]
  },
  {
   "cell_type": "code",
   "execution_count": 118,
   "metadata": {},
   "outputs": [
    {
     "data": {
      "image/png": "[encoded data removed]",
      "text/plain": [
       "<Figure size 432x288 with 1 Axes>"
      ]
     },
     "metadata": {
      "needs_background": "light"
     },
     "output_type": "display_data"
    }
   ],
   "source": [
    "plt.plot([x for x in range(10)], [val for val in category_frequency_sort[:10]])\n",
    "plt.title(\"10 category distribution\")\n",
    "plt.xlabel(\"category\")\n",
    "plt.ylabel(\"count\")\n",
    "plt.savefig('result/10_category_distr.png')"
   ]
  },
  {
   "cell_type": "markdown",
   "metadata": {},
   "source": [
    "plot histogram of top 20 categories to analyze distribution"
   ]
  },
  {
   "cell_type": "code",
   "execution_count": 119,
   "metadata": {},
   "outputs": [
    {
     "data": {
      "image/png": "[encoded data removed]",
      "text/plain": [
       "<Figure size 1080x864 with 1 Axes>"
      ]
     },
     "metadata": {
      "needs_background": "light"
     },
     "output_type": "display_data"
    }
   ],
   "source": [
    "category_frequency_sort[:20].plot(kind = 'bar', figsize=(15,12), fontsize = 10)\n",
    "plt.title(\"20 category histrogram\")\n",
    "plt.xlabel(\"category\")\n",
    "plt.ylabel(\"count\")\n",
    "plt.savefig('result/20_category_hist.png')"
   ]
  },
  {
   "cell_type": "markdown",
   "metadata": {},
   "source": [
    "## groupby attribute types"
   ]
  },
  {
   "cell_type": "code",
   "execution_count": 40,
   "metadata": {},
   "outputs": [
    {
     "data": {
      "text/plain": [
       "attribute_type\n",
       "1    156\n",
       "2    218\n",
       "3    180\n",
       "4    216\n",
       "5    230\n",
       "dtype: int64"
      ]
     },
     "execution_count": 40,
     "metadata": {},
     "output_type": "execute_result"
    }
   ],
   "source": [
    "df_attr_cloth.groupby(df_attr_cloth.attribute_type).size()"
   ]
  },
  {
   "cell_type": "code",
   "execution_count": 41,
   "metadata": {},
   "outputs": [],
   "source": [
    "def df_attr_type(attr_type, i):\n",
    "\n",
    "    df_attr_type = ('df_attr_'+attr_type)\n",
    "    lst_attr_type = ('lst_attr_'+attr_type)\n",
    "    attr_type_frequency = (attr_type+'_frequency')\n",
    "    attr_type_frequency_sort = (attr_type+'_frequency_sort')\n",
    "        \n",
    "    df_attr_type = df_attr_cloth[(df_attr_cloth.attribute_type == i)]\n",
    "        \n",
    "    lst_attr_type = ['image_name']+ (df_attr_type['attribute_name '].values.tolist())\n",
    "    df_attr_type = pd.DataFrame(df_attr_img, columns=lst_attr_type)\n",
    "    attr_type_frequency = (df_attr_type.iloc[:,1:] == 1).sum(axis=0)\n",
    "    attr_type_frequency_sort = attr_type_frequency.sort_values(ascending = False)\n",
    "    \n",
    "    return df_attr_type, lst_attr_type, attr_type_frequency, attr_type_frequency_sort"
   ]
  },
  {
   "cell_type": "code",
   "execution_count": 42,
   "metadata": {},
   "outputs": [],
   "source": [
    "df_attr_texture, lst_attr_texture, attr_texture_frequency, attr_texture_frequency_sort = df_attr_type('texture', 1)\n",
    "df_attr_fabric, lst_attr_fabric, attr_fabric_frequency, attr_fabric_frequency_sort = df_attr_type('fabric', 2)\n",
    "df_attr_shape, lst_attr_shape, attr_shape_frequency, attr_shape_frequency_sort = df_attr_type('shape', 3)\n",
    "df_attr_part, lst_attr_part, attr_part_frequency, attr_part_frequency_sort = df_attr_type('part', 4)\n",
    "df_attr_style, lst_attr_style, attr_style_frequency, attr_style_frequency_sort = df_attr_type('style', 5)"
   ]
  },
  {
   "cell_type": "markdown",
   "metadata": {},
   "source": [
    "### make csv file for each type"
   ]
  },
  {
   "cell_type": "code",
   "execution_count": null,
   "metadata": {
    "scrolled": true
   },
   "outputs": [],
   "source": [
    "df_attr_texture.to_csv(\"./Anno/changed/attr_texture.csv\", index=None)\n",
    "df_attr_fabric.to_csv(\"./Anno/changed/attr_fabric.csv\", index=None)\n",
    "df_attr_shape.to_csv(\"./Anno/changed/attr_shape.csv\", index=None)\n",
    "df_attr_part.to_csv(\"./Anno/changed/attr_part.csv\", index=None)\n",
    "df_attr_style.to_csv(\"./Anno/changed/attr_style.csv\", index=None)"
   ]
  },
  {
   "cell_type": "markdown",
   "metadata": {},
   "source": [
    "#### texture"
   ]
  },
  {
   "cell_type": "code",
   "execution_count": 120,
   "metadata": {},
   "outputs": [
    {
     "data": {
      "image/png": "[encoded data removed]",
      "text/plain": [
       "<Figure size 1080x864 with 1 Axes>"
      ]
     },
     "metadata": {
      "needs_background": "light"
     },
     "output_type": "display_data"
    }
   ],
   "source": [
    "attr_texture_frequency_sort[:15].plot(kind = 'bar', figsize=(15,12), fontsize = 10)\n",
    "plt.title(\"top attributes in texture type\")\n",
    "plt.xlabel(\"attribute\")\n",
    "plt.ylabel(\"count\")\n",
    "plt.savefig('result/texture_attr.png')"
   ]
  },
  {
   "cell_type": "markdown",
   "metadata": {},
   "source": [
    "#### fabric"
   ]
  },
  {
   "cell_type": "code",
   "execution_count": 121,
   "metadata": {},
   "outputs": [
    {
     "data": {
      "image/png": "[encoded data removed]",
      "text/plain": [
       "<Figure size 1080x864 with 1 Axes>"
      ]
     },
     "metadata": {
      "needs_background": "light"
     },
     "output_type": "display_data"
    }
   ],
   "source": [
    "attr_fabric_frequency_sort[:15].plot(kind = 'bar',figsize=(15,12), fontsize = 10)\n",
    "plt.title(\"top attributes in fabric type\")\n",
    "plt.xlabel(\"attribute\")\n",
    "plt.ylabel(\"count\")\n",
    "plt.savefig('result/fabric_attr.png')"
   ]
  },
  {
   "cell_type": "markdown",
   "metadata": {},
   "source": [
    "#### shape"
   ]
  },
  {
   "cell_type": "code",
   "execution_count": 122,
   "metadata": {},
   "outputs": [
    {
     "data": {
      "image/png": "[encoded data removed]",
      "text/plain": [
       "<Figure size 1080x864 with 1 Axes>"
      ]
     },
     "metadata": {
      "needs_background": "light"
     },
     "output_type": "display_data"
    }
   ],
   "source": [
    "attr_shape_frequency_sort[:15].plot(kind = 'bar', figsize=(15,12), fontsize = 10)\n",
    "plt.title(\"top attributes in shape type\")\n",
    "plt.xlabel(\"attribute\")\n",
    "plt.ylabel(\"count\")\n",
    "plt.savefig('result/shape_attr.png')"
   ]
  },
  {
   "cell_type": "markdown",
   "metadata": {},
   "source": [
    "#### part"
   ]
  },
  {
   "cell_type": "code",
   "execution_count": 123,
   "metadata": {
    "scrolled": true
   },
   "outputs": [
    {
     "data": {
      "image/png": "[encoded data removed]",
      "text/plain": [
       "<Figure size 1080x864 with 1 Axes>"
      ]
     },
     "metadata": {
      "needs_background": "light"
     },
     "output_type": "display_data"
    }
   ],
   "source": [
    "attr_part_frequency_sort[:15].plot(kind = 'bar', figsize=(15,12), fontsize = 10)\n",
    "plt.title(\"top attributes in part type\")\n",
    "plt.xlabel(\"attribute\")\n",
    "plt.ylabel(\"count\")\n",
    "plt.savefig('result/part_attr.png')"
   ]
  },
  {
   "cell_type": "markdown",
   "metadata": {},
   "source": [
    "#### style"
   ]
  },
  {
   "cell_type": "code",
   "execution_count": 125,
   "metadata": {},
   "outputs": [
    {
     "data": {
      "image/png": "[encoded data removed]",
      "text/plain": [
       "<Figure size 1080x864 with 1 Axes>"
      ]
     },
     "metadata": {
      "needs_background": "light"
     },
     "output_type": "display_data"
    }
   ],
   "source": [
    "attr_style_frequency_sort[:15].plot(kind = 'bar', figsize=(15,12), fontsize = 10)\n",
    "plt.title(\"top attributes in style type\")\n",
    "plt.xlabel(\"attribute\")\n",
    "plt.ylabel(\"count\")\n",
    "plt.savefig('result/style_attr.png')"
   ]
  },
  {
   "cell_type": "markdown",
   "metadata": {},
   "source": [
    "## Frequency of Attributes in top Category"
   ]
  },
  {
   "cell_type": "code",
   "execution_count": 48,
   "metadata": {},
   "outputs": [],
   "source": [
    "lst_category_frequency_top5 = list(category_frequency_sort[:5].index)"
   ]
  },
  {
   "cell_type": "code",
   "execution_count": 49,
   "metadata": {},
   "outputs": [
    {
     "data": {
      "text/plain": [
       "['Dress', 'Tee', 'Blouse', 'Shorts', 'Tank']"
      ]
     },
     "execution_count": 49,
     "metadata": {},
     "output_type": "execute_result"
    }
   ],
   "source": [
    "lst_category_frequency_top5"
   ]
  },
  {
   "cell_type": "code",
   "execution_count": 50,
   "metadata": {},
   "outputs": [],
   "source": [
    "groupby_category = df_attr_category_combined.groupby('category_name')"
   ]
  },
  {
   "cell_type": "code",
   "execution_count": 51,
   "metadata": {},
   "outputs": [],
   "source": [
    "def attributes_for_category(dict_group, df_group):\n",
    "\n",
    "    for attr in lst_attr:\n",
    "        dict_group[attr] = np.sum(df_group[attr].values == 1)\n",
    "\n",
    "    return dict_group, df_group"
   ]
  },
  {
   "cell_type": "code",
   "execution_count": 52,
   "metadata": {},
   "outputs": [],
   "source": [
    "def create_groupName_for_df_dict(df_groupName, dict_groupName, groupName):\n",
    "    df_groupName = groupby_category.get_group(groupName)\n",
    "    dict_groupName = {}\n",
    "    return attributes_for_category(dict_groupName, df_groupName)"
   ]
  },
  {
   "cell_type": "code",
   "execution_count": 53,
   "metadata": {},
   "outputs": [],
   "source": [
    "dict_dress, df_dress = create_groupName_for_df_dict('df_dress', 'dict_dress', 'Dress')"
   ]
  },
  {
   "cell_type": "code",
   "execution_count": 54,
   "metadata": {},
   "outputs": [],
   "source": [
    "dict_tee, df_tee = create_groupName_for_df_dict('df_tee', 'dict_tee', 'Tee')"
   ]
  },
  {
   "cell_type": "code",
   "execution_count": 55,
   "metadata": {},
   "outputs": [],
   "source": [
    "dict_blouse, df_blouse = create_groupName_for_df_dict('df_blouse', 'dict_blouse', 'Blouse')"
   ]
  },
  {
   "cell_type": "code",
   "execution_count": 56,
   "metadata": {},
   "outputs": [],
   "source": [
    "dict_shorts, df_shorts = create_groupName_for_df_dict('df_shorts', 'dict_shorts', 'Shorts')"
   ]
  },
  {
   "cell_type": "code",
   "execution_count": 57,
   "metadata": {},
   "outputs": [],
   "source": [
    "dict_tank, df_tank = create_groupName_for_df_dict('df_tank', 'dict_tank', 'Tank')"
   ]
  },
  {
   "cell_type": "code",
   "execution_count": 58,
   "metadata": {},
   "outputs": [],
   "source": [
    "def plot_dict(dict_attr):\n",
    "    sorted_by_value = {k: v for k, v in sorted(dict_attr.items(), key=lambda kv: kv[1], reverse= True)}\n",
    "    sorted_by_value_part = {k: sorted_by_value[k] for k in list(sorted_by_value)[:15]}\n",
    "    plt.figure(figsize=(15,5))\n",
    "    plt.bar(sorted_by_value_part.keys(), sorted_by_value_part.values())"
   ]
  },
  {
   "cell_type": "code",
   "execution_count": 126,
   "metadata": {
    "scrolled": false
   },
   "outputs": [
    {
     "data": {
      "image/png": "[encoded data removed]",
      "text/plain": [
       "<Figure size 1080x360 with 1 Axes>"
      ]
     },
     "metadata": {
      "needs_background": "light"
     },
     "output_type": "display_data"
    }
   ],
   "source": [
    "plot_dict(dict_dress)\n",
    "plt.title(\"top attributes in dress category\")\n",
    "plt.xlabel(\"attribute\")\n",
    "plt.ylabel(\"count\")\n",
    "plt.savefig('result/dress_attr.png')"
   ]
  },
  {
   "cell_type": "code",
   "execution_count": 127,
   "metadata": {},
   "outputs": [
    {
     "data": {
      "image/png": "[encoded data removed]",
      "text/plain": [
       "<Figure size 1080x360 with 1 Axes>"
      ]
     },
     "metadata": {
      "needs_background": "light"
     },
     "output_type": "display_data"
    }
   ],
   "source": [
    "plot_dict(dict_tee)\n",
    "plt.title(\"top attributes in tee category\")\n",
    "plt.xlabel(\"attribute\")\n",
    "plt.ylabel(\"count\")\n",
    "plt.savefig('result/tee_attr.png')"
   ]
  },
  {
   "cell_type": "code",
   "execution_count": 128,
   "metadata": {
    "scrolled": true
   },
   "outputs": [
    {
     "data": {
      "image/png": "[encoded data removed]",
      "text/plain": [
       "<Figure size 1080x360 with 1 Axes>"
      ]
     },
     "metadata": {
      "needs_background": "light"
     },
     "output_type": "display_data"
    }
   ],
   "source": [
    "plot_dict(dict_blouse)\n",
    "plt.title(\"top attributes in blouse category\")\n",
    "plt.xlabel(\"attribute\")\n",
    "plt.ylabel(\"count\")\n",
    "plt.savefig('result/blouse_attr.png')"
   ]
  },
  {
   "cell_type": "code",
   "execution_count": 129,
   "metadata": {},
   "outputs": [
    {
     "data": {
      "image/png": "[encoded data removed]",
      "text/plain": [
       "<Figure size 1080x360 with 1 Axes>"
      ]
     },
     "metadata": {
      "needs_background": "light"
     },
     "output_type": "display_data"
    }
   ],
   "source": [
    "plot_dict(dict_shorts)\n",
    "plt.title(\"top attributes in shorts category\")\n",
    "plt.xlabel(\"attribute\")\n",
    "plt.ylabel(\"count\")\n",
    "plt.savefig('result/shorts_attr.png')"
   ]
  },
  {
   "cell_type": "code",
   "execution_count": 130,
   "metadata": {},
   "outputs": [
    {
     "data": {
      "image/png": "[encoded data removed]",
      "text/plain": [
       "<Figure size 1080x360 with 1 Axes>"
      ]
     },
     "metadata": {
      "needs_background": "light"
     },
     "output_type": "display_data"
    }
   ],
   "source": [
    "plot_dict(dict_tank)\n",
    "plt.title(\"top attributes in tank category\")\n",
    "plt.xlabel(\"attribute\")\n",
    "plt.ylabel(\"count\")\n",
    "plt.savefig('result/tank_attr.png')"
   ]
  },
  {
   "cell_type": "code",
   "execution_count": null,
   "metadata": {},
   "outputs": [],
   "source": []
  },
  {
   "cell_type": "code",
   "execution_count": null,
   "metadata": {},
   "outputs": [],
   "source": []
  }
 ],
 "metadata": {
  "kernelspec": {
   "display_name": "Python 3",
   "language": "python",
   "name": "python3"
  },
  "language_info": {
   "codemirror_mode": {
    "name": "ipython",
    "version": 3
   },
   "file_extension": ".py",
   "mimetype": "text/x-python",
   "name": "python",
   "nbconvert_exporter": "python",
   "pygments_lexer": "ipython3",
   "version": "3.7.1"
  }
 },
 "nbformat": 4,
 "nbformat_minor": 2
}
