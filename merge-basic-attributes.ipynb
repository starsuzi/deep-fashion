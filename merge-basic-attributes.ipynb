{
 "cells": [
  {
   "cell_type": "code",
   "execution_count": 1,
   "metadata": {},
   "outputs": [],
   "source": [
    "import numpy as np\n",
    "import pandas as pd\n",
    "import csv\n",
    "import matplotlib.pyplot as plt\n",
    "import matplotlib.image as mpimg\n",
    "import random"
   ]
  },
  {
   "cell_type": "code",
   "execution_count": 2,
   "metadata": {},
   "outputs": [],
   "source": [
    "df_attr_combined = pd.read_csv('./Anno/changed/etri/attr_combined.csv')"
   ]
  },
  {
   "cell_type": "code",
   "execution_count": 3,
   "metadata": {},
   "outputs": [],
   "source": [
    "df_attr_category_combined = pd.read_csv('./Anno/changed/etri/attr_category_combined.csv')"
   ]
  },
  {
   "cell_type": "code",
   "execution_count": 4,
   "metadata": {},
   "outputs": [],
   "source": [
    "def plotRandomImage(attribute, img_num):\n",
    "    print(attribute+'attribute')\n",
    "    img_files = []\n",
    "    dict_imgs = dict(zip(df_attr_category_combined.loc[df_attr_category_combined[attribute] == 1]['image_name'], df_attr_category_combined.loc[df_attr_category_combined[attribute] == 1]['category_name']))\n",
    "    print(str(len(dict_imgs))+' images')\n",
    "    lst_rand_imgs = random.sample(list(dict_imgs.items()), img_num)\n",
    "    \n",
    "    for tuple_img in lst_rand_imgs:\n",
    "        img=mpimg.imread('./'+tuple_img[1]+'/'+tuple_img[0]+'.jpg')\n",
    "        img_files.append(img)\n",
    "    \n",
    "    col_num = 4\n",
    "    row_num = ((img_num // col_num)+1) if (img_num % col_num) != 0 else (img_num // col_num)\n",
    "    \n",
    "    fig, axes = plt.subplots(nrows=row_num, ncols=col_num, figsize=(20,20))\n",
    "    \n",
    "    for idx, img_file in enumerate(img_files):\n",
    "        row = idx // col_num\n",
    "        col = idx % col_num\n",
    "        \n",
    "        axes[row, col].axis(\"off\")\n",
    "        axes[row, col].imshow(img_file, cmap=\"gray\", aspect=\"auto\")\n",
    "\n",
    "    plt.subplots_adjust(wspace=.05, hspace=.05)\n",
    "\n",
    "    plt.show()"
   ]
  },
  {
   "cell_type": "markdown",
   "metadata": {},
   "source": [
    "## Check if the given attribute is in column or not\n",
    "### basically given attributes"
   ]
  },
  {
   "cell_type": "code",
   "execution_count": 5,
   "metadata": {},
   "outputs": [],
   "source": [
    "def isAttribute(lst_attribute):\n",
    "    for col in lst_attribute:\n",
    "        try:\n",
    "            df_attr_combined[col]\n",
    "            print(\"'\"+col+\"' exists\")\n",
    "        except :\n",
    "            print(\"'\"+col+\"' doesn't exist\")\n",
    "            pass"
   ]
  },
  {
   "cell_type": "code",
   "execution_count": 6,
   "metadata": {},
   "outputs": [],
   "source": [
    "lst_color = ['white ', 'black ', 'gray ', 'pink ', 'red ', 'green ', 'blue ', 'brown ', 'navy ', 'beige ', 'yellow ', 'purple ', 'orange ']\n",
    "lst_gender = ['man ', 'woman ']\n",
    "lst_sleeves = ['short sleeves ', 'long sleeves ', 'no sleeves ', 'short ', 'long ']\n",
    "lst_season = ['spring ', 'summer ', 'autumn ', 'winter ']\n",
    "lst_pattern = ['single ', 'checker ', 'dotted ', 'floral ', 'striped ']"
   ]
  },
  {
   "cell_type": "code",
   "execution_count": 8,
   "metadata": {},
   "outputs": [
    {
     "name": "stdout",
     "output_type": "stream",
     "text": [
      "'white ' doesn't exist\n",
      "'black ' doesn't exist\n",
      "'gray ' doesn't exist\n",
      "'pink ' exists\n",
      "'red ' exists\n",
      "'green ' doesn't exist\n",
      "'blue ' doesn't exist\n",
      "'brown ' doesn't exist\n",
      "'navy ' doesn't exist\n",
      "'beige ' doesn't exist\n",
      "'yellow ' doesn't exist\n",
      "'purple ' doesn't exist\n",
      "'orange ' doesn't exist\n"
     ]
    }
   ],
   "source": [
    "isAttribute(lst_color)"
   ]
  },
  {
   "cell_type": "code",
   "execution_count": 9,
   "metadata": {},
   "outputs": [
    {
     "name": "stdout",
     "output_type": "stream",
     "text": [
      "'man ' doesn't exist\n",
      "'woman ' doesn't exist\n"
     ]
    }
   ],
   "source": [
    "isAttribute(lst_gender)"
   ]
  },
  {
   "cell_type": "code",
   "execution_count": 10,
   "metadata": {},
   "outputs": [
    {
     "name": "stdout",
     "output_type": "stream",
     "text": [
      "'short sleeves ' doesn't exist\n",
      "'long sleeves ' doesn't exist\n",
      "'no sleeves ' doesn't exist\n",
      "'short ' doesn't exist\n",
      "'long ' doesn't exist\n"
     ]
    }
   ],
   "source": [
    "isAttribute(lst_sleeves)"
   ]
  },
  {
   "cell_type": "code",
   "execution_count": 11,
   "metadata": {},
   "outputs": [
    {
     "name": "stdout",
     "output_type": "stream",
     "text": [
      "'spring ' doesn't exist\n",
      "'summer ' exists\n",
      "'autumn ' doesn't exist\n",
      "'winter ' doesn't exist\n"
     ]
    }
   ],
   "source": [
    "isAttribute(lst_season)"
   ]
  },
  {
   "cell_type": "code",
   "execution_count": 12,
   "metadata": {},
   "outputs": [
    {
     "name": "stdout",
     "output_type": "stream",
     "text": [
      "'single ' doesn't exist\n",
      "'checker ' doesn't exist\n",
      "'dotted ' exists\n",
      "'floral ' exists\n",
      "'striped ' exists\n"
     ]
    }
   ],
   "source": [
    "isAttribute(lst_pattern)"
   ]
  },
  {
   "cell_type": "code",
   "execution_count": 7,
   "metadata": {},
   "outputs": [],
   "source": [
    "def plotRandomImage(attribute, img_num):\n",
    "    print(attribute+'attribute')\n",
    "    img_files = []\n",
    "    dict_imgs = dict(zip(df_attr_category_combined.loc[df_attr_category_combined[attribute] == 1]['image_name'], df_attr_category_combined.loc[df_attr_category_combined[attribute] == 1]['category_name']))\n",
    "    print(str(len(dict_imgs))+' images')\n",
    "    lst_rand_imgs = random.sample(list(dict_imgs.items()), img_num)\n",
    "    \n",
    "    for tuple_img in lst_rand_imgs:\n",
    "        img=mpimg.imread('./'+tuple_img[1]+'/'+tuple_img[0]+'.jpg')\n",
    "        img_files.append(img)\n",
    "    \n",
    "    col_num = 4\n",
    "    row_num = ((img_num // col_num)+1) if (img_num % col_num) != 0 else (img_num // col_num)\n",
    "    \n",
    "    fig, axes = plt.subplots(nrows=row_num, ncols=col_num, figsize=(20,20))\n",
    "    \n",
    "    for idx, img_file in enumerate(img_files):\n",
    "        row = idx // col_num\n",
    "        col = idx % col_num\n",
    "        \n",
    "        axes[row, col].axis(\"off\")\n",
    "        axes[row, col].imshow(img_file, cmap=\"gray\", aspect=\"auto\")\n",
    "\n",
    "    plt.subplots_adjust(wspace=.05, hspace=.05)\n",
    "\n",
    "    plt.show()"
   ]
  },
  {
   "cell_type": "markdown",
   "metadata": {},
   "source": [
    "## Check similar columns' images"
   ]
  },
  {
   "cell_type": "markdown",
   "metadata": {},
   "source": [
    "### - sleeve"
   ]
  },
  {
   "cell_type": "code",
   "execution_count": 14,
   "metadata": {},
   "outputs": [
    {
     "data": {
      "text/plain": [
       "['bell-sleeve ',\n",
       " 'cap-sleeve ',\n",
       " 'cuffed-sleeve ',\n",
       " 'dolman sleeve ',\n",
       " 'dolman-sleeve ',\n",
       " 'drop-sleeve ',\n",
       " 'flutter sleeve ',\n",
       " 'flutter-sleeve ',\n",
       " 'lace sleeve ',\n",
       " 'long sleeve ',\n",
       " 'long-sleeve ',\n",
       " 'long-sleeved ',\n",
       " 'raglan sleeve ',\n",
       " 'sleeve ',\n",
       " 'sleeveless ']"
      ]
     },
     "execution_count": 14,
     "metadata": {},
     "output_type": "execute_result"
    }
   ],
   "source": [
    "[col for col in df_attr_combined if 'sleeve' in col]"
   ]
  },
  {
   "cell_type": "markdown",
   "metadata": {},
   "source": [
    "+ short sleeves"
   ]
  },
  {
   "cell_type": "markdown",
   "metadata": {},
   "source": [
    "+ long sleeves"
   ]
  },
  {
   "cell_type": "code",
   "execution_count": 8,
   "metadata": {},
   "outputs": [],
   "source": [
    "#plotRandomImage('long sleeve ', 28)"
   ]
  },
  {
   "cell_type": "code",
   "execution_count": 9,
   "metadata": {},
   "outputs": [],
   "source": [
    "#plotRandomImage('long-sleeve ', 28)"
   ]
  },
  {
   "cell_type": "code",
   "execution_count": 10,
   "metadata": {},
   "outputs": [],
   "source": [
    "#plotRandomImage('long-sleeved ', 28)"
   ]
  },
  {
   "cell_type": "markdown",
   "metadata": {},
   "source": [
    "+ no sleeves"
   ]
  },
  {
   "cell_type": "code",
   "execution_count": 11,
   "metadata": {},
   "outputs": [],
   "source": [
    "#plotRandomImage('sleeveless ', 28)"
   ]
  },
  {
   "cell_type": "markdown",
   "metadata": {},
   "source": [
    "### - season"
   ]
  },
  {
   "cell_type": "markdown",
   "metadata": {},
   "source": [
    "+ spring"
   ]
  },
  {
   "cell_type": "markdown",
   "metadata": {},
   "source": [
    "+ summer"
   ]
  },
  {
   "cell_type": "code",
   "execution_count": 12,
   "metadata": {},
   "outputs": [],
   "source": [
    "#plotRandomImage('summer ', 28)"
   ]
  },
  {
   "cell_type": "markdown",
   "metadata": {},
   "source": [
    "+ autumn"
   ]
  },
  {
   "cell_type": "markdown",
   "metadata": {},
   "source": [
    "+ winter"
   ]
  },
  {
   "cell_type": "markdown",
   "metadata": {},
   "source": [
    "### - pattern"
   ]
  },
  {
   "cell_type": "code",
   "execution_count": 13,
   "metadata": {},
   "outputs": [],
   "source": [
    "#plotRandomImage('pattern ', 28)"
   ]
  },
  {
   "cell_type": "markdown",
   "metadata": {},
   "source": [
    "+ single"
   ]
  },
  {
   "cell_type": "markdown",
   "metadata": {},
   "source": [
    "+ checker"
   ]
  },
  {
   "cell_type": "code",
   "execution_count": 21,
   "metadata": {},
   "outputs": [
    {
     "data": {
      "text/plain": [
       "['checked ', 'checkered ']"
      ]
     },
     "execution_count": 21,
     "metadata": {},
     "output_type": "execute_result"
    }
   ],
   "source": [
    "[col for col in df_attr_combined if 'check' in col]"
   ]
  },
  {
   "cell_type": "code",
   "execution_count": 14,
   "metadata": {},
   "outputs": [],
   "source": [
    "#plotRandomImage('checked ', 28)"
   ]
  },
  {
   "cell_type": "code",
   "execution_count": 15,
   "metadata": {},
   "outputs": [],
   "source": [
    "#plotRandomImage('checkered ', 28)"
   ]
  },
  {
   "cell_type": "markdown",
   "metadata": {},
   "source": [
    "+ dotted"
   ]
  },
  {
   "cell_type": "code",
   "execution_count": 24,
   "metadata": {},
   "outputs": [
    {
     "data": {
      "text/plain": [
       "['dot ', 'dots ', 'dotted ', 'polka dot ']"
      ]
     },
     "execution_count": 24,
     "metadata": {},
     "output_type": "execute_result"
    }
   ],
   "source": [
    "[col for col in df_attr_combined if 'dot' in col]"
   ]
  },
  {
   "cell_type": "code",
   "execution_count": 16,
   "metadata": {},
   "outputs": [],
   "source": [
    "#plotRandomImage('dotted ', 28)"
   ]
  },
  {
   "cell_type": "code",
   "execution_count": 17,
   "metadata": {},
   "outputs": [],
   "source": [
    "#plotRandomImage('dot ', 28)"
   ]
  },
  {
   "cell_type": "code",
   "execution_count": 18,
   "metadata": {},
   "outputs": [],
   "source": [
    "#plotRandomImage('dots ', 28)"
   ]
  },
  {
   "cell_type": "code",
   "execution_count": 19,
   "metadata": {},
   "outputs": [],
   "source": [
    "#plotRandomImage('polka dot ', 28)"
   ]
  },
  {
   "cell_type": "markdown",
   "metadata": {},
   "source": [
    "+ floral"
   ]
  },
  {
   "cell_type": "code",
   "execution_count": 20,
   "metadata": {},
   "outputs": [],
   "source": [
    "#plotRandomImage('floral ', 28) "
   ]
  },
  {
   "cell_type": "code",
   "execution_count": 30,
   "metadata": {},
   "outputs": [
    {
     "data": {
      "text/plain": [
       "['abstract floral ',\n",
       " 'abstract floral print ',\n",
       " 'belted floral ',\n",
       " 'belted floral print ',\n",
       " 'chiffon floral ',\n",
       " 'crochet floral ',\n",
       " 'ditsy floral ',\n",
       " 'ditsy floral print ',\n",
       " 'embroidered floral ',\n",
       " 'floral ',\n",
       " 'floral flutter ',\n",
       " 'floral knit ',\n",
       " 'floral lace ',\n",
       " 'floral lace mini ',\n",
       " 'floral lace sheath ',\n",
       " 'floral lace skater ',\n",
       " 'floral maxi ',\n",
       " 'floral mesh ',\n",
       " 'floral midi ',\n",
       " 'floral mini ',\n",
       " 'floral paisley ',\n",
       " 'floral pattern ',\n",
       " 'floral peasant ',\n",
       " 'floral pleated ',\n",
       " 'floral print ',\n",
       " 'floral print skater ',\n",
       " 'floral print strapless ',\n",
       " 'floral print surplice ',\n",
       " 'floral shift ',\n",
       " 'floral skater ',\n",
       " 'floral surplice ',\n",
       " 'floral textured ',\n",
       " 'floral-embroidered ',\n",
       " 'flounce ',\n",
       " 'flounce maxi ',\n",
       " 'flounced ',\n",
       " 'flower ',\n",
       " 'flowy ',\n",
       " 'floyd ',\n",
       " 'sunflower ',\n",
       " 'wildflower ']"
      ]
     },
     "execution_count": 30,
     "metadata": {},
     "output_type": "execute_result"
    }
   ],
   "source": [
    "[col for col in df_attr_combined if 'flo' in col]"
   ]
  },
  {
   "cell_type": "code",
   "execution_count": 21,
   "metadata": {},
   "outputs": [],
   "source": [
    "#plotRandomImage('abstract floral ', 28)"
   ]
  },
  {
   "cell_type": "code",
   "execution_count": 22,
   "metadata": {},
   "outputs": [],
   "source": [
    "#plotRandomImage('abstract floral print ', 28)"
   ]
  },
  {
   "cell_type": "code",
   "execution_count": 23,
   "metadata": {},
   "outputs": [],
   "source": [
    "#plotRandomImage('belted floral ', 28)"
   ]
  },
  {
   "cell_type": "code",
   "execution_count": 24,
   "metadata": {},
   "outputs": [],
   "source": [
    "#plotRandomImage('belted floral print ', 28)"
   ]
  },
  {
   "cell_type": "code",
   "execution_count": 25,
   "metadata": {},
   "outputs": [],
   "source": [
    "#plotRandomImage('chiffon floral ', 28)"
   ]
  },
  {
   "cell_type": "code",
   "execution_count": 26,
   "metadata": {},
   "outputs": [],
   "source": [
    "#plotRandomImage('crochet floral ', 28) #not"
   ]
  },
  {
   "cell_type": "code",
   "execution_count": 27,
   "metadata": {},
   "outputs": [],
   "source": [
    "#plotRandomImage('ditsy floral ', 28)"
   ]
  },
  {
   "cell_type": "code",
   "execution_count": 28,
   "metadata": {},
   "outputs": [],
   "source": [
    "#plotRandomImage('ditsy floral print ', 28)"
   ]
  },
  {
   "cell_type": "code",
   "execution_count": 29,
   "metadata": {},
   "outputs": [],
   "source": [
    "#plotRandomImage('embroidered floral ', 28) #not"
   ]
  },
  {
   "cell_type": "code",
   "execution_count": 30,
   "metadata": {},
   "outputs": [],
   "source": [
    "#plotRandomImage('floral flutter ', 28) "
   ]
  },
  {
   "cell_type": "code",
   "execution_count": 31,
   "metadata": {},
   "outputs": [],
   "source": [
    "#plotRandomImage('floral knit ', 28) "
   ]
  },
  {
   "cell_type": "code",
   "execution_count": 32,
   "metadata": {},
   "outputs": [],
   "source": [
    "#plotRandomImage('floral lace ', 28) #not"
   ]
  },
  {
   "cell_type": "code",
   "execution_count": 33,
   "metadata": {},
   "outputs": [],
   "source": [
    "#plotRandomImage('floral lace mini ', 17) #not"
   ]
  },
  {
   "cell_type": "code",
   "execution_count": 34,
   "metadata": {},
   "outputs": [],
   "source": [
    "#plotRandomImage('floral lace sheath ', 28) #not"
   ]
  },
  {
   "cell_type": "code",
   "execution_count": 35,
   "metadata": {},
   "outputs": [],
   "source": [
    "#plotRandomImage('floral lace skater ', 13) #not"
   ]
  },
  {
   "cell_type": "code",
   "execution_count": 36,
   "metadata": {},
   "outputs": [],
   "source": [
    "#plotRandomImage('floral maxi ', 28) "
   ]
  },
  {
   "cell_type": "code",
   "execution_count": 37,
   "metadata": {},
   "outputs": [],
   "source": [
    "#plotRandomImage('floral mesh ', 28) #not"
   ]
  },
  {
   "cell_type": "code",
   "execution_count": 38,
   "metadata": {},
   "outputs": [],
   "source": [
    "#plotRandomImage('floral midi ', 28) "
   ]
  },
  {
   "cell_type": "code",
   "execution_count": 39,
   "metadata": {},
   "outputs": [],
   "source": [
    "#plotRandomImage('floral mini ', 28) "
   ]
  },
  {
   "cell_type": "code",
   "execution_count": 40,
   "metadata": {},
   "outputs": [],
   "source": [
    "#plotRandomImage('floral paisley ', 28) "
   ]
  },
  {
   "cell_type": "code",
   "execution_count": 41,
   "metadata": {},
   "outputs": [],
   "source": [
    "#plotRandomImage('floral pattern ', 28) "
   ]
  },
  {
   "cell_type": "code",
   "execution_count": 42,
   "metadata": {},
   "outputs": [],
   "source": [
    "#plotRandomImage('floral peasant ', 28) "
   ]
  },
  {
   "cell_type": "code",
   "execution_count": 43,
   "metadata": {},
   "outputs": [],
   "source": [
    "#plotRandomImage('floral pleated ', 28) "
   ]
  },
  {
   "cell_type": "code",
   "execution_count": 44,
   "metadata": {},
   "outputs": [],
   "source": [
    "#plotRandomImage('floral print ', 28)"
   ]
  },
  {
   "cell_type": "code",
   "execution_count": 45,
   "metadata": {},
   "outputs": [],
   "source": [
    "#plotRandomImage('floral print skater ', 28) "
   ]
  },
  {
   "cell_type": "code",
   "execution_count": 46,
   "metadata": {},
   "outputs": [],
   "source": [
    "#plotRandomImage('floral print strapless ', 28) "
   ]
  },
  {
   "cell_type": "code",
   "execution_count": 47,
   "metadata": {},
   "outputs": [],
   "source": [
    "#plotRandomImage('floral print surplice ', 28) "
   ]
  },
  {
   "cell_type": "code",
   "execution_count": 48,
   "metadata": {},
   "outputs": [],
   "source": [
    "#plotRandomImage('floral shift ', 28) "
   ]
  },
  {
   "cell_type": "code",
   "execution_count": 49,
   "metadata": {},
   "outputs": [],
   "source": [
    "#plotRandomImage('floral skater ', 28) "
   ]
  },
  {
   "cell_type": "code",
   "execution_count": 50,
   "metadata": {},
   "outputs": [],
   "source": [
    "#plotRandomImage('floral surplice ', 28) "
   ]
  },
  {
   "cell_type": "code",
   "execution_count": 51,
   "metadata": {},
   "outputs": [],
   "source": [
    "#plotRandomImage('floral textured ', 28) "
   ]
  },
  {
   "cell_type": "code",
   "execution_count": 52,
   "metadata": {},
   "outputs": [],
   "source": [
    "#plotRandomImage('floral-embroidered ', 28) #not"
   ]
  },
  {
   "cell_type": "code",
   "execution_count": 53,
   "metadata": {},
   "outputs": [],
   "source": [
    "#plotRandomImage('flower ', 28) "
   ]
  },
  {
   "cell_type": "code",
   "execution_count": 54,
   "metadata": {},
   "outputs": [],
   "source": [
    "#plotRandomImage('sunflower ', 28) "
   ]
  },
  {
   "cell_type": "code",
   "execution_count": 55,
   "metadata": {},
   "outputs": [],
   "source": [
    "#plotRandomImage('wildflower ', 28) "
   ]
  },
  {
   "cell_type": "markdown",
   "metadata": {},
   "source": [
    "+ striped"
   ]
  },
  {
   "cell_type": "code",
   "execution_count": 66,
   "metadata": {},
   "outputs": [
    {
     "data": {
      "text/plain": [
       "['abstract stripe ',\n",
       " 'back striped ',\n",
       " 'boxy striped ',\n",
       " 'breton stripe ',\n",
       " 'classic striped ',\n",
       " 'geo stripe ',\n",
       " 'heathered stripe ',\n",
       " 'knit stripe ',\n",
       " 'knit striped ',\n",
       " 'marled stripe ',\n",
       " 'mixed stripe ',\n",
       " 'multi-stripe ',\n",
       " 'nautical stripe ',\n",
       " 'nautical striped ',\n",
       " 'neck striped ',\n",
       " 'pinstripe ',\n",
       " 'pinstriped ',\n",
       " 'ribbed stripe ',\n",
       " 'rugby stripe ',\n",
       " 'rugby striped ',\n",
       " 'stripe ',\n",
       " 'striped ',\n",
       " 'striped trapeze ',\n",
       " 'striped v-neck ',\n",
       " 'stripes ',\n",
       " 'varsity-striped ']"
      ]
     },
     "execution_count": 66,
     "metadata": {},
     "output_type": "execute_result"
    }
   ],
   "source": [
    "[col for col in df_attr_combined if 'stripe' in col]"
   ]
  },
  {
   "cell_type": "code",
   "execution_count": 56,
   "metadata": {},
   "outputs": [],
   "source": [
    "#plotRandomImage('stripe ', 28) "
   ]
  },
  {
   "cell_type": "code",
   "execution_count": 57,
   "metadata": {},
   "outputs": [],
   "source": [
    "#plotRandomImage('abstract stripe ', 28) "
   ]
  },
  {
   "cell_type": "code",
   "execution_count": 58,
   "metadata": {},
   "outputs": [],
   "source": [
    "#plotRandomImage('back striped ', 28) "
   ]
  },
  {
   "cell_type": "code",
   "execution_count": 59,
   "metadata": {},
   "outputs": [],
   "source": [
    "#plotRandomImage('boxy striped ', 28) "
   ]
  },
  {
   "cell_type": "code",
   "execution_count": 60,
   "metadata": {},
   "outputs": [],
   "source": [
    "#plotRandomImage('breton stripe ', 28) "
   ]
  },
  {
   "cell_type": "code",
   "execution_count": 61,
   "metadata": {},
   "outputs": [],
   "source": [
    "#plotRandomImage('classic striped ', 28) "
   ]
  },
  {
   "cell_type": "code",
   "execution_count": 62,
   "metadata": {},
   "outputs": [],
   "source": [
    "#plotRandomImage('geo stripe ', 28) #not"
   ]
  },
  {
   "cell_type": "code",
   "execution_count": 63,
   "metadata": {},
   "outputs": [],
   "source": [
    "#plotRandomImage('heathered stripe ', 28) "
   ]
  },
  {
   "cell_type": "code",
   "execution_count": 64,
   "metadata": {},
   "outputs": [],
   "source": [
    "#plotRandomImage('knit stripe ', 28) "
   ]
  },
  {
   "cell_type": "code",
   "execution_count": 65,
   "metadata": {},
   "outputs": [],
   "source": [
    "#plotRandomImage('knit striped ', 28) "
   ]
  },
  {
   "cell_type": "code",
   "execution_count": 66,
   "metadata": {},
   "outputs": [],
   "source": [
    "#plotRandomImage('marled stripe ', 28) "
   ]
  },
  {
   "cell_type": "code",
   "execution_count": 67,
   "metadata": {},
   "outputs": [],
   "source": [
    "#plotRandomImage('mixed stripe ', 28) "
   ]
  },
  {
   "cell_type": "code",
   "execution_count": 68,
   "metadata": {},
   "outputs": [],
   "source": [
    "#plotRandomImage('multi-stripe ', 28) "
   ]
  },
  {
   "cell_type": "code",
   "execution_count": 69,
   "metadata": {},
   "outputs": [],
   "source": [
    "#plotRandomImage('nautical stripe ', 28) "
   ]
  },
  {
   "cell_type": "code",
   "execution_count": 70,
   "metadata": {},
   "outputs": [],
   "source": [
    "#plotRandomImage('nautical striped ', 28) "
   ]
  },
  {
   "cell_type": "code",
   "execution_count": 71,
   "metadata": {},
   "outputs": [],
   "source": [
    "#plotRandomImage('neck striped ', 28) "
   ]
  },
  {
   "cell_type": "code",
   "execution_count": 72,
   "metadata": {},
   "outputs": [],
   "source": [
    "#plotRandomImage('pinstripe ', 28) #not"
   ]
  },
  {
   "cell_type": "code",
   "execution_count": 73,
   "metadata": {},
   "outputs": [],
   "source": [
    "#plotRandomImage('pinstriped ', 28) #not"
   ]
  },
  {
   "cell_type": "code",
   "execution_count": 74,
   "metadata": {},
   "outputs": [],
   "source": [
    "#plotRandomImage('ribbed stripe ', 28) "
   ]
  },
  {
   "cell_type": "code",
   "execution_count": 75,
   "metadata": {},
   "outputs": [],
   "source": [
    "#plotRandomImage('rugby stripe ', 28) "
   ]
  },
  {
   "cell_type": "code",
   "execution_count": 76,
   "metadata": {},
   "outputs": [],
   "source": [
    "#plotRandomImage('rugby striped ', 28) "
   ]
  },
  {
   "cell_type": "code",
   "execution_count": 77,
   "metadata": {},
   "outputs": [],
   "source": [
    "#plotRandomImage('striped ', 28) "
   ]
  },
  {
   "cell_type": "code",
   "execution_count": 78,
   "metadata": {},
   "outputs": [],
   "source": [
    "#plotRandomImage('striped trapeze ', 28) "
   ]
  },
  {
   "cell_type": "code",
   "execution_count": 79,
   "metadata": {},
   "outputs": [],
   "source": [
    "#plotRandomImage('striped v-neck ', 28) "
   ]
  },
  {
   "cell_type": "code",
   "execution_count": 80,
   "metadata": {},
   "outputs": [],
   "source": [
    "#plotRandomImage('stripes ', 28) "
   ]
  },
  {
   "cell_type": "code",
   "execution_count": 81,
   "metadata": {},
   "outputs": [],
   "source": [
    "#plotRandomImage('varsity-striped ', 28) #not"
   ]
  },
  {
   "cell_type": "markdown",
   "metadata": {},
   "source": [
    "+ others"
   ]
  },
  {
   "cell_type": "markdown",
   "metadata": {},
   "source": [
    "## Merge"
   ]
  },
  {
   "cell_type": "code",
   "execution_count": 82,
   "metadata": {},
   "outputs": [],
   "source": [
    "df_final = df_attr_category_combined.iloc[:,:3]"
   ]
  },
  {
   "cell_type": "code",
   "execution_count": 83,
   "metadata": {},
   "outputs": [],
   "source": [
    "def mergeColumns(col1, col2) :\n",
    "    return ((df_attr_category_combined[col1] == 1) | (df_attr_category_combined[col2] == 1)).astype(int).replace(0, -1)"
   ]
  },
  {
   "cell_type": "code",
   "execution_count": 84,
   "metadata": {},
   "outputs": [],
   "source": [
    "def mergeMultipleColumns(lst_attr, merged_col):\n",
    "\n",
    "    global df_attr_category_combined\n",
    "    \n",
    "    df_attr_category_combined.insert(loc=0, column='temp', value=mergeColumns(lst_attr[0], lst_attr[1]))\n",
    "\n",
    "    for i in range(2,len(lst_attr)):\n",
    "        df_attr_category_combined['temp'] = mergeColumns('temp', lst_attr[i])\n",
    "    \n",
    "    df_final.insert(loc = 3,column=merged_col, value=df_attr_category_combined['temp'])\n",
    "    \n",
    "    df_attr_category_combined = df_attr_category_combined.drop(['temp'], axis=1)"
   ]
  },
  {
   "cell_type": "code",
   "execution_count": 85,
   "metadata": {},
   "outputs": [],
   "source": [
    "lst_long_sleeves = ['long sleeve ', 'long-sleeve ', 'long-sleeved ']\n",
    "mergeMultipleColumns(lst_long_sleeves, 'long sleeves')"
   ]
  },
  {
   "cell_type": "code",
   "execution_count": 86,
   "metadata": {},
   "outputs": [],
   "source": [
    "df_final.insert(loc = 3, column = 'no sleeves', value=df_attr_category_combined['sleeveless '])"
   ]
  },
  {
   "cell_type": "code",
   "execution_count": 87,
   "metadata": {},
   "outputs": [],
   "source": [
    "df_final.insert(loc = 3, column = 'summer', value=df_attr_category_combined['summer '])"
   ]
  },
  {
   "cell_type": "code",
   "execution_count": 88,
   "metadata": {},
   "outputs": [
    {
     "data": {
      "text/html": [
       "<div>\n",
       "<style scoped>\n",
       "    .dataframe tbody tr th:only-of-type {\n",
       "        vertical-align: middle;\n",
       "    }\n",
       "\n",
       "    .dataframe tbody tr th {\n",
       "        vertical-align: top;\n",
       "    }\n",
       "\n",
       "    .dataframe thead th {\n",
       "        text-align: right;\n",
       "    }\n",
       "</style>\n",
       "<table border=\"1\" class=\"dataframe\">\n",
       "  <thead>\n",
       "    <tr style=\"text-align: right;\">\n",
       "      <th></th>\n",
       "      <th>image_name</th>\n",
       "      <th>category_name</th>\n",
       "      <th>category_label</th>\n",
       "      <th>summer</th>\n",
       "      <th>no sleeves</th>\n",
       "      <th>long sleeves</th>\n",
       "    </tr>\n",
       "  </thead>\n",
       "  <tbody>\n",
       "    <tr>\n",
       "      <th>0</th>\n",
       "      <td>1981_Graphic_Ringer_Tee_img_00000001</td>\n",
       "      <td>shirt</td>\n",
       "      <td>0</td>\n",
       "      <td>-1</td>\n",
       "      <td>-1</td>\n",
       "      <td>-1</td>\n",
       "    </tr>\n",
       "    <tr>\n",
       "      <th>1</th>\n",
       "      <td>1981_Graphic_Ringer_Tee_img_00000002</td>\n",
       "      <td>shirt</td>\n",
       "      <td>0</td>\n",
       "      <td>-1</td>\n",
       "      <td>-1</td>\n",
       "      <td>-1</td>\n",
       "    </tr>\n",
       "    <tr>\n",
       "      <th>2</th>\n",
       "      <td>1981_Graphic_Ringer_Tee_img_00000003</td>\n",
       "      <td>shirt</td>\n",
       "      <td>0</td>\n",
       "      <td>-1</td>\n",
       "      <td>-1</td>\n",
       "      <td>-1</td>\n",
       "    </tr>\n",
       "    <tr>\n",
       "      <th>3</th>\n",
       "      <td>1981_Graphic_Ringer_Tee_img_00000004</td>\n",
       "      <td>shirt</td>\n",
       "      <td>0</td>\n",
       "      <td>-1</td>\n",
       "      <td>-1</td>\n",
       "      <td>-1</td>\n",
       "    </tr>\n",
       "    <tr>\n",
       "      <th>4</th>\n",
       "      <td>1981_Graphic_Ringer_Tee_img_00000005</td>\n",
       "      <td>shirt</td>\n",
       "      <td>0</td>\n",
       "      <td>-1</td>\n",
       "      <td>-1</td>\n",
       "      <td>-1</td>\n",
       "    </tr>\n",
       "  </tbody>\n",
       "</table>\n",
       "</div>"
      ],
      "text/plain": [
       "                             image_name category_name  category_label  summer  \\\n",
       "0  1981_Graphic_Ringer_Tee_img_00000001         shirt               0      -1   \n",
       "1  1981_Graphic_Ringer_Tee_img_00000002         shirt               0      -1   \n",
       "2  1981_Graphic_Ringer_Tee_img_00000003         shirt               0      -1   \n",
       "3  1981_Graphic_Ringer_Tee_img_00000004         shirt               0      -1   \n",
       "4  1981_Graphic_Ringer_Tee_img_00000005         shirt               0      -1   \n",
       "\n",
       "   no sleeves  long sleeves  \n",
       "0          -1            -1  \n",
       "1          -1            -1  \n",
       "2          -1            -1  \n",
       "3          -1            -1  \n",
       "4          -1            -1  "
      ]
     },
     "execution_count": 88,
     "metadata": {},
     "output_type": "execute_result"
    }
   ],
   "source": [
    "df_final.head()"
   ]
  },
  {
   "cell_type": "code",
   "execution_count": 89,
   "metadata": {
    "scrolled": true
   },
   "outputs": [],
   "source": [
    "lst_checker = ['checked ', 'checkered ']\n",
    "mergeMultipleColumns(lst_checker, 'checker')"
   ]
  },
  {
   "cell_type": "code",
   "execution_count": 90,
   "metadata": {},
   "outputs": [
    {
     "data": {
      "text/html": [
       "<div>\n",
       "<style scoped>\n",
       "    .dataframe tbody tr th:only-of-type {\n",
       "        vertical-align: middle;\n",
       "    }\n",
       "\n",
       "    .dataframe tbody tr th {\n",
       "        vertical-align: top;\n",
       "    }\n",
       "\n",
       "    .dataframe thead th {\n",
       "        text-align: right;\n",
       "    }\n",
       "</style>\n",
       "<table border=\"1\" class=\"dataframe\">\n",
       "  <thead>\n",
       "    <tr style=\"text-align: right;\">\n",
       "      <th></th>\n",
       "      <th>image_name</th>\n",
       "      <th>category_name</th>\n",
       "      <th>category_label</th>\n",
       "      <th>a-line</th>\n",
       "      <th>abstract</th>\n",
       "      <th>abstract chevron</th>\n",
       "      <th>abstract chevron print</th>\n",
       "      <th>abstract diamond</th>\n",
       "      <th>abstract floral</th>\n",
       "      <th>abstract floral print</th>\n",
       "      <th>...</th>\n",
       "      <th>zeppelin</th>\n",
       "      <th>zig</th>\n",
       "      <th>zigzag</th>\n",
       "      <th>zip</th>\n",
       "      <th>zip-front</th>\n",
       "      <th>zip-pocket</th>\n",
       "      <th>zip-up</th>\n",
       "      <th>zipped</th>\n",
       "      <th>zipper</th>\n",
       "      <th>zippered</th>\n",
       "    </tr>\n",
       "  </thead>\n",
       "  <tbody>\n",
       "    <tr>\n",
       "      <th>0</th>\n",
       "      <td>1981_Graphic_Ringer_Tee_img_00000001</td>\n",
       "      <td>shirt</td>\n",
       "      <td>0</td>\n",
       "      <td>-1</td>\n",
       "      <td>-1</td>\n",
       "      <td>-1</td>\n",
       "      <td>-1</td>\n",
       "      <td>-1</td>\n",
       "      <td>-1</td>\n",
       "      <td>-1</td>\n",
       "      <td>...</td>\n",
       "      <td>-1</td>\n",
       "      <td>-1</td>\n",
       "      <td>-1</td>\n",
       "      <td>-1</td>\n",
       "      <td>-1</td>\n",
       "      <td>-1</td>\n",
       "      <td>-1</td>\n",
       "      <td>-1</td>\n",
       "      <td>-1</td>\n",
       "      <td>-1</td>\n",
       "    </tr>\n",
       "    <tr>\n",
       "      <th>1</th>\n",
       "      <td>1981_Graphic_Ringer_Tee_img_00000002</td>\n",
       "      <td>shirt</td>\n",
       "      <td>0</td>\n",
       "      <td>-1</td>\n",
       "      <td>-1</td>\n",
       "      <td>-1</td>\n",
       "      <td>-1</td>\n",
       "      <td>-1</td>\n",
       "      <td>-1</td>\n",
       "      <td>-1</td>\n",
       "      <td>...</td>\n",
       "      <td>-1</td>\n",
       "      <td>-1</td>\n",
       "      <td>-1</td>\n",
       "      <td>-1</td>\n",
       "      <td>-1</td>\n",
       "      <td>-1</td>\n",
       "      <td>-1</td>\n",
       "      <td>-1</td>\n",
       "      <td>-1</td>\n",
       "      <td>-1</td>\n",
       "    </tr>\n",
       "    <tr>\n",
       "      <th>2</th>\n",
       "      <td>1981_Graphic_Ringer_Tee_img_00000003</td>\n",
       "      <td>shirt</td>\n",
       "      <td>0</td>\n",
       "      <td>-1</td>\n",
       "      <td>-1</td>\n",
       "      <td>-1</td>\n",
       "      <td>-1</td>\n",
       "      <td>-1</td>\n",
       "      <td>-1</td>\n",
       "      <td>-1</td>\n",
       "      <td>...</td>\n",
       "      <td>-1</td>\n",
       "      <td>-1</td>\n",
       "      <td>-1</td>\n",
       "      <td>-1</td>\n",
       "      <td>-1</td>\n",
       "      <td>-1</td>\n",
       "      <td>-1</td>\n",
       "      <td>-1</td>\n",
       "      <td>-1</td>\n",
       "      <td>-1</td>\n",
       "    </tr>\n",
       "    <tr>\n",
       "      <th>3</th>\n",
       "      <td>1981_Graphic_Ringer_Tee_img_00000004</td>\n",
       "      <td>shirt</td>\n",
       "      <td>0</td>\n",
       "      <td>-1</td>\n",
       "      <td>-1</td>\n",
       "      <td>-1</td>\n",
       "      <td>-1</td>\n",
       "      <td>-1</td>\n",
       "      <td>-1</td>\n",
       "      <td>-1</td>\n",
       "      <td>...</td>\n",
       "      <td>-1</td>\n",
       "      <td>-1</td>\n",
       "      <td>-1</td>\n",
       "      <td>-1</td>\n",
       "      <td>-1</td>\n",
       "      <td>-1</td>\n",
       "      <td>-1</td>\n",
       "      <td>-1</td>\n",
       "      <td>-1</td>\n",
       "      <td>-1</td>\n",
       "    </tr>\n",
       "    <tr>\n",
       "      <th>4</th>\n",
       "      <td>1981_Graphic_Ringer_Tee_img_00000005</td>\n",
       "      <td>shirt</td>\n",
       "      <td>0</td>\n",
       "      <td>-1</td>\n",
       "      <td>-1</td>\n",
       "      <td>-1</td>\n",
       "      <td>-1</td>\n",
       "      <td>-1</td>\n",
       "      <td>-1</td>\n",
       "      <td>-1</td>\n",
       "      <td>...</td>\n",
       "      <td>-1</td>\n",
       "      <td>-1</td>\n",
       "      <td>-1</td>\n",
       "      <td>-1</td>\n",
       "      <td>-1</td>\n",
       "      <td>-1</td>\n",
       "      <td>-1</td>\n",
       "      <td>-1</td>\n",
       "      <td>-1</td>\n",
       "      <td>-1</td>\n",
       "    </tr>\n",
       "  </tbody>\n",
       "</table>\n",
       "<p>5 rows × 1003 columns</p>\n",
       "</div>"
      ],
      "text/plain": [
       "                             image_name category_name  category_label  \\\n",
       "0  1981_Graphic_Ringer_Tee_img_00000001         shirt               0   \n",
       "1  1981_Graphic_Ringer_Tee_img_00000002         shirt               0   \n",
       "2  1981_Graphic_Ringer_Tee_img_00000003         shirt               0   \n",
       "3  1981_Graphic_Ringer_Tee_img_00000004         shirt               0   \n",
       "4  1981_Graphic_Ringer_Tee_img_00000005         shirt               0   \n",
       "\n",
       "   a-line   abstract   abstract chevron   abstract chevron print   \\\n",
       "0       -1         -1                 -1                       -1   \n",
       "1       -1         -1                 -1                       -1   \n",
       "2       -1         -1                 -1                       -1   \n",
       "3       -1         -1                 -1                       -1   \n",
       "4       -1         -1                 -1                       -1   \n",
       "\n",
       "   abstract diamond   abstract floral   abstract floral print     ...      \\\n",
       "0                 -1                -1                      -1    ...       \n",
       "1                 -1                -1                      -1    ...       \n",
       "2                 -1                -1                      -1    ...       \n",
       "3                 -1                -1                      -1    ...       \n",
       "4                 -1                -1                      -1    ...       \n",
       "\n",
       "   zeppelin   zig   zigzag   zip   zip-front   zip-pocket   zip-up   zipped   \\\n",
       "0         -1    -1       -1    -1          -1           -1       -1       -1   \n",
       "1         -1    -1       -1    -1          -1           -1       -1       -1   \n",
       "2         -1    -1       -1    -1          -1           -1       -1       -1   \n",
       "3         -1    -1       -1    -1          -1           -1       -1       -1   \n",
       "4         -1    -1       -1    -1          -1           -1       -1       -1   \n",
       "\n",
       "   zipper   zippered   \n",
       "0       -1         -1  \n",
       "1       -1         -1  \n",
       "2       -1         -1  \n",
       "3       -1         -1  \n",
       "4       -1         -1  \n",
       "\n",
       "[5 rows x 1003 columns]"
      ]
     },
     "execution_count": 90,
     "metadata": {},
     "output_type": "execute_result"
    }
   ],
   "source": [
    "df_attr_category_combined.head() "
   ]
  },
  {
   "cell_type": "code",
   "execution_count": 91,
   "metadata": {},
   "outputs": [],
   "source": [
    "lst_dotted = ['dotted ', 'dot ', 'dots ', 'polka dot ']\n",
    "mergeMultipleColumns(lst_dotted, 'dotted')"
   ]
  },
  {
   "cell_type": "code",
   "execution_count": 92,
   "metadata": {},
   "outputs": [],
   "source": [
    "lst_floral = ['floral ', 'abstract floral ', 'abstract floral print ', 'belted floral ', 'belted floral print ', 'chiffon floral ', 'ditsy floral ', 'ditsy floral print '\n",
    "             , 'floral flutter ', 'floral knit ', 'floral maxi ', 'floral midi ', 'floral mini ', 'floral paisley ', \n",
    "             'floral pattern ', 'floral peasant ', 'floral pleated ', 'floral print ', 'floral print skater ', 'floral print strapless '\n",
    "             , 'floral print surplice ','floral shift ', 'floral skater ', 'floral surplice ', 'floral textured ', 'flower '\n",
    "             , 'sunflower ', 'wildflower ']\n",
    "mergeMultipleColumns(lst_floral, 'floral')"
   ]
  },
  {
   "cell_type": "code",
   "execution_count": 93,
   "metadata": {},
   "outputs": [
    {
     "data": {
      "text/html": [
       "<div>\n",
       "<style scoped>\n",
       "    .dataframe tbody tr th:only-of-type {\n",
       "        vertical-align: middle;\n",
       "    }\n",
       "\n",
       "    .dataframe tbody tr th {\n",
       "        vertical-align: top;\n",
       "    }\n",
       "\n",
       "    .dataframe thead th {\n",
       "        text-align: right;\n",
       "    }\n",
       "</style>\n",
       "<table border=\"1\" class=\"dataframe\">\n",
       "  <thead>\n",
       "    <tr style=\"text-align: right;\">\n",
       "      <th></th>\n",
       "      <th>image_name</th>\n",
       "      <th>category_name</th>\n",
       "      <th>category_label</th>\n",
       "      <th>a-line</th>\n",
       "      <th>abstract</th>\n",
       "      <th>abstract chevron</th>\n",
       "      <th>abstract chevron print</th>\n",
       "      <th>abstract diamond</th>\n",
       "      <th>abstract floral</th>\n",
       "      <th>abstract floral print</th>\n",
       "      <th>...</th>\n",
       "      <th>zeppelin</th>\n",
       "      <th>zig</th>\n",
       "      <th>zigzag</th>\n",
       "      <th>zip</th>\n",
       "      <th>zip-front</th>\n",
       "      <th>zip-pocket</th>\n",
       "      <th>zip-up</th>\n",
       "      <th>zipped</th>\n",
       "      <th>zipper</th>\n",
       "      <th>zippered</th>\n",
       "    </tr>\n",
       "  </thead>\n",
       "  <tbody>\n",
       "    <tr>\n",
       "      <th>0</th>\n",
       "      <td>1981_Graphic_Ringer_Tee_img_00000001</td>\n",
       "      <td>shirt</td>\n",
       "      <td>0</td>\n",
       "      <td>-1</td>\n",
       "      <td>-1</td>\n",
       "      <td>-1</td>\n",
       "      <td>-1</td>\n",
       "      <td>-1</td>\n",
       "      <td>-1</td>\n",
       "      <td>-1</td>\n",
       "      <td>...</td>\n",
       "      <td>-1</td>\n",
       "      <td>-1</td>\n",
       "      <td>-1</td>\n",
       "      <td>-1</td>\n",
       "      <td>-1</td>\n",
       "      <td>-1</td>\n",
       "      <td>-1</td>\n",
       "      <td>-1</td>\n",
       "      <td>-1</td>\n",
       "      <td>-1</td>\n",
       "    </tr>\n",
       "    <tr>\n",
       "      <th>1</th>\n",
       "      <td>1981_Graphic_Ringer_Tee_img_00000002</td>\n",
       "      <td>shirt</td>\n",
       "      <td>0</td>\n",
       "      <td>-1</td>\n",
       "      <td>-1</td>\n",
       "      <td>-1</td>\n",
       "      <td>-1</td>\n",
       "      <td>-1</td>\n",
       "      <td>-1</td>\n",
       "      <td>-1</td>\n",
       "      <td>...</td>\n",
       "      <td>-1</td>\n",
       "      <td>-1</td>\n",
       "      <td>-1</td>\n",
       "      <td>-1</td>\n",
       "      <td>-1</td>\n",
       "      <td>-1</td>\n",
       "      <td>-1</td>\n",
       "      <td>-1</td>\n",
       "      <td>-1</td>\n",
       "      <td>-1</td>\n",
       "    </tr>\n",
       "    <tr>\n",
       "      <th>2</th>\n",
       "      <td>1981_Graphic_Ringer_Tee_img_00000003</td>\n",
       "      <td>shirt</td>\n",
       "      <td>0</td>\n",
       "      <td>-1</td>\n",
       "      <td>-1</td>\n",
       "      <td>-1</td>\n",
       "      <td>-1</td>\n",
       "      <td>-1</td>\n",
       "      <td>-1</td>\n",
       "      <td>-1</td>\n",
       "      <td>...</td>\n",
       "      <td>-1</td>\n",
       "      <td>-1</td>\n",
       "      <td>-1</td>\n",
       "      <td>-1</td>\n",
       "      <td>-1</td>\n",
       "      <td>-1</td>\n",
       "      <td>-1</td>\n",
       "      <td>-1</td>\n",
       "      <td>-1</td>\n",
       "      <td>-1</td>\n",
       "    </tr>\n",
       "    <tr>\n",
       "      <th>3</th>\n",
       "      <td>1981_Graphic_Ringer_Tee_img_00000004</td>\n",
       "      <td>shirt</td>\n",
       "      <td>0</td>\n",
       "      <td>-1</td>\n",
       "      <td>-1</td>\n",
       "      <td>-1</td>\n",
       "      <td>-1</td>\n",
       "      <td>-1</td>\n",
       "      <td>-1</td>\n",
       "      <td>-1</td>\n",
       "      <td>...</td>\n",
       "      <td>-1</td>\n",
       "      <td>-1</td>\n",
       "      <td>-1</td>\n",
       "      <td>-1</td>\n",
       "      <td>-1</td>\n",
       "      <td>-1</td>\n",
       "      <td>-1</td>\n",
       "      <td>-1</td>\n",
       "      <td>-1</td>\n",
       "      <td>-1</td>\n",
       "    </tr>\n",
       "    <tr>\n",
       "      <th>4</th>\n",
       "      <td>1981_Graphic_Ringer_Tee_img_00000005</td>\n",
       "      <td>shirt</td>\n",
       "      <td>0</td>\n",
       "      <td>-1</td>\n",
       "      <td>-1</td>\n",
       "      <td>-1</td>\n",
       "      <td>-1</td>\n",
       "      <td>-1</td>\n",
       "      <td>-1</td>\n",
       "      <td>-1</td>\n",
       "      <td>...</td>\n",
       "      <td>-1</td>\n",
       "      <td>-1</td>\n",
       "      <td>-1</td>\n",
       "      <td>-1</td>\n",
       "      <td>-1</td>\n",
       "      <td>-1</td>\n",
       "      <td>-1</td>\n",
       "      <td>-1</td>\n",
       "      <td>-1</td>\n",
       "      <td>-1</td>\n",
       "    </tr>\n",
       "  </tbody>\n",
       "</table>\n",
       "<p>5 rows × 1003 columns</p>\n",
       "</div>"
      ],
      "text/plain": [
       "                             image_name category_name  category_label  \\\n",
       "0  1981_Graphic_Ringer_Tee_img_00000001         shirt               0   \n",
       "1  1981_Graphic_Ringer_Tee_img_00000002         shirt               0   \n",
       "2  1981_Graphic_Ringer_Tee_img_00000003         shirt               0   \n",
       "3  1981_Graphic_Ringer_Tee_img_00000004         shirt               0   \n",
       "4  1981_Graphic_Ringer_Tee_img_00000005         shirt               0   \n",
       "\n",
       "   a-line   abstract   abstract chevron   abstract chevron print   \\\n",
       "0       -1         -1                 -1                       -1   \n",
       "1       -1         -1                 -1                       -1   \n",
       "2       -1         -1                 -1                       -1   \n",
       "3       -1         -1                 -1                       -1   \n",
       "4       -1         -1                 -1                       -1   \n",
       "\n",
       "   abstract diamond   abstract floral   abstract floral print     ...      \\\n",
       "0                 -1                -1                      -1    ...       \n",
       "1                 -1                -1                      -1    ...       \n",
       "2                 -1                -1                      -1    ...       \n",
       "3                 -1                -1                      -1    ...       \n",
       "4                 -1                -1                      -1    ...       \n",
       "\n",
       "   zeppelin   zig   zigzag   zip   zip-front   zip-pocket   zip-up   zipped   \\\n",
       "0         -1    -1       -1    -1          -1           -1       -1       -1   \n",
       "1         -1    -1       -1    -1          -1           -1       -1       -1   \n",
       "2         -1    -1       -1    -1          -1           -1       -1       -1   \n",
       "3         -1    -1       -1    -1          -1           -1       -1       -1   \n",
       "4         -1    -1       -1    -1          -1           -1       -1       -1   \n",
       "\n",
       "   zipper   zippered   \n",
       "0       -1         -1  \n",
       "1       -1         -1  \n",
       "2       -1         -1  \n",
       "3       -1         -1  \n",
       "4       -1         -1  \n",
       "\n",
       "[5 rows x 1003 columns]"
      ]
     },
     "execution_count": 93,
     "metadata": {},
     "output_type": "execute_result"
    }
   ],
   "source": [
    "df_attr_category_combined.head()"
   ]
  },
  {
   "cell_type": "code",
   "execution_count": 94,
   "metadata": {},
   "outputs": [],
   "source": [
    "lst_striped = ['stripe ', 'abstract stripe ', 'back striped ', 'boxy striped ', 'breton stripe ', 'classic striped ', 'heathered stripe ', 'knit stripe ',  'knit striped '\n",
    "              , 'marled stripe ','mixed stripe ', 'multi-stripe ', 'nautical stripe ', 'nautical striped ', 'neck striped ', 'ribbed stripe ', 'rugby stripe ', 'rugby striped '\n",
    "              , 'striped ','striped trapeze ', 'striped v-neck ', 'stripes ' ]\n",
    "mergeMultipleColumns(lst_striped, 'striped')"
   ]
  },
  {
   "cell_type": "code",
   "execution_count": 95,
   "metadata": {},
   "outputs": [
    {
     "data": {
      "text/html": [
       "<div>\n",
       "<style scoped>\n",
       "    .dataframe tbody tr th:only-of-type {\n",
       "        vertical-align: middle;\n",
       "    }\n",
       "\n",
       "    .dataframe tbody tr th {\n",
       "        vertical-align: top;\n",
       "    }\n",
       "\n",
       "    .dataframe thead th {\n",
       "        text-align: right;\n",
       "    }\n",
       "</style>\n",
       "<table border=\"1\" class=\"dataframe\">\n",
       "  <thead>\n",
       "    <tr style=\"text-align: right;\">\n",
       "      <th></th>\n",
       "      <th>image_name</th>\n",
       "      <th>category_name</th>\n",
       "      <th>category_label</th>\n",
       "      <th>striped</th>\n",
       "      <th>floral</th>\n",
       "      <th>dotted</th>\n",
       "      <th>checker</th>\n",
       "      <th>summer</th>\n",
       "      <th>no sleeves</th>\n",
       "      <th>long sleeves</th>\n",
       "    </tr>\n",
       "  </thead>\n",
       "  <tbody>\n",
       "    <tr>\n",
       "      <th>0</th>\n",
       "      <td>1981_Graphic_Ringer_Tee_img_00000001</td>\n",
       "      <td>shirt</td>\n",
       "      <td>0</td>\n",
       "      <td>-1</td>\n",
       "      <td>-1</td>\n",
       "      <td>-1</td>\n",
       "      <td>-1</td>\n",
       "      <td>-1</td>\n",
       "      <td>-1</td>\n",
       "      <td>-1</td>\n",
       "    </tr>\n",
       "    <tr>\n",
       "      <th>1</th>\n",
       "      <td>1981_Graphic_Ringer_Tee_img_00000002</td>\n",
       "      <td>shirt</td>\n",
       "      <td>0</td>\n",
       "      <td>-1</td>\n",
       "      <td>1</td>\n",
       "      <td>-1</td>\n",
       "      <td>-1</td>\n",
       "      <td>-1</td>\n",
       "      <td>-1</td>\n",
       "      <td>-1</td>\n",
       "    </tr>\n",
       "    <tr>\n",
       "      <th>2</th>\n",
       "      <td>1981_Graphic_Ringer_Tee_img_00000003</td>\n",
       "      <td>shirt</td>\n",
       "      <td>0</td>\n",
       "      <td>1</td>\n",
       "      <td>-1</td>\n",
       "      <td>-1</td>\n",
       "      <td>-1</td>\n",
       "      <td>-1</td>\n",
       "      <td>-1</td>\n",
       "      <td>-1</td>\n",
       "    </tr>\n",
       "    <tr>\n",
       "      <th>3</th>\n",
       "      <td>1981_Graphic_Ringer_Tee_img_00000004</td>\n",
       "      <td>shirt</td>\n",
       "      <td>0</td>\n",
       "      <td>-1</td>\n",
       "      <td>-1</td>\n",
       "      <td>-1</td>\n",
       "      <td>-1</td>\n",
       "      <td>-1</td>\n",
       "      <td>-1</td>\n",
       "      <td>-1</td>\n",
       "    </tr>\n",
       "    <tr>\n",
       "      <th>4</th>\n",
       "      <td>1981_Graphic_Ringer_Tee_img_00000005</td>\n",
       "      <td>shirt</td>\n",
       "      <td>0</td>\n",
       "      <td>-1</td>\n",
       "      <td>1</td>\n",
       "      <td>-1</td>\n",
       "      <td>-1</td>\n",
       "      <td>-1</td>\n",
       "      <td>-1</td>\n",
       "      <td>-1</td>\n",
       "    </tr>\n",
       "  </tbody>\n",
       "</table>\n",
       "</div>"
      ],
      "text/plain": [
       "                             image_name category_name  category_label  \\\n",
       "0  1981_Graphic_Ringer_Tee_img_00000001         shirt               0   \n",
       "1  1981_Graphic_Ringer_Tee_img_00000002         shirt               0   \n",
       "2  1981_Graphic_Ringer_Tee_img_00000003         shirt               0   \n",
       "3  1981_Graphic_Ringer_Tee_img_00000004         shirt               0   \n",
       "4  1981_Graphic_Ringer_Tee_img_00000005         shirt               0   \n",
       "\n",
       "   striped  floral  dotted  checker  summer  no sleeves  long sleeves  \n",
       "0       -1      -1      -1       -1      -1          -1            -1  \n",
       "1       -1       1      -1       -1      -1          -1            -1  \n",
       "2        1      -1      -1       -1      -1          -1            -1  \n",
       "3       -1      -1      -1       -1      -1          -1            -1  \n",
       "4       -1       1      -1       -1      -1          -1            -1  "
      ]
     },
     "execution_count": 95,
     "metadata": {},
     "output_type": "execute_result"
    }
   ],
   "source": [
    "df_final.head()"
   ]
  },
  {
   "cell_type": "code",
   "execution_count": null,
   "metadata": {},
   "outputs": [],
   "source": [
    "df_attr_category_combined = df_attr_category_combined.drop(lst_long_sleeves + lst_checker+ lst_dotted + lst_floral + lst_striped +['sleeveless ', 'summer ' ], axis= 1)"
   ]
  },
  {
   "cell_type": "code",
   "execution_count": 110,
   "metadata": {},
   "outputs": [],
   "source": [
    "df_attr_category_combined = pd.merge(df_attr_category_combined, df_final)"
   ]
  },
  {
   "cell_type": "code",
   "execution_count": 162,
   "metadata": {},
   "outputs": [],
   "source": [
    "#final.csv\n",
    "file_name = \"final.csv\"\n",
    "df_final.to_csv(\"./Anno/changed/etri/\"+file_name, index=None)"
   ]
  },
  {
   "cell_type": "code",
   "execution_count": null,
   "metadata": {},
   "outputs": [],
   "source": [
    "#dropped_attr_category_combined.csv\n",
    "file_name = \"dropped_attr_category_combined.csv\"\n",
    "df_attr_category_combined.to_csv(\"./Anno/changed/etri/\"+file_name, index=None)"
   ]
  },
  {
   "cell_type": "code",
   "execution_count": null,
   "metadata": {},
   "outputs": [],
   "source": []
  },
  {
   "cell_type": "code",
   "execution_count": null,
   "metadata": {},
   "outputs": [],
   "source": []
  },
  {
   "cell_type": "code",
   "execution_count": null,
   "metadata": {},
   "outputs": [],
   "source": []
  }
 ],
 "metadata": {
  "kernelspec": {
   "display_name": "Python 3",
   "language": "python",
   "name": "python3"
  },
  "language_info": {
   "codemirror_mode": {
    "name": "ipython",
    "version": 3
   },
   "file_extension": ".py",
   "mimetype": "text/x-python",
   "name": "python",
   "nbconvert_exporter": "python",
   "pygments_lexer": "ipython3",
   "version": "3.7.1"
  }
 },
 "nbformat": 4,
 "nbformat_minor": 2
}
