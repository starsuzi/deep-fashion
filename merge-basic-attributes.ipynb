{
 "cells": [
  {
   "cell_type": "code",
   "execution_count": 2,
   "metadata": {},
   "outputs": [],
   "source": [
    "import numpy as np\n",
    "import pandas as pd\n",
    "import csv\n",
    "import matplotlib.pyplot as plt\n",
    "import matplotlib.image as mpimg\n",
    "import random"
   ]
  },
  {
   "cell_type": "code",
   "execution_count": 5,
   "metadata": {},
   "outputs": [],
   "source": [
    "df_attr_combined = pd.read_csv('./Anno/changed/etri/attr_combined.csv')"
   ]
  },
  {
   "cell_type": "code",
   "execution_count": 17,
   "metadata": {},
   "outputs": [],
   "source": [
    "df_attr_category_combined = pd.read_csv('./Anno/changed/etri/attr_category_combined.csv')"
   ]
  },
  {
   "cell_type": "code",
   "execution_count": 7,
   "metadata": {},
   "outputs": [],
   "source": [
    "def plotRandomImage(attribute, img_num):\n",
    "    print(attribute+'attribute')\n",
    "    img_files = []\n",
    "    dict_imgs = dict(zip(df_attr_category_combined.loc[df_attr_category_combined[attribute] == 1]['image_name'], df_attr_category_combined.loc[df_attr_category_combined[attribute] == 1]['category_name']))\n",
    "    print(str(len(dict_imgs))+' images')\n",
    "    lst_rand_imgs = random.sample(list(dict_imgs.items()), img_num)\n",
    "    \n",
    "    for tuple_img in lst_rand_imgs:\n",
    "        img=mpimg.imread('./'+tuple_img[1]+'/'+tuple_img[0]+'.jpg')\n",
    "        img_files.append(img)\n",
    "    \n",
    "    col_num = 4\n",
    "    row_num = ((img_num // col_num)+1) if (img_num % col_num) != 0 else (img_num // col_num)\n",
    "    \n",
    "    fig, axes = plt.subplots(nrows=row_num, ncols=col_num, figsize=(20,20))\n",
    "    \n",
    "    for idx, img_file in enumerate(img_files):\n",
    "        row = idx // col_num\n",
    "        col = idx % col_num\n",
    "        \n",
    "        axes[row, col].axis(\"off\")\n",
    "        axes[row, col].imshow(img_file, cmap=\"gray\", aspect=\"auto\")\n",
    "\n",
    "    plt.subplots_adjust(wspace=.05, hspace=.05)\n",
    "\n",
    "    plt.show()"
   ]
  },
  {
   "cell_type": "markdown",
   "metadata": {},
   "source": [
    "## Check if the given attribute is in column or not\n",
    "### basically given attributes"
   ]
  },
  {
   "cell_type": "code",
   "execution_count": 8,
   "metadata": {},
   "outputs": [],
   "source": [
    "def isAttribute(lst_attribute):\n",
    "    for col in lst_attribute:\n",
    "        try:\n",
    "            df_attr_combined[col]\n",
    "            print(\"'\"+col+\"' exists\")\n",
    "        except :\n",
    "            print(\"'\"+col+\"' doesn't exist\")\n",
    "            pass"
   ]
  },
  {
   "cell_type": "code",
   "execution_count": 9,
   "metadata": {},
   "outputs": [],
   "source": [
    "lst_color = ['white ', 'black ', 'gray ', 'pink ', 'red ', 'green ', 'blue ', 'brown ', 'navy ', 'beige ', 'yellow ', 'purple ', 'orange ']\n",
    "lst_gender = ['man ', 'woman ']\n",
    "lst_sleeves = ['short sleeves ', 'long sleeves ', 'no sleeves ', 'short ', 'long ']\n",
    "lst_season = ['spring ', 'summer ', 'autumn ', 'winter ']\n",
    "lst_pattern = ['single ', 'checker ', 'dotted ', 'floral ', 'striped ']"
   ]
  },
  {
   "cell_type": "code",
   "execution_count": 6,
   "metadata": {},
   "outputs": [
    {
     "name": "stdout",
     "output_type": "stream",
     "text": [
      "'white ' doesn't exist\n",
      "'black ' doesn't exist\n",
      "'gray ' doesn't exist\n",
      "'pink ' doesn't exist\n",
      "'red ' doesn't exist\n",
      "'green ' doesn't exist\n",
      "'blue ' doesn't exist\n",
      "'brown ' doesn't exist\n",
      "'navy ' doesn't exist\n",
      "'beige ' doesn't exist\n",
      "'yellow ' doesn't exist\n",
      "'purple ' doesn't exist\n",
      "'orange ' doesn't exist\n"
     ]
    }
   ],
   "source": [
    "isAttribute(lst_color)"
   ]
  },
  {
   "cell_type": "code",
   "execution_count": 7,
   "metadata": {},
   "outputs": [
    {
     "name": "stdout",
     "output_type": "stream",
     "text": [
      "'man ' doesn't exist\n",
      "'woman ' doesn't exist\n"
     ]
    }
   ],
   "source": [
    "isAttribute(lst_gender)"
   ]
  },
  {
   "cell_type": "code",
   "execution_count": 8,
   "metadata": {},
   "outputs": [
    {
     "name": "stdout",
     "output_type": "stream",
     "text": [
      "'short sleeves ' doesn't exist\n",
      "'long sleeves ' doesn't exist\n",
      "'no sleeves ' doesn't exist\n",
      "'short ' doesn't exist\n",
      "'long ' doesn't exist\n"
     ]
    }
   ],
   "source": [
    "isAttribute(lst_sleeves)"
   ]
  },
  {
   "cell_type": "code",
   "execution_count": 9,
   "metadata": {},
   "outputs": [
    {
     "name": "stdout",
     "output_type": "stream",
     "text": [
      "'spring ' doesn't exist\n",
      "'summer ' doesn't exist\n",
      "'autumn ' doesn't exist\n",
      "'winter ' doesn't exist\n"
     ]
    }
   ],
   "source": [
    "isAttribute(lst_season)"
   ]
  },
  {
   "cell_type": "code",
   "execution_count": 10,
   "metadata": {},
   "outputs": [
    {
     "name": "stdout",
     "output_type": "stream",
     "text": [
      "'single ' doesn't exist\n",
      "'checker ' doesn't exist\n",
      "'dotted ' doesn't exist\n",
      "'floral ' doesn't exist\n",
      "'striped ' doesn't exist\n"
     ]
    }
   ],
   "source": [
    "isAttribute(lst_pattern)"
   ]
  },
  {
   "cell_type": "code",
   "execution_count": 10,
   "metadata": {},
   "outputs": [],
   "source": [
    "def plotRandomImage(attribute, img_num):\n",
    "    print(attribute+'attribute')\n",
    "    img_files = []\n",
    "    dict_imgs = dict(zip(df_attr_category_combined.loc[df_attr_category_combined[attribute] == 1]['image_name'], df_attr_category_combined.loc[df_attr_category_combined[attribute] == 1]['category_name']))\n",
    "    print(str(len(dict_imgs))+' images')\n",
    "    lst_rand_imgs = random.sample(list(dict_imgs.items()), img_num)\n",
    "    \n",
    "    for tuple_img in lst_rand_imgs:\n",
    "        img=mpimg.imread('./'+tuple_img[1]+'/'+tuple_img[0]+'.jpg')\n",
    "        img_files.append(img)\n",
    "    \n",
    "    col_num = 4\n",
    "    row_num = ((img_num // col_num)+1) if (img_num % col_num) != 0 else (img_num // col_num)\n",
    "    \n",
    "    fig, axes = plt.subplots(nrows=row_num, ncols=col_num, figsize=(20,20))\n",
    "    \n",
    "    for idx, img_file in enumerate(img_files):\n",
    "        row = idx // col_num\n",
    "        col = idx % col_num\n",
    "        \n",
    "        axes[row, col].axis(\"off\")\n",
    "        axes[row, col].imshow(img_file, cmap=\"gray\", aspect=\"auto\")\n",
    "\n",
    "    plt.subplots_adjust(wspace=.05, hspace=.05)\n",
    "\n",
    "    plt.show()"
   ]
  },
  {
   "cell_type": "markdown",
   "metadata": {},
   "source": [
    "## Check similar columns' images"
   ]
  },
  {
   "cell_type": "markdown",
   "metadata": {},
   "source": [
    "### - sleeve"
   ]
  },
  {
   "cell_type": "code",
   "execution_count": 11,
   "metadata": {},
   "outputs": [
    {
     "data": {
      "text/plain": [
       "['bell-sleeve ',\n",
       " 'cap-sleeve ',\n",
       " 'cuffed-sleeve ',\n",
       " 'dolman sleeve ',\n",
       " 'dolman-sleeve ',\n",
       " 'drop-sleeve ',\n",
       " 'flutter sleeve ',\n",
       " 'flutter-sleeve ',\n",
       " 'lace sleeve ',\n",
       " 'long sleeve ',\n",
       " 'long-sleeve ',\n",
       " 'long-sleeved ',\n",
       " 'raglan sleeve ',\n",
       " 'sleeve ',\n",
       " 'sleeveless ']"
      ]
     },
     "execution_count": 11,
     "metadata": {},
     "output_type": "execute_result"
    }
   ],
   "source": [
    "[col for col in df_attr_combined if 'sleeve' in col]"
   ]
  },
  {
   "cell_type": "markdown",
   "metadata": {},
   "source": [
    "+ short sleeves"
   ]
  },
  {
   "cell_type": "markdown",
   "metadata": {},
   "source": [
    "+ long sleeves"
   ]
  },
  {
   "cell_type": "code",
   "execution_count": null,
   "metadata": {},
   "outputs": [],
   "source": [
    "plotRandomImage('long sleeve ', 28)"
   ]
  },
  {
   "cell_type": "code",
   "execution_count": null,
   "metadata": {},
   "outputs": [],
   "source": [
    "plotRandomImage('long-sleeve ', 28)"
   ]
  },
  {
   "cell_type": "code",
   "execution_count": null,
   "metadata": {},
   "outputs": [],
   "source": [
    "plotRandomImage('long-sleeved ', 28)"
   ]
  },
  {
   "cell_type": "markdown",
   "metadata": {},
   "source": [
    "+ no sleeves"
   ]
  },
  {
   "cell_type": "code",
   "execution_count": null,
   "metadata": {},
   "outputs": [],
   "source": [
    "plotRandomImage('sleeveless ', 28)"
   ]
  },
  {
   "cell_type": "markdown",
   "metadata": {},
   "source": [
    "### - season"
   ]
  },
  {
   "cell_type": "markdown",
   "metadata": {},
   "source": [
    "+ spring"
   ]
  },
  {
   "cell_type": "markdown",
   "metadata": {},
   "source": [
    "+ summer"
   ]
  },
  {
   "cell_type": "markdown",
   "metadata": {},
   "source": [
    "+ autumn"
   ]
  },
  {
   "cell_type": "markdown",
   "metadata": {},
   "source": [
    "+ winter"
   ]
  },
  {
   "cell_type": "markdown",
   "metadata": {},
   "source": [
    "### - pattern"
   ]
  },
  {
   "cell_type": "code",
   "execution_count": null,
   "metadata": {},
   "outputs": [],
   "source": [
    "plotRandomImage('pattern ', 28)"
   ]
  },
  {
   "cell_type": "markdown",
   "metadata": {},
   "source": [
    "+ single"
   ]
  },
  {
   "cell_type": "markdown",
   "metadata": {},
   "source": [
    "+ checker"
   ]
  },
  {
   "cell_type": "code",
   "execution_count": null,
   "metadata": {},
   "outputs": [],
   "source": [
    "[col for col in df_attr_combined if 'check' in col]"
   ]
  },
  {
   "cell_type": "code",
   "execution_count": null,
   "metadata": {},
   "outputs": [],
   "source": [
    "plotRandomImage('checked ', 28)"
   ]
  },
  {
   "cell_type": "code",
   "execution_count": null,
   "metadata": {},
   "outputs": [],
   "source": [
    "plotRandomImage('checkered ', 28)"
   ]
  },
  {
   "cell_type": "markdown",
   "metadata": {},
   "source": [
    "+ dotted"
   ]
  },
  {
   "cell_type": "code",
   "execution_count": null,
   "metadata": {},
   "outputs": [],
   "source": [
    "[col for col in df_attr_combined if 'dot' in col]"
   ]
  },
  {
   "cell_type": "code",
   "execution_count": null,
   "metadata": {},
   "outputs": [],
   "source": [
    "plotRandomImage('dotted ', 28)"
   ]
  },
  {
   "cell_type": "code",
   "execution_count": null,
   "metadata": {},
   "outputs": [],
   "source": [
    "plotRandomImage('dot ', 28)"
   ]
  },
  {
   "cell_type": "code",
   "execution_count": null,
   "metadata": {},
   "outputs": [],
   "source": [
    "plotRandomImage('dots ', 28)"
   ]
  },
  {
   "cell_type": "code",
   "execution_count": null,
   "metadata": {},
   "outputs": [],
   "source": [
    "plotRandomImage('polka dot ', 28)"
   ]
  },
  {
   "cell_type": "markdown",
   "metadata": {},
   "source": [
    "+ floral"
   ]
  },
  {
   "cell_type": "code",
   "execution_count": null,
   "metadata": {},
   "outputs": [],
   "source": [
    "plotRandomImage('floral ', 28) "
   ]
  },
  {
   "cell_type": "code",
   "execution_count": null,
   "metadata": {},
   "outputs": [],
   "source": [
    "[col for col in df_attr_combined if 'flo' in col]"
   ]
  },
  {
   "cell_type": "code",
   "execution_count": null,
   "metadata": {},
   "outputs": [],
   "source": [
    "plotRandomImage('abstract floral ', 28)"
   ]
  },
  {
   "cell_type": "code",
   "execution_count": null,
   "metadata": {},
   "outputs": [],
   "source": [
    "plotRandomImage('abstract floral print ', 28)"
   ]
  },
  {
   "cell_type": "code",
   "execution_count": null,
   "metadata": {},
   "outputs": [],
   "source": [
    "plotRandomImage('belted floral ', 28)"
   ]
  },
  {
   "cell_type": "code",
   "execution_count": null,
   "metadata": {},
   "outputs": [],
   "source": [
    "plotRandomImage('belted floral print ', 28)"
   ]
  },
  {
   "cell_type": "code",
   "execution_count": null,
   "metadata": {},
   "outputs": [],
   "source": [
    "plotRandomImage('chiffon floral ', 28)"
   ]
  },
  {
   "cell_type": "code",
   "execution_count": null,
   "metadata": {},
   "outputs": [],
   "source": [
    "plotRandomImage('crochet floral ', 28) #not"
   ]
  },
  {
   "cell_type": "code",
   "execution_count": null,
   "metadata": {},
   "outputs": [],
   "source": [
    "plotRandomImage('ditsy floral ', 28)"
   ]
  },
  {
   "cell_type": "code",
   "execution_count": null,
   "metadata": {},
   "outputs": [],
   "source": [
    "plotRandomImage('ditsy floral print ', 28)"
   ]
  },
  {
   "cell_type": "code",
   "execution_count": null,
   "metadata": {},
   "outputs": [],
   "source": [
    "plotRandomImage('embroidered floral ', 28) #not"
   ]
  },
  {
   "cell_type": "code",
   "execution_count": null,
   "metadata": {},
   "outputs": [],
   "source": [
    "plotRandomImage('floral flutter ', 28) "
   ]
  },
  {
   "cell_type": "code",
   "execution_count": null,
   "metadata": {},
   "outputs": [],
   "source": [
    "plotRandomImage('floral knit ', 28) "
   ]
  },
  {
   "cell_type": "code",
   "execution_count": null,
   "metadata": {},
   "outputs": [],
   "source": [
    "plotRandomImage('floral lace ', 28) #not"
   ]
  },
  {
   "cell_type": "code",
   "execution_count": null,
   "metadata": {},
   "outputs": [],
   "source": [
    "plotRandomImage('floral lace mini ', 17) #not"
   ]
  },
  {
   "cell_type": "code",
   "execution_count": null,
   "metadata": {},
   "outputs": [],
   "source": [
    "plotRandomImage('floral lace sheath ', 28) #not"
   ]
  },
  {
   "cell_type": "code",
   "execution_count": null,
   "metadata": {},
   "outputs": [],
   "source": [
    "plotRandomImage('floral lace skater ', 13) #not"
   ]
  },
  {
   "cell_type": "code",
   "execution_count": null,
   "metadata": {},
   "outputs": [],
   "source": [
    "plotRandomImage('floral maxi ', 28) "
   ]
  },
  {
   "cell_type": "code",
   "execution_count": null,
   "metadata": {},
   "outputs": [],
   "source": [
    "plotRandomImage('floral mesh ', 28) #not"
   ]
  },
  {
   "cell_type": "code",
   "execution_count": null,
   "metadata": {},
   "outputs": [],
   "source": [
    "plotRandomImage('floral midi ', 28) "
   ]
  },
  {
   "cell_type": "code",
   "execution_count": null,
   "metadata": {},
   "outputs": [],
   "source": [
    "plotRandomImage('floral mini ', 28) "
   ]
  },
  {
   "cell_type": "code",
   "execution_count": null,
   "metadata": {},
   "outputs": [],
   "source": [
    "plotRandomImage('floral paisley ', 28) "
   ]
  },
  {
   "cell_type": "code",
   "execution_count": null,
   "metadata": {},
   "outputs": [],
   "source": [
    "plotRandomImage('floral pattern ', 28) "
   ]
  },
  {
   "cell_type": "code",
   "execution_count": null,
   "metadata": {},
   "outputs": [],
   "source": [
    "plotRandomImage('floral peasant ', 28) "
   ]
  },
  {
   "cell_type": "code",
   "execution_count": null,
   "metadata": {},
   "outputs": [],
   "source": [
    "plotRandomImage('floral pleated ', 28) "
   ]
  },
  {
   "cell_type": "code",
   "execution_count": null,
   "metadata": {},
   "outputs": [],
   "source": [
    "plotRandomImage('floral print ', 28)"
   ]
  },
  {
   "cell_type": "code",
   "execution_count": null,
   "metadata": {},
   "outputs": [],
   "source": [
    "plotRandomImage('floral print skater ', 28) "
   ]
  },
  {
   "cell_type": "code",
   "execution_count": null,
   "metadata": {},
   "outputs": [],
   "source": [
    "plotRandomImage('floral print strapless ', 28) "
   ]
  },
  {
   "cell_type": "code",
   "execution_count": null,
   "metadata": {},
   "outputs": [],
   "source": [
    "plotRandomImage('floral print surplice ', 28) "
   ]
  },
  {
   "cell_type": "code",
   "execution_count": null,
   "metadata": {},
   "outputs": [],
   "source": [
    "plotRandomImage('floral shift ', 28) "
   ]
  },
  {
   "cell_type": "code",
   "execution_count": null,
   "metadata": {},
   "outputs": [],
   "source": [
    "plotRandomImage('floral skater ', 28) "
   ]
  },
  {
   "cell_type": "code",
   "execution_count": null,
   "metadata": {},
   "outputs": [],
   "source": [
    "plotRandomImage('floral surplice ', 28) "
   ]
  },
  {
   "cell_type": "code",
   "execution_count": null,
   "metadata": {},
   "outputs": [],
   "source": [
    "plotRandomImage('floral textured ', 28) "
   ]
  },
  {
   "cell_type": "code",
   "execution_count": null,
   "metadata": {},
   "outputs": [],
   "source": [
    "plotRandomImage('floral-embroidered ', 28) #not"
   ]
  },
  {
   "cell_type": "code",
   "execution_count": null,
   "metadata": {},
   "outputs": [],
   "source": [
    "plotRandomImage('flower ', 28) "
   ]
  },
  {
   "cell_type": "code",
   "execution_count": null,
   "metadata": {},
   "outputs": [],
   "source": [
    "plotRandomImage('sunflower ', 28) "
   ]
  },
  {
   "cell_type": "code",
   "execution_count": null,
   "metadata": {},
   "outputs": [],
   "source": [
    "plotRandomImage('wildflower ', 28) "
   ]
  },
  {
   "cell_type": "markdown",
   "metadata": {},
   "source": [
    "+ striped"
   ]
  },
  {
   "cell_type": "code",
   "execution_count": null,
   "metadata": {},
   "outputs": [],
   "source": [
    "[col for col in df_attr_combined if 'stripe' in col]"
   ]
  },
  {
   "cell_type": "code",
   "execution_count": null,
   "metadata": {},
   "outputs": [],
   "source": [
    "plotRandomImage('stripe ', 28) "
   ]
  },
  {
   "cell_type": "code",
   "execution_count": null,
   "metadata": {},
   "outputs": [],
   "source": [
    "plotRandomImage('abstract stripe ', 28) "
   ]
  },
  {
   "cell_type": "code",
   "execution_count": null,
   "metadata": {},
   "outputs": [],
   "source": [
    "plotRandomImage('back striped ', 28) "
   ]
  },
  {
   "cell_type": "code",
   "execution_count": null,
   "metadata": {},
   "outputs": [],
   "source": [
    "plotRandomImage('boxy striped ', 28) "
   ]
  },
  {
   "cell_type": "code",
   "execution_count": null,
   "metadata": {},
   "outputs": [],
   "source": [
    "plotRandomImage('breton stripe ', 28) "
   ]
  },
  {
   "cell_type": "code",
   "execution_count": null,
   "metadata": {},
   "outputs": [],
   "source": [
    "plotRandomImage('classic striped ', 28) "
   ]
  },
  {
   "cell_type": "code",
   "execution_count": null,
   "metadata": {},
   "outputs": [],
   "source": [
    "plotRandomImage('geo stripe ', 28) #not"
   ]
  },
  {
   "cell_type": "code",
   "execution_count": null,
   "metadata": {},
   "outputs": [],
   "source": [
    "plotRandomImage('heathered stripe ', 28) "
   ]
  },
  {
   "cell_type": "code",
   "execution_count": null,
   "metadata": {},
   "outputs": [],
   "source": [
    "plotRandomImage('knit stripe ', 28) "
   ]
  },
  {
   "cell_type": "code",
   "execution_count": null,
   "metadata": {},
   "outputs": [],
   "source": [
    "plotRandomImage('knit striped ', 28) "
   ]
  },
  {
   "cell_type": "code",
   "execution_count": null,
   "metadata": {},
   "outputs": [],
   "source": [
    "plotRandomImage('marled stripe ', 28) "
   ]
  },
  {
   "cell_type": "code",
   "execution_count": null,
   "metadata": {},
   "outputs": [],
   "source": [
    "plotRandomImage('mixed stripe ', 28) "
   ]
  },
  {
   "cell_type": "code",
   "execution_count": null,
   "metadata": {},
   "outputs": [],
   "source": [
    "plotRandomImage('multi-stripe ', 28) "
   ]
  },
  {
   "cell_type": "code",
   "execution_count": null,
   "metadata": {},
   "outputs": [],
   "source": [
    "plotRandomImage('nautical stripe ', 28) "
   ]
  },
  {
   "cell_type": "code",
   "execution_count": null,
   "metadata": {},
   "outputs": [],
   "source": [
    "plotRandomImage('nautical striped ', 28) "
   ]
  },
  {
   "cell_type": "code",
   "execution_count": null,
   "metadata": {},
   "outputs": [],
   "source": [
    "plotRandomImage('neck striped ', 28) "
   ]
  },
  {
   "cell_type": "code",
   "execution_count": null,
   "metadata": {},
   "outputs": [],
   "source": [
    "plotRandomImage('pinstripe ', 28) #not"
   ]
  },
  {
   "cell_type": "code",
   "execution_count": null,
   "metadata": {},
   "outputs": [],
   "source": [
    "plotRandomImage('pinstriped ', 28) #not"
   ]
  },
  {
   "cell_type": "code",
   "execution_count": null,
   "metadata": {},
   "outputs": [],
   "source": [
    "plotRandomImage('ribbed stripe ', 28) "
   ]
  },
  {
   "cell_type": "code",
   "execution_count": null,
   "metadata": {},
   "outputs": [],
   "source": [
    "plotRandomImage('rugby stripe ', 28) "
   ]
  },
  {
   "cell_type": "code",
   "execution_count": null,
   "metadata": {},
   "outputs": [],
   "source": [
    "plotRandomImage('rugby striped ', 28) "
   ]
  },
  {
   "cell_type": "code",
   "execution_count": null,
   "metadata": {},
   "outputs": [],
   "source": [
    "plotRandomImage('striped ', 28) "
   ]
  },
  {
   "cell_type": "code",
   "execution_count": null,
   "metadata": {},
   "outputs": [],
   "source": [
    "plotRandomImage('striped trapeze ', 28) "
   ]
  },
  {
   "cell_type": "code",
   "execution_count": null,
   "metadata": {},
   "outputs": [],
   "source": [
    "plotRandomImage('striped v-neck ', 28) "
   ]
  },
  {
   "cell_type": "code",
   "execution_count": null,
   "metadata": {},
   "outputs": [],
   "source": [
    "plotRandomImage('stripes ', 28) "
   ]
  },
  {
   "cell_type": "code",
   "execution_count": null,
   "metadata": {},
   "outputs": [],
   "source": [
    "plotRandomImage('varsity-striped ', 28) #not"
   ]
  },
  {
   "cell_type": "markdown",
   "metadata": {},
   "source": [
    "+ others"
   ]
  },
  {
   "cell_type": "markdown",
   "metadata": {},
   "source": [
    "## Merge"
   ]
  },
  {
   "cell_type": "code",
   "execution_count": 18,
   "metadata": {},
   "outputs": [],
   "source": [
    "df_final = df_attr_category_combined.iloc[:,:3]"
   ]
  },
  {
   "cell_type": "code",
   "execution_count": 19,
   "metadata": {},
   "outputs": [],
   "source": [
    "def mergeColumns(col1, col2) :\n",
    "    return ((df_attr_category_combined[col1] == 1) | (df_attr_category_combined[col2] == 1)).astype(int).replace(0, -1)"
   ]
  },
  {
   "cell_type": "code",
   "execution_count": 20,
   "metadata": {},
   "outputs": [],
   "source": [
    "def mergeMultipleColumns(lst_attr, merged_col):\n",
    "\n",
    "    df_attr_category_combined.insert(loc=0, column='temp', value=mergeColumns(lst_attr[0], lst_attr[1]))\n",
    "\n",
    "    for i in range(2,len(lst_attr)):\n",
    "        df_attr_category_combined['temp'] = mergeColumns('temp', lst_attr[i])\n",
    "    \n",
    "    df_final.insert(loc = 3,column=merged_col, value=df_attr_category_combined['temp'])\n",
    "    \n",
    "    df_attr_category_combined.drop(['temp'], axis=1, inplace=True)"
   ]
  },
  {
   "cell_type": "code",
   "execution_count": 22,
   "metadata": {},
   "outputs": [],
   "source": [
    "lst_long_sleeves = ['long sleeve ', 'long-sleeve ', 'long-sleeved ']\n",
    "mergeMultipleColumns(lst_long_sleeves, 'long sleeves')"
   ]
  },
  {
   "cell_type": "code",
   "execution_count": null,
   "metadata": {},
   "outputs": [],
   "source": [
    "lst_long_sleeves = ['long sleeve ', 'long-sleeve ', 'long-sleeved ']\n",
    "mergeMultipleColumns(lst_long_sleeves, 'long sleeves')"
   ]
  },
  {
   "cell_type": "code",
   "execution_count": null,
   "metadata": {},
   "outputs": [],
   "source": []
  },
  {
   "cell_type": "code",
   "execution_count": null,
   "metadata": {},
   "outputs": [],
   "source": []
  },
  {
   "cell_type": "code",
   "execution_count": null,
   "metadata": {},
   "outputs": [],
   "source": []
  },
  {
   "cell_type": "code",
   "execution_count": null,
   "metadata": {},
   "outputs": [],
   "source": []
  },
  {
   "cell_type": "code",
   "execution_count": null,
   "metadata": {},
   "outputs": [],
   "source": []
  }
 ],
 "metadata": {
  "kernelspec": {
   "display_name": "Python 3",
   "language": "python",
   "name": "python3"
  },
  "language_info": {
   "codemirror_mode": {
    "name": "ipython",
    "version": 3
   },
   "file_extension": ".py",
   "mimetype": "text/x-python",
   "name": "python",
   "nbconvert_exporter": "python",
   "pygments_lexer": "ipython3",
   "version": "3.7.1"
  }
 },
 "nbformat": 4,
 "nbformat_minor": 2
}
