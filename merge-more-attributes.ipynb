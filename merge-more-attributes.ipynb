{
 "cells": [
  {
   "cell_type": "code",
   "execution_count": 1,
   "metadata": {},
   "outputs": [],
   "source": [
    "import numpy as np\n",
    "import pandas as pd\n",
    "import csv\n",
    "import matplotlib.pyplot as plt\n",
    "import matplotlib.image as mpimg\n",
    "import random"
   ]
  },
  {
   "cell_type": "code",
   "execution_count": 2,
   "metadata": {},
   "outputs": [],
   "source": [
    "df_dropped_attr_category_combined = pd.read_csv('./Anno/changed/etri/dropped_attr_category_combined.csv')"
   ]
  },
  {
   "cell_type": "code",
   "execution_count": 3,
   "metadata": {},
   "outputs": [],
   "source": [
    "df_final= pd.read_csv('./Anno/changed/etri/final.csv')"
   ]
  },
  {
   "cell_type": "code",
   "execution_count": 30,
   "metadata": {},
   "outputs": [],
   "source": [
    "df_attr_category_combined = pd.read_csv('./Anno/changed/etri/attr_category_combined.csv')"
   ]
  },
  {
   "cell_type": "code",
   "execution_count": 5,
   "metadata": {},
   "outputs": [],
   "source": [
    "df_skirt_attr_combined = pd.read_csv('./Anno/changed/etri/skirt_attr_combined.csv')"
   ]
  },
  {
   "cell_type": "code",
   "execution_count": 6,
   "metadata": {},
   "outputs": [],
   "source": [
    "df_pants_attr_combined = pd.read_csv('./Anno/changed/etri/pants_attr_combined.csv')"
   ]
  },
  {
   "cell_type": "code",
   "execution_count": 7,
   "metadata": {},
   "outputs": [],
   "source": [
    "def plotRandomImage(attribute, img_num, df):\n",
    "    print(attribute+'attribute')\n",
    "    img_files = []\n",
    "    dict_imgs = dict(zip(df.loc[df[attribute] == 1]['image_name'], df.loc[df[attribute] == 1]['category_name']))\n",
    "    print(str(len(dict_imgs))+' images')\n",
    "    lst_rand_imgs = random.sample(list(dict_imgs.items()), img_num)\n",
    "    \n",
    "    for tuple_img in lst_rand_imgs:\n",
    "        img=mpimg.imread('./'+tuple_img[1]+'/'+tuple_img[0]+'.jpg')\n",
    "        img_files.append(img)\n",
    "    \n",
    "    col_num = 4\n",
    "    row_num = ((img_num // col_num)+1) if (img_num % col_num) != 0 else (img_num // col_num)\n",
    "    \n",
    "    fig, axes = plt.subplots(nrows=row_num, ncols=col_num, figsize=(20,20))\n",
    "    \n",
    "    for idx, img_file in enumerate(img_files):\n",
    "        row = idx // col_num\n",
    "        col = idx % col_num\n",
    "        \n",
    "        axes[row, col].axis(\"off\")\n",
    "        axes[row, col].imshow(img_file, cmap=\"gray\", aspect=\"auto\")\n",
    "\n",
    "    plt.subplots_adjust(wspace=.05, hspace=.05)\n",
    "\n",
    "    plt.show()"
   ]
  },
  {
   "cell_type": "code",
   "execution_count": 93,
   "metadata": {},
   "outputs": [
    {
     "data": {
      "text/plain": [
       "['knit longline ',\n",
       " 'long sleeve ',\n",
       " 'long-sleeve ',\n",
       " 'long-sleeved ',\n",
       " 'longline ',\n",
       " 'longline shirt ']"
      ]
     },
     "execution_count": 93,
     "metadata": {},
     "output_type": "execute_result"
    }
   ],
   "source": [
    "[col for col in df_skirt_attr_combined if 'long' in col]"
   ]
  },
  {
   "cell_type": "code",
   "execution_count": 9,
   "metadata": {},
   "outputs": [
    {
     "data": {
      "text/plain": [
       "['knit longline ',\n",
       " 'long sleeve ',\n",
       " 'long-sleeve ',\n",
       " 'long-sleeved ',\n",
       " 'longline ',\n",
       " 'longline shirt ']"
      ]
     },
     "execution_count": 9,
     "metadata": {},
     "output_type": "execute_result"
    }
   ],
   "source": [
    "[col for col in df_pants_attr_combined if 'long' in col]"
   ]
  },
  {
   "cell_type": "code",
   "execution_count": 97,
   "metadata": {},
   "outputs": [],
   "source": [
    "#plotRandomImage( 'longline shirt ', 28, df_skirt_attr_combined) #not"
   ]
  },
  {
   "cell_type": "code",
   "execution_count": 12,
   "metadata": {},
   "outputs": [],
   "source": [
    "#plotRandomImage( 'longline ', 8,df_pants_attr_combined) #no"
   ]
  },
  {
   "cell_type": "code",
   "execution_count": 13,
   "metadata": {},
   "outputs": [
    {
     "data": {
      "text/plain": [
       "['abstract chevron print ',\n",
       " 'abstract geo print ',\n",
       " 'abstract print ',\n",
       " 'abstract printed ',\n",
       " 'animal print ',\n",
       " 'bandana print ',\n",
       " 'baroque print ',\n",
       " 'bird print ',\n",
       " 'botanical print ',\n",
       " 'brushstroke print ',\n",
       " 'butterfly print ',\n",
       " 'chevron print ',\n",
       " 'daisy print ',\n",
       " 'diamond print ',\n",
       " 'elephant print ',\n",
       " 'folk print ',\n",
       " 'geo print ',\n",
       " 'giraffe print ',\n",
       " 'grid print ',\n",
       " 'heart print ',\n",
       " 'ikat print ',\n",
       " 'kaleidoscope print ',\n",
       " 'lace print ',\n",
       " 'leaf print ',\n",
       " 'leopard print ',\n",
       " 'mandala print ',\n",
       " 'marble print ',\n",
       " 'medallion print ',\n",
       " 'mixed print ',\n",
       " 'mosaic print ',\n",
       " 'ornate print ',\n",
       " 'paisley print ',\n",
       " 'palm print ',\n",
       " 'print ',\n",
       " 'print racerback ',\n",
       " 'print satin ',\n",
       " 'print scuba ',\n",
       " 'print shift ',\n",
       " 'print shirt ',\n",
       " 'print skater ',\n",
       " 'print smock ',\n",
       " 'print smocked ',\n",
       " 'print strapless ',\n",
       " 'print strappy ',\n",
       " 'print surplice ',\n",
       " 'print tulip ',\n",
       " 'print v-neck ',\n",
       " 'print woven ',\n",
       " 'printed ',\n",
       " 'southwestern-print ']"
      ]
     },
     "execution_count": 13,
     "metadata": {},
     "output_type": "execute_result"
    }
   ],
   "source": [
    "[col for col in df_dropped_attr_category_combined if 'print' in col]"
   ]
  },
  {
   "cell_type": "code",
   "execution_count": 14,
   "metadata": {},
   "outputs": [],
   "source": [
    "#plotRandomImage( 'print ', 28, df_dropped_attr_category_combined) "
   ]
  },
  {
   "cell_type": "markdown",
   "metadata": {},
   "source": [
    "## others(print)"
   ]
  },
  {
   "cell_type": "code",
   "execution_count": 15,
   "metadata": {},
   "outputs": [],
   "source": [
    "#plotRandomImage( 'abstract chevron print ', 28, df_dropped_attr_category_combined) "
   ]
  },
  {
   "cell_type": "code",
   "execution_count": 16,
   "metadata": {},
   "outputs": [],
   "source": [
    "#plotRandomImage( 'mixed print ', 28, df_dropped_attr_category_combined) "
   ]
  },
  {
   "cell_type": "code",
   "execution_count": 17,
   "metadata": {},
   "outputs": [
    {
     "data": {
      "text/html": [
       "<div>\n",
       "<style scoped>\n",
       "    .dataframe tbody tr th:only-of-type {\n",
       "        vertical-align: middle;\n",
       "    }\n",
       "\n",
       "    .dataframe tbody tr th {\n",
       "        vertical-align: top;\n",
       "    }\n",
       "\n",
       "    .dataframe thead th {\n",
       "        text-align: right;\n",
       "    }\n",
       "</style>\n",
       "<table border=\"1\" class=\"dataframe\">\n",
       "  <thead>\n",
       "    <tr style=\"text-align: right;\">\n",
       "      <th></th>\n",
       "      <th>image_name</th>\n",
       "      <th>category_name</th>\n",
       "      <th>category_label</th>\n",
       "      <th>a-line</th>\n",
       "      <th>abstract</th>\n",
       "      <th>abstract chevron</th>\n",
       "      <th>abstract chevron print</th>\n",
       "      <th>abstract diamond</th>\n",
       "      <th>abstract floral</th>\n",
       "      <th>abstract floral print</th>\n",
       "      <th>...</th>\n",
       "      <th>zeppelin</th>\n",
       "      <th>zig</th>\n",
       "      <th>zigzag</th>\n",
       "      <th>zip</th>\n",
       "      <th>zip-front</th>\n",
       "      <th>zip-pocket</th>\n",
       "      <th>zip-up</th>\n",
       "      <th>zipped</th>\n",
       "      <th>zipper</th>\n",
       "      <th>zippered</th>\n",
       "    </tr>\n",
       "  </thead>\n",
       "  <tbody>\n",
       "    <tr>\n",
       "      <th>0</th>\n",
       "      <td>1981_Graphic_Ringer_Tee_img_00000001</td>\n",
       "      <td>shirt</td>\n",
       "      <td>0</td>\n",
       "      <td>-1</td>\n",
       "      <td>-1</td>\n",
       "      <td>-1</td>\n",
       "      <td>-1</td>\n",
       "      <td>-1</td>\n",
       "      <td>-1</td>\n",
       "      <td>-1</td>\n",
       "      <td>...</td>\n",
       "      <td>-1</td>\n",
       "      <td>-1</td>\n",
       "      <td>-1</td>\n",
       "      <td>-1</td>\n",
       "      <td>-1</td>\n",
       "      <td>-1</td>\n",
       "      <td>-1</td>\n",
       "      <td>-1</td>\n",
       "      <td>-1</td>\n",
       "      <td>-1</td>\n",
       "    </tr>\n",
       "    <tr>\n",
       "      <th>1</th>\n",
       "      <td>1981_Graphic_Ringer_Tee_img_00000002</td>\n",
       "      <td>shirt</td>\n",
       "      <td>0</td>\n",
       "      <td>-1</td>\n",
       "      <td>-1</td>\n",
       "      <td>-1</td>\n",
       "      <td>-1</td>\n",
       "      <td>-1</td>\n",
       "      <td>-1</td>\n",
       "      <td>-1</td>\n",
       "      <td>...</td>\n",
       "      <td>-1</td>\n",
       "      <td>-1</td>\n",
       "      <td>-1</td>\n",
       "      <td>-1</td>\n",
       "      <td>-1</td>\n",
       "      <td>-1</td>\n",
       "      <td>-1</td>\n",
       "      <td>-1</td>\n",
       "      <td>-1</td>\n",
       "      <td>-1</td>\n",
       "    </tr>\n",
       "    <tr>\n",
       "      <th>2</th>\n",
       "      <td>1981_Graphic_Ringer_Tee_img_00000003</td>\n",
       "      <td>shirt</td>\n",
       "      <td>0</td>\n",
       "      <td>-1</td>\n",
       "      <td>-1</td>\n",
       "      <td>-1</td>\n",
       "      <td>-1</td>\n",
       "      <td>-1</td>\n",
       "      <td>-1</td>\n",
       "      <td>-1</td>\n",
       "      <td>...</td>\n",
       "      <td>-1</td>\n",
       "      <td>-1</td>\n",
       "      <td>-1</td>\n",
       "      <td>-1</td>\n",
       "      <td>-1</td>\n",
       "      <td>-1</td>\n",
       "      <td>-1</td>\n",
       "      <td>-1</td>\n",
       "      <td>-1</td>\n",
       "      <td>-1</td>\n",
       "    </tr>\n",
       "    <tr>\n",
       "      <th>3</th>\n",
       "      <td>1981_Graphic_Ringer_Tee_img_00000004</td>\n",
       "      <td>shirt</td>\n",
       "      <td>0</td>\n",
       "      <td>-1</td>\n",
       "      <td>-1</td>\n",
       "      <td>-1</td>\n",
       "      <td>-1</td>\n",
       "      <td>-1</td>\n",
       "      <td>-1</td>\n",
       "      <td>-1</td>\n",
       "      <td>...</td>\n",
       "      <td>-1</td>\n",
       "      <td>-1</td>\n",
       "      <td>-1</td>\n",
       "      <td>-1</td>\n",
       "      <td>-1</td>\n",
       "      <td>-1</td>\n",
       "      <td>-1</td>\n",
       "      <td>-1</td>\n",
       "      <td>-1</td>\n",
       "      <td>-1</td>\n",
       "    </tr>\n",
       "    <tr>\n",
       "      <th>4</th>\n",
       "      <td>1981_Graphic_Ringer_Tee_img_00000005</td>\n",
       "      <td>shirt</td>\n",
       "      <td>0</td>\n",
       "      <td>-1</td>\n",
       "      <td>-1</td>\n",
       "      <td>-1</td>\n",
       "      <td>-1</td>\n",
       "      <td>-1</td>\n",
       "      <td>-1</td>\n",
       "      <td>-1</td>\n",
       "      <td>...</td>\n",
       "      <td>-1</td>\n",
       "      <td>-1</td>\n",
       "      <td>-1</td>\n",
       "      <td>-1</td>\n",
       "      <td>-1</td>\n",
       "      <td>-1</td>\n",
       "      <td>-1</td>\n",
       "      <td>-1</td>\n",
       "      <td>-1</td>\n",
       "      <td>-1</td>\n",
       "    </tr>\n",
       "  </tbody>\n",
       "</table>\n",
       "<p>5 rows × 1003 columns</p>\n",
       "</div>"
      ],
      "text/plain": [
       "                             image_name category_name  category_label  \\\n",
       "0  1981_Graphic_Ringer_Tee_img_00000001         shirt               0   \n",
       "1  1981_Graphic_Ringer_Tee_img_00000002         shirt               0   \n",
       "2  1981_Graphic_Ringer_Tee_img_00000003         shirt               0   \n",
       "3  1981_Graphic_Ringer_Tee_img_00000004         shirt               0   \n",
       "4  1981_Graphic_Ringer_Tee_img_00000005         shirt               0   \n",
       "\n",
       "   a-line   abstract   abstract chevron   abstract chevron print   \\\n",
       "0       -1         -1                 -1                       -1   \n",
       "1       -1         -1                 -1                       -1   \n",
       "2       -1         -1                 -1                       -1   \n",
       "3       -1         -1                 -1                       -1   \n",
       "4       -1         -1                 -1                       -1   \n",
       "\n",
       "   abstract diamond   abstract floral   abstract floral print     ...      \\\n",
       "0                 -1                -1                      -1    ...       \n",
       "1                 -1                -1                      -1    ...       \n",
       "2                 -1                -1                      -1    ...       \n",
       "3                 -1                -1                      -1    ...       \n",
       "4                 -1                -1                      -1    ...       \n",
       "\n",
       "   zeppelin   zig   zigzag   zip   zip-front   zip-pocket   zip-up   zipped   \\\n",
       "0         -1    -1       -1    -1          -1           -1       -1       -1   \n",
       "1         -1    -1       -1    -1          -1           -1       -1       -1   \n",
       "2         -1    -1       -1    -1          -1           -1       -1       -1   \n",
       "3         -1    -1       -1    -1          -1           -1       -1       -1   \n",
       "4         -1    -1       -1    -1          -1           -1       -1       -1   \n",
       "\n",
       "   zipper   zippered   \n",
       "0       -1         -1  \n",
       "1       -1         -1  \n",
       "2       -1         -1  \n",
       "3       -1         -1  \n",
       "4       -1         -1  \n",
       "\n",
       "[5 rows x 1003 columns]"
      ]
     },
     "execution_count": 17,
     "metadata": {},
     "output_type": "execute_result"
    }
   ],
   "source": [
    "df_attr_category_combined.head()"
   ]
  },
  {
   "cell_type": "code",
   "execution_count": 18,
   "metadata": {},
   "outputs": [
    {
     "data": {
      "text/plain": [
       "7309"
      ]
     },
     "execution_count": 18,
     "metadata": {},
     "output_type": "execute_result"
    }
   ],
   "source": [
    "len( set(df_attr_category_combined.loc[df_attr_category_combined['print '] == 1]['image_name'])& set(df_attr_category_combined.loc[df_final['floral'] == 1]['image_name']))"
   ]
  },
  {
   "cell_type": "code",
   "execution_count": 19,
   "metadata": {},
   "outputs": [
    {
     "data": {
      "text/plain": [
       "1052"
      ]
     },
     "execution_count": 19,
     "metadata": {},
     "output_type": "execute_result"
    }
   ],
   "source": [
    "len( set(df_attr_category_combined.loc[df_attr_category_combined['print '] == 1]['image_name'])& set(df_attr_category_combined.loc[df_final['striped'] == 1]['image_name']))"
   ]
  },
  {
   "cell_type": "code",
   "execution_count": 20,
   "metadata": {},
   "outputs": [
    {
     "data": {
      "text/plain": [
       "548"
      ]
     },
     "execution_count": 20,
     "metadata": {},
     "output_type": "execute_result"
    }
   ],
   "source": [
    "len( set(df_attr_category_combined.loc[df_attr_category_combined['print '] == 1]['image_name'])& set(df_attr_category_combined.loc[df_final['dotted'] == 1]['image_name']))"
   ]
  },
  {
   "cell_type": "code",
   "execution_count": 21,
   "metadata": {},
   "outputs": [
    {
     "data": {
      "text/plain": [
       "53"
      ]
     },
     "execution_count": 21,
     "metadata": {},
     "output_type": "execute_result"
    }
   ],
   "source": [
    "len( set(df_attr_category_combined.loc[df_attr_category_combined['print '] == 1]['image_name'])& set(df_attr_category_combined.loc[df_final['checker'] == 1]['image_name']))"
   ]
  },
  {
   "cell_type": "code",
   "execution_count": 22,
   "metadata": {},
   "outputs": [
    {
     "data": {
      "text/plain": [
       "29160"
      ]
     },
     "execution_count": 22,
     "metadata": {},
     "output_type": "execute_result"
    }
   ],
   "source": [
    "len(set(df_attr_category_combined.loc[df_attr_category_combined['print '] == 1]['image_name']))"
   ]
  },
  {
   "cell_type": "code",
   "execution_count": 23,
   "metadata": {},
   "outputs": [
    {
     "data": {
      "text/plain": [
       "5287"
      ]
     },
     "execution_count": 23,
     "metadata": {},
     "output_type": "execute_result"
    }
   ],
   "source": [
    "len(df_attr_category_combined.loc[df_attr_category_combined['printed '] == 1])"
   ]
  },
  {
   "cell_type": "code",
   "execution_count": 24,
   "metadata": {},
   "outputs": [
    {
     "data": {
      "text/plain": [
       "838"
      ]
     },
     "execution_count": 24,
     "metadata": {},
     "output_type": "execute_result"
    }
   ],
   "source": [
    "len(set(df_attr_category_combined.loc[df_attr_category_combined['print '] == 1]['image_name'])& set(df_attr_category_combined.loc[df_attr_category_combined['printed '] == 1]['image_name']))"
   ]
  },
  {
   "cell_type": "code",
   "execution_count": 25,
   "metadata": {},
   "outputs": [
    {
     "data": {
      "text/html": [
       "<div>\n",
       "<style scoped>\n",
       "    .dataframe tbody tr th:only-of-type {\n",
       "        vertical-align: middle;\n",
       "    }\n",
       "\n",
       "    .dataframe tbody tr th {\n",
       "        vertical-align: top;\n",
       "    }\n",
       "\n",
       "    .dataframe thead th {\n",
       "        text-align: right;\n",
       "    }\n",
       "</style>\n",
       "<table border=\"1\" class=\"dataframe\">\n",
       "  <thead>\n",
       "    <tr style=\"text-align: right;\">\n",
       "      <th></th>\n",
       "      <th>image_name</th>\n",
       "      <th>category_name</th>\n",
       "      <th>category_label</th>\n",
       "      <th>striped</th>\n",
       "      <th>floral</th>\n",
       "      <th>dotted</th>\n",
       "      <th>checker</th>\n",
       "      <th>summer</th>\n",
       "      <th>no sleeves</th>\n",
       "      <th>long sleeves</th>\n",
       "    </tr>\n",
       "  </thead>\n",
       "  <tbody>\n",
       "    <tr>\n",
       "      <th>0</th>\n",
       "      <td>1981_Graphic_Ringer_Tee_img_00000001</td>\n",
       "      <td>shirt</td>\n",
       "      <td>0</td>\n",
       "      <td>-1</td>\n",
       "      <td>-1</td>\n",
       "      <td>-1</td>\n",
       "      <td>-1</td>\n",
       "      <td>-1</td>\n",
       "      <td>-1</td>\n",
       "      <td>-1</td>\n",
       "    </tr>\n",
       "    <tr>\n",
       "      <th>1</th>\n",
       "      <td>1981_Graphic_Ringer_Tee_img_00000002</td>\n",
       "      <td>shirt</td>\n",
       "      <td>0</td>\n",
       "      <td>-1</td>\n",
       "      <td>1</td>\n",
       "      <td>-1</td>\n",
       "      <td>-1</td>\n",
       "      <td>-1</td>\n",
       "      <td>-1</td>\n",
       "      <td>-1</td>\n",
       "    </tr>\n",
       "    <tr>\n",
       "      <th>2</th>\n",
       "      <td>1981_Graphic_Ringer_Tee_img_00000003</td>\n",
       "      <td>shirt</td>\n",
       "      <td>0</td>\n",
       "      <td>1</td>\n",
       "      <td>-1</td>\n",
       "      <td>-1</td>\n",
       "      <td>-1</td>\n",
       "      <td>-1</td>\n",
       "      <td>-1</td>\n",
       "      <td>-1</td>\n",
       "    </tr>\n",
       "    <tr>\n",
       "      <th>3</th>\n",
       "      <td>1981_Graphic_Ringer_Tee_img_00000004</td>\n",
       "      <td>shirt</td>\n",
       "      <td>0</td>\n",
       "      <td>-1</td>\n",
       "      <td>-1</td>\n",
       "      <td>-1</td>\n",
       "      <td>-1</td>\n",
       "      <td>-1</td>\n",
       "      <td>-1</td>\n",
       "      <td>-1</td>\n",
       "    </tr>\n",
       "    <tr>\n",
       "      <th>4</th>\n",
       "      <td>1981_Graphic_Ringer_Tee_img_00000005</td>\n",
       "      <td>shirt</td>\n",
       "      <td>0</td>\n",
       "      <td>-1</td>\n",
       "      <td>1</td>\n",
       "      <td>-1</td>\n",
       "      <td>-1</td>\n",
       "      <td>-1</td>\n",
       "      <td>-1</td>\n",
       "      <td>-1</td>\n",
       "    </tr>\n",
       "  </tbody>\n",
       "</table>\n",
       "</div>"
      ],
      "text/plain": [
       "                             image_name category_name  category_label  \\\n",
       "0  1981_Graphic_Ringer_Tee_img_00000001         shirt               0   \n",
       "1  1981_Graphic_Ringer_Tee_img_00000002         shirt               0   \n",
       "2  1981_Graphic_Ringer_Tee_img_00000003         shirt               0   \n",
       "3  1981_Graphic_Ringer_Tee_img_00000004         shirt               0   \n",
       "4  1981_Graphic_Ringer_Tee_img_00000005         shirt               0   \n",
       "\n",
       "   striped  floral  dotted  checker  summer  no sleeves  long sleeves  \n",
       "0       -1      -1      -1       -1      -1          -1            -1  \n",
       "1       -1       1      -1       -1      -1          -1            -1  \n",
       "2        1      -1      -1       -1      -1          -1            -1  \n",
       "3       -1      -1      -1       -1      -1          -1            -1  \n",
       "4       -1       1      -1       -1      -1          -1            -1  "
      ]
     },
     "execution_count": 25,
     "metadata": {},
     "output_type": "execute_result"
    }
   ],
   "source": [
    "df_final.head()"
   ]
  },
  {
   "cell_type": "code",
   "execution_count": 26,
   "metadata": {},
   "outputs": [],
   "source": [
    "#plotRandomImage( 'print ', 28,(df_dropped_attr_category_combined.loc[df_dropped_attr_category_combined['print '] == 1]) ) "
   ]
  },
  {
   "cell_type": "code",
   "execution_count": null,
   "metadata": {},
   "outputs": [],
   "source": []
  },
  {
   "cell_type": "code",
   "execution_count": null,
   "metadata": {},
   "outputs": [],
   "source": []
  },
  {
   "cell_type": "markdown",
   "metadata": {},
   "source": [
    "## floral"
   ]
  },
  {
   "cell_type": "code",
   "execution_count": 27,
   "metadata": {},
   "outputs": [],
   "source": [
    "#plotRandomImage( 'daisy print ', 28, df_dropped_attr_category_combined) "
   ]
  },
  {
   "cell_type": "code",
   "execution_count": 28,
   "metadata": {},
   "outputs": [
    {
     "data": {
      "text/plain": [
       "['rose ', 'rose skater ', 'roses ']"
      ]
     },
     "execution_count": 28,
     "metadata": {},
     "output_type": "execute_result"
    }
   ],
   "source": [
    "[col for col in df_dropped_attr_category_combined if 'rose' in col]"
   ]
  },
  {
   "cell_type": "code",
   "execution_count": 29,
   "metadata": {},
   "outputs": [],
   "source": [
    "#plotRandomImage( 'botanical print ', 28, df_dropped_attr_category_combined) "
   ]
  },
  {
   "cell_type": "code",
   "execution_count": 30,
   "metadata": {},
   "outputs": [],
   "source": [
    "#plotRandomImage( 'rose ', 28, df_dropped_attr_category_combined) "
   ]
  },
  {
   "cell_type": "code",
   "execution_count": 31,
   "metadata": {},
   "outputs": [],
   "source": [
    "#plotRandomImage( 'roses ', 28, df_dropped_attr_category_combined) "
   ]
  },
  {
   "cell_type": "code",
   "execution_count": 32,
   "metadata": {},
   "outputs": [],
   "source": [
    "#plotRandomImage( 'rose skater ', 6, df_dropped_attr_category_combined) "
   ]
  },
  {
   "cell_type": "code",
   "execution_count": 33,
   "metadata": {},
   "outputs": [],
   "source": [
    "#plotRandomImage( 'print tulip ', 28, df_dropped_attr_category_combined) "
   ]
  },
  {
   "cell_type": "code",
   "execution_count": 34,
   "metadata": {},
   "outputs": [],
   "source": [
    "#plotRandomImage( 'botanical ', 28, df_dropped_attr_category_combined) "
   ]
  },
  {
   "cell_type": "markdown",
   "metadata": {},
   "source": [
    "## checker"
   ]
  },
  {
   "cell_type": "code",
   "execution_count": 35,
   "metadata": {},
   "outputs": [],
   "source": [
    "#plotRandomImage( 'checker', 28, df_dropped_attr_category_combined) "
   ]
  },
  {
   "cell_type": "code",
   "execution_count": 36,
   "metadata": {},
   "outputs": [],
   "source": [
    "#plotRandomImage( 'grid print ', 28, df_dropped_attr_category_combined) "
   ]
  },
  {
   "cell_type": "code",
   "execution_count": 37,
   "metadata": {},
   "outputs": [],
   "source": [
    "#plotRandomImage( 'grid ', 28, df_dropped_attr_category_combined) "
   ]
  },
  {
   "cell_type": "markdown",
   "metadata": {},
   "source": [
    "## long"
   ]
  },
  {
   "cell_type": "code",
   "execution_count": 98,
   "metadata": {},
   "outputs": [
    {
     "data": {
      "text/plain": [
       "['belted maxi ',\n",
       " 'cami maxi ',\n",
       " 'chiffon maxi ',\n",
       " 'combo maxi ',\n",
       " 'crochet maxi ',\n",
       " 'cutout maxi ',\n",
       " 'embroidered maxi ',\n",
       " 'floral maxi ',\n",
       " 'flounce maxi ',\n",
       " 'gauze maxi ',\n",
       " 'high-slit maxi ',\n",
       " 'hooded maxi ',\n",
       " 'knit maxi ',\n",
       " 'lace maxi ',\n",
       " 'm-slit maxi ',\n",
       " 'maxi ']"
      ]
     },
     "execution_count": 98,
     "metadata": {},
     "output_type": "execute_result"
    }
   ],
   "source": [
    "[col for col in df_skirt_attr_combined if 'maxi' in col]"
   ]
  },
  {
   "cell_type": "code",
   "execution_count": 39,
   "metadata": {},
   "outputs": [
    {
     "data": {
      "text/plain": [
       "['belted maxi ',\n",
       " 'cami maxi ',\n",
       " 'chiffon maxi ',\n",
       " 'combo maxi ',\n",
       " 'crochet maxi ',\n",
       " 'cutout maxi ',\n",
       " 'embroidered maxi ',\n",
       " 'floral maxi ',\n",
       " 'flounce maxi ',\n",
       " 'gauze maxi ',\n",
       " 'high-slit maxi ',\n",
       " 'hooded maxi ',\n",
       " 'knit maxi ',\n",
       " 'lace maxi ',\n",
       " 'm-slit maxi ',\n",
       " 'maxi ']"
      ]
     },
     "execution_count": 39,
     "metadata": {},
     "output_type": "execute_result"
    }
   ],
   "source": [
    "[col for col in df_pants_attr_combined if 'maxi' in col]"
   ]
  },
  {
   "cell_type": "code",
   "execution_count": 163,
   "metadata": {},
   "outputs": [],
   "source": [
    "#plotRandomImage( 'big ', 21, df_skirt_attr_combined) #no"
   ]
  },
  {
   "cell_type": "code",
   "execution_count": 160,
   "metadata": {
    "scrolled": true
   },
   "outputs": [],
   "source": [
    "#plotRandomImage( 'maxi ', 28, df_skirt_attr_combined) "
   ]
  },
  {
   "cell_type": "code",
   "execution_count": 159,
   "metadata": {},
   "outputs": [],
   "source": [
    "#plotRandomImage( 'longline ', 17,df_skirt_attr_combined)"
   ]
  },
  {
   "cell_type": "code",
   "execution_count": 158,
   "metadata": {},
   "outputs": [],
   "source": [
    "#plotRandomImage( 'chiffon maxi ', 28,df_skirt_attr_combined)"
   ]
  },
  {
   "cell_type": "code",
   "execution_count": 156,
   "metadata": {},
   "outputs": [],
   "source": [
    "#plotRandomImage( 'belted maxi ', 28,df_skirt_attr_combined)"
   ]
  },
  {
   "cell_type": "code",
   "execution_count": 154,
   "metadata": {},
   "outputs": [],
   "source": [
    "#plotRandomImage( 'cami maxi ', 28,df_skirt_attr_combined) #no"
   ]
  },
  {
   "cell_type": "code",
   "execution_count": 152,
   "metadata": {},
   "outputs": [],
   "source": [
    "#plotRandomImage( 'combo maxi ', 28,df_skirt_attr_combined)"
   ]
  },
  {
   "cell_type": "code",
   "execution_count": 150,
   "metadata": {},
   "outputs": [],
   "source": [
    "#plotRandomImage( 'crochet maxi ', 7,df_skirt_attr_combined)"
   ]
  },
  {
   "cell_type": "code",
   "execution_count": 149,
   "metadata": {},
   "outputs": [],
   "source": [
    "#plotRandomImage( 'cutout maxi ', 4, df_skirt_attr_combined) "
   ]
  },
  {
   "cell_type": "code",
   "execution_count": 147,
   "metadata": {},
   "outputs": [],
   "source": [
    "#plotRandomImage( 'embroidered maxi ', 2,df_skirt_attr_combined) "
   ]
  },
  {
   "cell_type": "code",
   "execution_count": 145,
   "metadata": {},
   "outputs": [],
   "source": [
    "#plotRandomImage( 'floral maxi ', 28,df_skirt_attr_combined)"
   ]
  },
  {
   "cell_type": "code",
   "execution_count": 144,
   "metadata": {},
   "outputs": [],
   "source": [
    "#plotRandomImage( 'flounce maxi ', 28,df_skirt_attr_combined) "
   ]
  },
  {
   "cell_type": "code",
   "execution_count": 143,
   "metadata": {},
   "outputs": [],
   "source": [
    "#plotRandomImage( 'gauze maxi ', 11,df_skirt_attr_combined)"
   ]
  },
  {
   "cell_type": "code",
   "execution_count": 142,
   "metadata": {},
   "outputs": [],
   "source": [
    "#plotRandomImage( 'high-slit maxi ', 8,df_skirt_attr_combined)"
   ]
  },
  {
   "cell_type": "code",
   "execution_count": 138,
   "metadata": {},
   "outputs": [],
   "source": [
    "#plotRandomImage( 'hooded maxi ', 28,df_skirt_attr_combined) #no"
   ]
  },
  {
   "cell_type": "code",
   "execution_count": 139,
   "metadata": {},
   "outputs": [],
   "source": [
    "#plotRandomImage( 'knit maxi ', 28,df_skirt_attr_combined)"
   ]
  },
  {
   "cell_type": "code",
   "execution_count": 140,
   "metadata": {},
   "outputs": [],
   "source": [
    "#plotRandomImage( 'lace maxi ', 28,df_skirt_attr_combined)"
   ]
  },
  {
   "cell_type": "code",
   "execution_count": 141,
   "metadata": {},
   "outputs": [],
   "source": [
    "#plotRandomImage( 'm-slit maxi ', 28,df_skirt_attr_combined)"
   ]
  },
  {
   "cell_type": "code",
   "execution_count": 8,
   "metadata": {},
   "outputs": [],
   "source": [
    "df_skirt_attr_combined_temp = df_skirt_attr_combined.iloc[:, :3]"
   ]
  },
  {
   "cell_type": "code",
   "execution_count": 9,
   "metadata": {},
   "outputs": [
    {
     "data": {
      "text/html": [
       "<div>\n",
       "<style scoped>\n",
       "    .dataframe tbody tr th:only-of-type {\n",
       "        vertical-align: middle;\n",
       "    }\n",
       "\n",
       "    .dataframe tbody tr th {\n",
       "        vertical-align: top;\n",
       "    }\n",
       "\n",
       "    .dataframe thead th {\n",
       "        text-align: right;\n",
       "    }\n",
       "</style>\n",
       "<table border=\"1\" class=\"dataframe\">\n",
       "  <thead>\n",
       "    <tr style=\"text-align: right;\">\n",
       "      <th></th>\n",
       "      <th>image_name</th>\n",
       "      <th>category_name</th>\n",
       "      <th>category_label</th>\n",
       "    </tr>\n",
       "  </thead>\n",
       "  <tbody>\n",
       "    <tr>\n",
       "      <th>0</th>\n",
       "      <td>Abstract_Brushstroke_Print_Pencil_Skirt_img_00...</td>\n",
       "      <td>skirt</td>\n",
       "      <td>8</td>\n",
       "    </tr>\n",
       "    <tr>\n",
       "      <th>1</th>\n",
       "      <td>Abstract_Brushstroke_Print_Pencil_Skirt_img_00...</td>\n",
       "      <td>skirt</td>\n",
       "      <td>8</td>\n",
       "    </tr>\n",
       "    <tr>\n",
       "      <th>2</th>\n",
       "      <td>Abstract_Brushstroke_Print_Pencil_Skirt_img_00...</td>\n",
       "      <td>skirt</td>\n",
       "      <td>8</td>\n",
       "    </tr>\n",
       "    <tr>\n",
       "      <th>3</th>\n",
       "      <td>Abstract_Brushstroke_Print_Pencil_Skirt_img_00...</td>\n",
       "      <td>skirt</td>\n",
       "      <td>8</td>\n",
       "    </tr>\n",
       "    <tr>\n",
       "      <th>4</th>\n",
       "      <td>Abstract_Brushstroke_Print_Pencil_Skirt_img_00...</td>\n",
       "      <td>skirt</td>\n",
       "      <td>8</td>\n",
       "    </tr>\n",
       "  </tbody>\n",
       "</table>\n",
       "</div>"
      ],
      "text/plain": [
       "                                          image_name category_name  \\\n",
       "0  Abstract_Brushstroke_Print_Pencil_Skirt_img_00...         skirt   \n",
       "1  Abstract_Brushstroke_Print_Pencil_Skirt_img_00...         skirt   \n",
       "2  Abstract_Brushstroke_Print_Pencil_Skirt_img_00...         skirt   \n",
       "3  Abstract_Brushstroke_Print_Pencil_Skirt_img_00...         skirt   \n",
       "4  Abstract_Brushstroke_Print_Pencil_Skirt_img_00...         skirt   \n",
       "\n",
       "   category_label  \n",
       "0               8  \n",
       "1               8  \n",
       "2               8  \n",
       "3               8  \n",
       "4               8  "
      ]
     },
     "execution_count": 9,
     "metadata": {},
     "output_type": "execute_result"
    }
   ],
   "source": [
    "df_skirt_attr_combined_temp.head()"
   ]
  },
  {
   "cell_type": "code",
   "execution_count": 10,
   "metadata": {},
   "outputs": [],
   "source": [
    "lst_long_skirt = ['belted maxi ',\n",
    " 'chiffon maxi ',\n",
    " 'combo maxi ',\n",
    " 'crochet maxi ',\n",
    " 'cutout maxi ',\n",
    " 'embroidered maxi ',\n",
    " 'floral maxi ',\n",
    " 'flounce maxi ',\n",
    " 'gauze maxi ',\n",
    " 'high-slit maxi ',\n",
    " 'knit maxi ',\n",
    " 'lace maxi ',\n",
    " 'm-slit maxi ',\n",
    " 'maxi ', 'longline ']"
   ]
  },
  {
   "cell_type": "code",
   "execution_count": 11,
   "metadata": {},
   "outputs": [],
   "source": [
    "if 'temp' in df_skirt_attr_combined:\n",
    "    df_skirt_attr_combined = df_skirt_attr_combined.drop(['temp'], axis=1)\n",
    "    \n",
    "df_skirt_attr_combined.insert(loc=0,\n",
    "                              column='temp',\n",
    "                              value=((df_skirt_attr_combined[lst_long_skirt[0]] == 1) | (df_skirt_attr_combined[lst_long_skirt[1]] == 1)).astype(int).replace(0, -1)\n",
    "                             )\n",
    "\n",
    "#print(set((df_skirt_attr_combined['temp'] == 1)))\n",
    "\n",
    "for i in range(2,len(lst_long_skirt)):\n",
    "    df_skirt_attr_combined['temp'] = ((df_skirt_attr_combined['temp'] == 1) | (df_skirt_attr_combined[lst_long_skirt[i]] == 1)).astype(int).replace(0, -1)\n",
    "    #print(set((df_skirt_attr_combined['temp'] == 1)))\n",
    "\n",
    "df_skirt_attr_combined_temp.insert(loc = 2,column='long', value= (df_skirt_attr_combined['temp']))\n",
    "\n",
    "df_skirt_attr_combined = df_skirt_attr_combined.drop(['temp'], axis=1)"
   ]
  },
  {
   "cell_type": "code",
   "execution_count": 12,
   "metadata": {},
   "outputs": [
    {
     "data": {
      "text/html": [
       "<div>\n",
       "<style scoped>\n",
       "    .dataframe tbody tr th:only-of-type {\n",
       "        vertical-align: middle;\n",
       "    }\n",
       "\n",
       "    .dataframe tbody tr th {\n",
       "        vertical-align: top;\n",
       "    }\n",
       "\n",
       "    .dataframe thead th {\n",
       "        text-align: right;\n",
       "    }\n",
       "</style>\n",
       "<table border=\"1\" class=\"dataframe\">\n",
       "  <thead>\n",
       "    <tr style=\"text-align: right;\">\n",
       "      <th></th>\n",
       "      <th>image_name</th>\n",
       "      <th>category_name</th>\n",
       "      <th>long</th>\n",
       "      <th>category_label</th>\n",
       "    </tr>\n",
       "  </thead>\n",
       "  <tbody>\n",
       "    <tr>\n",
       "      <th>0</th>\n",
       "      <td>Abstract_Brushstroke_Print_Pencil_Skirt_img_00...</td>\n",
       "      <td>skirt</td>\n",
       "      <td>-1</td>\n",
       "      <td>8</td>\n",
       "    </tr>\n",
       "    <tr>\n",
       "      <th>1</th>\n",
       "      <td>Abstract_Brushstroke_Print_Pencil_Skirt_img_00...</td>\n",
       "      <td>skirt</td>\n",
       "      <td>-1</td>\n",
       "      <td>8</td>\n",
       "    </tr>\n",
       "    <tr>\n",
       "      <th>2</th>\n",
       "      <td>Abstract_Brushstroke_Print_Pencil_Skirt_img_00...</td>\n",
       "      <td>skirt</td>\n",
       "      <td>-1</td>\n",
       "      <td>8</td>\n",
       "    </tr>\n",
       "    <tr>\n",
       "      <th>3</th>\n",
       "      <td>Abstract_Brushstroke_Print_Pencil_Skirt_img_00...</td>\n",
       "      <td>skirt</td>\n",
       "      <td>1</td>\n",
       "      <td>8</td>\n",
       "    </tr>\n",
       "    <tr>\n",
       "      <th>4</th>\n",
       "      <td>Abstract_Brushstroke_Print_Pencil_Skirt_img_00...</td>\n",
       "      <td>skirt</td>\n",
       "      <td>-1</td>\n",
       "      <td>8</td>\n",
       "    </tr>\n",
       "  </tbody>\n",
       "</table>\n",
       "</div>"
      ],
      "text/plain": [
       "                                          image_name category_name  long  \\\n",
       "0  Abstract_Brushstroke_Print_Pencil_Skirt_img_00...         skirt    -1   \n",
       "1  Abstract_Brushstroke_Print_Pencil_Skirt_img_00...         skirt    -1   \n",
       "2  Abstract_Brushstroke_Print_Pencil_Skirt_img_00...         skirt    -1   \n",
       "3  Abstract_Brushstroke_Print_Pencil_Skirt_img_00...         skirt     1   \n",
       "4  Abstract_Brushstroke_Print_Pencil_Skirt_img_00...         skirt    -1   \n",
       "\n",
       "   category_label  \n",
       "0               8  \n",
       "1               8  \n",
       "2               8  \n",
       "3               8  \n",
       "4               8  "
      ]
     },
     "execution_count": 12,
     "metadata": {},
     "output_type": "execute_result"
    }
   ],
   "source": [
    "df_skirt_attr_combined_temp.head()"
   ]
  },
  {
   "cell_type": "code",
   "execution_count": 41,
   "metadata": {},
   "outputs": [],
   "source": [
    "df_attr_category_combined.drop(['long'], axis=1, inplace=True)"
   ]
  },
  {
   "cell_type": "code",
   "execution_count": 42,
   "metadata": {},
   "outputs": [],
   "source": [
    "df_attr_category_combined.insert(3, 'long',np.NaN )"
   ]
  },
  {
   "cell_type": "code",
   "execution_count": 43,
   "metadata": {
    "collapsed": true
   },
   "outputs": [
    {
     "data": {
      "text/html": [
       "<div>\n",
       "<style scoped>\n",
       "    .dataframe tbody tr th:only-of-type {\n",
       "        vertical-align: middle;\n",
       "    }\n",
       "\n",
       "    .dataframe tbody tr th {\n",
       "        vertical-align: top;\n",
       "    }\n",
       "\n",
       "    .dataframe thead th {\n",
       "        text-align: right;\n",
       "    }\n",
       "</style>\n",
       "<table border=\"1\" class=\"dataframe\">\n",
       "  <thead>\n",
       "    <tr style=\"text-align: right;\">\n",
       "      <th></th>\n",
       "      <th>image_name</th>\n",
       "      <th>category_name</th>\n",
       "      <th>category_label</th>\n",
       "      <th>long</th>\n",
       "      <th>a-line</th>\n",
       "      <th>abstract</th>\n",
       "      <th>abstract chevron</th>\n",
       "      <th>abstract chevron print</th>\n",
       "      <th>abstract diamond</th>\n",
       "      <th>abstract floral</th>\n",
       "      <th>...</th>\n",
       "      <th>zeppelin</th>\n",
       "      <th>zig</th>\n",
       "      <th>zigzag</th>\n",
       "      <th>zip</th>\n",
       "      <th>zip-front</th>\n",
       "      <th>zip-pocket</th>\n",
       "      <th>zip-up</th>\n",
       "      <th>zipped</th>\n",
       "      <th>zipper</th>\n",
       "      <th>zippered</th>\n",
       "    </tr>\n",
       "  </thead>\n",
       "  <tbody>\n",
       "    <tr>\n",
       "      <th>0</th>\n",
       "      <td>1981_Graphic_Ringer_Tee_img_00000001</td>\n",
       "      <td>shirt</td>\n",
       "      <td>0</td>\n",
       "      <td>NaN</td>\n",
       "      <td>-1</td>\n",
       "      <td>-1</td>\n",
       "      <td>-1</td>\n",
       "      <td>-1</td>\n",
       "      <td>-1</td>\n",
       "      <td>-1</td>\n",
       "      <td>...</td>\n",
       "      <td>-1</td>\n",
       "      <td>-1</td>\n",
       "      <td>-1</td>\n",
       "      <td>-1</td>\n",
       "      <td>-1</td>\n",
       "      <td>-1</td>\n",
       "      <td>-1</td>\n",
       "      <td>-1</td>\n",
       "      <td>-1</td>\n",
       "      <td>-1</td>\n",
       "    </tr>\n",
       "    <tr>\n",
       "      <th>1</th>\n",
       "      <td>1981_Graphic_Ringer_Tee_img_00000002</td>\n",
       "      <td>shirt</td>\n",
       "      <td>0</td>\n",
       "      <td>NaN</td>\n",
       "      <td>-1</td>\n",
       "      <td>-1</td>\n",
       "      <td>-1</td>\n",
       "      <td>-1</td>\n",
       "      <td>-1</td>\n",
       "      <td>-1</td>\n",
       "      <td>...</td>\n",
       "      <td>-1</td>\n",
       "      <td>-1</td>\n",
       "      <td>-1</td>\n",
       "      <td>-1</td>\n",
       "      <td>-1</td>\n",
       "      <td>-1</td>\n",
       "      <td>-1</td>\n",
       "      <td>-1</td>\n",
       "      <td>-1</td>\n",
       "      <td>-1</td>\n",
       "    </tr>\n",
       "    <tr>\n",
       "      <th>2</th>\n",
       "      <td>1981_Graphic_Ringer_Tee_img_00000003</td>\n",
       "      <td>shirt</td>\n",
       "      <td>0</td>\n",
       "      <td>NaN</td>\n",
       "      <td>-1</td>\n",
       "      <td>-1</td>\n",
       "      <td>-1</td>\n",
       "      <td>-1</td>\n",
       "      <td>-1</td>\n",
       "      <td>-1</td>\n",
       "      <td>...</td>\n",
       "      <td>-1</td>\n",
       "      <td>-1</td>\n",
       "      <td>-1</td>\n",
       "      <td>-1</td>\n",
       "      <td>-1</td>\n",
       "      <td>-1</td>\n",
       "      <td>-1</td>\n",
       "      <td>-1</td>\n",
       "      <td>-1</td>\n",
       "      <td>-1</td>\n",
       "    </tr>\n",
       "    <tr>\n",
       "      <th>3</th>\n",
       "      <td>1981_Graphic_Ringer_Tee_img_00000004</td>\n",
       "      <td>shirt</td>\n",
       "      <td>0</td>\n",
       "      <td>NaN</td>\n",
       "      <td>-1</td>\n",
       "      <td>-1</td>\n",
       "      <td>-1</td>\n",
       "      <td>-1</td>\n",
       "      <td>-1</td>\n",
       "      <td>-1</td>\n",
       "      <td>...</td>\n",
       "      <td>-1</td>\n",
       "      <td>-1</td>\n",
       "      <td>-1</td>\n",
       "      <td>-1</td>\n",
       "      <td>-1</td>\n",
       "      <td>-1</td>\n",
       "      <td>-1</td>\n",
       "      <td>-1</td>\n",
       "      <td>-1</td>\n",
       "      <td>-1</td>\n",
       "    </tr>\n",
       "    <tr>\n",
       "      <th>4</th>\n",
       "      <td>1981_Graphic_Ringer_Tee_img_00000005</td>\n",
       "      <td>shirt</td>\n",
       "      <td>0</td>\n",
       "      <td>NaN</td>\n",
       "      <td>-1</td>\n",
       "      <td>-1</td>\n",
       "      <td>-1</td>\n",
       "      <td>-1</td>\n",
       "      <td>-1</td>\n",
       "      <td>-1</td>\n",
       "      <td>...</td>\n",
       "      <td>-1</td>\n",
       "      <td>-1</td>\n",
       "      <td>-1</td>\n",
       "      <td>-1</td>\n",
       "      <td>-1</td>\n",
       "      <td>-1</td>\n",
       "      <td>-1</td>\n",
       "      <td>-1</td>\n",
       "      <td>-1</td>\n",
       "      <td>-1</td>\n",
       "    </tr>\n",
       "  </tbody>\n",
       "</table>\n",
       "<p>5 rows × 1004 columns</p>\n",
       "</div>"
      ],
      "text/plain": [
       "                             image_name category_name  category_label  long  \\\n",
       "0  1981_Graphic_Ringer_Tee_img_00000001         shirt               0   NaN   \n",
       "1  1981_Graphic_Ringer_Tee_img_00000002         shirt               0   NaN   \n",
       "2  1981_Graphic_Ringer_Tee_img_00000003         shirt               0   NaN   \n",
       "3  1981_Graphic_Ringer_Tee_img_00000004         shirt               0   NaN   \n",
       "4  1981_Graphic_Ringer_Tee_img_00000005         shirt               0   NaN   \n",
       "\n",
       "   a-line   abstract   abstract chevron   abstract chevron print   \\\n",
       "0       -1         -1                 -1                       -1   \n",
       "1       -1         -1                 -1                       -1   \n",
       "2       -1         -1                 -1                       -1   \n",
       "3       -1         -1                 -1                       -1   \n",
       "4       -1         -1                 -1                       -1   \n",
       "\n",
       "   abstract diamond   abstract floral     ...      zeppelin   zig   zigzag   \\\n",
       "0                 -1                -1    ...             -1    -1       -1   \n",
       "1                 -1                -1    ...             -1    -1       -1   \n",
       "2                 -1                -1    ...             -1    -1       -1   \n",
       "3                 -1                -1    ...             -1    -1       -1   \n",
       "4                 -1                -1    ...             -1    -1       -1   \n",
       "\n",
       "   zip   zip-front   zip-pocket   zip-up   zipped   zipper   zippered   \n",
       "0    -1          -1           -1       -1       -1       -1         -1  \n",
       "1    -1          -1           -1       -1       -1       -1         -1  \n",
       "2    -1          -1           -1       -1       -1       -1         -1  \n",
       "3    -1          -1           -1       -1       -1       -1         -1  \n",
       "4    -1          -1           -1       -1       -1       -1         -1  \n",
       "\n",
       "[5 rows x 1004 columns]"
      ]
     },
     "execution_count": 43,
     "metadata": {},
     "output_type": "execute_result"
    }
   ],
   "source": [
    "df_attr_category_combined.head()"
   ]
  },
  {
   "cell_type": "code",
   "execution_count": 34,
   "metadata": {},
   "outputs": [],
   "source": [
    "set_long_name=set(df_skirt_attr_combined_temp.loc[df_skirt_attr_combined_temp['long'] == 1]['image_name'])"
   ]
  },
  {
   "cell_type": "code",
   "execution_count": 109,
   "metadata": {},
   "outputs": [],
   "source": [
    "for i,img_name in enumerate(df_attr_category_combined['image_name']):\n",
    "    #print(i)\n",
    "    if img_name in set_long_name:\n",
    "        #print(img_name)\n",
    "        #print(df_attr_category_combined.index[i])\n",
    "        #(df_attr_category_combined.loc[df_attr_category_combined['image_name'] == img_name]['long']) = 1\n",
    "        df_attr_category_combined.loc[i,'long'] = int('1')"
   ]
  },
  {
   "cell_type": "code",
   "execution_count": 110,
   "metadata": {
    "scrolled": true
   },
   "outputs": [
    {
     "data": {
      "text/html": [
       "<div>\n",
       "<style scoped>\n",
       "    .dataframe tbody tr th:only-of-type {\n",
       "        vertical-align: middle;\n",
       "    }\n",
       "\n",
       "    .dataframe tbody tr th {\n",
       "        vertical-align: top;\n",
       "    }\n",
       "\n",
       "    .dataframe thead th {\n",
       "        text-align: right;\n",
       "    }\n",
       "</style>\n",
       "<table border=\"1\" class=\"dataframe\">\n",
       "  <thead>\n",
       "    <tr style=\"text-align: right;\">\n",
       "      <th></th>\n",
       "      <th>image_name</th>\n",
       "      <th>category_name</th>\n",
       "      <th>category_label</th>\n",
       "      <th>long</th>\n",
       "      <th>a-line</th>\n",
       "      <th>abstract</th>\n",
       "      <th>abstract chevron</th>\n",
       "      <th>abstract chevron print</th>\n",
       "      <th>abstract diamond</th>\n",
       "      <th>abstract floral</th>\n",
       "      <th>...</th>\n",
       "      <th>zeppelin</th>\n",
       "      <th>zig</th>\n",
       "      <th>zigzag</th>\n",
       "      <th>zip</th>\n",
       "      <th>zip-front</th>\n",
       "      <th>zip-pocket</th>\n",
       "      <th>zip-up</th>\n",
       "      <th>zipped</th>\n",
       "      <th>zipper</th>\n",
       "      <th>zippered</th>\n",
       "    </tr>\n",
       "  </thead>\n",
       "  <tbody>\n",
       "    <tr>\n",
       "      <th>230526</th>\n",
       "      <td>Abstract_Brushstroke_Print_Pencil_Skirt_img_00...</td>\n",
       "      <td>skirt</td>\n",
       "      <td>8</td>\n",
       "      <td>1.0</td>\n",
       "      <td>1</td>\n",
       "      <td>-1</td>\n",
       "      <td>-1</td>\n",
       "      <td>-1</td>\n",
       "      <td>-1</td>\n",
       "      <td>-1</td>\n",
       "      <td>...</td>\n",
       "      <td>-1</td>\n",
       "      <td>-1</td>\n",
       "      <td>-1</td>\n",
       "      <td>-1</td>\n",
       "      <td>-1</td>\n",
       "      <td>-1</td>\n",
       "      <td>-1</td>\n",
       "      <td>-1</td>\n",
       "      <td>-1</td>\n",
       "      <td>-1</td>\n",
       "    </tr>\n",
       "  </tbody>\n",
       "</table>\n",
       "<p>1 rows × 1004 columns</p>\n",
       "</div>"
      ],
      "text/plain": [
       "                                               image_name category_name  \\\n",
       "230526  Abstract_Brushstroke_Print_Pencil_Skirt_img_00...         skirt   \n",
       "\n",
       "        category_label  long  a-line   abstract   abstract chevron   \\\n",
       "230526               8   1.0        1         -1                 -1   \n",
       "\n",
       "        abstract chevron print   abstract diamond   abstract floral   \\\n",
       "230526                       -1                 -1                -1   \n",
       "\n",
       "          ...      zeppelin   zig   zigzag   zip   zip-front   zip-pocket   \\\n",
       "230526    ...             -1    -1       -1    -1          -1           -1   \n",
       "\n",
       "        zip-up   zipped   zipper   zippered   \n",
       "230526       -1       -1       -1         -1  \n",
       "\n",
       "[1 rows x 1004 columns]"
      ]
     },
     "execution_count": 110,
     "metadata": {},
     "output_type": "execute_result"
    }
   ],
   "source": [
    "df_attr_category_combined.loc[df_attr_category_combined['image_name'] == 'Abstract_Brushstroke_Print_Pencil_Skirt_img_00000004']"
   ]
  },
  {
   "cell_type": "code",
   "execution_count": 112,
   "metadata": {},
   "outputs": [
    {
     "data": {
      "text/html": [
       "<div>\n",
       "<style scoped>\n",
       "    .dataframe tbody tr th:only-of-type {\n",
       "        vertical-align: middle;\n",
       "    }\n",
       "\n",
       "    .dataframe tbody tr th {\n",
       "        vertical-align: top;\n",
       "    }\n",
       "\n",
       "    .dataframe thead th {\n",
       "        text-align: right;\n",
       "    }\n",
       "</style>\n",
       "<table border=\"1\" class=\"dataframe\">\n",
       "  <thead>\n",
       "    <tr style=\"text-align: right;\">\n",
       "      <th></th>\n",
       "      <th>image_name</th>\n",
       "      <th>category_name</th>\n",
       "      <th>category_label</th>\n",
       "      <th>long</th>\n",
       "      <th>a-line</th>\n",
       "      <th>abstract</th>\n",
       "      <th>abstract chevron</th>\n",
       "      <th>abstract chevron print</th>\n",
       "      <th>abstract diamond</th>\n",
       "      <th>abstract floral</th>\n",
       "      <th>...</th>\n",
       "      <th>zeppelin</th>\n",
       "      <th>zig</th>\n",
       "      <th>zigzag</th>\n",
       "      <th>zip</th>\n",
       "      <th>zip-front</th>\n",
       "      <th>zip-pocket</th>\n",
       "      <th>zip-up</th>\n",
       "      <th>zipped</th>\n",
       "      <th>zipper</th>\n",
       "      <th>zippered</th>\n",
       "    </tr>\n",
       "  </thead>\n",
       "  <tbody>\n",
       "    <tr>\n",
       "      <th>0</th>\n",
       "      <td>1981_Graphic_Ringer_Tee_img_00000001</td>\n",
       "      <td>shirt</td>\n",
       "      <td>0</td>\n",
       "      <td>NaN</td>\n",
       "      <td>-1</td>\n",
       "      <td>-1</td>\n",
       "      <td>-1</td>\n",
       "      <td>-1</td>\n",
       "      <td>-1</td>\n",
       "      <td>-1</td>\n",
       "      <td>...</td>\n",
       "      <td>-1</td>\n",
       "      <td>-1</td>\n",
       "      <td>-1</td>\n",
       "      <td>-1</td>\n",
       "      <td>-1</td>\n",
       "      <td>-1</td>\n",
       "      <td>-1</td>\n",
       "      <td>-1</td>\n",
       "      <td>-1</td>\n",
       "      <td>-1</td>\n",
       "    </tr>\n",
       "    <tr>\n",
       "      <th>1</th>\n",
       "      <td>1981_Graphic_Ringer_Tee_img_00000002</td>\n",
       "      <td>shirt</td>\n",
       "      <td>0</td>\n",
       "      <td>NaN</td>\n",
       "      <td>-1</td>\n",
       "      <td>-1</td>\n",
       "      <td>-1</td>\n",
       "      <td>-1</td>\n",
       "      <td>-1</td>\n",
       "      <td>-1</td>\n",
       "      <td>...</td>\n",
       "      <td>-1</td>\n",
       "      <td>-1</td>\n",
       "      <td>-1</td>\n",
       "      <td>-1</td>\n",
       "      <td>-1</td>\n",
       "      <td>-1</td>\n",
       "      <td>-1</td>\n",
       "      <td>-1</td>\n",
       "      <td>-1</td>\n",
       "      <td>-1</td>\n",
       "    </tr>\n",
       "    <tr>\n",
       "      <th>2</th>\n",
       "      <td>1981_Graphic_Ringer_Tee_img_00000003</td>\n",
       "      <td>shirt</td>\n",
       "      <td>0</td>\n",
       "      <td>NaN</td>\n",
       "      <td>-1</td>\n",
       "      <td>-1</td>\n",
       "      <td>-1</td>\n",
       "      <td>-1</td>\n",
       "      <td>-1</td>\n",
       "      <td>-1</td>\n",
       "      <td>...</td>\n",
       "      <td>-1</td>\n",
       "      <td>-1</td>\n",
       "      <td>-1</td>\n",
       "      <td>-1</td>\n",
       "      <td>-1</td>\n",
       "      <td>-1</td>\n",
       "      <td>-1</td>\n",
       "      <td>-1</td>\n",
       "      <td>-1</td>\n",
       "      <td>-1</td>\n",
       "    </tr>\n",
       "    <tr>\n",
       "      <th>3</th>\n",
       "      <td>1981_Graphic_Ringer_Tee_img_00000004</td>\n",
       "      <td>shirt</td>\n",
       "      <td>0</td>\n",
       "      <td>NaN</td>\n",
       "      <td>-1</td>\n",
       "      <td>-1</td>\n",
       "      <td>-1</td>\n",
       "      <td>-1</td>\n",
       "      <td>-1</td>\n",
       "      <td>-1</td>\n",
       "      <td>...</td>\n",
       "      <td>-1</td>\n",
       "      <td>-1</td>\n",
       "      <td>-1</td>\n",
       "      <td>-1</td>\n",
       "      <td>-1</td>\n",
       "      <td>-1</td>\n",
       "      <td>-1</td>\n",
       "      <td>-1</td>\n",
       "      <td>-1</td>\n",
       "      <td>-1</td>\n",
       "    </tr>\n",
       "    <tr>\n",
       "      <th>4</th>\n",
       "      <td>1981_Graphic_Ringer_Tee_img_00000005</td>\n",
       "      <td>shirt</td>\n",
       "      <td>0</td>\n",
       "      <td>NaN</td>\n",
       "      <td>-1</td>\n",
       "      <td>-1</td>\n",
       "      <td>-1</td>\n",
       "      <td>-1</td>\n",
       "      <td>-1</td>\n",
       "      <td>-1</td>\n",
       "      <td>...</td>\n",
       "      <td>-1</td>\n",
       "      <td>-1</td>\n",
       "      <td>-1</td>\n",
       "      <td>-1</td>\n",
       "      <td>-1</td>\n",
       "      <td>-1</td>\n",
       "      <td>-1</td>\n",
       "      <td>-1</td>\n",
       "      <td>-1</td>\n",
       "      <td>-1</td>\n",
       "    </tr>\n",
       "  </tbody>\n",
       "</table>\n",
       "<p>5 rows × 1004 columns</p>\n",
       "</div>"
      ],
      "text/plain": [
       "                             image_name category_name  category_label  long  \\\n",
       "0  1981_Graphic_Ringer_Tee_img_00000001         shirt               0   NaN   \n",
       "1  1981_Graphic_Ringer_Tee_img_00000002         shirt               0   NaN   \n",
       "2  1981_Graphic_Ringer_Tee_img_00000003         shirt               0   NaN   \n",
       "3  1981_Graphic_Ringer_Tee_img_00000004         shirt               0   NaN   \n",
       "4  1981_Graphic_Ringer_Tee_img_00000005         shirt               0   NaN   \n",
       "\n",
       "   a-line   abstract   abstract chevron   abstract chevron print   \\\n",
       "0       -1         -1                 -1                       -1   \n",
       "1       -1         -1                 -1                       -1   \n",
       "2       -1         -1                 -1                       -1   \n",
       "3       -1         -1                 -1                       -1   \n",
       "4       -1         -1                 -1                       -1   \n",
       "\n",
       "   abstract diamond   abstract floral     ...      zeppelin   zig   zigzag   \\\n",
       "0                 -1                -1    ...             -1    -1       -1   \n",
       "1                 -1                -1    ...             -1    -1       -1   \n",
       "2                 -1                -1    ...             -1    -1       -1   \n",
       "3                 -1                -1    ...             -1    -1       -1   \n",
       "4                 -1                -1    ...             -1    -1       -1   \n",
       "\n",
       "   zip   zip-front   zip-pocket   zip-up   zipped   zipper   zippered   \n",
       "0    -1          -1           -1       -1       -1       -1         -1  \n",
       "1    -1          -1           -1       -1       -1       -1         -1  \n",
       "2    -1          -1           -1       -1       -1       -1         -1  \n",
       "3    -1          -1           -1       -1       -1       -1         -1  \n",
       "4    -1          -1           -1       -1       -1       -1         -1  \n",
       "\n",
       "[5 rows x 1004 columns]"
      ]
     },
     "execution_count": 112,
     "metadata": {},
     "output_type": "execute_result"
    }
   ],
   "source": [
    "df_attr_category_combined.head()"
   ]
  },
  {
   "cell_type": "code",
   "execution_count": 113,
   "metadata": {},
   "outputs": [],
   "source": [
    "df_attr_category_combined.fillna(value = -1, inplace = True)"
   ]
  },
  {
   "cell_type": "code",
   "execution_count": 114,
   "metadata": {},
   "outputs": [
    {
     "data": {
      "text/html": [
       "<div>\n",
       "<style scoped>\n",
       "    .dataframe tbody tr th:only-of-type {\n",
       "        vertical-align: middle;\n",
       "    }\n",
       "\n",
       "    .dataframe tbody tr th {\n",
       "        vertical-align: top;\n",
       "    }\n",
       "\n",
       "    .dataframe thead th {\n",
       "        text-align: right;\n",
       "    }\n",
       "</style>\n",
       "<table border=\"1\" class=\"dataframe\">\n",
       "  <thead>\n",
       "    <tr style=\"text-align: right;\">\n",
       "      <th></th>\n",
       "      <th>image_name</th>\n",
       "      <th>category_name</th>\n",
       "      <th>category_label</th>\n",
       "      <th>long</th>\n",
       "      <th>a-line</th>\n",
       "      <th>abstract</th>\n",
       "      <th>abstract chevron</th>\n",
       "      <th>abstract chevron print</th>\n",
       "      <th>abstract diamond</th>\n",
       "      <th>abstract floral</th>\n",
       "      <th>...</th>\n",
       "      <th>zeppelin</th>\n",
       "      <th>zig</th>\n",
       "      <th>zigzag</th>\n",
       "      <th>zip</th>\n",
       "      <th>zip-front</th>\n",
       "      <th>zip-pocket</th>\n",
       "      <th>zip-up</th>\n",
       "      <th>zipped</th>\n",
       "      <th>zipper</th>\n",
       "      <th>zippered</th>\n",
       "    </tr>\n",
       "  </thead>\n",
       "  <tbody>\n",
       "    <tr>\n",
       "      <th>0</th>\n",
       "      <td>1981_Graphic_Ringer_Tee_img_00000001</td>\n",
       "      <td>shirt</td>\n",
       "      <td>0</td>\n",
       "      <td>-1.0</td>\n",
       "      <td>-1</td>\n",
       "      <td>-1</td>\n",
       "      <td>-1</td>\n",
       "      <td>-1</td>\n",
       "      <td>-1</td>\n",
       "      <td>-1</td>\n",
       "      <td>...</td>\n",
       "      <td>-1</td>\n",
       "      <td>-1</td>\n",
       "      <td>-1</td>\n",
       "      <td>-1</td>\n",
       "      <td>-1</td>\n",
       "      <td>-1</td>\n",
       "      <td>-1</td>\n",
       "      <td>-1</td>\n",
       "      <td>-1</td>\n",
       "      <td>-1</td>\n",
       "    </tr>\n",
       "    <tr>\n",
       "      <th>1</th>\n",
       "      <td>1981_Graphic_Ringer_Tee_img_00000002</td>\n",
       "      <td>shirt</td>\n",
       "      <td>0</td>\n",
       "      <td>-1.0</td>\n",
       "      <td>-1</td>\n",
       "      <td>-1</td>\n",
       "      <td>-1</td>\n",
       "      <td>-1</td>\n",
       "      <td>-1</td>\n",
       "      <td>-1</td>\n",
       "      <td>...</td>\n",
       "      <td>-1</td>\n",
       "      <td>-1</td>\n",
       "      <td>-1</td>\n",
       "      <td>-1</td>\n",
       "      <td>-1</td>\n",
       "      <td>-1</td>\n",
       "      <td>-1</td>\n",
       "      <td>-1</td>\n",
       "      <td>-1</td>\n",
       "      <td>-1</td>\n",
       "    </tr>\n",
       "    <tr>\n",
       "      <th>2</th>\n",
       "      <td>1981_Graphic_Ringer_Tee_img_00000003</td>\n",
       "      <td>shirt</td>\n",
       "      <td>0</td>\n",
       "      <td>-1.0</td>\n",
       "      <td>-1</td>\n",
       "      <td>-1</td>\n",
       "      <td>-1</td>\n",
       "      <td>-1</td>\n",
       "      <td>-1</td>\n",
       "      <td>-1</td>\n",
       "      <td>...</td>\n",
       "      <td>-1</td>\n",
       "      <td>-1</td>\n",
       "      <td>-1</td>\n",
       "      <td>-1</td>\n",
       "      <td>-1</td>\n",
       "      <td>-1</td>\n",
       "      <td>-1</td>\n",
       "      <td>-1</td>\n",
       "      <td>-1</td>\n",
       "      <td>-1</td>\n",
       "    </tr>\n",
       "    <tr>\n",
       "      <th>3</th>\n",
       "      <td>1981_Graphic_Ringer_Tee_img_00000004</td>\n",
       "      <td>shirt</td>\n",
       "      <td>0</td>\n",
       "      <td>-1.0</td>\n",
       "      <td>-1</td>\n",
       "      <td>-1</td>\n",
       "      <td>-1</td>\n",
       "      <td>-1</td>\n",
       "      <td>-1</td>\n",
       "      <td>-1</td>\n",
       "      <td>...</td>\n",
       "      <td>-1</td>\n",
       "      <td>-1</td>\n",
       "      <td>-1</td>\n",
       "      <td>-1</td>\n",
       "      <td>-1</td>\n",
       "      <td>-1</td>\n",
       "      <td>-1</td>\n",
       "      <td>-1</td>\n",
       "      <td>-1</td>\n",
       "      <td>-1</td>\n",
       "    </tr>\n",
       "    <tr>\n",
       "      <th>4</th>\n",
       "      <td>1981_Graphic_Ringer_Tee_img_00000005</td>\n",
       "      <td>shirt</td>\n",
       "      <td>0</td>\n",
       "      <td>-1.0</td>\n",
       "      <td>-1</td>\n",
       "      <td>-1</td>\n",
       "      <td>-1</td>\n",
       "      <td>-1</td>\n",
       "      <td>-1</td>\n",
       "      <td>-1</td>\n",
       "      <td>...</td>\n",
       "      <td>-1</td>\n",
       "      <td>-1</td>\n",
       "      <td>-1</td>\n",
       "      <td>-1</td>\n",
       "      <td>-1</td>\n",
       "      <td>-1</td>\n",
       "      <td>-1</td>\n",
       "      <td>-1</td>\n",
       "      <td>-1</td>\n",
       "      <td>-1</td>\n",
       "    </tr>\n",
       "  </tbody>\n",
       "</table>\n",
       "<p>5 rows × 1004 columns</p>\n",
       "</div>"
      ],
      "text/plain": [
       "                             image_name category_name  category_label  long  \\\n",
       "0  1981_Graphic_Ringer_Tee_img_00000001         shirt               0  -1.0   \n",
       "1  1981_Graphic_Ringer_Tee_img_00000002         shirt               0  -1.0   \n",
       "2  1981_Graphic_Ringer_Tee_img_00000003         shirt               0  -1.0   \n",
       "3  1981_Graphic_Ringer_Tee_img_00000004         shirt               0  -1.0   \n",
       "4  1981_Graphic_Ringer_Tee_img_00000005         shirt               0  -1.0   \n",
       "\n",
       "   a-line   abstract   abstract chevron   abstract chevron print   \\\n",
       "0       -1         -1                 -1                       -1   \n",
       "1       -1         -1                 -1                       -1   \n",
       "2       -1         -1                 -1                       -1   \n",
       "3       -1         -1                 -1                       -1   \n",
       "4       -1         -1                 -1                       -1   \n",
       "\n",
       "   abstract diamond   abstract floral     ...      zeppelin   zig   zigzag   \\\n",
       "0                 -1                -1    ...             -1    -1       -1   \n",
       "1                 -1                -1    ...             -1    -1       -1   \n",
       "2                 -1                -1    ...             -1    -1       -1   \n",
       "3                 -1                -1    ...             -1    -1       -1   \n",
       "4                 -1                -1    ...             -1    -1       -1   \n",
       "\n",
       "   zip   zip-front   zip-pocket   zip-up   zipped   zipper   zippered   \n",
       "0    -1          -1           -1       -1       -1       -1         -1  \n",
       "1    -1          -1           -1       -1       -1       -1         -1  \n",
       "2    -1          -1           -1       -1       -1       -1         -1  \n",
       "3    -1          -1           -1       -1       -1       -1         -1  \n",
       "4    -1          -1           -1       -1       -1       -1         -1  \n",
       "\n",
       "[5 rows x 1004 columns]"
      ]
     },
     "execution_count": 114,
     "metadata": {},
     "output_type": "execute_result"
    }
   ],
   "source": [
    "df_attr_category_combined.head()"
   ]
  },
  {
   "cell_type": "code",
   "execution_count": 115,
   "metadata": {},
   "outputs": [],
   "source": [
    "df_attr_category_combined['long'] = df_attr_category_combined['long'].astype(int)"
   ]
  },
  {
   "cell_type": "code",
   "execution_count": 116,
   "metadata": {},
   "outputs": [
    {
     "data": {
      "text/html": [
       "<div>\n",
       "<style scoped>\n",
       "    .dataframe tbody tr th:only-of-type {\n",
       "        vertical-align: middle;\n",
       "    }\n",
       "\n",
       "    .dataframe tbody tr th {\n",
       "        vertical-align: top;\n",
       "    }\n",
       "\n",
       "    .dataframe thead th {\n",
       "        text-align: right;\n",
       "    }\n",
       "</style>\n",
       "<table border=\"1\" class=\"dataframe\">\n",
       "  <thead>\n",
       "    <tr style=\"text-align: right;\">\n",
       "      <th></th>\n",
       "      <th>image_name</th>\n",
       "      <th>category_name</th>\n",
       "      <th>category_label</th>\n",
       "      <th>long</th>\n",
       "      <th>a-line</th>\n",
       "      <th>abstract</th>\n",
       "      <th>abstract chevron</th>\n",
       "      <th>abstract chevron print</th>\n",
       "      <th>abstract diamond</th>\n",
       "      <th>abstract floral</th>\n",
       "      <th>...</th>\n",
       "      <th>zeppelin</th>\n",
       "      <th>zig</th>\n",
       "      <th>zigzag</th>\n",
       "      <th>zip</th>\n",
       "      <th>zip-front</th>\n",
       "      <th>zip-pocket</th>\n",
       "      <th>zip-up</th>\n",
       "      <th>zipped</th>\n",
       "      <th>zipper</th>\n",
       "      <th>zippered</th>\n",
       "    </tr>\n",
       "  </thead>\n",
       "  <tbody>\n",
       "    <tr>\n",
       "      <th>0</th>\n",
       "      <td>1981_Graphic_Ringer_Tee_img_00000001</td>\n",
       "      <td>shirt</td>\n",
       "      <td>0</td>\n",
       "      <td>-1</td>\n",
       "      <td>-1</td>\n",
       "      <td>-1</td>\n",
       "      <td>-1</td>\n",
       "      <td>-1</td>\n",
       "      <td>-1</td>\n",
       "      <td>-1</td>\n",
       "      <td>...</td>\n",
       "      <td>-1</td>\n",
       "      <td>-1</td>\n",
       "      <td>-1</td>\n",
       "      <td>-1</td>\n",
       "      <td>-1</td>\n",
       "      <td>-1</td>\n",
       "      <td>-1</td>\n",
       "      <td>-1</td>\n",
       "      <td>-1</td>\n",
       "      <td>-1</td>\n",
       "    </tr>\n",
       "    <tr>\n",
       "      <th>1</th>\n",
       "      <td>1981_Graphic_Ringer_Tee_img_00000002</td>\n",
       "      <td>shirt</td>\n",
       "      <td>0</td>\n",
       "      <td>-1</td>\n",
       "      <td>-1</td>\n",
       "      <td>-1</td>\n",
       "      <td>-1</td>\n",
       "      <td>-1</td>\n",
       "      <td>-1</td>\n",
       "      <td>-1</td>\n",
       "      <td>...</td>\n",
       "      <td>-1</td>\n",
       "      <td>-1</td>\n",
       "      <td>-1</td>\n",
       "      <td>-1</td>\n",
       "      <td>-1</td>\n",
       "      <td>-1</td>\n",
       "      <td>-1</td>\n",
       "      <td>-1</td>\n",
       "      <td>-1</td>\n",
       "      <td>-1</td>\n",
       "    </tr>\n",
       "    <tr>\n",
       "      <th>2</th>\n",
       "      <td>1981_Graphic_Ringer_Tee_img_00000003</td>\n",
       "      <td>shirt</td>\n",
       "      <td>0</td>\n",
       "      <td>-1</td>\n",
       "      <td>-1</td>\n",
       "      <td>-1</td>\n",
       "      <td>-1</td>\n",
       "      <td>-1</td>\n",
       "      <td>-1</td>\n",
       "      <td>-1</td>\n",
       "      <td>...</td>\n",
       "      <td>-1</td>\n",
       "      <td>-1</td>\n",
       "      <td>-1</td>\n",
       "      <td>-1</td>\n",
       "      <td>-1</td>\n",
       "      <td>-1</td>\n",
       "      <td>-1</td>\n",
       "      <td>-1</td>\n",
       "      <td>-1</td>\n",
       "      <td>-1</td>\n",
       "    </tr>\n",
       "    <tr>\n",
       "      <th>3</th>\n",
       "      <td>1981_Graphic_Ringer_Tee_img_00000004</td>\n",
       "      <td>shirt</td>\n",
       "      <td>0</td>\n",
       "      <td>-1</td>\n",
       "      <td>-1</td>\n",
       "      <td>-1</td>\n",
       "      <td>-1</td>\n",
       "      <td>-1</td>\n",
       "      <td>-1</td>\n",
       "      <td>-1</td>\n",
       "      <td>...</td>\n",
       "      <td>-1</td>\n",
       "      <td>-1</td>\n",
       "      <td>-1</td>\n",
       "      <td>-1</td>\n",
       "      <td>-1</td>\n",
       "      <td>-1</td>\n",
       "      <td>-1</td>\n",
       "      <td>-1</td>\n",
       "      <td>-1</td>\n",
       "      <td>-1</td>\n",
       "    </tr>\n",
       "    <tr>\n",
       "      <th>4</th>\n",
       "      <td>1981_Graphic_Ringer_Tee_img_00000005</td>\n",
       "      <td>shirt</td>\n",
       "      <td>0</td>\n",
       "      <td>-1</td>\n",
       "      <td>-1</td>\n",
       "      <td>-1</td>\n",
       "      <td>-1</td>\n",
       "      <td>-1</td>\n",
       "      <td>-1</td>\n",
       "      <td>-1</td>\n",
       "      <td>...</td>\n",
       "      <td>-1</td>\n",
       "      <td>-1</td>\n",
       "      <td>-1</td>\n",
       "      <td>-1</td>\n",
       "      <td>-1</td>\n",
       "      <td>-1</td>\n",
       "      <td>-1</td>\n",
       "      <td>-1</td>\n",
       "      <td>-1</td>\n",
       "      <td>-1</td>\n",
       "    </tr>\n",
       "  </tbody>\n",
       "</table>\n",
       "<p>5 rows × 1004 columns</p>\n",
       "</div>"
      ],
      "text/plain": [
       "                             image_name category_name  category_label  long  \\\n",
       "0  1981_Graphic_Ringer_Tee_img_00000001         shirt               0    -1   \n",
       "1  1981_Graphic_Ringer_Tee_img_00000002         shirt               0    -1   \n",
       "2  1981_Graphic_Ringer_Tee_img_00000003         shirt               0    -1   \n",
       "3  1981_Graphic_Ringer_Tee_img_00000004         shirt               0    -1   \n",
       "4  1981_Graphic_Ringer_Tee_img_00000005         shirt               0    -1   \n",
       "\n",
       "   a-line   abstract   abstract chevron   abstract chevron print   \\\n",
       "0       -1         -1                 -1                       -1   \n",
       "1       -1         -1                 -1                       -1   \n",
       "2       -1         -1                 -1                       -1   \n",
       "3       -1         -1                 -1                       -1   \n",
       "4       -1         -1                 -1                       -1   \n",
       "\n",
       "   abstract diamond   abstract floral     ...      zeppelin   zig   zigzag   \\\n",
       "0                 -1                -1    ...             -1    -1       -1   \n",
       "1                 -1                -1    ...             -1    -1       -1   \n",
       "2                 -1                -1    ...             -1    -1       -1   \n",
       "3                 -1                -1    ...             -1    -1       -1   \n",
       "4                 -1                -1    ...             -1    -1       -1   \n",
       "\n",
       "   zip   zip-front   zip-pocket   zip-up   zipped   zipper   zippered   \n",
       "0    -1          -1           -1       -1       -1       -1         -1  \n",
       "1    -1          -1           -1       -1       -1       -1         -1  \n",
       "2    -1          -1           -1       -1       -1       -1         -1  \n",
       "3    -1          -1           -1       -1       -1       -1         -1  \n",
       "4    -1          -1           -1       -1       -1       -1         -1  \n",
       "\n",
       "[5 rows x 1004 columns]"
      ]
     },
     "execution_count": 116,
     "metadata": {},
     "output_type": "execute_result"
    }
   ],
   "source": [
    "df_attr_category_combined.head()"
   ]
  },
  {
   "cell_type": "code",
   "execution_count": null,
   "metadata": {},
   "outputs": [],
   "source": []
  },
  {
   "cell_type": "code",
   "execution_count": null,
   "metadata": {},
   "outputs": [],
   "source": []
  },
  {
   "cell_type": "code",
   "execution_count": null,
   "metadata": {},
   "outputs": [],
   "source": []
  },
  {
   "cell_type": "code",
   "execution_count": null,
   "metadata": {},
   "outputs": [],
   "source": []
  },
  {
   "cell_type": "markdown",
   "metadata": {},
   "source": [
    "## short"
   ]
  },
  {
   "cell_type": "code",
   "execution_count": 166,
   "metadata": {},
   "outputs": [],
   "source": [
    "df_attr_category_combined_temp = df_attr_category_combined"
   ]
  },
  {
   "cell_type": "code",
   "execution_count": 167,
   "metadata": {},
   "outputs": [],
   "source": [
    "df_attr_category_combined_temp.set_index('image_name', inplace= True)"
   ]
  },
  {
   "cell_type": "code",
   "execution_count": 66,
   "metadata": {},
   "outputs": [],
   "source": [
    "lst_short = df_attr_category_combined.filter(like='Shorts', axis=0).index.tolist()"
   ]
  },
  {
   "cell_type": "code",
   "execution_count": 67,
   "metadata": {},
   "outputs": [],
   "source": [
    "lst_short.append(df_attr_category_combined.filter(like='shorts', axis=0).index.tolist())\n",
    "lst_short.append(df_attr_category_combined.filter(like='Trunk', axis=0).index.tolist())"
   ]
  },
  {
   "cell_type": "code",
   "execution_count": 68,
   "metadata": {},
   "outputs": [
    {
     "data": {
      "text/plain": [
       "3308"
      ]
     },
     "execution_count": 68,
     "metadata": {},
     "output_type": "execute_result"
    }
   ],
   "source": [
    "len(lst_short)"
   ]
  },
  {
   "cell_type": "code",
   "execution_count": 69,
   "metadata": {},
   "outputs": [],
   "source": [
    "df_short = df_attr_category_combined_temp[df_attr_category_combined_temp.index.isin(lst_short)]"
   ]
  },
  {
   "cell_type": "code",
   "execution_count": 70,
   "metadata": {},
   "outputs": [],
   "source": [
    "df_short.insert(2,  'short', value=1)"
   ]
  },
  {
   "cell_type": "code",
   "execution_count": 71,
   "metadata": {},
   "outputs": [
    {
     "data": {
      "text/html": [
       "<div>\n",
       "<style scoped>\n",
       "    .dataframe tbody tr th:only-of-type {\n",
       "        vertical-align: middle;\n",
       "    }\n",
       "\n",
       "    .dataframe tbody tr th {\n",
       "        vertical-align: top;\n",
       "    }\n",
       "\n",
       "    .dataframe thead th {\n",
       "        text-align: right;\n",
       "    }\n",
       "</style>\n",
       "<table border=\"1\" class=\"dataframe\">\n",
       "  <thead>\n",
       "    <tr style=\"text-align: right;\">\n",
       "      <th></th>\n",
       "      <th>category_name</th>\n",
       "      <th>category_label</th>\n",
       "      <th>short</th>\n",
       "      <th>a-line</th>\n",
       "      <th>abstract</th>\n",
       "      <th>abstract chevron</th>\n",
       "      <th>abstract chevron print</th>\n",
       "      <th>abstract diamond</th>\n",
       "      <th>abstract floral</th>\n",
       "      <th>abstract floral print</th>\n",
       "      <th>...</th>\n",
       "      <th>zeppelin</th>\n",
       "      <th>zig</th>\n",
       "      <th>zigzag</th>\n",
       "      <th>zip</th>\n",
       "      <th>zip-front</th>\n",
       "      <th>zip-pocket</th>\n",
       "      <th>zip-up</th>\n",
       "      <th>zipped</th>\n",
       "      <th>zipper</th>\n",
       "      <th>zippered</th>\n",
       "    </tr>\n",
       "    <tr>\n",
       "      <th>image_name</th>\n",
       "      <th></th>\n",
       "      <th></th>\n",
       "      <th></th>\n",
       "      <th></th>\n",
       "      <th></th>\n",
       "      <th></th>\n",
       "      <th></th>\n",
       "      <th></th>\n",
       "      <th></th>\n",
       "      <th></th>\n",
       "      <th></th>\n",
       "      <th></th>\n",
       "      <th></th>\n",
       "      <th></th>\n",
       "      <th></th>\n",
       "      <th></th>\n",
       "      <th></th>\n",
       "      <th></th>\n",
       "      <th></th>\n",
       "      <th></th>\n",
       "      <th></th>\n",
       "    </tr>\n",
       "  </thead>\n",
       "  <tbody>\n",
       "    <tr>\n",
       "      <th>Baroque_Print_Drawstring_Shorts_img_00000001</th>\n",
       "      <td>pants</td>\n",
       "      <td>7</td>\n",
       "      <td>1</td>\n",
       "      <td>-1</td>\n",
       "      <td>-1</td>\n",
       "      <td>-1</td>\n",
       "      <td>-1</td>\n",
       "      <td>-1</td>\n",
       "      <td>-1</td>\n",
       "      <td>-1</td>\n",
       "      <td>...</td>\n",
       "      <td>-1</td>\n",
       "      <td>-1</td>\n",
       "      <td>-1</td>\n",
       "      <td>-1</td>\n",
       "      <td>-1</td>\n",
       "      <td>-1</td>\n",
       "      <td>-1</td>\n",
       "      <td>-1</td>\n",
       "      <td>-1</td>\n",
       "      <td>-1</td>\n",
       "    </tr>\n",
       "    <tr>\n",
       "      <th>Baroque_Print_Drawstring_Shorts_img_00000002</th>\n",
       "      <td>pants</td>\n",
       "      <td>7</td>\n",
       "      <td>1</td>\n",
       "      <td>-1</td>\n",
       "      <td>-1</td>\n",
       "      <td>-1</td>\n",
       "      <td>-1</td>\n",
       "      <td>-1</td>\n",
       "      <td>-1</td>\n",
       "      <td>-1</td>\n",
       "      <td>...</td>\n",
       "      <td>-1</td>\n",
       "      <td>-1</td>\n",
       "      <td>-1</td>\n",
       "      <td>-1</td>\n",
       "      <td>-1</td>\n",
       "      <td>-1</td>\n",
       "      <td>-1</td>\n",
       "      <td>-1</td>\n",
       "      <td>-1</td>\n",
       "      <td>-1</td>\n",
       "    </tr>\n",
       "    <tr>\n",
       "      <th>Baroque_Print_Drawstring_Shorts_img_00000003</th>\n",
       "      <td>pants</td>\n",
       "      <td>7</td>\n",
       "      <td>1</td>\n",
       "      <td>-1</td>\n",
       "      <td>-1</td>\n",
       "      <td>-1</td>\n",
       "      <td>-1</td>\n",
       "      <td>-1</td>\n",
       "      <td>-1</td>\n",
       "      <td>-1</td>\n",
       "      <td>...</td>\n",
       "      <td>-1</td>\n",
       "      <td>-1</td>\n",
       "      <td>-1</td>\n",
       "      <td>-1</td>\n",
       "      <td>-1</td>\n",
       "      <td>-1</td>\n",
       "      <td>-1</td>\n",
       "      <td>-1</td>\n",
       "      <td>-1</td>\n",
       "      <td>-1</td>\n",
       "    </tr>\n",
       "    <tr>\n",
       "      <th>Baroque_Print_Drawstring_Shorts_img_00000005</th>\n",
       "      <td>pants</td>\n",
       "      <td>7</td>\n",
       "      <td>1</td>\n",
       "      <td>-1</td>\n",
       "      <td>-1</td>\n",
       "      <td>-1</td>\n",
       "      <td>-1</td>\n",
       "      <td>-1</td>\n",
       "      <td>-1</td>\n",
       "      <td>-1</td>\n",
       "      <td>...</td>\n",
       "      <td>-1</td>\n",
       "      <td>-1</td>\n",
       "      <td>-1</td>\n",
       "      <td>-1</td>\n",
       "      <td>-1</td>\n",
       "      <td>-1</td>\n",
       "      <td>-1</td>\n",
       "      <td>-1</td>\n",
       "      <td>-1</td>\n",
       "      <td>-1</td>\n",
       "    </tr>\n",
       "    <tr>\n",
       "      <th>Baroque_Print_Drawstring_Shorts_img_00000007</th>\n",
       "      <td>pants</td>\n",
       "      <td>7</td>\n",
       "      <td>1</td>\n",
       "      <td>-1</td>\n",
       "      <td>-1</td>\n",
       "      <td>-1</td>\n",
       "      <td>-1</td>\n",
       "      <td>-1</td>\n",
       "      <td>-1</td>\n",
       "      <td>-1</td>\n",
       "      <td>...</td>\n",
       "      <td>-1</td>\n",
       "      <td>-1</td>\n",
       "      <td>-1</td>\n",
       "      <td>-1</td>\n",
       "      <td>-1</td>\n",
       "      <td>-1</td>\n",
       "      <td>-1</td>\n",
       "      <td>-1</td>\n",
       "      <td>-1</td>\n",
       "      <td>-1</td>\n",
       "    </tr>\n",
       "  </tbody>\n",
       "</table>\n",
       "<p>5 rows × 1003 columns</p>\n",
       "</div>"
      ],
      "text/plain": [
       "                                             category_name  category_label  \\\n",
       "image_name                                                                   \n",
       "Baroque_Print_Drawstring_Shorts_img_00000001         pants               7   \n",
       "Baroque_Print_Drawstring_Shorts_img_00000002         pants               7   \n",
       "Baroque_Print_Drawstring_Shorts_img_00000003         pants               7   \n",
       "Baroque_Print_Drawstring_Shorts_img_00000005         pants               7   \n",
       "Baroque_Print_Drawstring_Shorts_img_00000007         pants               7   \n",
       "\n",
       "                                              short  a-line   abstract   \\\n",
       "image_name                                                                \n",
       "Baroque_Print_Drawstring_Shorts_img_00000001      1       -1         -1   \n",
       "Baroque_Print_Drawstring_Shorts_img_00000002      1       -1         -1   \n",
       "Baroque_Print_Drawstring_Shorts_img_00000003      1       -1         -1   \n",
       "Baroque_Print_Drawstring_Shorts_img_00000005      1       -1         -1   \n",
       "Baroque_Print_Drawstring_Shorts_img_00000007      1       -1         -1   \n",
       "\n",
       "                                              abstract chevron   \\\n",
       "image_name                                                        \n",
       "Baroque_Print_Drawstring_Shorts_img_00000001                 -1   \n",
       "Baroque_Print_Drawstring_Shorts_img_00000002                 -1   \n",
       "Baroque_Print_Drawstring_Shorts_img_00000003                 -1   \n",
       "Baroque_Print_Drawstring_Shorts_img_00000005                 -1   \n",
       "Baroque_Print_Drawstring_Shorts_img_00000007                 -1   \n",
       "\n",
       "                                              abstract chevron print   \\\n",
       "image_name                                                              \n",
       "Baroque_Print_Drawstring_Shorts_img_00000001                       -1   \n",
       "Baroque_Print_Drawstring_Shorts_img_00000002                       -1   \n",
       "Baroque_Print_Drawstring_Shorts_img_00000003                       -1   \n",
       "Baroque_Print_Drawstring_Shorts_img_00000005                       -1   \n",
       "Baroque_Print_Drawstring_Shorts_img_00000007                       -1   \n",
       "\n",
       "                                              abstract diamond   \\\n",
       "image_name                                                        \n",
       "Baroque_Print_Drawstring_Shorts_img_00000001                 -1   \n",
       "Baroque_Print_Drawstring_Shorts_img_00000002                 -1   \n",
       "Baroque_Print_Drawstring_Shorts_img_00000003                 -1   \n",
       "Baroque_Print_Drawstring_Shorts_img_00000005                 -1   \n",
       "Baroque_Print_Drawstring_Shorts_img_00000007                 -1   \n",
       "\n",
       "                                              abstract floral   \\\n",
       "image_name                                                       \n",
       "Baroque_Print_Drawstring_Shorts_img_00000001                -1   \n",
       "Baroque_Print_Drawstring_Shorts_img_00000002                -1   \n",
       "Baroque_Print_Drawstring_Shorts_img_00000003                -1   \n",
       "Baroque_Print_Drawstring_Shorts_img_00000005                -1   \n",
       "Baroque_Print_Drawstring_Shorts_img_00000007                -1   \n",
       "\n",
       "                                              abstract floral print   \\\n",
       "image_name                                                             \n",
       "Baroque_Print_Drawstring_Shorts_img_00000001                      -1   \n",
       "Baroque_Print_Drawstring_Shorts_img_00000002                      -1   \n",
       "Baroque_Print_Drawstring_Shorts_img_00000003                      -1   \n",
       "Baroque_Print_Drawstring_Shorts_img_00000005                      -1   \n",
       "Baroque_Print_Drawstring_Shorts_img_00000007                      -1   \n",
       "\n",
       "                                                ...      zeppelin   zig   \\\n",
       "image_name                                      ...                        \n",
       "Baroque_Print_Drawstring_Shorts_img_00000001    ...             -1    -1   \n",
       "Baroque_Print_Drawstring_Shorts_img_00000002    ...             -1    -1   \n",
       "Baroque_Print_Drawstring_Shorts_img_00000003    ...             -1    -1   \n",
       "Baroque_Print_Drawstring_Shorts_img_00000005    ...             -1    -1   \n",
       "Baroque_Print_Drawstring_Shorts_img_00000007    ...             -1    -1   \n",
       "\n",
       "                                              zigzag   zip   zip-front   \\\n",
       "image_name                                                                \n",
       "Baroque_Print_Drawstring_Shorts_img_00000001       -1    -1          -1   \n",
       "Baroque_Print_Drawstring_Shorts_img_00000002       -1    -1          -1   \n",
       "Baroque_Print_Drawstring_Shorts_img_00000003       -1    -1          -1   \n",
       "Baroque_Print_Drawstring_Shorts_img_00000005       -1    -1          -1   \n",
       "Baroque_Print_Drawstring_Shorts_img_00000007       -1    -1          -1   \n",
       "\n",
       "                                              zip-pocket   zip-up   zipped   \\\n",
       "image_name                                                                    \n",
       "Baroque_Print_Drawstring_Shorts_img_00000001           -1       -1       -1   \n",
       "Baroque_Print_Drawstring_Shorts_img_00000002           -1       -1       -1   \n",
       "Baroque_Print_Drawstring_Shorts_img_00000003           -1       -1       -1   \n",
       "Baroque_Print_Drawstring_Shorts_img_00000005           -1       -1       -1   \n",
       "Baroque_Print_Drawstring_Shorts_img_00000007           -1       -1       -1   \n",
       "\n",
       "                                              zipper   zippered   \n",
       "image_name                                                        \n",
       "Baroque_Print_Drawstring_Shorts_img_00000001       -1         -1  \n",
       "Baroque_Print_Drawstring_Shorts_img_00000002       -1         -1  \n",
       "Baroque_Print_Drawstring_Shorts_img_00000003       -1         -1  \n",
       "Baroque_Print_Drawstring_Shorts_img_00000005       -1         -1  \n",
       "Baroque_Print_Drawstring_Shorts_img_00000007       -1         -1  \n",
       "\n",
       "[5 rows x 1003 columns]"
      ]
     },
     "execution_count": 71,
     "metadata": {},
     "output_type": "execute_result"
    }
   ],
   "source": [
    "df_short.head()"
   ]
  },
  {
   "cell_type": "code",
   "execution_count": 72,
   "metadata": {},
   "outputs": [],
   "source": [
    "df_short.reset_index(inplace=True)"
   ]
  },
  {
   "cell_type": "code",
   "execution_count": 73,
   "metadata": {},
   "outputs": [],
   "source": [
    "df_attr_category_combined_temp.reset_index(inplace=True)"
   ]
  },
  {
   "cell_type": "code",
   "execution_count": 74,
   "metadata": {},
   "outputs": [],
   "source": [
    "df_attr_category_combined = df_attr_category_combined_temp.merge(df_short, how='outer')"
   ]
  },
  {
   "cell_type": "code",
   "execution_count": 75,
   "metadata": {},
   "outputs": [],
   "source": [
    "df_attr_category_combined['short'].fillna(value = -1, inplace = True)"
   ]
  },
  {
   "cell_type": "code",
   "execution_count": 76,
   "metadata": {},
   "outputs": [],
   "source": [
    "df_attr_category_combined['short'] = df_attr_category_combined['short'].astype(int)"
   ]
  },
  {
   "cell_type": "code",
   "execution_count": 77,
   "metadata": {},
   "outputs": [
    {
     "data": {
      "text/plain": [
       "['faux leather mini ',\n",
       " 'floral lace mini ',\n",
       " 'floral mini ',\n",
       " 'knit mini ',\n",
       " 'lace mini ',\n",
       " 'leather mini ',\n",
       " 'mini ']"
      ]
     },
     "execution_count": 77,
     "metadata": {},
     "output_type": "execute_result"
    }
   ],
   "source": [
    "[col for col in df_dress_attr_combined if 'mini' in col]"
   ]
  },
  {
   "cell_type": "code",
   "execution_count": null,
   "metadata": {},
   "outputs": [],
   "source": [
    "# plotRandomImage( 'faux leather mini ', 28,df_dress_attr_combined) #NO"
   ]
  },
  {
   "cell_type": "code",
   "execution_count": null,
   "metadata": {},
   "outputs": [],
   "source": [
    "#plotRandomImage( 'floral lace mini ', 28,df_dress_attr_combined) #NO"
   ]
  },
  {
   "cell_type": "code",
   "execution_count": null,
   "metadata": {},
   "outputs": [],
   "source": [
    "#plotRandomImage( 'floral mini ', 28,df_dress_attr_combined) #NO"
   ]
  },
  {
   "cell_type": "code",
   "execution_count": null,
   "metadata": {},
   "outputs": [],
   "source": [
    "#plotRandomImage( 'knit mini ', 28,df_dress_attr_combined) #NO"
   ]
  },
  {
   "cell_type": "code",
   "execution_count": null,
   "metadata": {},
   "outputs": [],
   "source": [
    "#plotRandomImage( 'lace mini ', 28,df_dress_attr_combined)"
   ]
  },
  {
   "cell_type": "code",
   "execution_count": null,
   "metadata": {},
   "outputs": [],
   "source": [
    "#plotRandomImage( 'leather mini ', 28,df_dress_attr_combined)"
   ]
  },
  {
   "cell_type": "code",
   "execution_count": null,
   "metadata": {},
   "outputs": [],
   "source": [
    "#plotRandomImage( 'mini ', 28,df_dress_attr_combined)"
   ]
  },
  {
   "cell_type": "code",
   "execution_count": null,
   "metadata": {},
   "outputs": [],
   "source": []
  },
  {
   "cell_type": "code",
   "execution_count": null,
   "metadata": {},
   "outputs": [],
   "source": []
  },
  {
   "cell_type": "code",
   "execution_count": null,
   "metadata": {},
   "outputs": [],
   "source": []
  },
  {
   "cell_type": "code",
   "execution_count": null,
   "metadata": {},
   "outputs": [],
   "source": []
  },
  {
   "cell_type": "code",
   "execution_count": null,
   "metadata": {},
   "outputs": [],
   "source": []
  },
  {
   "cell_type": "markdown",
   "metadata": {},
   "source": [
    "## Merge"
   ]
  },
  {
   "cell_type": "code",
   "execution_count": 79,
   "metadata": {},
   "outputs": [],
   "source": [
    "df_final_temp = df_attr_category_combined.iloc[:,:3]"
   ]
  },
  {
   "cell_type": "code",
   "execution_count": 80,
   "metadata": {},
   "outputs": [
    {
     "data": {
      "text/html": [
       "<div>\n",
       "<style scoped>\n",
       "    .dataframe tbody tr th:only-of-type {\n",
       "        vertical-align: middle;\n",
       "    }\n",
       "\n",
       "    .dataframe tbody tr th {\n",
       "        vertical-align: top;\n",
       "    }\n",
       "\n",
       "    .dataframe thead th {\n",
       "        text-align: right;\n",
       "    }\n",
       "</style>\n",
       "<table border=\"1\" class=\"dataframe\">\n",
       "  <thead>\n",
       "    <tr style=\"text-align: right;\">\n",
       "      <th></th>\n",
       "      <th>image_name</th>\n",
       "      <th>category_name</th>\n",
       "      <th>category_label</th>\n",
       "    </tr>\n",
       "  </thead>\n",
       "  <tbody>\n",
       "    <tr>\n",
       "      <th>0</th>\n",
       "      <td>1981_Graphic_Ringer_Tee_img_00000001</td>\n",
       "      <td>shirt</td>\n",
       "      <td>0</td>\n",
       "    </tr>\n",
       "    <tr>\n",
       "      <th>1</th>\n",
       "      <td>1981_Graphic_Ringer_Tee_img_00000002</td>\n",
       "      <td>shirt</td>\n",
       "      <td>0</td>\n",
       "    </tr>\n",
       "    <tr>\n",
       "      <th>2</th>\n",
       "      <td>1981_Graphic_Ringer_Tee_img_00000003</td>\n",
       "      <td>shirt</td>\n",
       "      <td>0</td>\n",
       "    </tr>\n",
       "    <tr>\n",
       "      <th>3</th>\n",
       "      <td>1981_Graphic_Ringer_Tee_img_00000004</td>\n",
       "      <td>shirt</td>\n",
       "      <td>0</td>\n",
       "    </tr>\n",
       "    <tr>\n",
       "      <th>4</th>\n",
       "      <td>1981_Graphic_Ringer_Tee_img_00000005</td>\n",
       "      <td>shirt</td>\n",
       "      <td>0</td>\n",
       "    </tr>\n",
       "  </tbody>\n",
       "</table>\n",
       "</div>"
      ],
      "text/plain": [
       "                             image_name category_name  category_label\n",
       "0  1981_Graphic_Ringer_Tee_img_00000001         shirt               0\n",
       "1  1981_Graphic_Ringer_Tee_img_00000002         shirt               0\n",
       "2  1981_Graphic_Ringer_Tee_img_00000003         shirt               0\n",
       "3  1981_Graphic_Ringer_Tee_img_00000004         shirt               0\n",
       "4  1981_Graphic_Ringer_Tee_img_00000005         shirt               0"
      ]
     },
     "execution_count": 80,
     "metadata": {},
     "output_type": "execute_result"
    }
   ],
   "source": [
    "df_final_temp.head()"
   ]
  },
  {
   "cell_type": "code",
   "execution_count": 81,
   "metadata": {},
   "outputs": [],
   "source": [
    "def mergeColumns(col1, col2) :\n",
    "    return ((df_attr_category_combined[col1] == 1) | (df_attr_category_combined[col2] == 1)).astype(int).replace(0, -1)"
   ]
  },
  {
   "cell_type": "code",
   "execution_count": 82,
   "metadata": {},
   "outputs": [],
   "source": [
    "def addMergedMultipleColumns(lst_attr, merged_col):\n",
    "    \n",
    "    global df_attr_category_combined\n",
    "    \n",
    "    if 'temp' in df_attr_category_combined:\n",
    "        df_attr_category_combined = df_attr_category_combined.drop(['temp'], axis=1)\n",
    "    \n",
    "    df_attr_category_combined.insert(loc=0, column='temp', value=mergeColumns(lst_attr[0], lst_attr[1]))\n",
    "\n",
    "    for i in range(2,len(lst_attr)):\n",
    "        df_attr_category_combined['temp'] = mergeColumns('temp', lst_attr[i])\n",
    "    \n",
    "    df_final_temp.insert(loc = 3,column=merged_col, value=df_attr_category_combined['temp'])\n",
    "    \n",
    "    df_attr_category_combined = df_attr_category_combined.drop(['temp'], axis=1)"
   ]
  },
  {
   "cell_type": "code",
   "execution_count": 83,
   "metadata": {},
   "outputs": [],
   "source": [
    "def mergeMultipleColumns(lst_attr, merged_col):\n",
    "\n",
    "    global df_attr_category_combined\n",
    "\n",
    "    if 'temp' in df_attr_category_combined:\n",
    "        df_attr_category_combined = df_attr_category_combined.drop(['temp'], axis=1)\n",
    " \n",
    "    df_attr_category_combined.insert(loc=0, column='temp', value=mergeColumns(lst_attr[0], lst_attr[1]))\n",
    "\n",
    "    for i in range(2,len(lst_attr)):\n",
    "        df_attr_category_combined['temp'] = mergeColumns('temp', lst_attr[i])\n",
    "    \n",
    "    df_final.insert(loc = 3,column=merged_col, value=df_attr_category_combined['temp'])\n",
    "    \n",
    "    df_attr_category_combined = df_attr_category_combined.drop(['temp'], axis=1)"
   ]
  },
  {
   "cell_type": "markdown",
   "metadata": {},
   "source": [
    "## New columns"
   ]
  },
  {
   "cell_type": "markdown",
   "metadata": {},
   "source": [
    "#### long"
   ]
  },
  {
   "cell_type": "code",
   "execution_count": 373,
   "metadata": {},
   "outputs": [],
   "source": [
    "#lst_long = []\n",
    "#mergeMultipleColumns(lst_long, 'long')"
   ]
  },
  {
   "cell_type": "markdown",
   "metadata": {},
   "source": [
    "#### short"
   ]
  },
  {
   "cell_type": "code",
   "execution_count": 84,
   "metadata": {},
   "outputs": [],
   "source": [
    "lst_short = ['lace mini ', 'leather mini ', 'mini ', 'short']\n",
    "mergeMultipleColumns(lst_short, 'short')"
   ]
  },
  {
   "cell_type": "code",
   "execution_count": null,
   "metadata": {},
   "outputs": [],
   "source": []
  },
  {
   "cell_type": "code",
   "execution_count": null,
   "metadata": {},
   "outputs": [],
   "source": []
  },
  {
   "cell_type": "code",
   "execution_count": null,
   "metadata": {},
   "outputs": [],
   "source": []
  },
  {
   "cell_type": "code",
   "execution_count": null,
   "metadata": {},
   "outputs": [],
   "source": []
  },
  {
   "cell_type": "code",
   "execution_count": null,
   "metadata": {},
   "outputs": [],
   "source": []
  },
  {
   "cell_type": "markdown",
   "metadata": {},
   "source": [
    "#### floral"
   ]
  },
  {
   "cell_type": "code",
   "execution_count": 85,
   "metadata": {},
   "outputs": [],
   "source": [
    "lst_floral = ['daisy print ', 'botanical print ', 'rose ', 'roses ', 'rose skater ', 'print tulip ', 'botanical ']\n",
    "addMergedMultipleColumns(lst_floral, 'floral')"
   ]
  },
  {
   "cell_type": "markdown",
   "metadata": {},
   "source": [
    "#### checker"
   ]
  },
  {
   "cell_type": "code",
   "execution_count": 86,
   "metadata": {},
   "outputs": [],
   "source": [
    "lst_checker = ['grid print ','grid ']\n",
    "addMergedMultipleColumns(lst_checker, 'checker')"
   ]
  },
  {
   "cell_type": "markdown",
   "metadata": {},
   "source": [
    "## Adding existing columns"
   ]
  },
  {
   "cell_type": "code",
   "execution_count": 87,
   "metadata": {},
   "outputs": [],
   "source": [
    "df_final.drop(['checker', 'floral'], axis=1, inplace= True)"
   ]
  },
  {
   "cell_type": "code",
   "execution_count": 88,
   "metadata": {},
   "outputs": [],
   "source": [
    "df_final['floral'], df_final['checker'] = [df_final_temp['floral'], df_final_temp['checker']]"
   ]
  },
  {
   "cell_type": "code",
   "execution_count": 89,
   "metadata": {},
   "outputs": [
    {
     "data": {
      "text/html": [
       "<div>\n",
       "<style scoped>\n",
       "    .dataframe tbody tr th:only-of-type {\n",
       "        vertical-align: middle;\n",
       "    }\n",
       "\n",
       "    .dataframe tbody tr th {\n",
       "        vertical-align: top;\n",
       "    }\n",
       "\n",
       "    .dataframe thead th {\n",
       "        text-align: right;\n",
       "    }\n",
       "</style>\n",
       "<table border=\"1\" class=\"dataframe\">\n",
       "  <thead>\n",
       "    <tr style=\"text-align: right;\">\n",
       "      <th></th>\n",
       "      <th>image_name</th>\n",
       "      <th>category_name</th>\n",
       "      <th>category_label</th>\n",
       "      <th>short</th>\n",
       "      <th>striped</th>\n",
       "      <th>dotted</th>\n",
       "      <th>summer</th>\n",
       "      <th>no sleeves</th>\n",
       "      <th>long sleeves</th>\n",
       "      <th>floral</th>\n",
       "      <th>checker</th>\n",
       "    </tr>\n",
       "  </thead>\n",
       "  <tbody>\n",
       "    <tr>\n",
       "      <th>0</th>\n",
       "      <td>1981_Graphic_Ringer_Tee_img_00000001</td>\n",
       "      <td>shirt</td>\n",
       "      <td>0</td>\n",
       "      <td>-1</td>\n",
       "      <td>-1</td>\n",
       "      <td>-1</td>\n",
       "      <td>-1</td>\n",
       "      <td>-1</td>\n",
       "      <td>-1</td>\n",
       "      <td>-1</td>\n",
       "      <td>-1</td>\n",
       "    </tr>\n",
       "    <tr>\n",
       "      <th>1</th>\n",
       "      <td>1981_Graphic_Ringer_Tee_img_00000002</td>\n",
       "      <td>shirt</td>\n",
       "      <td>0</td>\n",
       "      <td>-1</td>\n",
       "      <td>-1</td>\n",
       "      <td>-1</td>\n",
       "      <td>-1</td>\n",
       "      <td>-1</td>\n",
       "      <td>-1</td>\n",
       "      <td>-1</td>\n",
       "      <td>-1</td>\n",
       "    </tr>\n",
       "    <tr>\n",
       "      <th>2</th>\n",
       "      <td>1981_Graphic_Ringer_Tee_img_00000003</td>\n",
       "      <td>shirt</td>\n",
       "      <td>0</td>\n",
       "      <td>-1</td>\n",
       "      <td>1</td>\n",
       "      <td>-1</td>\n",
       "      <td>-1</td>\n",
       "      <td>-1</td>\n",
       "      <td>-1</td>\n",
       "      <td>-1</td>\n",
       "      <td>-1</td>\n",
       "    </tr>\n",
       "    <tr>\n",
       "      <th>3</th>\n",
       "      <td>1981_Graphic_Ringer_Tee_img_00000004</td>\n",
       "      <td>shirt</td>\n",
       "      <td>0</td>\n",
       "      <td>-1</td>\n",
       "      <td>-1</td>\n",
       "      <td>-1</td>\n",
       "      <td>-1</td>\n",
       "      <td>-1</td>\n",
       "      <td>-1</td>\n",
       "      <td>-1</td>\n",
       "      <td>-1</td>\n",
       "    </tr>\n",
       "    <tr>\n",
       "      <th>4</th>\n",
       "      <td>1981_Graphic_Ringer_Tee_img_00000005</td>\n",
       "      <td>shirt</td>\n",
       "      <td>0</td>\n",
       "      <td>-1</td>\n",
       "      <td>-1</td>\n",
       "      <td>-1</td>\n",
       "      <td>-1</td>\n",
       "      <td>-1</td>\n",
       "      <td>-1</td>\n",
       "      <td>-1</td>\n",
       "      <td>-1</td>\n",
       "    </tr>\n",
       "  </tbody>\n",
       "</table>\n",
       "</div>"
      ],
      "text/plain": [
       "                             image_name category_name  category_label  short  \\\n",
       "0  1981_Graphic_Ringer_Tee_img_00000001         shirt               0     -1   \n",
       "1  1981_Graphic_Ringer_Tee_img_00000002         shirt               0     -1   \n",
       "2  1981_Graphic_Ringer_Tee_img_00000003         shirt               0     -1   \n",
       "3  1981_Graphic_Ringer_Tee_img_00000004         shirt               0     -1   \n",
       "4  1981_Graphic_Ringer_Tee_img_00000005         shirt               0     -1   \n",
       "\n",
       "   striped  dotted  summer  no sleeves  long sleeves  floral  checker  \n",
       "0       -1      -1      -1          -1            -1      -1       -1  \n",
       "1       -1      -1      -1          -1            -1      -1       -1  \n",
       "2        1      -1      -1          -1            -1      -1       -1  \n",
       "3       -1      -1      -1          -1            -1      -1       -1  \n",
       "4       -1      -1      -1          -1            -1      -1       -1  "
      ]
     },
     "execution_count": 89,
     "metadata": {},
     "output_type": "execute_result"
    }
   ],
   "source": [
    "df_final.head()"
   ]
  },
  {
   "cell_type": "code",
   "execution_count": null,
   "metadata": {},
   "outputs": [],
   "source": [
    "df_final.groupby"
   ]
  },
  {
   "cell_type": "code",
   "execution_count": null,
   "metadata": {},
   "outputs": [],
   "source": []
  },
  {
   "cell_type": "code",
   "execution_count": 91,
   "metadata": {},
   "outputs": [
    {
     "data": {
      "text/html": [
       "<div>\n",
       "<style scoped>\n",
       "    .dataframe tbody tr th:only-of-type {\n",
       "        vertical-align: middle;\n",
       "    }\n",
       "\n",
       "    .dataframe tbody tr th {\n",
       "        vertical-align: top;\n",
       "    }\n",
       "\n",
       "    .dataframe thead th {\n",
       "        text-align: right;\n",
       "    }\n",
       "</style>\n",
       "<table border=\"1\" class=\"dataframe\">\n",
       "  <thead>\n",
       "    <tr style=\"text-align: right;\">\n",
       "      <th></th>\n",
       "      <th>image_name</th>\n",
       "      <th>category_name</th>\n",
       "      <th>category_label</th>\n",
       "      <th>short</th>\n",
       "      <th>striped</th>\n",
       "      <th>dotted</th>\n",
       "      <th>summer</th>\n",
       "      <th>no sleeves</th>\n",
       "      <th>long sleeves</th>\n",
       "      <th>floral</th>\n",
       "      <th>checker</th>\n",
       "    </tr>\n",
       "  </thead>\n",
       "  <tbody>\n",
       "    <tr>\n",
       "      <th>12</th>\n",
       "      <td>1981_Graphic_Ringer_Tee_img_00000014</td>\n",
       "      <td>shirt</td>\n",
       "      <td>0</td>\n",
       "      <td>-1</td>\n",
       "      <td>-1</td>\n",
       "      <td>-1</td>\n",
       "      <td>-1</td>\n",
       "      <td>-1</td>\n",
       "      <td>-1</td>\n",
       "      <td>-1</td>\n",
       "      <td>-1</td>\n",
       "    </tr>\n",
       "    <tr>\n",
       "      <th>13</th>\n",
       "      <td>1981_Graphic_Ringer_Tee_img_00000015</td>\n",
       "      <td>shirt</td>\n",
       "      <td>0</td>\n",
       "      <td>-1</td>\n",
       "      <td>1</td>\n",
       "      <td>-1</td>\n",
       "      <td>-1</td>\n",
       "      <td>-1</td>\n",
       "      <td>-1</td>\n",
       "      <td>-1</td>\n",
       "      <td>-1</td>\n",
       "    </tr>\n",
       "    <tr>\n",
       "      <th>14</th>\n",
       "      <td>1981_Graphic_Ringer_Tee_img_00000016</td>\n",
       "      <td>shirt</td>\n",
       "      <td>0</td>\n",
       "      <td>-1</td>\n",
       "      <td>-1</td>\n",
       "      <td>-1</td>\n",
       "      <td>-1</td>\n",
       "      <td>-1</td>\n",
       "      <td>-1</td>\n",
       "      <td>-1</td>\n",
       "      <td>-1</td>\n",
       "    </tr>\n",
       "  </tbody>\n",
       "</table>\n",
       "</div>"
      ],
      "text/plain": [
       "                              image_name category_name  category_label  short  \\\n",
       "12  1981_Graphic_Ringer_Tee_img_00000014         shirt               0     -1   \n",
       "13  1981_Graphic_Ringer_Tee_img_00000015         shirt               0     -1   \n",
       "14  1981_Graphic_Ringer_Tee_img_00000016         shirt               0     -1   \n",
       "\n",
       "    striped  dotted  summer  no sleeves  long sleeves  floral  checker  \n",
       "12       -1      -1      -1          -1            -1      -1       -1  \n",
       "13        1      -1      -1          -1            -1      -1       -1  \n",
       "14       -1      -1      -1          -1            -1      -1       -1  "
      ]
     },
     "execution_count": 91,
     "metadata": {},
     "output_type": "execute_result"
    }
   ],
   "source": []
  },
  {
   "cell_type": "code",
   "execution_count": null,
   "metadata": {},
   "outputs": [],
   "source": []
  },
  {
   "cell_type": "code",
   "execution_count": null,
   "metadata": {},
   "outputs": [],
   "source": []
  },
  {
   "cell_type": "code",
   "execution_count": null,
   "metadata": {},
   "outputs": [],
   "source": []
  },
  {
   "cell_type": "code",
   "execution_count": null,
   "metadata": {},
   "outputs": [],
   "source": []
  },
  {
   "cell_type": "code",
   "execution_count": null,
   "metadata": {},
   "outputs": [],
   "source": []
  }
 ],
 "metadata": {
  "kernelspec": {
   "display_name": "Python 3",
   "language": "python",
   "name": "python3"
  },
  "language_info": {
   "codemirror_mode": {
    "name": "ipython",
    "version": 3
   },
   "file_extension": ".py",
   "mimetype": "text/x-python",
   "name": "python",
   "nbconvert_exporter": "python",
   "pygments_lexer": "ipython3",
   "version": "3.7.1"
  }
 },
 "nbformat": 4,
 "nbformat_minor": 2
}
