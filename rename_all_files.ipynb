{
 "cells": [
  {
   "cell_type": "code",
   "execution_count": 7,
   "metadata": {},
   "outputs": [],
   "source": [
    "import numpy as np\n",
    "import pandas as pd\n",
    "import csv\n",
    "import matplotlib.pyplot as plt\n",
    "from PIL import Image\n",
    "import os"
   ]
  },
  {
   "cell_type": "code",
   "execution_count": 3,
   "metadata": {},
   "outputs": [],
   "source": [
    " def foo_img(img_input):\n",
    "    print(img_input.filename)"
   ]
  },
  {
   "cell_type": "code",
   "execution_count": 6,
   "metadata": {
    "scrolled": true
   },
   "outputs": [
    {
     "name": "stdout",
     "output_type": "stream",
     "text": [
      "./coat/Coat/Belted_Crepe_Trench_Coat/img_00000001.jpg\n"
     ]
    }
   ],
   "source": [
    "foo_img(Image.open('./coat/Coat/Belted_Crepe_Trench_Coat/img_00000001.jpg'))  "
   ]
  },
  {
   "cell_type": "code",
   "execution_count": 19,
   "metadata": {},
   "outputs": [
    {
     "name": "stdout",
     "output_type": "stream",
     "text": [
      "./coat/Coat/Belted_Crepe_Trench_Coat/img_00000001\n"
     ]
    }
   ],
   "source": [
    "print(os.path.splitext(\"./coat/Coat/Belted_Crepe_Trench_Coat/img_00000001.jpg\")[0])"
   ]
  },
  {
   "cell_type": "code",
   "execution_count": 32,
   "metadata": {},
   "outputs": [],
   "source": [
    "os.getcwd()\n",
    "collection = \"C:/Users/goodman/Desktop/deep_fashion_apply/coat/Coat/Belted_Crepe_Trench_Coat\""
   ]
  },
  {
   "cell_type": "code",
   "execution_count": 33,
   "metadata": {},
   "outputs": [
    {
     "ename": "FileNotFoundError",
     "evalue": "[WinError 3] 지정된 경로를 찾을 수 없습니다: 'C:/Users/goodman/Desktop/deep_fashion_apply/coat/Coat/Belted_Crepe_Trench_Coat/img_00000001.jpg' -> 'C:/Users/goodman/Desktop/deep_fashion_apply/coat/Coat/Belted_Crepe_Trench_Coat/img/Belted_Crepe_Trench_Coat/img_00000001.jpg'",
     "output_type": "error",
     "traceback": [
      "\u001b[1;31m---------------------------------------------------------------------------\u001b[0m",
      "\u001b[1;31mFileNotFoundError\u001b[0m                         Traceback (most recent call last)",
      "\u001b[1;32m<ipython-input-33-7cca2f2655f3>\u001b[0m in \u001b[0;36m<module>\u001b[1;34m\u001b[0m\n\u001b[0;32m      1\u001b[0m \u001b[1;32mfor\u001b[0m \u001b[0mi\u001b[0m\u001b[1;33m,\u001b[0m \u001b[0mfilename\u001b[0m \u001b[1;32min\u001b[0m \u001b[0menumerate\u001b[0m\u001b[1;33m(\u001b[0m\u001b[0mos\u001b[0m\u001b[1;33m.\u001b[0m\u001b[0mlistdir\u001b[0m\u001b[1;33m(\u001b[0m\u001b[0mcollection\u001b[0m\u001b[1;33m)\u001b[0m\u001b[1;33m)\u001b[0m\u001b[1;33m:\u001b[0m\u001b[1;33m\u001b[0m\u001b[1;33m\u001b[0m\u001b[0m\n\u001b[1;32m----> 2\u001b[1;33m     \u001b[0mos\u001b[0m\u001b[1;33m.\u001b[0m\u001b[0mrename\u001b[0m\u001b[1;33m(\u001b[0m\u001b[1;34m\"C:/Users/goodman/Desktop/deep_fashion_apply/coat/Coat/Belted_Crepe_Trench_Coat/\"\u001b[0m \u001b[1;33m+\u001b[0m \u001b[0mfilename\u001b[0m\u001b[1;33m,\u001b[0m \u001b[1;34m\"C:/Users/goodman/Desktop/deep_fashion_apply/coat/Coat/Belted_Crepe_Trench_Coat/\"\u001b[0m \u001b[1;33m+\u001b[0m\u001b[0mstr\u001b[0m\u001b[1;33m(\u001b[0m\u001b[1;33m)\u001b[0m\u001b[1;33m+\u001b[0m \u001b[1;34m'img/Belted_Crepe_Trench_Coat/'\u001b[0m \u001b[1;33m+\u001b[0m \u001b[0mfilename\u001b[0m\u001b[1;33m)\u001b[0m\u001b[1;33m\u001b[0m\u001b[1;33m\u001b[0m\u001b[0m\n\u001b[0m",
      "\u001b[1;31mFileNotFoundError\u001b[0m: [WinError 3] 지정된 경로를 찾을 수 없습니다: 'C:/Users/goodman/Desktop/deep_fashion_apply/coat/Coat/Belted_Crepe_Trench_Coat/img_00000001.jpg' -> 'C:/Users/goodman/Desktop/deep_fashion_apply/coat/Coat/Belted_Crepe_Trench_Coat/img/Belted_Crepe_Trench_Coat/img_00000001.jpg'"
     ]
    }
   ],
   "source": [
    "for i, filename in enumerate(os.listdir(collection)):\n",
    "    os.rename(\"C:/Users/goodman/Desktop/deep_fashion_apply/coat/Coat/Belted_Crepe_Trench_Coat/\" + filename, \"C:/Users/goodman/Desktop/deep_fashion_apply/coat/Coat/Belted_Crepe_Trench_Coat/\" +str()+ 'img/Belted_Crepe_Trench_Coat/' + filename)"
   ]
  },
  {
   "cell_type": "code",
   "execution_count": 55,
   "metadata": {},
   "outputs": [],
   "source": [
    "os.getcwd()\n",
    "collection = \"C:/Users/goodman/Desktop/deep_fashion_apply/coat/Coat/A\"\n",
    "a = 'img/A/'\n",
    "for i, filename in enumerate(os.listdir(collection)):\n",
    "    os.rename(\"C:/Users/goodman/Desktop/deep_fashion_apply/coat/Coat/A/\" + filename, \"C:/Users/goodman/Desktop/deep_fashion_apply/coat/Coat/A/\" + filename )"
   ]
  },
  {
   "cell_type": "code",
   "execution_count": 62,
   "metadata": {},
   "outputs": [],
   "source": [
    "def changeImage_name(path):\n",
    "    \n",
    "    with open(path, 'r') as file :\n",
    "        filedata = file.read()\n",
    "    filedata = filedata.replace('img/', '')\n",
    "    with open(path, 'w') as file :\n",
    "        file.write(filedata)\n",
    "    \n",
    "    with open(path, 'r') as file :\n",
    "        filedata = file.read()\n",
    "    filedata = filedata.replace('/', '_')\n",
    "    with open(path, 'w') as file :\n",
    "        file.write(filedata)\n"
   ]
  },
  {
   "cell_type": "code",
   "execution_count": 64,
   "metadata": {},
   "outputs": [
    {
     "ename": "FileNotFoundError",
     "evalue": "[Errno 2] No such file or directory: './Anno/changed/list_attr_img.txt./Anno/changed/'",
     "output_type": "error",
     "traceback": [
      "\u001b[1;31m---------------------------------------------------------------------------\u001b[0m",
      "\u001b[1;31mFileNotFoundError\u001b[0m                         Traceback (most recent call last)",
      "\u001b[1;32m<ipython-input-64-38b9b2c36e50>\u001b[0m in \u001b[0;36m<module>\u001b[1;34m\u001b[0m\n\u001b[1;32m----> 1\u001b[1;33m \u001b[0mchangeImage_name\u001b[0m\u001b[1;33m(\u001b[0m\u001b[1;34m\"./Anno/changed/list_attr_img.txt\"\u001b[0m\u001b[1;33m)\u001b[0m\u001b[1;33m\u001b[0m\u001b[1;33m\u001b[0m\u001b[0m\n\u001b[0m\u001b[0;32m      2\u001b[0m \u001b[0mchangeImage_name\u001b[0m\u001b[1;33m(\u001b[0m\u001b[1;34m\"./Anno/changed/list_bbox.txt\"\u001b[0m\u001b[1;33m)\u001b[0m\u001b[1;33m\u001b[0m\u001b[1;33m\u001b[0m\u001b[0m\n\u001b[0;32m      3\u001b[0m \u001b[0mchangeImage_name\u001b[0m\u001b[1;33m(\u001b[0m\u001b[1;34m\"./Anno/changed/list_category_img.txt\"\u001b[0m\u001b[1;33m)\u001b[0m\u001b[1;33m\u001b[0m\u001b[1;33m\u001b[0m\u001b[0m\n\u001b[0;32m      4\u001b[0m \u001b[0mchangeImage_name\u001b[0m\u001b[1;33m(\u001b[0m\u001b[1;34m\"./Anno/changed/list_landmarks.txt\"\u001b[0m\u001b[1;33m)\u001b[0m\u001b[1;33m\u001b[0m\u001b[1;33m\u001b[0m\u001b[0m\n",
      "\u001b[1;32m<ipython-input-62-a553bcbc8d5d>\u001b[0m in \u001b[0;36mchangeImage_name\u001b[1;34m(path)\u001b[0m\n\u001b[0;32m      1\u001b[0m \u001b[1;32mdef\u001b[0m \u001b[0mchangeImage_name\u001b[0m\u001b[1;33m(\u001b[0m\u001b[0mpath\u001b[0m\u001b[1;33m)\u001b[0m\u001b[1;33m:\u001b[0m\u001b[1;33m\u001b[0m\u001b[1;33m\u001b[0m\u001b[0m\n\u001b[0;32m      2\u001b[0m     \u001b[0mpath\u001b[0m \u001b[1;33m=\u001b[0m \u001b[0mpath\u001b[0m \u001b[1;33m+\u001b[0m \u001b[1;34m\"./Anno/changed/\"\u001b[0m\u001b[1;33m\u001b[0m\u001b[1;33m\u001b[0m\u001b[0m\n\u001b[1;32m----> 3\u001b[1;33m     \u001b[1;32mwith\u001b[0m \u001b[0mopen\u001b[0m\u001b[1;33m(\u001b[0m\u001b[0mpath\u001b[0m\u001b[1;33m,\u001b[0m \u001b[1;34m'r'\u001b[0m\u001b[1;33m)\u001b[0m \u001b[1;32mas\u001b[0m \u001b[0mfile\u001b[0m \u001b[1;33m:\u001b[0m\u001b[1;33m\u001b[0m\u001b[1;33m\u001b[0m\u001b[0m\n\u001b[0m\u001b[0;32m      4\u001b[0m         \u001b[0mfiledata\u001b[0m \u001b[1;33m=\u001b[0m \u001b[0mfile\u001b[0m\u001b[1;33m.\u001b[0m\u001b[0mread\u001b[0m\u001b[1;33m(\u001b[0m\u001b[1;33m)\u001b[0m\u001b[1;33m\u001b[0m\u001b[1;33m\u001b[0m\u001b[0m\n\u001b[0;32m      5\u001b[0m     \u001b[0mfiledata\u001b[0m \u001b[1;33m=\u001b[0m \u001b[0mfiledata\u001b[0m\u001b[1;33m.\u001b[0m\u001b[0mreplace\u001b[0m\u001b[1;33m(\u001b[0m\u001b[1;34m'img/'\u001b[0m\u001b[1;33m,\u001b[0m \u001b[1;34m''\u001b[0m\u001b[1;33m)\u001b[0m\u001b[1;33m\u001b[0m\u001b[1;33m\u001b[0m\u001b[0m\n",
      "\u001b[1;31mFileNotFoundError\u001b[0m: [Errno 2] No such file or directory: './Anno/changed/list_attr_img.txt./Anno/changed/'"
     ]
    }
   ],
   "source": [
    "changeImage_name(\"./Anno/changed/list_attr_img.txt\")\n",
    "changeImage_name(\"./Anno/changed/list_bbox.txt\")\n",
    "changeImage_name(\"./Anno/changed/list_category_img.txt\")\n",
    "changeImage_name(\"./Anno/changed/list_landmarks.txt\")"
   ]
  },
  {
   "cell_type": "code",
   "execution_count": null,
   "metadata": {},
   "outputs": [],
   "source": []
  },
  {
   "cell_type": "code",
   "execution_count": null,
   "metadata": {},
   "outputs": [],
   "source": []
  },
  {
   "cell_type": "code",
   "execution_count": null,
   "metadata": {},
   "outputs": [],
   "source": []
  }
 ],
 "metadata": {
  "kernelspec": {
   "display_name": "Python 3",
   "language": "python",
   "name": "python3"
  },
  "language_info": {
   "codemirror_mode": {
    "name": "ipython",
    "version": 3
   },
   "file_extension": ".py",
   "mimetype": "text/x-python",
   "name": "python",
   "nbconvert_exporter": "python",
   "pygments_lexer": "ipython3",
   "version": "3.7.1"
  }
 },
 "nbformat": 4,
 "nbformat_minor": 2
}
