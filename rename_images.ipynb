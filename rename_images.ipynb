{
 "cells": [
  {
   "cell_type": "code",
   "execution_count": 88,
   "metadata": {},
   "outputs": [],
   "source": [
    "import numpy as np\n",
    "import pandas as pd\n",
    "import csv\n",
    "import os\n",
    "import glob"
   ]
  },
  {
   "cell_type": "code",
   "execution_count": 4,
   "metadata": {},
   "outputs": [],
   "source": [
    "def rename_Image_name_txt(path):\n",
    "    \n",
    "    with open(path, 'r') as file :\n",
    "        filedata = file.read()\n",
    "    filedata = filedata.replace('img/', '')\n",
    "    with open(path, 'w') as file :\n",
    "        file.write(filedata)\n",
    "    \n",
    "    with open(path, 'r') as file :\n",
    "        filedata = file.read()\n",
    "    filedata = filedata.replace('/', '_')\n",
    "    with open(path, 'w') as file :\n",
    "        file.write(filedata)\n",
    "        \n",
    "    with open(path, 'r') as file :\n",
    "        filedata = file.read()\n",
    "    filedata = filedata.replace('.jpg', '')\n",
    "    with open(path, 'w') as file :\n",
    "        file.write(filedata)\n"
   ]
  },
  {
   "cell_type": "code",
   "execution_count": 5,
   "metadata": {},
   "outputs": [],
   "source": [
    "rename_Image_name_txt(\"./Anno/changed/list_attr_img.txt\")\n",
    "rename_Image_name_txt(\"./Anno/changed/list_bbox.txt\")\n",
    "rename_Image_name_txt(\"./Anno/changed/list_category_img.txt\")\n",
    "rename_Image_name_txt(\"./Anno/changed/list_landmarks.txt\")"
   ]
  },
  {
   "cell_type": "code",
   "execution_count": 84,
   "metadata": {},
   "outputs": [],
   "source": [
    "def renameImages(newPath):\n",
    "    lst_specific_category_path = []\n",
    "\n",
    "    for filename in glob.iglob(newPath+'**', recursive=True):\n",
    "        if os.path.isfile(filename): # filter dirs\n",
    "            specific_category_path = os.path.dirname(filename)\n",
    "            lst_specific_category_path.append(specific_category_path)\n",
    "\n",
    "    for specific_category_path in lst_specific_category_path:\n",
    "        for i, filename in enumerate(os.listdir(specific_category_path)):\n",
    "            try:\n",
    "                os.rename(specific_category_path+ '/' + filename, newPath + os.path.basename(specific_category_path) +'_'+ filename)\n",
    "            except Exception as ex:\n",
    "                print(ex)\n",
    "                print(filename)"
   ]
  },
  {
   "cell_type": "code",
   "execution_count": null,
   "metadata": {},
   "outputs": [],
   "source": [
    "renameImages('./coat/')\n",
    "renameImages('./dress/')\n",
    "renameImages('./jacket/')\n",
    "renameImages('./jumper/')\n",
    "renameImages('./pants/')"
   ]
  },
  {
   "cell_type": "code",
   "execution_count": 79,
   "metadata": {},
   "outputs": [],
   "source": [
    "renameImages('./skirt/')"
   ]
  },
  {
   "cell_type": "code",
   "execution_count": 80,
   "metadata": {},
   "outputs": [],
   "source": [
    "renameImages('./winter jacket/')"
   ]
  },
  {
   "cell_type": "code",
   "execution_count": 86,
   "metadata": {},
   "outputs": [],
   "source": [
    "renameImages('./shirt/')"
   ]
  }
 ],
 "metadata": {
  "kernelspec": {
   "display_name": "Python 3",
   "language": "python",
   "name": "python3"
  },
  "language_info": {
   "codemirror_mode": {
    "name": "ipython",
    "version": 3
   },
   "file_extension": ".py",
   "mimetype": "text/x-python",
   "name": "python",
   "nbconvert_exporter": "python",
   "pygments_lexer": "ipython3",
   "version": "3.7.1"
  }
 },
 "nbformat": 4,
 "nbformat_minor": 2
}
